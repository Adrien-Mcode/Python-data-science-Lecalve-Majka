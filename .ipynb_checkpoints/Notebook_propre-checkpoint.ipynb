{
 "cells": [
  {
   "cell_type": "markdown",
   "metadata": {},
   "source": [
    "# Recherche de différents sentiers de croissance des économies en fonction de leurs composantes polluantes"
   ]
  },
  {
   "cell_type": "markdown",
   "metadata": {},
   "source": [
    "## Introduction :\n",
    "\n",
    "\"Je suis pour une société écologique mais pas Amish\" était les mots d'Emmmanuel Macron dés 2016 pour décrire son programme de campagne et son idéal politique de société. Cela fait écho à de nombreux débats entre partisan de la décroissance économique et partisan de la possibilité d'une croissance infinie sur des sentiers moins carbonés et indépendants de la consommation d'énergies non renouvelables. \n",
    "\n",
    "A un niveau plus académique, Jean Marc Jancovici, enseignant à Mines Paris Tech et membre du comité scientifique de la fondation Nicolas Hulot défend l'impossibilité d'une croissance infinie dans un monde finie dans le sillage de Dennis et Robert Meadows dans leur rapport de *Les limites de la croissance* de 1972 pour le club de Rome. Celui-ci, au travers de diverses simulations, mettait déjà en avant les difficultés que posait une croissance basée sur sur des énergies non-renouvelables et infini dans un monde qui pour sa part est fini. \n",
    "\n",
    "Il est donc souvent difficile de trancher entre ces deux conclusions radicalement différentes, et nous nous proposons donc avec ce projet d'apporter notre modeste pierre à l'édifice  pour distinguer les différents chemins de croissance possibles pour les économies développés comme pour lees économies en développement. "
   ]
  },
  {
   "cell_type": "markdown",
   "metadata": {},
   "source": [
    "### Récupération des bases et adaptation de celle-ci :\n",
    "\n",
    "Afin de pouvoir récpondre aux différentes questions posées, nous avons récupérer des données de la banque mondiale. Cela nous permet en effet d'avoir un panel d'indicateur relativement large sur lesquels mener les analyses, avec"
   ]
  },
  {
   "cell_type": "code",
   "execution_count": null,
   "metadata": {},
   "outputs": [],
   "source": []
  },
  {
   "cell_type": "code",
   "execution_count": null,
   "metadata": {},
   "outputs": [],
   "source": []
  }
 ],
 "metadata": {
  "kernelspec": {
   "display_name": "Python 3",
   "language": "python",
   "name": "python3"
  },
  "language_info": {
   "codemirror_mode": {
    "name": "ipython",
    "version": 3
   },
   "file_extension": ".py",
   "mimetype": "text/x-python",
   "name": "python",
   "nbconvert_exporter": "python",
   "pygments_lexer": "ipython3",
   "version": "3.7.4"
  }
 },
 "nbformat": 4,
 "nbformat_minor": 2
}
