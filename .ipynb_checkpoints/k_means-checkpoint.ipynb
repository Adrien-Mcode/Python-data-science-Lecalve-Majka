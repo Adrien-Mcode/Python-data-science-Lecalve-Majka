{
 "cells": [
  {
   "cell_type": "code",
   "execution_count": 4,
   "metadata": {},
   "outputs": [],
   "source": [
    "import pandas as pd\n",
    "import numpy as np\n",
    "import matplotlib.pyplot as plt\n",
    "import seaborn as sns\n",
    "from sklearn import preprocessing\n",
    "import sklearn as sklearn\n",
    "from sklearn import decomposition,cluster\n",
    "import re\n",
    "import statsmodels.api as sm\n",
    "#import geoplot as gplt\n",
    "#import geopandas as gpd\n",
    "\n",
    "def refresh_dico(Name,Code,df):\n",
    "    dic = {}\n",
    "    for i in df[[Name,Code]].dropna().drop_duplicates().iterrows() :\n",
    "        dic[i[1][Name]] = i[1][Code]\n",
    "    return (dic)\n",
    "\n",
    "def rech_ligne_pays (y,df) :\n",
    "    expression = re.compile(dic_pays[y]+\".*?;\")\n",
    "    return(list(i[:-1] for i in (expression.findall(';'.join(df.index)+';'))))\n",
    "\n",
    "def rech_ligne_indic (y,df):\n",
    "    expression = re.compile(\".{,4}\"+y+\";\")\n",
    "    return(list(i[:-1] for i in (expression.findall(';'.join(df.index)+';'))))\n",
    "\n",
    "def create_gdf (df_geo,map_monde) :\n",
    "    map_monde_clean = pd.DataFrame()\n",
    "    map_monde_clean[['Country Code','geometry']] = map_monde[['iso_a3','geometry']].dropna()\n",
    "    gdf = gpd.GeoDataFrame(df_geo.dropna().reset_index().merge(map_monde_clean,on = 'Country Code'),\n",
    "                           geometry=df_geo.dropna()\n",
    "                                       .reset_index()\n",
    "                                       .merge(map_monde_clean,on = 'Country Code')['geometry'])\n",
    "    gdf = gdf.reset_index()\n",
    "    gdf = gdf.set_index('Pays_indic')\n",
    "    return(gdf)\n",
    "\n",
    "def log_norm (df_norm) :\n",
    "    return(np.log10(df_norm.astype(np.float64))/np.log10(df_norm.astype(np.float64).max()))\n",
    "\n",
    "def geo_plot (df,indic,annee,couleur = 'Oranges',norm=True) : \n",
    "    #On importe la map monde dans un data frame avec ses données géographiques : \n",
    "    map_monde = gpd.read_file('map_monde (1).json')\n",
    "    #on créé deux dictionnaires différents pour pouvoir adapter les codes pays et merge le plus correctemment possible\n",
    "    #les deux dataframe: \n",
    "    dic_map = refresh_dico('iso_a3','sovereignt',map_monde)\n",
    "    dic_code = refresh_dico('Country Code','Country Name',df)  \n",
    "    liste_non_concord = []\n",
    "    \n",
    "    #On récupère tous les pays pour lesquels les codes pays ne correspondent pas :\n",
    "    for i in dic_map.keys():\n",
    "        j = ''\n",
    "        try :\n",
    "            j = dic_code[i]\n",
    "        except KeyError:\n",
    "            liste_non_concord.append(dic_map[i])\n",
    "\n",
    "    for i in liste_non_concord:\n",
    "        try :\n",
    "            map_monde.loc[map_monde['sovereignt'] == i,'iso_a3'] = dic_pays[i]\n",
    "        except KeyError:\n",
    "            print(i +' n\\'a aucun équivalent dans la table des données')\n",
    "            \n",
    "    #On peut dés maintenant commencer le plot :\n",
    "    ax = gplt.polyplot(map_monde['geometry'],\n",
    "                       edgecolor='None',\n",
    "                       facecolor='lightgray',\n",
    "                       figsize=(18, 7))\n",
    "\n",
    "    gdf = create_gdf(df.loc[rech_ligne_indic(indic,df),['Country Code',annee]],map_monde)\n",
    "    if norm :\n",
    "        gdf[annee] = log_norm(gdf[annee])\n",
    "    gplt.choropleth(gdf,\n",
    "                hue = annee,\n",
    "                cmap = couleur,\n",
    "                #norm=colors.LogNorm(vmin=gdf[annee].min(),\n",
    "                #                    vmax=gdf[annee].max()),\n",
    "                legend=True,\n",
    "                ax=ax)\n",
    "    plt.show()"
   ]
  },
  {
   "cell_type": "markdown",
   "metadata": {},
   "source": [
    "## Application de la méthode des k-means à la base obtenue"
   ]
  },
  {
   "cell_type": "code",
   "execution_count": 5,
   "metadata": {},
   "outputs": [],
   "source": [
    "df1 = pd.read_csv(\"Complete_Data.csv\")\n",
    "df1 = df1.set_index('Pays_indic')\n",
    "dic_code = refresh_dico('Country Code','Country Name',df1)"
   ]
  },
  {
   "cell_type": "markdown",
   "metadata": {},
   "source": [
    "On crée ici une liste des codes de pays, et un dictionnaire avec le nom des variables afin de faciliter les manipulations"
   ]
  },
  {
   "cell_type": "code",
   "execution_count": 9,
   "metadata": {},
   "outputs": [],
   "source": [
    "code_list = []\n",
    "for i in df1['Country Code']:\n",
    "    if i not in code_list : \n",
    "        code_list.append(i)\n",
    "code_list.pop(-1)\n",
    "\n",
    "dic = {}\n",
    "dic['pib'] = '_GDP (current US$)'\n",
    "dic['pib_hab'] = '_GDP (current US$) par Tete'\n",
    "dic['pib_growth'] = '_GDP growth (annual %)'\n",
    "dic['pib_hab_growth'] = '_Croissance_GDP (current US$) par Tete (pourcent)'\n",
    "dic['pop'] = '_Population, total'\n",
    "dic['ges'] = '_Émissions totales de GES (kt d’équivalent CO2)'\n",
    "dic['ges_growth'] = '_Croissance_Émissions totales de GES (kt d’équivalent CO2) (pourcent)\t'\n",
    "dic['ges_hab'] = '_Émissions totales de GES (kt d’équivalent CO2) par Tete'\n",
    "dic['ges_hab_growth'] = '_Croissance_Émissions totales de GES (kt d’équivalent CO2) par Tete (pourcent)'\n",
    "dic['industry'] = '_Industry (including construction), value added (% of GDP)'\n",
    "dic['agr'] = '_Agriculture, forestry, and fishing, value added (% of GDP)'\n",
    "dic['clean_nrj'] = '_Alternative and nuclear energy (% of total energy use)'\n",
    "dic['nrj_hab'] = '_Energy use (kg of oil equivalent per capita)'\n",
    "dic['nrj_hab_growth'] = '_Croissance_Energy use (kg of oil equivalent per capita) (pourcent)'"
   ]
  },
  {
   "cell_type": "markdown",
   "metadata": {},
   "source": [
    "On va chercher à créer la base avec les données qui nous intéressent pour la modélisation. Pour ça on définit les fonctions suivantes :"
   ]
  },
  {
   "cell_type": "markdown",
   "metadata": {},
   "source": [
    "La fonction regress permet de faire la regression d'une variable sur l'autre, et renvoie le coefficient de la régression ainsi que son R²."
   ]
  },
  {
   "cell_type": "code",
   "execution_count": 16,
   "metadata": {},
   "outputs": [],
   "source": [
    "def regress (country_code, regresseur, regresse) :\n",
    "    \n",
    "    if country_code + regresse in df1.index and country_code + regresseur in df1.index :\n",
    "        interm= pd.DataFrame(df1.loc[[country_code + regresse, country_code + regresseur]]).drop(['Country Name',\n",
    "        'Country Code','Indicator Name'],axis =1).dropna(axis = 1)\n",
    "\n",
    "        if interm.shape != (2,0): \n",
    "            x = sm.add_constant(interm.loc[country_code + regresseur].to_numpy())\n",
    "            y = interm.loc[country_code + regresse].to_numpy()\n",
    "\n",
    "            model = sm.OLS(y,x,'drop')\n",
    "            results = model.fit()\n",
    "\n",
    "            r2 = results.rsquared\n",
    "            coef = results.params[1]\n",
    "\n",
    "            return coef, r2\n",
    "    \n",
    "    else : return\n"
   ]
  },
  {
   "cell_type": "code",
   "execution_count": 17,
   "metadata": {},
   "outputs": [],
   "source": [
    "def get_coeff (regresse, regresseur) :    \n",
    "    dico = {}\n",
    "    for code in code_list:\n",
    "        dico[code] = regress(code, regresseur, regresse)\n",
    "        if dico[code] == None:\n",
    "            dico.pop(code)\n",
    "\n",
    "    regress_df = pd.DataFrame(dico.values(), dico.keys(), ['Coefficient de ' + regresse + ' sur ' + regresseur,\n",
    "                                                         'R2 de ' + regresse + ' sur ' + regresseur])\n",
    "    return regress_df"
   ]
  },
  {
   "cell_type": "code",
   "execution_count": null,
   "metadata": {},
   "outputs": [],
   "source": [
    "def get_2000(var):\n",
    "    dic = {}\n",
    "    \n",
    "    for country_code in code_list : \n",
    "        if country_code + var in df1.index :\n",
    "            dic[country_code] = df1.loc[country_code + var][23]\n",
    "    \n",
    "    temp_df = pd.DataFrame(dic.values(), dic.keys(), ['2000' + var])\n",
    "    \n",
    "    return(temp_df)"
   ]
  },
  {
   "cell_type": "code",
   "execution_count": null,
   "metadata": {},
   "outputs": [],
   "source": [
    "def get_average_growth_rate(var) :\n",
    "    dic = {}\n",
    "    \n",
    "    for country_code in code_list : \n",
    "        if country_code + var in df1.index :    \n",
    "            values = list(df1.loc[country_code + var][3:])\n",
    "            values = [x for x in values if ~np.isnan(x)]\n",
    "            initial_value = values[0]\n",
    "            final_value = values[len(values)-1]\n",
    "            variation_rate = (100 * ((final_value / initial_value))**(1/(len(values)-1))) - 100\n",
    "            if variation_rate != np.inf :\n",
    "                dic[country_code] = variation_rate\n",
    "    \n",
    "    temp_df = pd.DataFrame(dic.values(), dic.keys(), ['Average Growth Rate' + var])\n",
    "    \n",
    "    return(temp_df)"
   ]
  },
  {
   "cell_type": "code",
   "execution_count": 328,
   "metadata": {},
   "outputs": [
    {
     "name": "stderr",
     "output_type": "stream",
     "text": [
      "<ipython-input-327-4bd91c805f1f>:53: RuntimeWarning: divide by zero encountered in double_scalars\n",
      "  variation_rate = (100 * ((final_value / initial_value))**(1/(len(values)-1))) - 100\n",
      "<ipython-input-327-4bd91c805f1f>:53: RuntimeWarning: invalid value encountered in double_scalars\n",
      "  variation_rate = (100 * ((final_value / initial_value))**(1/(len(values)-1))) - 100\n"
     ]
    },
    {
     "data": {
      "text/plain": [
       "(168, 16)"
      ]
     },
     "execution_count": 328,
     "metadata": {},
     "output_type": "execute_result"
    }
   ],
   "source": [
    "data = get_average_growth_rate(dic['pib_hab'])\n",
    "\n",
    "data_list = [get_average_growth_rate(dic['agr']), get_average_growth_rate(dic['industry']), \n",
    "            get_average_growth_rate(dic['ges_hab']), get_average_growth_rate(dic['clean_nrj']),\n",
    "            get_average_growth_rate(dic['nrj_hab']), \n",
    "            get_2000(dic['pib_hab']), get_2000(dic['agr']), get_2000(dic['industry']),\n",
    "            get_2000(dic['ges_hab']), get_2000(dic['clean_nrj']), get_2000(dic['nrj_hab']), \n",
    "            get_coeff(dic['pib_hab'], dic['ges_hab']),\n",
    "            get_coeff(dic['pib_hab'], dic['nrj_hab'])]\n",
    "for i in data_list :\n",
    "    data = data.merge(i, how = 'outer', left_index = True, right_index = True)\n",
    "data.shape"
   ]
  },
  {
   "cell_type": "code",
   "execution_count": 407,
   "metadata": {},
   "outputs": [],
   "source": [
    "def get_cluster_ACP(n_k_means, data, graph_ACP=False,to_normalize=True,graph_k_means=False,seed=False):\n",
    "    #normalisation\n",
    "    if to_normalize == True :\n",
    "        data_norm = pd.DataFrame()\n",
    "        for i in data.columns :\n",
    "            data_norm[i] = preprocessing.scale(data[i])\n",
    "            data_norm.index = data.index\n",
    "    else : \n",
    "        data_norm=data\n",
    "        \n",
    "    #On crée le graphe du coude des clusters\n",
    "    if graph_k_means==True:\n",
    "        iner = []\n",
    "        for k in range(2,10):\n",
    "            result=data_norm.copy()\n",
    "            centroid, appartenance, inertie = sklearn.cluster.k_means(data_norm, k)\n",
    "            iner.append(inertie)\n",
    "        plt.plot(np.linspace(2,9,num=8),iner)\n",
    "        plt.title(\"Evolution de l'inertie en fonction du nombre de cluster\")\n",
    "        plt.show() \n",
    "    \n",
    "    \n",
    "    #graph ACP\n",
    "    if graph_ACP==True:\n",
    "        \n",
    "        PCA = sklearn.decomposition.PCA(10)\n",
    "        PCA.fit(data_norm)\n",
    "\n",
    "        res = PCA.explained_variance_ratio_\n",
    "\n",
    "        t=np.linspace(1,10,num=10)\n",
    "        plt.plot(t,PCA.explained_variance_ratio_*100)\n",
    "        plt.title(\"Part de la variance expliquée sur chaque axe de l'ACP\")\n",
    "        plt.show()\n",
    "\n",
    "    #on enregistre dans la base les centroïdes\n",
    "    result=data_norm.copy()\n",
    "    if seed != False:\n",
    "        centroid, result['Cluster'], inertie = sklearn.cluster.k_means(data_norm, n_k_means,random_state=seed)\n",
    "    else :\n",
    "        centroid, result['Cluster'], inertie = sklearn.cluster.k_means(data_norm, n_k_means)\n",
    "    for i in range(0,n_k_means):\n",
    "        result.loc['Centroid '+str(i)] = np.concatenate((centroid[i],np.array([i])))\n",
    "    \n",
    "     \n",
    "        \n",
    "    #Application de l'ACP\n",
    "    PCA = sklearn.decomposition.PCA(2)\n",
    "    PCA.fit(data_norm)\n",
    "    data_ds_acp = PCA.transform(data_norm)\n",
    "    result_ACP = pd.DataFrame(data_ds_acp)\n",
    "    \n",
    "    #Enregistrement des données de l'ACP\n",
    "    data_norm.loc['axis_1']=PCA.components_[0]\n",
    "    data_norm.loc['axis_2']=PCA.components_[1]\n",
    "    PCA_axis=data_norm.loc[['axis_1','axis_2']]\n",
    "    \n",
    "    #représentation graphique des clusters dans l'ACP\n",
    "    result_ACP.index = result.index[:-n_k_means]\n",
    "    result_ACP['Cluster'] = result['Cluster'][:-n_k_means]\n",
    "    colormap = np.array(['black','red','royalblue','forestgreen','gold','silver','darkgoldenrod','deeppink','mediumturquoise','orange','firebrick'])\n",
    "    plt.scatter(result_ACP[0].to_numpy(),result_ACP[1].to_numpy(),c = colormap[result_ACP['Cluster'].astype(int).to_numpy()])\n",
    "    plt.title(\"Représentation des clusters dans L'ACP\")\n",
    "    plt.show()\n",
    "    \n",
    "    dic_cluster={}\n",
    "    for i in range (n_k_means):\n",
    "        dic_cluster['Cluster'+str(i)]=list(result.where(result['Cluster'] == i).dropna().index[:-1])\n",
    "        dic_cluster['Cluster'+str(i)].append(colormap[i])\n",
    "\n",
    "        \n",
    "    return result,dic_cluster,PCA_axis"
   ]
  },
  {
   "cell_type": "code",
   "execution_count": 408,
   "metadata": {},
   "outputs": [
    {
     "data": {
      "image/png": "[encoded data removed]",
      "text/plain": [
       "<Figure size 432x288 with 1 Axes>"
      ]
     },
     "metadata": {
      "needs_background": "light"
     },
     "output_type": "display_data"
    },
    {
     "data": {
      "image/png": "[encoded data removed]",
      "text/plain": [
       "<Figure size 432x288 with 1 Axes>"
      ]
     },
     "metadata": {
      "needs_background": "light"
     },
     "output_type": "display_data"
    },
    {
     "data": {
      "image/png": "[encoded data removed]",
      "text/plain": [
       "<Figure size 432x288 with 1 Axes>"
      ]
     },
     "metadata": {
      "needs_background": "light"
     },
     "output_type": "display_data"
    }
   ],
   "source": [
    "A,dic,axis=get_cluster_ACP(2,test,graph_ACP=True,graph_k_means=True)\n"
   ]
  },
  {
   "cell_type": "code",
   "execution_count": 409,
   "metadata": {},
   "outputs": [],
   "source": [
    "data_2=data.drop(['Average Growth Rate_Alternative and nuclear energy (% of total energy use)','Average Growth Rate_Energy use (kg of oil equivalent per capita)',\n",
    "                '2000_Energy use (kg of oil equivalent per capita)','2000_Alternative and nuclear energy (% of total energy use)',\n",
    "                'Coefficient de _GDP (current US$) par Tete sur _Energy use (kg of oil equivalent per capita)',\n",
    "                'R2 de _GDP (current US$) par Tete sur _Energy use (kg of oil equivalent per capita)'],axis=1)\n",
    "\n",
    "\n"
   ]
  },
  {
   "cell_type": "code",
   "execution_count": 410,
   "metadata": {},
   "outputs": [
    {
     "data": {
      "text/plain": [
       "(108, 10)"
      ]
     },
     "execution_count": 410,
     "metadata": {},
     "output_type": "execute_result"
    }
   ],
   "source": [
    "data_2=data_2.dropna(axis=0)\n",
    "data_2.shape"
   ]
  },
  {
   "cell_type": "code",
   "execution_count": 411,
   "metadata": {},
   "outputs": [
    {
     "data": {
      "image/png": "[encoded data removed]",
      "text/plain": [
       "<Figure size 432x288 with 1 Axes>"
      ]
     },
     "metadata": {
      "needs_background": "light"
     },
     "output_type": "display_data"
    },
    {
     "data": {
      "image/png": "[encoded data removed]",
      "text/plain": [
       "<Figure size 432x288 with 1 Axes>"
      ]
     },
     "metadata": {
      "needs_background": "light"
     },
     "output_type": "display_data"
    },
    {
     "data": {
      "image/png": "[encoded data removed]",
      "text/plain": [
       "<Figure size 432x288 with 1 Axes>"
      ]
     },
     "metadata": {
      "needs_background": "light"
     },
     "output_type": "display_data"
    }
   ],
   "source": [
    "A,dic,axis=get_cluster_ACP(2,data_2,graph_ACP=True,graph_k_means=True)"
   ]
  },
  {
   "cell_type": "code",
   "execution_count": 412,
   "metadata": {},
   "outputs": [
    {
     "data": {
      "text/html": [
       "<div>\n",
       "<style scoped>\n",
       "    .dataframe tbody tr th:only-of-type {\n",
       "        vertical-align: middle;\n",
       "    }\n",
       "\n",
       "    .dataframe tbody tr th {\n",
       "        vertical-align: top;\n",
       "    }\n",
       "\n",
       "    .dataframe thead th {\n",
       "        text-align: right;\n",
       "    }\n",
       "</style>\n",
       "<table border=\"1\" class=\"dataframe\">\n",
       "  <thead>\n",
       "    <tr style=\"text-align: right;\">\n",
       "      <th></th>\n",
       "      <th>Average Growth Rate_GDP (current US$) par Tete</th>\n",
       "      <th>Average Growth Rate_Agriculture, forestry, and fishing, value added (% of GDP)</th>\n",
       "      <th>Average Growth Rate_Industry (including construction), value added (% of GDP)</th>\n",
       "      <th>Average Growth Rate_Émissions totales de GES (kt d’équivalent CO2) par Tete</th>\n",
       "      <th>2000_GDP (current US$) par Tete</th>\n",
       "      <th>2000_Agriculture, forestry, and fishing, value added (% of GDP)</th>\n",
       "      <th>2000_Industry (including construction), value added (% of GDP)</th>\n",
       "      <th>2000_Émissions totales de GES (kt d’équivalent CO2) par Tete</th>\n",
       "      <th>Coefficient de _GDP (current US$) par Tete sur _Émissions totales de GES (kt d’équivalent CO2) par Tete</th>\n",
       "      <th>R2 de _GDP (current US$) par Tete sur _Émissions totales de GES (kt d’équivalent CO2) par Tete</th>\n",
       "    </tr>\n",
       "  </thead>\n",
       "  <tbody>\n",
       "    <tr>\n",
       "      <th>axis_1</th>\n",
       "      <td>0.107644</td>\n",
       "      <td>-0.229446</td>\n",
       "      <td>-0.272872</td>\n",
       "      <td>-0.141162</td>\n",
       "      <td>0.483585</td>\n",
       "      <td>-0.564514</td>\n",
       "      <td>0.326506</td>\n",
       "      <td>0.341620</td>\n",
       "      <td>-0.184564</td>\n",
       "      <td>0.177414</td>\n",
       "    </tr>\n",
       "    <tr>\n",
       "      <th>axis_2</th>\n",
       "      <td>0.534355</td>\n",
       "      <td>-0.351824</td>\n",
       "      <td>0.149031</td>\n",
       "      <td>0.499474</td>\n",
       "      <td>-0.035977</td>\n",
       "      <td>-0.117242</td>\n",
       "      <td>-0.107128</td>\n",
       "      <td>-0.198608</td>\n",
       "      <td>0.264930</td>\n",
       "      <td>0.427611</td>\n",
       "    </tr>\n",
       "  </tbody>\n",
       "</table>\n",
       "</div>"
      ],
      "text/plain": [
       "        Average Growth Rate_GDP (current US$) par Tete  \\\n",
       "axis_1                                        0.107644   \n",
       "axis_2                                        0.534355   \n",
       "\n",
       "        Average Growth Rate_Agriculture, forestry, and fishing, value added (% of GDP)  \\\n",
       "axis_1                                          -0.229446                                \n",
       "axis_2                                          -0.351824                                \n",
       "\n",
       "        Average Growth Rate_Industry (including construction), value added (% of GDP)  \\\n",
       "axis_1                                          -0.272872                               \n",
       "axis_2                                           0.149031                               \n",
       "\n",
       "        Average Growth Rate_Émissions totales de GES (kt d’équivalent CO2) par Tete  \\\n",
       "axis_1                                          -0.141162                             \n",
       "axis_2                                           0.499474                             \n",
       "\n",
       "        2000_GDP (current US$) par Tete  \\\n",
       "axis_1                         0.483585   \n",
       "axis_2                        -0.035977   \n",
       "\n",
       "        2000_Agriculture, forestry, and fishing, value added (% of GDP)  \\\n",
       "axis_1                                          -0.564514                 \n",
       "axis_2                                          -0.117242                 \n",
       "\n",
       "        2000_Industry (including construction), value added (% of GDP)  \\\n",
       "axis_1                                           0.326506                \n",
       "axis_2                                          -0.107128                \n",
       "\n",
       "        2000_Émissions totales de GES (kt d’équivalent CO2) par Tete  \\\n",
       "axis_1                                           0.341620              \n",
       "axis_2                                          -0.198608              \n",
       "\n",
       "        Coefficient de _GDP (current US$) par Tete sur _Émissions totales de GES (kt d’équivalent CO2) par Tete  \\\n",
       "axis_1                                          -0.184564                                                         \n",
       "axis_2                                           0.264930                                                         \n",
       "\n",
       "        R2 de _GDP (current US$) par Tete sur _Émissions totales de GES (kt d’équivalent CO2) par Tete  \n",
       "axis_1                                           0.177414                                               \n",
       "axis_2                                           0.427611                                               "
      ]
     },
     "execution_count": 412,
     "metadata": {},
     "output_type": "execute_result"
    }
   ],
   "source": [
    "axis.head()\n"
   ]
  },
  {
   "cell_type": "code",
   "execution_count": 413,
   "metadata": {},
   "outputs": [
    {
     "data": {
      "image/png": "[encoded data removed]",
      "text/plain": [
       "<Figure size 432x288 with 1 Axes>"
      ]
     },
     "metadata": {
      "needs_background": "light"
     },
     "output_type": "display_data"
    }
   ],
   "source": [
    "A,dic,axis=get_cluster_ACP(3,data_2)"
   ]
  },
  {
   "cell_type": "code",
   "execution_count": 414,
   "metadata": {},
   "outputs": [
    {
     "data": {
      "text/plain": [
       "(82, 12)"
      ]
     },
     "execution_count": 414,
     "metadata": {},
     "output_type": "execute_result"
    }
   ],
   "source": [
    "data_set_3=data.drop(['Average Growth Rate_Agriculture, forestry, and fishing, value added (% of GDP)',\n",
    "                  'Average Growth Rate_Industry (including construction), value added (% of GDP)',\n",
    "                  '2000_Agriculture, forestry, and fishing, value added (% of GDP)',\n",
    "                  '2000_Industry (including construction), value added (% of GDP)'],axis=1)\n",
    "data_set_3=data_set_3.dropna()\n",
    "data_set_3.shape"
   ]
  },
  {
   "cell_type": "code",
   "execution_count": 415,
   "metadata": {},
   "outputs": [
    {
     "data": {
      "image/png": "[encoded data removed]",
      "text/plain": [
       "<Figure size 432x288 with 1 Axes>"
      ]
     },
     "metadata": {
      "needs_background": "light"
     },
     "output_type": "display_data"
    },
    {
     "data": {
      "image/png": "[encoded data removed]",
      "text/plain": [
       "<Figure size 432x288 with 1 Axes>"
      ]
     },
     "metadata": {
      "needs_background": "light"
     },
     "output_type": "display_data"
    },
    {
     "data": {
      "image/png": "[encoded data removed]",
      "text/plain": [
       "<Figure size 432x288 with 1 Axes>"
      ]
     },
     "metadata": {
      "needs_background": "light"
     },
     "output_type": "display_data"
    }
   ],
   "source": [
    "A,dic,axis=get_cluster_ACP(2,data_set_3,graph_k_means=True,graph_ACP=True)"
   ]
  },
  {
   "cell_type": "code",
   "execution_count": 416,
   "metadata": {},
   "outputs": [
    {
     "data": {
      "text/html": [
       "<div>\n",
       "<style scoped>\n",
       "    .dataframe tbody tr th:only-of-type {\n",
       "        vertical-align: middle;\n",
       "    }\n",
       "\n",
       "    .dataframe tbody tr th {\n",
       "        vertical-align: top;\n",
       "    }\n",
       "\n",
       "    .dataframe thead th {\n",
       "        text-align: right;\n",
       "    }\n",
       "</style>\n",
       "<table border=\"1\" class=\"dataframe\">\n",
       "  <thead>\n",
       "    <tr style=\"text-align: right;\">\n",
       "      <th></th>\n",
       "      <th>Average Growth Rate_GDP (current US$) par Tete</th>\n",
       "      <th>Average Growth Rate_Émissions totales de GES (kt d’équivalent CO2) par Tete</th>\n",
       "      <th>Average Growth Rate_Alternative and nuclear energy (% of total energy use)</th>\n",
       "      <th>Average Growth Rate_Energy use (kg of oil equivalent per capita)</th>\n",
       "      <th>2000_GDP (current US$) par Tete</th>\n",
       "      <th>2000_Émissions totales de GES (kt d’équivalent CO2) par Tete</th>\n",
       "      <th>2000_Alternative and nuclear energy (% of total energy use)</th>\n",
       "      <th>2000_Energy use (kg of oil equivalent per capita)</th>\n",
       "      <th>Coefficient de _GDP (current US$) par Tete sur _Émissions totales de GES (kt d’équivalent CO2) par Tete</th>\n",
       "      <th>R2 de _GDP (current US$) par Tete sur _Émissions totales de GES (kt d’équivalent CO2) par Tete</th>\n",
       "      <th>Coefficient de _GDP (current US$) par Tete sur _Energy use (kg of oil equivalent per capita)</th>\n",
       "      <th>R2 de _GDP (current US$) par Tete sur _Energy use (kg of oil equivalent per capita)</th>\n",
       "    </tr>\n",
       "  </thead>\n",
       "  <tbody>\n",
       "    <tr>\n",
       "      <th>axis_1</th>\n",
       "      <td>-0.094959</td>\n",
       "      <td>-0.263176</td>\n",
       "      <td>0.129866</td>\n",
       "      <td>-0.388169</td>\n",
       "      <td>0.374911</td>\n",
       "      <td>0.292745</td>\n",
       "      <td>0.294873</td>\n",
       "      <td>0.371129</td>\n",
       "      <td>-0.042139</td>\n",
       "      <td>-0.103369</td>\n",
       "      <td>-0.364863</td>\n",
       "      <td>-0.397053</td>\n",
       "    </tr>\n",
       "    <tr>\n",
       "      <th>axis_2</th>\n",
       "      <td>0.360369</td>\n",
       "      <td>0.290984</td>\n",
       "      <td>0.124207</td>\n",
       "      <td>0.322814</td>\n",
       "      <td>0.376142</td>\n",
       "      <td>0.097667</td>\n",
       "      <td>0.263841</td>\n",
       "      <td>0.386889</td>\n",
       "      <td>-0.135229</td>\n",
       "      <td>0.466235</td>\n",
       "      <td>0.120675</td>\n",
       "      <td>0.212805</td>\n",
       "    </tr>\n",
       "  </tbody>\n",
       "</table>\n",
       "</div>"
      ],
      "text/plain": [
       "        Average Growth Rate_GDP (current US$) par Tete  \\\n",
       "axis_1                                       -0.094959   \n",
       "axis_2                                        0.360369   \n",
       "\n",
       "        Average Growth Rate_Émissions totales de GES (kt d’équivalent CO2) par Tete  \\\n",
       "axis_1                                          -0.263176                             \n",
       "axis_2                                           0.290984                             \n",
       "\n",
       "        Average Growth Rate_Alternative and nuclear energy (% of total energy use)  \\\n",
       "axis_1                                           0.129866                            \n",
       "axis_2                                           0.124207                            \n",
       "\n",
       "        Average Growth Rate_Energy use (kg of oil equivalent per capita)  \\\n",
       "axis_1                                          -0.388169                  \n",
       "axis_2                                           0.322814                  \n",
       "\n",
       "        2000_GDP (current US$) par Tete  \\\n",
       "axis_1                         0.374911   \n",
       "axis_2                         0.376142   \n",
       "\n",
       "        2000_Émissions totales de GES (kt d’équivalent CO2) par Tete  \\\n",
       "axis_1                                           0.292745              \n",
       "axis_2                                           0.097667              \n",
       "\n",
       "        2000_Alternative and nuclear energy (% of total energy use)  \\\n",
       "axis_1                                           0.294873             \n",
       "axis_2                                           0.263841             \n",
       "\n",
       "        2000_Energy use (kg of oil equivalent per capita)  \\\n",
       "axis_1                                           0.371129   \n",
       "axis_2                                           0.386889   \n",
       "\n",
       "        Coefficient de _GDP (current US$) par Tete sur _Émissions totales de GES (kt d’équivalent CO2) par Tete  \\\n",
       "axis_1                                          -0.042139                                                         \n",
       "axis_2                                          -0.135229                                                         \n",
       "\n",
       "        R2 de _GDP (current US$) par Tete sur _Émissions totales de GES (kt d’équivalent CO2) par Tete  \\\n",
       "axis_1                                          -0.103369                                                \n",
       "axis_2                                           0.466235                                                \n",
       "\n",
       "        Coefficient de _GDP (current US$) par Tete sur _Energy use (kg of oil equivalent per capita)  \\\n",
       "axis_1                                          -0.364863                                              \n",
       "axis_2                                           0.120675                                              \n",
       "\n",
       "        R2 de _GDP (current US$) par Tete sur _Energy use (kg of oil equivalent per capita)  \n",
       "axis_1                                          -0.397053                                    \n",
       "axis_2                                           0.212805                                    "
      ]
     },
     "execution_count": 416,
     "metadata": {},
     "output_type": "execute_result"
    }
   ],
   "source": [
    "axis.head(2)"
   ]
  },
  {
   "cell_type": "code",
   "execution_count": 470,
   "metadata": {},
   "outputs": [
    {
     "data": {
      "image/png": "[encoded data removed]",
      "text/plain": [
       "<Figure size 432x288 with 1 Axes>"
      ]
     },
     "metadata": {
      "needs_background": "light"
     },
     "output_type": "display_data"
    }
   ],
   "source": [
    "A,dic,axis=get_cluster_ACP(3,data_set_3)"
   ]
  },
  {
   "cell_type": "code",
   "execution_count": 302,
   "metadata": {},
   "outputs": [
    {
     "data": {
      "text/html": [
       "<div>\n",
       "<style scoped>\n",
       "    .dataframe tbody tr th:only-of-type {\n",
       "        vertical-align: middle;\n",
       "    }\n",
       "\n",
       "    .dataframe tbody tr th {\n",
       "        vertical-align: top;\n",
       "    }\n",
       "\n",
       "    .dataframe thead th {\n",
       "        text-align: right;\n",
       "    }\n",
       "</style>\n",
       "<table border=\"1\" class=\"dataframe\">\n",
       "  <thead>\n",
       "    <tr style=\"text-align: right;\">\n",
       "      <th></th>\n",
       "      <th>Average Growth Rate_GDP (current US$) par Tete</th>\n",
       "      <th>Average Growth Rate_Émissions totales de GES (kt d’équivalent CO2) par Tete</th>\n",
       "      <th>Average Growth Rate_Alternative and nuclear energy (% of total energy use)</th>\n",
       "      <th>Average Growth Rate_Energy use (kg of oil equivalent per capita)</th>\n",
       "      <th>2000_GDP (current US$) par Tete</th>\n",
       "      <th>2000_Émissions totales de GES (kt d’équivalent CO2) par Tete</th>\n",
       "      <th>2000_Alternative and nuclear energy (% of total energy use)</th>\n",
       "      <th>2000_Energy use (kg of oil equivalent per capita)</th>\n",
       "      <th>Coefficient de _GDP (current US$) par Tete sur _Émissions totales de GES (kt d’équivalent CO2) par Tete</th>\n",
       "      <th>R2 de _GDP (current US$) par Tete sur _Émissions totales de GES (kt d’équivalent CO2) par Tete</th>\n",
       "      <th>Coefficient de _Croissance_GDP (current US$) par Tete (pourcent) sur _Croissance_Émissions totales de GES (kt d’équivalent CO2) par Tete (pourcent)</th>\n",
       "      <th>R2 de _Croissance_GDP (current US$) par Tete (pourcent) sur _Croissance_Émissions totales de GES (kt d’équivalent CO2) par Tete (pourcent)</th>\n",
       "      <th>Coefficient de _GDP (current US$) par Tete sur _Energy use (kg of oil equivalent per capita)</th>\n",
       "      <th>R2 de _GDP (current US$) par Tete sur _Energy use (kg of oil equivalent per capita)</th>\n",
       "      <th>Coefficient de _Croissance_GDP (current US$) par Tete (pourcent) sur _Croissance_Energy use (kg of oil equivalent per capita) (pourcent)</th>\n",
       "      <th>R2 de _Croissance_GDP (current US$) par Tete (pourcent) sur _Croissance_Energy use (kg of oil equivalent per capita) (pourcent)</th>\n",
       "    </tr>\n",
       "  </thead>\n",
       "  <tbody>\n",
       "    <tr>\n",
       "      <th>axis_1</th>\n",
       "      <td>0.220360</td>\n",
       "      <td>0.278102</td>\n",
       "      <td>-0.055288</td>\n",
       "      <td>0.365131</td>\n",
       "      <td>-0.340033</td>\n",
       "      <td>-0.272783</td>\n",
       "      <td>-0.247374</td>\n",
       "      <td>-0.313388</td>\n",
       "      <td>0.020635</td>\n",
       "      <td>0.133082</td>\n",
       "      <td>0.165502</td>\n",
       "      <td>0.189970</td>\n",
       "      <td>0.327119</td>\n",
       "      <td>0.371784</td>\n",
       "      <td>0.187917</td>\n",
       "      <td>0.161636</td>\n",
       "    </tr>\n",
       "    <tr>\n",
       "      <th>axis_2</th>\n",
       "      <td>0.370627</td>\n",
       "      <td>0.156826</td>\n",
       "      <td>0.226440</td>\n",
       "      <td>0.024756</td>\n",
       "      <td>0.303729</td>\n",
       "      <td>0.108916</td>\n",
       "      <td>0.273914</td>\n",
       "      <td>0.326816</td>\n",
       "      <td>-0.134136</td>\n",
       "      <td>0.259424</td>\n",
       "      <td>0.072764</td>\n",
       "      <td>0.390195</td>\n",
       "      <td>-0.120071</td>\n",
       "      <td>-0.047997</td>\n",
       "      <td>0.327159</td>\n",
       "      <td>0.365524</td>\n",
       "    </tr>\n",
       "  </tbody>\n",
       "</table>\n",
       "</div>"
      ],
      "text/plain": [
       "        Average Growth Rate_GDP (current US$) par Tete  \\\n",
       "axis_1                                        0.220360   \n",
       "axis_2                                        0.370627   \n",
       "\n",
       "        Average Growth Rate_Émissions totales de GES (kt d’équivalent CO2) par Tete  \\\n",
       "axis_1                                           0.278102                             \n",
       "axis_2                                           0.156826                             \n",
       "\n",
       "        Average Growth Rate_Alternative and nuclear energy (% of total energy use)  \\\n",
       "axis_1                                          -0.055288                            \n",
       "axis_2                                           0.226440                            \n",
       "\n",
       "        Average Growth Rate_Energy use (kg of oil equivalent per capita)  \\\n",
       "axis_1                                           0.365131                  \n",
       "axis_2                                           0.024756                  \n",
       "\n",
       "        2000_GDP (current US$) par Tete  \\\n",
       "axis_1                        -0.340033   \n",
       "axis_2                         0.303729   \n",
       "\n",
       "        2000_Émissions totales de GES (kt d’équivalent CO2) par Tete  \\\n",
       "axis_1                                          -0.272783              \n",
       "axis_2                                           0.108916              \n",
       "\n",
       "        2000_Alternative and nuclear energy (% of total energy use)  \\\n",
       "axis_1                                          -0.247374             \n",
       "axis_2                                           0.273914             \n",
       "\n",
       "        2000_Energy use (kg of oil equivalent per capita)  \\\n",
       "axis_1                                          -0.313388   \n",
       "axis_2                                           0.326816   \n",
       "\n",
       "        Coefficient de _GDP (current US$) par Tete sur _Émissions totales de GES (kt d’équivalent CO2) par Tete  \\\n",
       "axis_1                                           0.020635                                                         \n",
       "axis_2                                          -0.134136                                                         \n",
       "\n",
       "        R2 de _GDP (current US$) par Tete sur _Émissions totales de GES (kt d’équivalent CO2) par Tete  \\\n",
       "axis_1                                           0.133082                                                \n",
       "axis_2                                           0.259424                                                \n",
       "\n",
       "        Coefficient de _Croissance_GDP (current US$) par Tete (pourcent) sur _Croissance_Émissions totales de GES (kt d’équivalent CO2) par Tete (pourcent)  \\\n",
       "axis_1                                           0.165502                                                                                                     \n",
       "axis_2                                           0.072764                                                                                                     \n",
       "\n",
       "        R2 de _Croissance_GDP (current US$) par Tete (pourcent) sur _Croissance_Émissions totales de GES (kt d’équivalent CO2) par Tete (pourcent)  \\\n",
       "axis_1                                           0.189970                                                                                            \n",
       "axis_2                                           0.390195                                                                                            \n",
       "\n",
       "        Coefficient de _GDP (current US$) par Tete sur _Energy use (kg of oil equivalent per capita)  \\\n",
       "axis_1                                           0.327119                                              \n",
       "axis_2                                          -0.120071                                              \n",
       "\n",
       "        R2 de _GDP (current US$) par Tete sur _Energy use (kg of oil equivalent per capita)  \\\n",
       "axis_1                                           0.371784                                     \n",
       "axis_2                                          -0.047997                                     \n",
       "\n",
       "        Coefficient de _Croissance_GDP (current US$) par Tete (pourcent) sur _Croissance_Energy use (kg of oil equivalent per capita) (pourcent)  \\\n",
       "axis_1                                           0.187917                                                                                          \n",
       "axis_2                                           0.327159                                                                                          \n",
       "\n",
       "        R2 de _Croissance_GDP (current US$) par Tete (pourcent) sur _Croissance_Energy use (kg of oil equivalent per capita) (pourcent)  \n",
       "axis_1                                           0.161636                                                                                \n",
       "axis_2                                           0.365524                                                                                "
      ]
     },
     "execution_count": 302,
     "metadata": {},
     "output_type": "execute_result"
    }
   ],
   "source": [
    "axis.head()"
   ]
  },
  {
   "cell_type": "code",
   "execution_count": 3,
   "metadata": {},
   "outputs": [],
   "source": [
    "#dic"
   ]
  },
  {
   "cell_type": "code",
   "execution_count": 474,
   "metadata": {},
   "outputs": [
    {
     "data": {
      "text/html": [
       "<div>\n",
       "<style scoped>\n",
       "    .dataframe tbody tr th:only-of-type {\n",
       "        vertical-align: middle;\n",
       "    }\n",
       "\n",
       "    .dataframe tbody tr th {\n",
       "        vertical-align: top;\n",
       "    }\n",
       "\n",
       "    .dataframe thead th {\n",
       "        text-align: right;\n",
       "    }\n",
       "</style>\n",
       "<table border=\"1\" class=\"dataframe\">\n",
       "  <thead>\n",
       "    <tr style=\"text-align: right;\">\n",
       "      <th></th>\n",
       "      <th>Average Growth Rate_GDP (current US$) par Tete</th>\n",
       "      <th>Average Growth Rate_Émissions totales de GES (kt d’équivalent CO2) par Tete</th>\n",
       "      <th>Average Growth Rate_Alternative and nuclear energy (% of total energy use)</th>\n",
       "      <th>Average Growth Rate_Energy use (kg of oil equivalent per capita)</th>\n",
       "      <th>2000_GDP (current US$) par Tete</th>\n",
       "      <th>2000_Émissions totales de GES (kt d’équivalent CO2) par Tete</th>\n",
       "      <th>2000_Alternative and nuclear energy (% of total energy use)</th>\n",
       "      <th>2000_Energy use (kg of oil equivalent per capita)</th>\n",
       "      <th>Coefficient de _GDP (current US$) par Tete sur _Émissions totales de GES (kt d’équivalent CO2) par Tete</th>\n",
       "      <th>R2 de _GDP (current US$) par Tete sur _Émissions totales de GES (kt d’équivalent CO2) par Tete</th>\n",
       "      <th>Coefficient de _GDP (current US$) par Tete sur _Energy use (kg of oil equivalent per capita)</th>\n",
       "      <th>R2 de _GDP (current US$) par Tete sur _Energy use (kg of oil equivalent per capita)</th>\n",
       "      <th>Cluster</th>\n",
       "    </tr>\n",
       "  </thead>\n",
       "  <tbody>\n",
       "    <tr>\n",
       "      <th>Centroid 0</th>\n",
       "      <td>-0.453097</td>\n",
       "      <td>-0.333364</td>\n",
       "      <td>-0.076999</td>\n",
       "      <td>-0.423492</td>\n",
       "      <td>-0.489170</td>\n",
       "      <td>-0.176980</td>\n",
       "      <td>-0.250023</td>\n",
       "      <td>-0.482062</td>\n",
       "      <td>0.008570</td>\n",
       "      <td>-0.674409</td>\n",
       "      <td>-0.195839</td>\n",
       "      <td>-0.299409</td>\n",
       "      <td>0.0</td>\n",
       "    </tr>\n",
       "    <tr>\n",
       "      <th>Centroid 1</th>\n",
       "      <td>0.588644</td>\n",
       "      <td>0.833901</td>\n",
       "      <td>-0.181504</td>\n",
       "      <td>1.070132</td>\n",
       "      <td>-0.527601</td>\n",
       "      <td>-0.488693</td>\n",
       "      <td>-0.462475</td>\n",
       "      <td>-0.503891</td>\n",
       "      <td>0.118291</td>\n",
       "      <td>0.711844</td>\n",
       "      <td>0.747811</td>\n",
       "      <td>0.939468</td>\n",
       "      <td>1.0</td>\n",
       "    </tr>\n",
       "    <tr>\n",
       "      <th>Centroid 2</th>\n",
       "      <td>0.075971</td>\n",
       "      <td>-0.421258</td>\n",
       "      <td>0.348075</td>\n",
       "      <td>-0.547981</td>\n",
       "      <td>1.466675</td>\n",
       "      <td>0.885172</td>\n",
       "      <td>0.979176</td>\n",
       "      <td>1.426262</td>\n",
       "      <td>-0.155513</td>\n",
       "      <td>0.308697</td>\n",
       "      <td>-0.554528</td>\n",
       "      <td>-0.605142</td>\n",
       "      <td>2.0</td>\n",
       "    </tr>\n",
       "  </tbody>\n",
       "</table>\n",
       "</div>"
      ],
      "text/plain": [
       "            Average Growth Rate_GDP (current US$) par Tete  \\\n",
       "Centroid 0                                       -0.453097   \n",
       "Centroid 1                                        0.588644   \n",
       "Centroid 2                                        0.075971   \n",
       "\n",
       "            Average Growth Rate_Émissions totales de GES (kt d’équivalent CO2) par Tete  \\\n",
       "Centroid 0                                          -0.333364                             \n",
       "Centroid 1                                           0.833901                             \n",
       "Centroid 2                                          -0.421258                             \n",
       "\n",
       "            Average Growth Rate_Alternative and nuclear energy (% of total energy use)  \\\n",
       "Centroid 0                                          -0.076999                            \n",
       "Centroid 1                                          -0.181504                            \n",
       "Centroid 2                                           0.348075                            \n",
       "\n",
       "            Average Growth Rate_Energy use (kg of oil equivalent per capita)  \\\n",
       "Centroid 0                                          -0.423492                  \n",
       "Centroid 1                                           1.070132                  \n",
       "Centroid 2                                          -0.547981                  \n",
       "\n",
       "            2000_GDP (current US$) par Tete  \\\n",
       "Centroid 0                        -0.489170   \n",
       "Centroid 1                        -0.527601   \n",
       "Centroid 2                         1.466675   \n",
       "\n",
       "            2000_Émissions totales de GES (kt d’équivalent CO2) par Tete  \\\n",
       "Centroid 0                                          -0.176980              \n",
       "Centroid 1                                          -0.488693              \n",
       "Centroid 2                                           0.885172              \n",
       "\n",
       "            2000_Alternative and nuclear energy (% of total energy use)  \\\n",
       "Centroid 0                                          -0.250023             \n",
       "Centroid 1                                          -0.462475             \n",
       "Centroid 2                                           0.979176             \n",
       "\n",
       "            2000_Energy use (kg of oil equivalent per capita)  \\\n",
       "Centroid 0                                          -0.482062   \n",
       "Centroid 1                                          -0.503891   \n",
       "Centroid 2                                           1.426262   \n",
       "\n",
       "            Coefficient de _GDP (current US$) par Tete sur _Émissions totales de GES (kt d’équivalent CO2) par Tete  \\\n",
       "Centroid 0                                           0.008570                                                         \n",
       "Centroid 1                                           0.118291                                                         \n",
       "Centroid 2                                          -0.155513                                                         \n",
       "\n",
       "            R2 de _GDP (current US$) par Tete sur _Émissions totales de GES (kt d’équivalent CO2) par Tete  \\\n",
       "Centroid 0                                          -0.674409                                                \n",
       "Centroid 1                                           0.711844                                                \n",
       "Centroid 2                                           0.308697                                                \n",
       "\n",
       "            Coefficient de _GDP (current US$) par Tete sur _Energy use (kg of oil equivalent per capita)  \\\n",
       "Centroid 0                                          -0.195839                                              \n",
       "Centroid 1                                           0.747811                                              \n",
       "Centroid 2                                          -0.554528                                              \n",
       "\n",
       "            R2 de _GDP (current US$) par Tete sur _Energy use (kg of oil equivalent per capita)  \\\n",
       "Centroid 0                                          -0.299409                                     \n",
       "Centroid 1                                           0.939468                                     \n",
       "Centroid 2                                          -0.605142                                     \n",
       "\n",
       "            Cluster  \n",
       "Centroid 0      0.0  \n",
       "Centroid 1      1.0  \n",
       "Centroid 2      2.0  "
      ]
     },
     "execution_count": 474,
     "metadata": {},
     "output_type": "execute_result"
    }
   ],
   "source": [
    "A.loc[['Centroid 0','Centroid 1','Centroid 2']]"
   ]
  },
  {
   "cell_type": "markdown",
   "metadata": {},
   "source": [
    "## On enlève les valeurs en 2000 pour n'avoir que des évolutions."
   ]
  },
  {
   "cell_type": "code",
   "execution_count": 477,
   "metadata": {},
   "outputs": [
    {
     "data": {
      "text/plain": [
       "(60, 10)"
      ]
     },
     "execution_count": 477,
     "metadata": {},
     "output_type": "execute_result"
    }
   ],
   "source": [
    "data_set_4=data.drop(['2000_GDP (current US$) par Tete',\n",
    "                      '2000_Émissions totales de GES (kt d’équivalent CO2) par Tete',\n",
    "                      '2000_Agriculture, forestry, and fishing, value added (% of GDP)',\n",
    "                      '2000_Industry (including construction), value added (% of GDP)',\n",
    "                      '2000_Alternative and nuclear energy (% of total energy use)',\n",
    "                      '2000_Energy use (kg of oil equivalent per capita)'],axis=1)\n",
    "data_set_4=data_set_4.dropna()\n",
    "data_set_4.shape"
   ]
  },
  {
   "cell_type": "code",
   "execution_count": 494,
   "metadata": {},
   "outputs": [
    {
     "data": {
      "image/png": "[encoded data removed]",
      "text/plain": [
       "<Figure size 432x288 with 1 Axes>"
      ]
     },
     "metadata": {
      "needs_background": "light"
     },
     "output_type": "display_data"
    },
    {
     "data": {
      "image/png": "[encoded data removed]",
      "text/plain": [
       "<Figure size 432x288 with 1 Axes>"
      ]
     },
     "metadata": {
      "needs_background": "light"
     },
     "output_type": "display_data"
    },
    {
     "data": {
      "image/png": "[encoded data removed]",
      "text/plain": [
       "<Figure size 432x288 with 1 Axes>"
      ]
     },
     "metadata": {
      "needs_background": "light"
     },
     "output_type": "display_data"
    }
   ],
   "source": [
    "A,dic,axis=get_cluster_ACP(3,data_set_4,graph_ACP=True,graph_k_means=True)"
   ]
  },
  {
   "cell_type": "code",
   "execution_count": 495,
   "metadata": {},
   "outputs": [
    {
     "data": {
      "text/html": [
       "<div>\n",
       "<style scoped>\n",
       "    .dataframe tbody tr th:only-of-type {\n",
       "        vertical-align: middle;\n",
       "    }\n",
       "\n",
       "    .dataframe tbody tr th {\n",
       "        vertical-align: top;\n",
       "    }\n",
       "\n",
       "    .dataframe thead th {\n",
       "        text-align: right;\n",
       "    }\n",
       "</style>\n",
       "<table border=\"1\" class=\"dataframe\">\n",
       "  <thead>\n",
       "    <tr style=\"text-align: right;\">\n",
       "      <th></th>\n",
       "      <th>Average Growth Rate_GDP (current US$) par Tete</th>\n",
       "      <th>Average Growth Rate_Agriculture, forestry, and fishing, value added (% of GDP)</th>\n",
       "      <th>Average Growth Rate_Industry (including construction), value added (% of GDP)</th>\n",
       "      <th>Average Growth Rate_Émissions totales de GES (kt d’équivalent CO2) par Tete</th>\n",
       "      <th>Average Growth Rate_Alternative and nuclear energy (% of total energy use)</th>\n",
       "      <th>Average Growth Rate_Energy use (kg of oil equivalent per capita)</th>\n",
       "      <th>Coefficient de _GDP (current US$) par Tete sur _Émissions totales de GES (kt d’équivalent CO2) par Tete</th>\n",
       "      <th>R2 de _GDP (current US$) par Tete sur _Émissions totales de GES (kt d’équivalent CO2) par Tete</th>\n",
       "      <th>Coefficient de _GDP (current US$) par Tete sur _Energy use (kg of oil equivalent per capita)</th>\n",
       "      <th>R2 de _GDP (current US$) par Tete sur _Energy use (kg of oil equivalent per capita)</th>\n",
       "    </tr>\n",
       "  </thead>\n",
       "  <tbody>\n",
       "    <tr>\n",
       "      <th>axis_1</th>\n",
       "      <td>0.371527</td>\n",
       "      <td>-0.100467</td>\n",
       "      <td>0.022509</td>\n",
       "      <td>0.419411</td>\n",
       "      <td>0.010156</td>\n",
       "      <td>0.487293</td>\n",
       "      <td>0.230491</td>\n",
       "      <td>0.302271</td>\n",
       "      <td>0.347886</td>\n",
       "      <td>0.415195</td>\n",
       "    </tr>\n",
       "    <tr>\n",
       "      <th>axis_2</th>\n",
       "      <td>-0.346519</td>\n",
       "      <td>0.534606</td>\n",
       "      <td>0.281414</td>\n",
       "      <td>-0.123125</td>\n",
       "      <td>-0.328064</td>\n",
       "      <td>0.179991</td>\n",
       "      <td>-0.097559</td>\n",
       "      <td>-0.317624</td>\n",
       "      <td>0.406268</td>\n",
       "      <td>0.290324</td>\n",
       "    </tr>\n",
       "  </tbody>\n",
       "</table>\n",
       "</div>"
      ],
      "text/plain": [
       "        Average Growth Rate_GDP (current US$) par Tete  \\\n",
       "axis_1                                        0.371527   \n",
       "axis_2                                       -0.346519   \n",
       "\n",
       "        Average Growth Rate_Agriculture, forestry, and fishing, value added (% of GDP)  \\\n",
       "axis_1                                          -0.100467                                \n",
       "axis_2                                           0.534606                                \n",
       "\n",
       "        Average Growth Rate_Industry (including construction), value added (% of GDP)  \\\n",
       "axis_1                                           0.022509                               \n",
       "axis_2                                           0.281414                               \n",
       "\n",
       "        Average Growth Rate_Émissions totales de GES (kt d’équivalent CO2) par Tete  \\\n",
       "axis_1                                           0.419411                             \n",
       "axis_2                                          -0.123125                             \n",
       "\n",
       "        Average Growth Rate_Alternative and nuclear energy (% of total energy use)  \\\n",
       "axis_1                                           0.010156                            \n",
       "axis_2                                          -0.328064                            \n",
       "\n",
       "        Average Growth Rate_Energy use (kg of oil equivalent per capita)  \\\n",
       "axis_1                                           0.487293                  \n",
       "axis_2                                           0.179991                  \n",
       "\n",
       "        Coefficient de _GDP (current US$) par Tete sur _Émissions totales de GES (kt d’équivalent CO2) par Tete  \\\n",
       "axis_1                                           0.230491                                                         \n",
       "axis_2                                          -0.097559                                                         \n",
       "\n",
       "        R2 de _GDP (current US$) par Tete sur _Émissions totales de GES (kt d’équivalent CO2) par Tete  \\\n",
       "axis_1                                           0.302271                                                \n",
       "axis_2                                          -0.317624                                                \n",
       "\n",
       "        Coefficient de _GDP (current US$) par Tete sur _Energy use (kg of oil equivalent per capita)  \\\n",
       "axis_1                                           0.347886                                              \n",
       "axis_2                                           0.406268                                              \n",
       "\n",
       "        R2 de _GDP (current US$) par Tete sur _Energy use (kg of oil equivalent per capita)  \n",
       "axis_1                                           0.415195                                    \n",
       "axis_2                                           0.290324                                    "
      ]
     },
     "execution_count": 495,
     "metadata": {},
     "output_type": "execute_result"
    }
   ],
   "source": [
    "axis.head()"
   ]
  },
  {
   "cell_type": "code",
   "execution_count": 496,
   "metadata": {},
   "outputs": [
    {
     "data": {
      "text/html": [
       "<div>\n",
       "<style scoped>\n",
       "    .dataframe tbody tr th:only-of-type {\n",
       "        vertical-align: middle;\n",
       "    }\n",
       "\n",
       "    .dataframe tbody tr th {\n",
       "        vertical-align: top;\n",
       "    }\n",
       "\n",
       "    .dataframe thead th {\n",
       "        text-align: right;\n",
       "    }\n",
       "</style>\n",
       "<table border=\"1\" class=\"dataframe\">\n",
       "  <thead>\n",
       "    <tr style=\"text-align: right;\">\n",
       "      <th></th>\n",
       "      <th>Average Growth Rate_GDP (current US$) par Tete</th>\n",
       "      <th>Average Growth Rate_Agriculture, forestry, and fishing, value added (% of GDP)</th>\n",
       "      <th>Average Growth Rate_Industry (including construction), value added (% of GDP)</th>\n",
       "      <th>Average Growth Rate_Émissions totales de GES (kt d’équivalent CO2) par Tete</th>\n",
       "      <th>Average Growth Rate_Alternative and nuclear energy (% of total energy use)</th>\n",
       "      <th>Average Growth Rate_Energy use (kg of oil equivalent per capita)</th>\n",
       "      <th>Coefficient de _GDP (current US$) par Tete sur _Émissions totales de GES (kt d’équivalent CO2) par Tete</th>\n",
       "      <th>R2 de _GDP (current US$) par Tete sur _Émissions totales de GES (kt d’équivalent CO2) par Tete</th>\n",
       "      <th>Coefficient de _GDP (current US$) par Tete sur _Energy use (kg of oil equivalent per capita)</th>\n",
       "      <th>R2 de _GDP (current US$) par Tete sur _Energy use (kg of oil equivalent per capita)</th>\n",
       "      <th>Cluster</th>\n",
       "    </tr>\n",
       "  </thead>\n",
       "  <tbody>\n",
       "    <tr>\n",
       "      <th>Centroid 0</th>\n",
       "      <td>0.692732</td>\n",
       "      <td>-0.347234</td>\n",
       "      <td>0.031086</td>\n",
       "      <td>0.805706</td>\n",
       "      <td>-0.174286</td>\n",
       "      <td>0.938343</td>\n",
       "      <td>0.442830</td>\n",
       "      <td>0.890923</td>\n",
       "      <td>0.563425</td>\n",
       "      <td>0.831216</td>\n",
       "      <td>0.0</td>\n",
       "    </tr>\n",
       "    <tr>\n",
       "      <th>Centroid 1</th>\n",
       "      <td>-0.478812</td>\n",
       "      <td>0.655187</td>\n",
       "      <td>0.110100</td>\n",
       "      <td>-0.306710</td>\n",
       "      <td>-0.052777</td>\n",
       "      <td>-0.163387</td>\n",
       "      <td>-0.201594</td>\n",
       "      <td>-0.803032</td>\n",
       "      <td>0.134668</td>\n",
       "      <td>0.153194</td>\n",
       "      <td>1.0</td>\n",
       "    </tr>\n",
       "    <tr>\n",
       "      <th>Centroid 2</th>\n",
       "      <td>-0.203725</td>\n",
       "      <td>-0.562170</td>\n",
       "      <td>-0.219681</td>\n",
       "      <td>-0.637252</td>\n",
       "      <td>0.328443</td>\n",
       "      <td>-1.052261</td>\n",
       "      <td>-0.297412</td>\n",
       "      <td>0.037558</td>\n",
       "      <td>-1.004264</td>\n",
       "      <td>-1.408813</td>\n",
       "      <td>2.0</td>\n",
       "    </tr>\n",
       "  </tbody>\n",
       "</table>\n",
       "</div>"
      ],
      "text/plain": [
       "            Average Growth Rate_GDP (current US$) par Tete  \\\n",
       "Centroid 0                                        0.692732   \n",
       "Centroid 1                                       -0.478812   \n",
       "Centroid 2                                       -0.203725   \n",
       "\n",
       "            Average Growth Rate_Agriculture, forestry, and fishing, value added (% of GDP)  \\\n",
       "Centroid 0                                          -0.347234                                \n",
       "Centroid 1                                           0.655187                                \n",
       "Centroid 2                                          -0.562170                                \n",
       "\n",
       "            Average Growth Rate_Industry (including construction), value added (% of GDP)  \\\n",
       "Centroid 0                                           0.031086                               \n",
       "Centroid 1                                           0.110100                               \n",
       "Centroid 2                                          -0.219681                               \n",
       "\n",
       "            Average Growth Rate_Émissions totales de GES (kt d’équivalent CO2) par Tete  \\\n",
       "Centroid 0                                           0.805706                             \n",
       "Centroid 1                                          -0.306710                             \n",
       "Centroid 2                                          -0.637252                             \n",
       "\n",
       "            Average Growth Rate_Alternative and nuclear energy (% of total energy use)  \\\n",
       "Centroid 0                                          -0.174286                            \n",
       "Centroid 1                                          -0.052777                            \n",
       "Centroid 2                                           0.328443                            \n",
       "\n",
       "            Average Growth Rate_Energy use (kg of oil equivalent per capita)  \\\n",
       "Centroid 0                                           0.938343                  \n",
       "Centroid 1                                          -0.163387                  \n",
       "Centroid 2                                          -1.052261                  \n",
       "\n",
       "            Coefficient de _GDP (current US$) par Tete sur _Émissions totales de GES (kt d’équivalent CO2) par Tete  \\\n",
       "Centroid 0                                           0.442830                                                         \n",
       "Centroid 1                                          -0.201594                                                         \n",
       "Centroid 2                                          -0.297412                                                         \n",
       "\n",
       "            R2 de _GDP (current US$) par Tete sur _Émissions totales de GES (kt d’équivalent CO2) par Tete  \\\n",
       "Centroid 0                                           0.890923                                                \n",
       "Centroid 1                                          -0.803032                                                \n",
       "Centroid 2                                           0.037558                                                \n",
       "\n",
       "            Coefficient de _GDP (current US$) par Tete sur _Energy use (kg of oil equivalent per capita)  \\\n",
       "Centroid 0                                           0.563425                                              \n",
       "Centroid 1                                           0.134668                                              \n",
       "Centroid 2                                          -1.004264                                              \n",
       "\n",
       "            R2 de _GDP (current US$) par Tete sur _Energy use (kg of oil equivalent per capita)  \\\n",
       "Centroid 0                                           0.831216                                     \n",
       "Centroid 1                                           0.153194                                     \n",
       "Centroid 2                                          -1.408813                                     \n",
       "\n",
       "            Cluster  \n",
       "Centroid 0      0.0  \n",
       "Centroid 1      1.0  \n",
       "Centroid 2      2.0  "
      ]
     },
     "execution_count": 496,
     "metadata": {},
     "output_type": "execute_result"
    }
   ],
   "source": [
    "A.loc[['Centroid 0', 'Centroid 1', 'Centroid 2']]"
   ]
  },
  {
   "cell_type": "code",
   "execution_count": 490,
   "metadata": {},
   "outputs": [
    {
     "data": {
      "image/png": "[encoded data removed]",
      "text/plain": [
       "<Figure size 432x288 with 1 Axes>"
      ]
     },
     "metadata": {
      "needs_background": "light"
     },
     "output_type": "display_data"
    }
   ],
   "source": [
    "A,dic,axis=get_cluster_ACP(2,data_set_4)"
   ]
  },
  {
   "cell_type": "code",
   "execution_count": 492,
   "metadata": {},
   "outputs": [
    {
     "data": {
      "text/html": [
       "<div>\n",
       "<style scoped>\n",
       "    .dataframe tbody tr th:only-of-type {\n",
       "        vertical-align: middle;\n",
       "    }\n",
       "\n",
       "    .dataframe tbody tr th {\n",
       "        vertical-align: top;\n",
       "    }\n",
       "\n",
       "    .dataframe thead th {\n",
       "        text-align: right;\n",
       "    }\n",
       "</style>\n",
       "<table border=\"1\" class=\"dataframe\">\n",
       "  <thead>\n",
       "    <tr style=\"text-align: right;\">\n",
       "      <th></th>\n",
       "      <th>Average Growth Rate_GDP (current US$) par Tete</th>\n",
       "      <th>Average Growth Rate_Agriculture, forestry, and fishing, value added (% of GDP)</th>\n",
       "      <th>Average Growth Rate_Industry (including construction), value added (% of GDP)</th>\n",
       "      <th>Average Growth Rate_Émissions totales de GES (kt d’équivalent CO2) par Tete</th>\n",
       "      <th>Average Growth Rate_Alternative and nuclear energy (% of total energy use)</th>\n",
       "      <th>Average Growth Rate_Energy use (kg of oil equivalent per capita)</th>\n",
       "      <th>Coefficient de _GDP (current US$) par Tete sur _Émissions totales de GES (kt d’équivalent CO2) par Tete</th>\n",
       "      <th>R2 de _GDP (current US$) par Tete sur _Émissions totales de GES (kt d’équivalent CO2) par Tete</th>\n",
       "      <th>Coefficient de _GDP (current US$) par Tete sur _Energy use (kg of oil equivalent per capita)</th>\n",
       "      <th>R2 de _GDP (current US$) par Tete sur _Energy use (kg of oil equivalent per capita)</th>\n",
       "      <th>Cluster</th>\n",
       "    </tr>\n",
       "  </thead>\n",
       "  <tbody>\n",
       "    <tr>\n",
       "      <th>Centroid 0</th>\n",
       "      <td>-0.395705</td>\n",
       "      <td>0.165931</td>\n",
       "      <td>-0.042108</td>\n",
       "      <td>-0.431442</td>\n",
       "      <td>0.043529</td>\n",
       "      <td>-0.513925</td>\n",
       "      <td>-0.234794</td>\n",
       "      <td>-0.437923</td>\n",
       "      <td>-0.343033</td>\n",
       "      <td>-0.455972</td>\n",
       "      <td>0.0</td>\n",
       "    </tr>\n",
       "    <tr>\n",
       "      <th>Centroid 1</th>\n",
       "      <td>0.734881</td>\n",
       "      <td>-0.308157</td>\n",
       "      <td>0.078201</td>\n",
       "      <td>0.801249</td>\n",
       "      <td>-0.080840</td>\n",
       "      <td>0.954431</td>\n",
       "      <td>0.436046</td>\n",
       "      <td>0.813286</td>\n",
       "      <td>0.637062</td>\n",
       "      <td>0.846805</td>\n",
       "      <td>1.0</td>\n",
       "    </tr>\n",
       "  </tbody>\n",
       "</table>\n",
       "</div>"
      ],
      "text/plain": [
       "            Average Growth Rate_GDP (current US$) par Tete  \\\n",
       "Centroid 0                                       -0.395705   \n",
       "Centroid 1                                        0.734881   \n",
       "\n",
       "            Average Growth Rate_Agriculture, forestry, and fishing, value added (% of GDP)  \\\n",
       "Centroid 0                                           0.165931                                \n",
       "Centroid 1                                          -0.308157                                \n",
       "\n",
       "            Average Growth Rate_Industry (including construction), value added (% of GDP)  \\\n",
       "Centroid 0                                          -0.042108                               \n",
       "Centroid 1                                           0.078201                               \n",
       "\n",
       "            Average Growth Rate_Émissions totales de GES (kt d’équivalent CO2) par Tete  \\\n",
       "Centroid 0                                          -0.431442                             \n",
       "Centroid 1                                           0.801249                             \n",
       "\n",
       "            Average Growth Rate_Alternative and nuclear energy (% of total energy use)  \\\n",
       "Centroid 0                                           0.043529                            \n",
       "Centroid 1                                          -0.080840                            \n",
       "\n",
       "            Average Growth Rate_Energy use (kg of oil equivalent per capita)  \\\n",
       "Centroid 0                                          -0.513925                  \n",
       "Centroid 1                                           0.954431                  \n",
       "\n",
       "            Coefficient de _GDP (current US$) par Tete sur _Émissions totales de GES (kt d’équivalent CO2) par Tete  \\\n",
       "Centroid 0                                          -0.234794                                                         \n",
       "Centroid 1                                           0.436046                                                         \n",
       "\n",
       "            R2 de _GDP (current US$) par Tete sur _Émissions totales de GES (kt d’équivalent CO2) par Tete  \\\n",
       "Centroid 0                                          -0.437923                                                \n",
       "Centroid 1                                           0.813286                                                \n",
       "\n",
       "            Coefficient de _GDP (current US$) par Tete sur _Energy use (kg of oil equivalent per capita)  \\\n",
       "Centroid 0                                          -0.343033                                              \n",
       "Centroid 1                                           0.637062                                              \n",
       "\n",
       "            R2 de _GDP (current US$) par Tete sur _Energy use (kg of oil equivalent per capita)  \\\n",
       "Centroid 0                                          -0.455972                                     \n",
       "Centroid 1                                           0.846805                                     \n",
       "\n",
       "            Cluster  \n",
       "Centroid 0      0.0  \n",
       "Centroid 1      1.0  "
      ]
     },
     "execution_count": 492,
     "metadata": {},
     "output_type": "execute_result"
    }
   ],
   "source": [
    "A.loc[['Centroid 0', 'Centroid 1']]"
   ]
  },
  {
   "cell_type": "markdown",
   "metadata": {},
   "source": [
    "Même si ça peut surprendre au premier abord, en supprimant les variables donnant le niveau absolu des valeurs en 2000, on obtient une structure des clusters trsè différente. Pour une fois, on n'a pas systématiquement un cluster avec les pays développé qui se forme. Au contraire, on arrive mieux à avoir des groupes apparement hétérogène, et une partition entre les pays qui ont réussi à fortement se développer d'une part (ce qui est lié a une forte hausse de l'utilisation d'énergie, polluante et autre)."
   ]
  },
  {
   "cell_type": "code",
   "execution_count": 568,
   "metadata": {},
   "outputs": [
    {
     "data": {
      "image/png": "[encoded data removed]",
      "text/plain": [
       "<Figure size 432x288 with 1 Axes>"
      ]
     },
     "metadata": {
      "needs_background": "light"
     },
     "output_type": "display_data"
    }
   ],
   "source": [
    "A,dic,axis=get_cluster_ACP(4,data_set_4, seed = 10)"
   ]
  },
  {
   "cell_type": "code",
   "execution_count": 2,
   "metadata": {},
   "outputs": [
    {
     "ename": "NameError",
     "evalue": "name 'A' is not defined",
     "output_type": "error",
     "traceback": [
      "\u001b[1;31m---------------------------------------------------------------------------\u001b[0m",
      "\u001b[1;31mNameError\u001b[0m                                 Traceback (most recent call last)",
      "\u001b[1;32m<ipython-input-2-43df833a1bc6>\u001b[0m in \u001b[0;36m<module>\u001b[1;34m\u001b[0m\n\u001b[1;32m----> 1\u001b[1;33m \u001b[0mA\u001b[0m\u001b[1;33m.\u001b[0m\u001b[0mloc\u001b[0m\u001b[1;33m[\u001b[0m\u001b[1;33m[\u001b[0m\u001b[1;34m'Centroid 0'\u001b[0m\u001b[1;33m,\u001b[0m \u001b[1;34m'Centroid 1'\u001b[0m\u001b[1;33m,\u001b[0m \u001b[1;34m'Centroid 2'\u001b[0m\u001b[1;33m,\u001b[0m \u001b[1;34m'Centroid 3'\u001b[0m\u001b[1;33m]\u001b[0m\u001b[1;33m]\u001b[0m\u001b[1;33m\u001b[0m\u001b[1;33m\u001b[0m\u001b[0m\n\u001b[0m\u001b[0;32m      2\u001b[0m \u001b[1;31m#dic\u001b[0m\u001b[1;33m\u001b[0m\u001b[1;33m\u001b[0m\u001b[1;33m\u001b[0m\u001b[0m\n",
      "\u001b[1;31mNameError\u001b[0m: name 'A' is not defined"
     ]
    }
   ],
   "source": [
    "A.loc[['Centroid 0', 'Centroid 1', 'Centroid 2', 'Centroid 3']]\n",
    "#dic"
   ]
  },
  {
   "cell_type": "markdown",
   "metadata": {},
   "source": [
    "Les clusters sont assez instables, mais on a trois clusters relativement fixe (ceux de la régression à trois clusters, et un quatrième qui alterne entre (Côte d'Ivoire, Rep DEM Congo, et Cameroun ou Haïti ,seed = 5), (Chine Corée Thailande Vietnam, seed = 3) et (Éthiopie Ghana Haïti Soudan, seed = 1)"
   ]
  },
  {
   "cell_type": "code",
   "execution_count": 594,
   "metadata": {},
   "outputs": [
    {
     "data": {
      "image/png": "[encoded data removed]",
      "text/plain": [
       "<Figure size 432x288 with 1 Axes>"
      ]
     },
     "metadata": {
      "needs_background": "light"
     },
     "output_type": "display_data"
    }
   ],
   "source": [
    "A,dic,axis=get_cluster_ACP(6,data_set_4, seed = 1)"
   ]
  },
  {
   "cell_type": "code",
   "execution_count": 597,
   "metadata": {},
   "outputs": [
    {
     "data": {
      "text/html": [
       "<div>\n",
       "<style scoped>\n",
       "    .dataframe tbody tr th:only-of-type {\n",
       "        vertical-align: middle;\n",
       "    }\n",
       "\n",
       "    .dataframe tbody tr th {\n",
       "        vertical-align: top;\n",
       "    }\n",
       "\n",
       "    .dataframe thead th {\n",
       "        text-align: right;\n",
       "    }\n",
       "</style>\n",
       "<table border=\"1\" class=\"dataframe\">\n",
       "  <thead>\n",
       "    <tr style=\"text-align: right;\">\n",
       "      <th></th>\n",
       "      <th>Average Growth Rate_GDP (current US$) par Tete</th>\n",
       "      <th>Average Growth Rate_Agriculture, forestry, and fishing, value added (% of GDP)</th>\n",
       "      <th>Average Growth Rate_Industry (including construction), value added (% of GDP)</th>\n",
       "      <th>Average Growth Rate_Émissions totales de GES (kt d’équivalent CO2) par Tete</th>\n",
       "      <th>Average Growth Rate_Alternative and nuclear energy (% of total energy use)</th>\n",
       "      <th>Average Growth Rate_Energy use (kg of oil equivalent per capita)</th>\n",
       "      <th>Coefficient de _GDP (current US$) par Tete sur _Émissions totales de GES (kt d’équivalent CO2) par Tete</th>\n",
       "      <th>R2 de _GDP (current US$) par Tete sur _Émissions totales de GES (kt d’équivalent CO2) par Tete</th>\n",
       "      <th>Coefficient de _GDP (current US$) par Tete sur _Energy use (kg of oil equivalent per capita)</th>\n",
       "      <th>R2 de _GDP (current US$) par Tete sur _Energy use (kg of oil equivalent per capita)</th>\n",
       "      <th>Cluster</th>\n",
       "    </tr>\n",
       "  </thead>\n",
       "  <tbody>\n",
       "    <tr>\n",
       "      <th>Centroid 0</th>\n",
       "      <td>-0.235284</td>\n",
       "      <td>-0.562225</td>\n",
       "      <td>-0.414949</td>\n",
       "      <td>-0.751338</td>\n",
       "      <td>0.415022</td>\n",
       "      <td>-1.059095</td>\n",
       "      <td>-0.373109</td>\n",
       "      <td>0.095271</td>\n",
       "      <td>-1.002254</td>\n",
       "      <td>-1.397274</td>\n",
       "      <td>0.0</td>\n",
       "    </tr>\n",
       "    <tr>\n",
       "      <th>Centroid 1</th>\n",
       "      <td>-0.295514</td>\n",
       "      <td>0.622673</td>\n",
       "      <td>-0.376216</td>\n",
       "      <td>-0.139134</td>\n",
       "      <td>0.041249</td>\n",
       "      <td>-0.097799</td>\n",
       "      <td>-0.045047</td>\n",
       "      <td>-0.772404</td>\n",
       "      <td>0.033580</td>\n",
       "      <td>0.253093</td>\n",
       "      <td>1.0</td>\n",
       "    </tr>\n",
       "    <tr>\n",
       "      <th>Centroid 2</th>\n",
       "      <td>0.312286</td>\n",
       "      <td>-0.194704</td>\n",
       "      <td>-0.031319</td>\n",
       "      <td>0.606781</td>\n",
       "      <td>-0.419505</td>\n",
       "      <td>0.629723</td>\n",
       "      <td>0.451611</td>\n",
       "      <td>0.763847</td>\n",
       "      <td>0.310325</td>\n",
       "      <td>0.751032</td>\n",
       "      <td>2.0</td>\n",
       "    </tr>\n",
       "    <tr>\n",
       "      <th>Centroid 3</th>\n",
       "      <td>-0.752247</td>\n",
       "      <td>0.540135</td>\n",
       "      <td>2.772155</td>\n",
       "      <td>0.643182</td>\n",
       "      <td>-0.280780</td>\n",
       "      <td>-0.822193</td>\n",
       "      <td>0.686070</td>\n",
       "      <td>-0.972361</td>\n",
       "      <td>-0.128244</td>\n",
       "      <td>-0.797362</td>\n",
       "      <td>3.0</td>\n",
       "    </tr>\n",
       "    <tr>\n",
       "      <th>Centroid 4</th>\n",
       "      <td>-1.314819</td>\n",
       "      <td>0.585873</td>\n",
       "      <td>0.607986</td>\n",
       "      <td>-3.165132</td>\n",
       "      <td>-0.905465</td>\n",
       "      <td>0.134543</td>\n",
       "      <td>-2.982142</td>\n",
       "      <td>-0.739037</td>\n",
       "      <td>1.037293</td>\n",
       "      <td>0.243486</td>\n",
       "      <td>4.0</td>\n",
       "    </tr>\n",
       "    <tr>\n",
       "      <th>Centroid 5</th>\n",
       "      <td>2.309631</td>\n",
       "      <td>-0.995488</td>\n",
       "      <td>0.296307</td>\n",
       "      <td>1.651133</td>\n",
       "      <td>0.867895</td>\n",
       "      <td>2.249977</td>\n",
       "      <td>0.405512</td>\n",
       "      <td>1.430999</td>\n",
       "      <td>1.639100</td>\n",
       "      <td>1.172000</td>\n",
       "      <td>5.0</td>\n",
       "    </tr>\n",
       "  </tbody>\n",
       "</table>\n",
       "</div>"
      ],
      "text/plain": [
       "            Average Growth Rate_GDP (current US$) par Tete  \\\n",
       "Centroid 0                                       -0.235284   \n",
       "Centroid 1                                       -0.295514   \n",
       "Centroid 2                                        0.312286   \n",
       "Centroid 3                                       -0.752247   \n",
       "Centroid 4                                       -1.314819   \n",
       "Centroid 5                                        2.309631   \n",
       "\n",
       "            Average Growth Rate_Agriculture, forestry, and fishing, value added (% of GDP)  \\\n",
       "Centroid 0                                          -0.562225                                \n",
       "Centroid 1                                           0.622673                                \n",
       "Centroid 2                                          -0.194704                                \n",
       "Centroid 3                                           0.540135                                \n",
       "Centroid 4                                           0.585873                                \n",
       "Centroid 5                                          -0.995488                                \n",
       "\n",
       "            Average Growth Rate_Industry (including construction), value added (% of GDP)  \\\n",
       "Centroid 0                                          -0.414949                               \n",
       "Centroid 1                                          -0.376216                               \n",
       "Centroid 2                                          -0.031319                               \n",
       "Centroid 3                                           2.772155                               \n",
       "Centroid 4                                           0.607986                               \n",
       "Centroid 5                                           0.296307                               \n",
       "\n",
       "            Average Growth Rate_Émissions totales de GES (kt d’équivalent CO2) par Tete  \\\n",
       "Centroid 0                                          -0.751338                             \n",
       "Centroid 1                                          -0.139134                             \n",
       "Centroid 2                                           0.606781                             \n",
       "Centroid 3                                           0.643182                             \n",
       "Centroid 4                                          -3.165132                             \n",
       "Centroid 5                                           1.651133                             \n",
       "\n",
       "            Average Growth Rate_Alternative and nuclear energy (% of total energy use)  \\\n",
       "Centroid 0                                           0.415022                            \n",
       "Centroid 1                                           0.041249                            \n",
       "Centroid 2                                          -0.419505                            \n",
       "Centroid 3                                          -0.280780                            \n",
       "Centroid 4                                          -0.905465                            \n",
       "Centroid 5                                           0.867895                            \n",
       "\n",
       "            Average Growth Rate_Energy use (kg of oil equivalent per capita)  \\\n",
       "Centroid 0                                          -1.059095                  \n",
       "Centroid 1                                          -0.097799                  \n",
       "Centroid 2                                           0.629723                  \n",
       "Centroid 3                                          -0.822193                  \n",
       "Centroid 4                                           0.134543                  \n",
       "Centroid 5                                           2.249977                  \n",
       "\n",
       "            Coefficient de _GDP (current US$) par Tete sur _Émissions totales de GES (kt d’équivalent CO2) par Tete  \\\n",
       "Centroid 0                                          -0.373109                                                         \n",
       "Centroid 1                                          -0.045047                                                         \n",
       "Centroid 2                                           0.451611                                                         \n",
       "Centroid 3                                           0.686070                                                         \n",
       "Centroid 4                                          -2.982142                                                         \n",
       "Centroid 5                                           0.405512                                                         \n",
       "\n",
       "            R2 de _GDP (current US$) par Tete sur _Émissions totales de GES (kt d’équivalent CO2) par Tete  \\\n",
       "Centroid 0                                           0.095271                                                \n",
       "Centroid 1                                          -0.772404                                                \n",
       "Centroid 2                                           0.763847                                                \n",
       "Centroid 3                                          -0.972361                                                \n",
       "Centroid 4                                          -0.739037                                                \n",
       "Centroid 5                                           1.430999                                                \n",
       "\n",
       "            Coefficient de _GDP (current US$) par Tete sur _Energy use (kg of oil equivalent per capita)  \\\n",
       "Centroid 0                                          -1.002254                                              \n",
       "Centroid 1                                           0.033580                                              \n",
       "Centroid 2                                           0.310325                                              \n",
       "Centroid 3                                          -0.128244                                              \n",
       "Centroid 4                                           1.037293                                              \n",
       "Centroid 5                                           1.639100                                              \n",
       "\n",
       "            R2 de _GDP (current US$) par Tete sur _Energy use (kg of oil equivalent per capita)  \\\n",
       "Centroid 0                                          -1.397274                                     \n",
       "Centroid 1                                           0.253093                                     \n",
       "Centroid 2                                           0.751032                                     \n",
       "Centroid 3                                          -0.797362                                     \n",
       "Centroid 4                                           0.243486                                     \n",
       "Centroid 5                                           1.172000                                     \n",
       "\n",
       "            Cluster  \n",
       "Centroid 0      0.0  \n",
       "Centroid 1      1.0  \n",
       "Centroid 2      2.0  \n",
       "Centroid 3      3.0  \n",
       "Centroid 4      4.0  \n",
       "Centroid 5      5.0  "
      ]
     },
     "execution_count": 597,
     "metadata": {},
     "output_type": "execute_result"
    }
   ],
   "source": [
    "A.loc[['Centroid 0', 'Centroid 1', 'Centroid 2', 'Centroid 3', 'Centroid 4', 'Centroid 5']]"
   ]
  },
  {
   "cell_type": "code",
   "execution_count": 1,
   "metadata": {},
   "outputs": [],
   "source": [
    "#dic"
   ]
  },
  {
   "cell_type": "markdown",
   "metadata": {},
   "source": [
    "A six clusters, on voit qu'il a tendance à identifier les six clusters évoqués ci-dessus, mais ils ne ont pas très robuste d'une fois sur l'autre. C'est sans doute lié à un problème de taille de notre échantillon, mais ça semble assez pertinent. Il est toutefois possible que notre échantillon soit trop petit, et donne trop de poids à ces quelques pays.Ici sela donne, avec par exemple la seed 1 qui donne les résultats indiqués ci-dessus.\n",
    "\n",
    "Un cluster avec les pays qui sont assez développé (cluster 0). L'émission de GES et l'utilisation d'énergie ne sont pas liés à la croissance, qui est plus faible que dans les autres pays. Le rythme de corissance de l'utilisation de l'énergie et des émissions de Ges est aussi plus faible, alors que l'augmentation des énergies alternatives est au contraire plus importante. Ce sont également des pays où l'industrie et l'agriculture ne se développent que peu, sans doute parce que l'économie est déjà depuis un moment orientée vers le tertiaire.\n",
    "\n",
    "Un deuxième cluster avec des pays assez développé (cluster 1), mais qui ne sont pas de premier plan. Ils sont assez dans la moyenne, leur principale particularité étant de rester plus agricole que les autres. C'est peut-être pour cela que leur croissance dépend très peu de l'énergie consommée, avec un R2 associé sensiblement plus faible que la moyenne.\n",
    "\n",
    "Le troisième cluster avec des pays en cours de rattrapage (cluster 2). Ils possèdent une croissance supérieure à la moyenne, ainsi qu'une croissance de l'énergie produite et des émissions de gaz à effet de serre. Ces pays possèdent une forte dépendance de leurs PIB à leurs émissions de GES, et une forte dépendance de leurs PIB à leurs productions d'énergie.\n",
    "\n",
    "Le quatrième cluster relie des pays plutôt pauvre (cluster 3). Leurs principales caractéristiques sont un faible taux de criossance, une croissance notable du secteur agricole, un important taux de développement du secteur industriel (bien que celui-ci parte de très bas), un developpement énergétique en dessous de la moyenne. Leur croissance économique est quant à elle complètement décorrélé de leurs émissions ou de leur développement énergétique. Ce cluster regroupe globalement les pays présentant des problèmes de développement importants, reposant principalement sur l'agriculture.\n",
    "\n",
    "Le cinquième cluster (cluster 4) est un cluster assez peoche du précédent. Il regroupe des pays ayant un faible taux de croissance, un developpement notable des secteurs industriels et agricoles. Ce cluster se distingue par sa faible émission de GES, un développement énergétique relativement important, et une légère corrélation du PIB avec la production énergétique. Il ne contient toutefois que deux à trois éléments.\n",
    "\n",
    "Ces deux clusters sont à mettre en perspective avec le fait qu'il nous manque beaucoup de données sur les pays les plus pauvres, et que par conséquent peu de ces pays sont représentés.\n",
    "\n",
    "Le sixième cluster (cluster 5) comprend des pays à forte croissance. Ils sont également caractérisés par une décroissance de la part du secteur agricole, une croissance des secteurs industriel et énergétique, ainsi qu'une augmentation de la part d'énergie verte et nucléaire dans leur production. Cette forte croissance est liée à leurs croissances énergétiques mais aussi à leurs fortes émissions de GES.\n",
    "\n"
   ]
  },
  {
   "cell_type": "code",
   "execution_count": null,
   "metadata": {},
   "outputs": [],
   "source": []
  }
 ],
 "metadata": {
  "kernelspec": {
   "display_name": "Python 3",
   "language": "python",
   "name": "python3"
  },
  "language_info": {
   "codemirror_mode": {
    "name": "ipython",
    "version": 3
   },
   "file_extension": ".py",
   "mimetype": "text/x-python",
   "name": "python",
   "nbconvert_exporter": "python",
   "pygments_lexer": "ipython3",
   "version": "3.8.5"
  }
 },
 "nbformat": 4,
 "nbformat_minor": 2
}
