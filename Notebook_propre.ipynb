{
 "cells": [
  {
   "cell_type": "markdown",
   "metadata": {},
   "source": [
    "# Recherche de différents sentiers de croissance des économies en fonction de leurs composantes polluantes"
   ]
  },
  {
   "cell_type": "markdown",
   "metadata": {},
   "source": [
    "## Introduction :\n",
    "\n",
    "\"Je suis pour une société écologique mais pas Amish\" était les mots d'Emmmanuel Macron dés 2016 pour décrire son programme de campagne et son idéal politique de société. Cela fait écho à de nombreux débats entre partisan de la décroissance économique et partisan de la possibilité d'une croissance infinie sur des sentiers moins carbonés et indépendants de la consommation d'énergies non renouvelables. \n",
    "\n",
    "A un niveau plus académique, Jean Marc Jancovici, enseignant à Mines Paris Tech et membre du comité scientifique de la fondation Nicolas Hulot défend l'impossibilité d'une croissance infinie dans un monde finie dans le sillage de Dennis et Robert Meadows dans leur rapport de *Les limites de la croissance* de 1972 pour le club de Rome. Celui-ci, au travers de diverses simulations, mettait déjà en avant les difficultés que posait une croissance basée sur sur des énergies non-renouvelables et infini dans un monde qui pour sa part est fini. \n",
    "\n",
    "Il est donc souvent difficile de trancher entre ces deux conclusions radicalement différentes, et nous nous proposons donc avec ce projet d'apporter notre modeste pierre à l'édifice  pour distinguer les différents chemins de croissance possibles pour les économies développés comme pour lees économies en développement. "
   ]
  },
  {
   "cell_type": "code",
   "execution_count": null,
   "metadata": {},
   "outputs": [],
   "source": [
    "import pandas as pd\n",
    "import numpy as np\n",
    "import matplotlib.pyplot as plt\n",
    "import seaborn as sns\n",
    "from sklearn.preprocessing import StandardScaler\n",
    "import re\n",
    "import statsmodels.api as sm"
   ]
  },
  {
   "cell_type": "markdown",
   "metadata": {},
   "source": [
    "# Importation des bases et clearing :\n",
    "\n",
    "Afin de pouvoir récpondre aux différentes questions posées, nous avons récupérer des données de la banque mondiale. Cela nous permet en effet d'avoir un panel d'indicateur relativement large sur lesquels mener les analyses, avec"
   ]
  },
  {
   "cell_type": "code",
   "execution_count": 1,
   "metadata": {},
   "outputs": [
    {
     "ename": "NameError",
     "evalue": "name 'pd' is not defined",
     "output_type": "error",
     "traceback": [
      "\u001b[1;31m---------------------------------------------------------------------------\u001b[0m",
      "\u001b[1;31mNameError\u001b[0m                                 Traceback (most recent call last)",
      "\u001b[1;32m<ipython-input-1-f7f34a59a329>\u001b[0m in \u001b[0;36m<module>\u001b[1;34m\u001b[0m\n\u001b[1;32m----> 1\u001b[1;33m \u001b[0magri_forest\u001b[0m \u001b[1;33m=\u001b[0m \u001b[0mpd\u001b[0m\u001b[1;33m.\u001b[0m\u001b[0mread_csv\u001b[0m\u001b[1;33m(\u001b[0m\u001b[1;34m\"chiffre_agri_foret_peche.csv\"\u001b[0m\u001b[1;33m)\u001b[0m\u001b[1;33m\u001b[0m\u001b[1;33m\u001b[0m\u001b[0m\n\u001b[0m\u001b[0;32m      2\u001b[0m \u001b[0maugment_pib\u001b[0m \u001b[1;33m=\u001b[0m \u001b[0mpd\u001b[0m\u001b[1;33m.\u001b[0m\u001b[0mread_csv\u001b[0m\u001b[1;33m(\u001b[0m\u001b[1;34m\"chiffre_augment_pib.csv\"\u001b[0m\u001b[1;33m)\u001b[0m\u001b[1;33m\u001b[0m\u001b[1;33m\u001b[0m\u001b[0m\n\u001b[0;32m      3\u001b[0m \u001b[0menergie_utilisee\u001b[0m \u001b[1;33m=\u001b[0m \u001b[0mpd\u001b[0m\u001b[1;33m.\u001b[0m\u001b[0mread_csv\u001b[0m\u001b[1;33m(\u001b[0m\u001b[1;34m\"chiffre_energie_utilise.csv\"\u001b[0m\u001b[1;33m)\u001b[0m\u001b[1;33m\u001b[0m\u001b[1;33m\u001b[0m\u001b[0m\n\u001b[0;32m      4\u001b[0m \u001b[0memission_GES\u001b[0m \u001b[1;33m=\u001b[0m \u001b[0mpd\u001b[0m\u001b[1;33m.\u001b[0m\u001b[0mread_csv\u001b[0m\u001b[1;33m(\u001b[0m\u001b[1;34m\"chiffre_GES_total.csv\"\u001b[0m\u001b[1;33m)\u001b[0m\u001b[1;33m\u001b[0m\u001b[1;33m\u001b[0m\u001b[0m\n\u001b[0;32m      5\u001b[0m \u001b[0mnucle_total\u001b[0m \u001b[1;33m=\u001b[0m \u001b[0mpd\u001b[0m\u001b[1;33m.\u001b[0m\u001b[0mread_csv\u001b[0m\u001b[1;33m(\u001b[0m\u001b[1;34m'chiffre_nucle_total_nuke_total_fossile.csv'\u001b[0m\u001b[1;33m)\u001b[0m\u001b[1;33m\u001b[0m\u001b[1;33m\u001b[0m\u001b[0m\n",
      "\u001b[1;31mNameError\u001b[0m: name 'pd' is not defined"
     ]
    }
   ],
   "source": [
    "agri_forest = pd.read_csv(\"chiffre_agri_foret_peche.csv\")\n",
    "augment_pib = pd.read_csv(\"chiffre_augment_pib.csv\")\n",
    "energie_utilisee = pd.read_csv(\"chiffre_energie_utilise.csv\")\n",
    "emission_GES = pd.read_csv(\"chiffre_GES_total.csv\")\n",
    "nucle_total = pd.read_csv('chiffre_nucle_total_nuke_total_fossile.csv')\n",
    "part_indus_construc = pd.read_csv('chiffre_part_indus_construc.csv')\n",
    "pib = pd.read_csv(\"chiffre_pib.csv\")\n",
    "pop = pd.read_csv('chiffre_population.csv')\n",
    "\n",
    "df_list  = [agri_forest, augment_pib, energie_utilisee, emission_GES, nucle_total, part_indus_construc, pib, pop]"
   ]
  },
  {
   "cell_type": "markdown",
   "metadata": {},
   "source": [
    "### On fusionne les dataframe pour aggréger les indicateurs :\n",
    "\n"
   ]
  },
  {
   "cell_type": "code",
   "execution_count": null,
   "metadata": {},
   "outputs": [],
   "source": [
    "#On fait ici la modif sur tous les df à l'aide d'une boucle for, \n",
    "for df in df_list :\n",
    "    df['Pays_indic'] = df['Country Code'].str[:3] + '_' + df['Indicator Name'].str[:99]\n",
    "#part_indus_construc['Pays_indic']\n",
    "\n",
    "df = pd.concat(df_list)\n",
    "df = df.sort_values('Pays_indic').set_index('Pays_indic')\n",
    "df.head()"
   ]
  },
  {
   "cell_type": "code",
   "execution_count": null,
   "metadata": {},
   "outputs": [],
   "source": []
  },
  {
   "cell_type": "code",
   "execution_count": null,
   "metadata": {},
   "outputs": [],
   "source": []
  },
  {
   "cell_type": "code",
   "execution_count": null,
   "metadata": {},
   "outputs": [],
   "source": []
  },
  {
   "cell_type": "code",
   "execution_count": null,
   "metadata": {},
   "outputs": [],
   "source": []
  },
  {
   "cell_type": "code",
   "execution_count": null,
   "metadata": {},
   "outputs": [],
   "source": []
  }
 ],
 "metadata": {
  "kernelspec": {
   "display_name": "Python 3",
   "language": "python",
   "name": "python3"
  },
  "language_info": {
   "codemirror_mode": {
    "name": "ipython",
    "version": 3
   },
   "file_extension": ".py",
   "mimetype": "text/x-python",
   "name": "python",
   "nbconvert_exporter": "python",
   "pygments_lexer": "ipython3",
   "version": "3.7.4"
  }
 },
 "nbformat": 4,
 "nbformat_minor": 2
}
