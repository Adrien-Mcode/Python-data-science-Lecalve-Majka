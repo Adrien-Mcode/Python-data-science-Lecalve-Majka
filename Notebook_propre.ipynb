{
 "cells": [
  {
   "cell_type": "markdown",
   "metadata": {},
   "source": [
    "# Recherche de différents sentiers de croissance des économies en fonction de leurs composantes polluantes"
   ]
  },
  {
   "cell_type": "markdown",
   "metadata": {},
   "source": [
    "## Introduction :\n",
    "\n",
    "\"Je suis pour une société écologique mais pas Amish\" était les mots d'Emmmanuel Macron dés 2016 pour décrire son programme de campagne et son idéal politique de société. Cela fait écho à de nombreux débats entre partisan de la décroissance économique et partisan de la possibilité d'une croissance infinie sur des sentiers moins carbonés et indépendants de la consommation d'énergies non renouvelables. \n",
    "\n",
    "A un niveau plus académique, Jean Marc Jancovici, enseignant à Mines Paris Tech et membre du comité scientifique de la fondation Nicolas Hulot défend l'impossibilité d'une croissance infinie dans un monde finie dans le sillage de Dennis et Robert Meadows dans leur rapport de *Les limites de la croissance* de 1972 pour le club de Rome. Celui-ci, au travers de diverses simulations, mettait déjà en avant les difficultés que posait une croissance basée sur sur des énergies non-renouvelables et infini dans un monde qui pour sa part est fini. Il est donc souvent difficile de trancher entre ces deux conclusions radicalement différentes, et nous nous proposons donc avec ce projet d'apporter notre modeste pierre à l'édifice  pour distinguer les différents chemins de croissance possibles pour les économies développés comme pour les économies en développement. Nous allons pour cela exploiter les données de la banque mondiale, disponibles gratuitement et librement sur https://data.worldbank.org/indicator. Cela nous fournit une source de donnée fiable et bien renseignée.\n",
    "\n",
    "Notre objectif est d'étudier la période s'étalant de 1980 aux années 2010, afin de distinguer et caractériser les différentes trajectoires des économies, notamment du point de vue de l'utilisation et de la dépendance énergétique. Nous chercherons en particulier à voir si il est possible de distinguer des pays plus responsables du point de vue écologique qui arrivent à avoir un bon développement économique. Dans ce cas, on pourrait chercher à caractériser grossièrement la structure de leur économie, notamment en cherchant les secteurs d'activité dynamiques. \n",
    "\n",
    "Après avoir fusionné nos données et construit des indicateurs pertinents pour comparer les économies, nous utiliseront des méthodes de clustering afin de regrouper les pays ayant des sentiers de développement proches. Nous aurons alors une idée des différentes trajectoires des économies et des consommations d'énergie utilisées durant cette période, et nous pourront voir si des sentiers de croissance verte se dégagent.\n",
    "\n",
    "\n",
    "\n",
    "\n",
    "## Conclusion\n",
    "\n",
    "Après avoir analysé nos données, nous avons pu distinguer différentes trajectoires typiques de l'économie au cours de cette période. Les pays ayant eu une croissance économique forte sont ceux qui ont fortement augmenté leur consommation d'énergie, et c'est souvent passé par une forte augmentation des émissions de gaz à effet de serre. On retrouve sans surprise des pays comme la Chine ou la Corée dans ce groupe. Cette trajectoire semble être celle qu'un autre groupe de pays a suivi, bien que de manière moins marquée. On retrouve dans ce second groupe des pays comme la Turquie et le Chili, avec des tendances semblables mais moins pronocées. \n",
    "\n",
    "A l'opposé, on retrouve des pays comme la Suisse ou les pays scandinaves, à la croissance plus lente quoique dans la moyenne. Ces pays ont la particularité d'avoir un rythme d'augmentation de la consommation d'énergie par habitant plus faible, voire négatif pour certains. Ils ont aussi développé des énergies propres, notamment des énergies renouvelables sur la période. Ce groupe de pays apparait de manière plus marquée encore lorsque l'on prend en compte leur niveau de développement en 2000, en plus de leur trajectoire. Dans ce cadre, on retrouve que les économies développées sont très similaires, et s'opposent fortement aux pays en développement. \n",
    "\n",
    "L'analyse des trajectoires seules nous a permi de se débarasser de ce biais, et d'obtenir un rapprochement assez peu intuitif entre certains pays développés et des pays peu développés. Par exemple, certains pays comme l'Autriche ou l'Italie se retrouvent souvent rapprochés de pays moins développés comme le Pakistan. Si l'on étudie en effet que les tendances des évolutions des paramètres que nous avons retenus, il s'agit de pays similaires. La croissance est relativement faible, comme l'augmentation de l'utilisation d'énergie et des émissions de gaz à effet de serre. Ces composantes sont assez liées, et la part des énergies propres y est très faible et peu développée. Il s'agit en fait de pays peu dynamiques, qui soit sont déjà développés sans être compétitif, soit n'arrivent pas vraiment à se développer économiquement.\n",
    "\n",
    "On peut regretter que le faible nombre de pays sur lesquels nous avons tous nos indicateurs rend nos résultats assez peu robustes. Nous n'avons notamment pas réussi à identifier de tendance permettant de vraiment ditinguer entre les pays les moins avancés. Ces derniers étaient souvent regroupés ensemble, mais dans un cluster peu robuste. Il est possible qu'avec des données plus exhaustives, on aurait pu distinguer plus finement entre ces trajectoires. Mais nous n'avons réussi à obtenir de résultats robustes que sur des trajectoires très atypiques, qui ne concernent pas la majorité des pays. \n",
    "\n",
    "La conclusion que nous pouvons faire de cettte analyse est qu'il n'y a pas eu de croissance dynamique sans forte augmentation de la consommation d'énergie par habitant, cette dernière s'accompagnant de fortes émissions de gaz à effet de serre. Cependant, les pays développés ont tendance à davantage développer des énergies plus propres (ce qui inclue par construction l'énergie nucléaire), et à limiter voire réduire leur empreinte carbone. Cela est souvent concomittant à un ralentissement du dynamisme économique. Mais s'il n'est pas possible de se prononcer sur la possibilité d'une croissance perpétuelle verte, on peut dire que bien que le développement des pays semble passer par de la pollution, ce modèle pollueur semble s'amenuiser chez les pays développés. Ainsi, il semble possible que toutes les économies effectuent une transition verte, a minima lorsqu'elles atteignent un niveau de développement économique important. De plus, il parait probable que le développement des énergies propres soit plus aisé aujourd'hui qu'au début des années 1980, du fait des innovations scientifiques. Il s'agit là d'un phénomène que nous ne pouvions par construction pas détecter, mais qui peut nous permettre d'être optimiste à propos du développement des pays émergeants, et de sa soutenabilité."
   ]
  },
  {
   "cell_type": "code",
   "execution_count": null,
   "metadata": {},
   "outputs": [],
   "source": [
    "import pandas as pd\n",
    "import numpy as np\n",
    "import matplotlib.pyplot as plt\n",
    "import seaborn as sns\n",
    "from sklearn.preprocessing import StandardScaler\n",
    "import re\n",
    "import statsmodels.api as sm"
   ]
  },
  {
   "cell_type": "markdown",
   "metadata": {},
   "source": [
    "# Importation des bases et clearing :\n",
    "\n",
    "Afin de pouvoir récpondre aux différentes questions posées, nous avons récupérer des données de la banque mondiale. Cela nous permet en effet d'avoir un panel d'indicateur relativement large sur lesquels mener les analyses, avec"
   ]
  },
  {
   "cell_type": "code",
   "execution_count": 1,
   "metadata": {},
   "outputs": [
    {
     "ename": "NameError",
     "evalue": "name 'pd' is not defined",
     "output_type": "error",
     "traceback": [
      "\u001b[1;31m---------------------------------------------------------------------------\u001b[0m",
      "\u001b[1;31mNameError\u001b[0m                                 Traceback (most recent call last)",
      "\u001b[1;32m<ipython-input-1-f7f34a59a329>\u001b[0m in \u001b[0;36m<module>\u001b[1;34m\u001b[0m\n\u001b[1;32m----> 1\u001b[1;33m \u001b[0magri_forest\u001b[0m \u001b[1;33m=\u001b[0m \u001b[0mpd\u001b[0m\u001b[1;33m.\u001b[0m\u001b[0mread_csv\u001b[0m\u001b[1;33m(\u001b[0m\u001b[1;34m\"chiffre_agri_foret_peche.csv\"\u001b[0m\u001b[1;33m)\u001b[0m\u001b[1;33m\u001b[0m\u001b[1;33m\u001b[0m\u001b[0m\n\u001b[0m\u001b[0;32m      2\u001b[0m \u001b[0maugment_pib\u001b[0m \u001b[1;33m=\u001b[0m \u001b[0mpd\u001b[0m\u001b[1;33m.\u001b[0m\u001b[0mread_csv\u001b[0m\u001b[1;33m(\u001b[0m\u001b[1;34m\"chiffre_augment_pib.csv\"\u001b[0m\u001b[1;33m)\u001b[0m\u001b[1;33m\u001b[0m\u001b[1;33m\u001b[0m\u001b[0m\n\u001b[0;32m      3\u001b[0m \u001b[0menergie_utilisee\u001b[0m \u001b[1;33m=\u001b[0m \u001b[0mpd\u001b[0m\u001b[1;33m.\u001b[0m\u001b[0mread_csv\u001b[0m\u001b[1;33m(\u001b[0m\u001b[1;34m\"chiffre_energie_utilise.csv\"\u001b[0m\u001b[1;33m)\u001b[0m\u001b[1;33m\u001b[0m\u001b[1;33m\u001b[0m\u001b[0m\n\u001b[0;32m      4\u001b[0m \u001b[0memission_GES\u001b[0m \u001b[1;33m=\u001b[0m \u001b[0mpd\u001b[0m\u001b[1;33m.\u001b[0m\u001b[0mread_csv\u001b[0m\u001b[1;33m(\u001b[0m\u001b[1;34m\"chiffre_GES_total.csv\"\u001b[0m\u001b[1;33m)\u001b[0m\u001b[1;33m\u001b[0m\u001b[1;33m\u001b[0m\u001b[0m\n\u001b[0;32m      5\u001b[0m \u001b[0mnucle_total\u001b[0m \u001b[1;33m=\u001b[0m \u001b[0mpd\u001b[0m\u001b[1;33m.\u001b[0m\u001b[0mread_csv\u001b[0m\u001b[1;33m(\u001b[0m\u001b[1;34m'chiffre_nucle_total_nuke_total_fossile.csv'\u001b[0m\u001b[1;33m)\u001b[0m\u001b[1;33m\u001b[0m\u001b[1;33m\u001b[0m\u001b[0m\n",
      "\u001b[1;31mNameError\u001b[0m: name 'pd' is not defined"
     ]
    }
   ],
   "source": [
    "agri_forest = pd.read_csv(\"chiffre_agri_foret_peche.csv\")\n",
    "augment_pib = pd.read_csv(\"chiffre_augment_pib.csv\")\n",
    "energie_utilisee = pd.read_csv(\"chiffre_energie_utilise.csv\")\n",
    "emission_GES = pd.read_csv(\"chiffre_GES_total.csv\")\n",
    "nucle_total = pd.read_csv('chiffre_nucle_total_nuke_total_fossile.csv')\n",
    "part_indus_construc = pd.read_csv('chiffre_part_indus_construc.csv')\n",
    "pib = pd.read_csv(\"chiffre_pib.csv\")\n",
    "pop = pd.read_csv('chiffre_population.csv')\n",
    "\n",
    "df_list  = [agri_forest, augment_pib, energie_utilisee, emission_GES, nucle_total, part_indus_construc, pib, pop]"
   ]
  },
  {
   "cell_type": "markdown",
   "metadata": {},
   "source": [
    "### On fusionne les dataframe pour aggréger les indicateurs :\n",
    "\n"
   ]
  },
  {
   "cell_type": "code",
   "execution_count": null,
   "metadata": {},
   "outputs": [],
   "source": [
    "#On fait ici la modif sur tous les df à l'aide d'une boucle for, \n",
    "for df in df_list :\n",
    "    df['Pays_indic'] = df['Country Code'].str[:3] + '_' + df['Indicator Name'].str[:99]\n",
    "#part_indus_construc['Pays_indic']\n",
    "\n",
    "df = pd.concat(df_list)\n",
    "df = df.sort_values('Pays_indic').set_index('Pays_indic')\n",
    "df.head()"
   ]
  },
  {
   "cell_type": "code",
   "execution_count": null,
   "metadata": {},
   "outputs": [],
   "source": []
  },
  {
   "cell_type": "code",
   "execution_count": null,
   "metadata": {},
   "outputs": [],
   "source": []
  },
  {
   "cell_type": "code",
   "execution_count": null,
   "metadata": {},
   "outputs": [],
   "source": []
  },
  {
   "cell_type": "code",
   "execution_count": null,
   "metadata": {},
   "outputs": [],
   "source": []
  },
  {
   "cell_type": "code",
   "execution_count": null,
   "metadata": {},
   "outputs": [],
   "source": []
  }
 ],
 "metadata": {
  "kernelspec": {
   "display_name": "Python 3",
   "language": "python",
   "name": "python3"
  },
  "language_info": {
   "codemirror_mode": {
    "name": "ipython",
    "version": 3
   },
   "file_extension": ".py",
   "mimetype": "text/x-python",
   "name": "python",
   "nbconvert_exporter": "python",
   "pygments_lexer": "ipython3",
   "version": "3.7.3"
  }
 },
 "nbformat": 4,
 "nbformat_minor": 2
}
