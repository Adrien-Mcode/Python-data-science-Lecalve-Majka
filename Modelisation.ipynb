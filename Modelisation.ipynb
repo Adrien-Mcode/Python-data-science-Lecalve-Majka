{
 "cells": [
  {
   "cell_type": "code",
   "execution_count": 108,
   "metadata": {},
   "outputs": [],
   "source": [
    "import pandas as pd\n",
    "import numpy as np\n",
    "import matplotlib.pyplot as plt\n",
    "import seaborn as sns\n",
    "from sklearn.preprocessing import StandardScaler\n",
    "import re\n",
    "import statsmodels.api as sm"
   ]
  },
  {
   "cell_type": "code",
   "execution_count": 109,
   "metadata": {},
   "outputs": [],
   "source": [
    "df1 = pd.read_csv(\"Complete_Data.csv\")\n",
    "df1 = df1.set_index('Pays_indic')"
   ]
  },
  {
   "cell_type": "markdown",
   "metadata": {},
   "source": [
    "On crée ici une liste des codes de pays, et un dictionnaire avec le nom des variables"
   ]
  },
  {
   "cell_type": "code",
   "execution_count": 178,
   "metadata": {},
   "outputs": [],
   "source": [
    "code_list = []\n",
    "for i in df1['Country Code']:\n",
    "    if i not in code_list : \n",
    "        code_list.append(i)\n",
    "code_list.pop(-1)\n",
    "\n",
    "dic = {}\n",
    "dic['pib'] = '_GDP (current US$)'\n",
    "dic['pib_hab'] = '_GDP (current US$) par Tete'\n",
    "dic['pib_growth'] = '_GDP growth (annual %)'\n",
    "dic['pib_hab_growth'] = '_Croissance_GDP (current US$) par Tete (pourcent)'\n",
    "dic['pop'] = '_Population, total'\n",
    "dic['ges'] = '_Émissions totales de GES (kt d’équivalent CO2)'\n",
    "dic['ges_growth'] = '_Croissance_Émissions totales de GES (kt d’équivalent CO2) (pourcent)\t'\n",
    "dic['ges_hab'] = '_Émissions totales de GES (kt d’équivalent CO2) par Tete'\n",
    "dic['ges_hab_growth'] = '_Croissance_Émissions totales de GES (kt d’équivalent CO2) par Tete (pourcent)'\n",
    "dic['industry'] = '_Industry (including construction), value added (% of GDP)'\n",
    "dic['agr'] = '_Agriculture, forestry, and fishing, value added (% of GDP)'\n",
    "dic['clean_nrj'] = '_Alternative and nuclear energy (% of total energy use)'\n",
    "dic['nrj_hab'] = '_Energy use (kg of oil equivalent per capita)'\n",
    "dic['nrj_hab_growth'] = '_Croissance_Energy use (kg of oil equivalent per capita) (pourcent)'"
   ]
  },
  {
   "cell_type": "markdown",
   "metadata": {},
   "source": [
    "On va chercher à créer la base avec les données qui nous intéressent pour la modélisation"
   ]
  },
  {
   "cell_type": "code",
   "execution_count": 179,
   "metadata": {},
   "outputs": [],
   "source": [
    "def regress (country_code, regresseur, regresse) :\n",
    "    \n",
    "    if country_code + regresse in df1.index and country_code + regresseur in df1.index :\n",
    "        interm= pd.DataFrame(df1.loc[[country_code + regresse, country_code + regresseur]]).drop(['Country Name',\n",
    "        'Country Code','Indicator Name'],axis =1).dropna(axis = 1)\n",
    "\n",
    "        if interm.shape != (2,0): \n",
    "            x = sm.add_constant(interm.loc[country_code + regresseur].to_numpy())\n",
    "            y = interm.loc[country_code + regresse].to_numpy()\n",
    "\n",
    "            model = sm.OLS(y,x,'drop')\n",
    "            results = model.fit()\n",
    "\n",
    "            r2 = results.rsquared\n",
    "            coef = results.params[1]\n",
    "\n",
    "            return coef, r2\n",
    "    \n",
    "    else : return\n",
    "    \n",
    "def get_coeff (regresse, regresseur) :    \n",
    "    dico = {}\n",
    "    for code in code_list:\n",
    "        dico[code] = regress(code, regresse, regresseur)\n",
    "        if dico[code] == None:\n",
    "            dico.pop(code)\n",
    "\n",
    "    regress_df = pd.DataFrame(dico.values(), dico.keys(), ['Coefficient de ' + regresse + ' sur ' + regresseur,\n",
    "                                                         'R2 de ' + regresse + ' sur ' + regresseur])\n",
    "    return regress_df\n",
    "\n",
    "\n",
    "def get_2000(var):\n",
    "    dic = {}\n",
    "    \n",
    "    for country_code in code_list : \n",
    "        if country_code + var in df1.index :\n",
    "            dic[country_code] = df1.loc[country_code + var][23]\n",
    "    \n",
    "    temp_df = pd.DataFrame(dic.values(), dic.keys(), ['2000' + var])\n",
    "    \n",
    "    return(temp_df)\n",
    "\n",
    "def get_average_growth_rate(var) :\n",
    "    dic = {}\n",
    "    \n",
    "    for country_code in code_list : \n",
    "        if country_code + var in df1.index :    \n",
    "            values = list(df1.loc[country_code + var][3:])\n",
    "            values = [x for x in values if ~np.isnan(x)]\n",
    "            initial_value = values[0]\n",
    "            final_value = values[len(values)-1]\n",
    "            variation_rate = (100 * ((final_value / initial_value))**(1/len(values))) - 100\n",
    "            if variation_rate != np.inf :\n",
    "                dic[country_code] = variation_rate\n",
    "    \n",
    "    temp_df = pd.DataFrame(dic.values(), dic.keys(), ['Average Growth Rate' + var])\n",
    "    \n",
    "    return(temp_df)"
   ]
  },
  {
   "cell_type": "code",
   "execution_count": 180,
   "metadata": {},
   "outputs": [
    {
     "name": "stderr",
     "output_type": "stream",
     "text": [
      "C:\\Users\\Titouan\\Anaconda3\\lib\\site-packages\\ipykernel_launcher.py:53: RuntimeWarning: divide by zero encountered in double_scalars\n",
      "C:\\Users\\Titouan\\Anaconda3\\lib\\site-packages\\ipykernel_launcher.py:53: RuntimeWarning: invalid value encountered in double_scalars\n"
     ]
    }
   ],
   "source": [
    "data = get_average_growth_rate(dic['pib_hab'])\n",
    "\n",
    "data_list = [get_average_growth_rate(dic['agr']), get_average_growth_rate(dic['industry']), \n",
    "            get_average_growth_rate(dic['ges_hab']), get_average_growth_rate(dic['clean_nrj']),\n",
    "            get_average_growth_rate(dic['nrj_hab']), \n",
    "            get_2000(dic['pib_hab']), get_2000(dic['agr']), get_2000(dic['industry']),\n",
    "            get_2000(dic['ges_hab']), get_2000(dic['clean_nrj']), get_2000(dic['nrj_hab']), \n",
    "            get_coeff(dic['pib_hab'], dic['ges_hab']), get_coeff(dic['pib_hab_growth'], dic['ges_hab_growth']),\n",
    "            get_coeff(dic['pib_hab'], dic['nrj_hab']), get_coeff(dic['pib_hab_growth'], dic['nrj_hab_growth'])]\n",
    "for i in data_list :\n",
    "    data = data.merge(i, how = 'outer', left_index = True, right_index = True)\n"
   ]
  },
  {
   "cell_type": "code",
   "execution_count": 189,
   "metadata": {},
   "outputs": [
    {
     "data": {
      "text/plain": [
       "(171, 20)"
      ]
     },
     "execution_count": 189,
     "metadata": {},
     "output_type": "execute_result"
    }
   ],
   "source": [
    "data.shape"
   ]
  },
  {
   "cell_type": "code",
   "execution_count": 183,
   "metadata": {},
   "outputs": [
    {
     "data": {
      "text/plain": [
       "(64, 20)"
      ]
     },
     "execution_count": 183,
     "metadata": {},
     "output_type": "execute_result"
    }
   ],
   "source": [
    "test = data.dropna(axis = 0)\n",
    "test.shape"
   ]
  },
  {
   "cell_type": "code",
   "execution_count": 191,
   "metadata": {},
   "outputs": [
    {
     "data": {
      "text/plain": [
       "['ARB',\n",
       " 'ARG',\n",
       " 'AUS',\n",
       " 'AUT',\n",
       " 'BGD',\n",
       " 'BGR',\n",
       " 'BOL',\n",
       " 'BRA',\n",
       " 'BWA',\n",
       " 'CHE',\n",
       " 'CHL',\n",
       " 'CHN',\n",
       " 'CIV',\n",
       " 'CMR',\n",
       " 'COG',\n",
       " 'COL',\n",
       " 'CRI',\n",
       " 'CUB',\n",
       " 'DNK',\n",
       " 'DOM',\n",
       " 'ECU',\n",
       " 'EGY',\n",
       " 'ETH',\n",
       " 'FIN',\n",
       " 'FRA',\n",
       " 'GAB',\n",
       " 'GBR',\n",
       " 'GHA',\n",
       " 'GTM',\n",
       " 'HND',\n",
       " 'HTI',\n",
       " 'IDN',\n",
       " 'IDX',\n",
       " 'IND',\n",
       " 'ITA',\n",
       " 'KEN',\n",
       " 'KOR',\n",
       " 'LKA',\n",
       " 'MAR',\n",
       " 'MEX',\n",
       " 'MIC',\n",
       " 'MYS',\n",
       " 'NGA',\n",
       " 'NLD',\n",
       " 'NOR',\n",
       " 'NPL',\n",
       " 'NZL',\n",
       " 'PAK',\n",
       " 'PAN',\n",
       " 'PHL',\n",
       " 'PRY',\n",
       " 'SAS',\n",
       " 'SDN',\n",
       " 'SLV',\n",
       " 'SWE',\n",
       " 'TGO',\n",
       " 'THA',\n",
       " 'TSS',\n",
       " 'TUN',\n",
       " 'TUR',\n",
       " 'URY',\n",
       " 'VEN',\n",
       " 'VNM',\n",
       " 'ZMB']"
      ]
     },
     "execution_count": 191,
     "metadata": {},
     "output_type": "execute_result"
    }
   ],
   "source": [
    "list(test.index)"
   ]
  },
  {
   "cell_type": "code",
   "execution_count": null,
   "metadata": {},
   "outputs": [],
   "source": []
  },
  {
   "cell_type": "code",
   "execution_count": null,
   "metadata": {},
   "outputs": [],
   "source": []
  }
 ],
 "metadata": {
  "kernelspec": {
   "display_name": "Python 3",
   "language": "python",
   "name": "python3"
  },
  "language_info": {
   "codemirror_mode": {
    "name": "ipython",
    "version": 3
   },
   "file_extension": ".py",
   "mimetype": "text/x-python",
   "name": "python",
   "nbconvert_exporter": "python",
   "pygments_lexer": "ipython3",
   "version": "3.7.3"
  }
 },
 "nbformat": 4,
 "nbformat_minor": 2
}
