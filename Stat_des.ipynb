{
 "cells": [
  {
   "cell_type": "code",
   "execution_count": 1,
   "metadata": {},
   "outputs": [],
   "source": [
    "import pandas as pd\n",
    "import numpy as np\n",
    "import matplotlib.pyplot as plt\n",
    "import seaborn as sns\n",
    "from sklearn.preprocessing import StandardScaler\n",
    "import re\n",
    "import statsmodels.api as sm\n",
    "\n",
    "#Fonction pour trouver les codes correspondants à un pays entre les codes de pays et le nom des pays :\"\n",
    "def refresh_dico(Name,Code,df):\n",
    "    dic = {}\n",
    "    for i in df[[Name,Code]].dropna().drop_duplicates().iterrows() :\n",
    "        dic[i[1][Name]] = i[1][Code]\n",
    "    return (dic)\n",
    "#fonction pour trouver toutes les lignes qui correspondent à un pays où à une variable en particulier\n",
    "\n",
    "def rech_ligne_pays (y,df) :\n",
    "    expression = re.compile(dic_pays[y]+\".*?;\")\n",
    "    return(list(i[:-1] for i in (expression.findall(';'.join(df.index)+';'))))\n",
    "\n",
    "def rech_ligne_indic (y,df):\n",
    "    expression = re.compile(\".{,4}\"+y+\";\")\n",
    "    return(list(i[:-1] for i in (expression.findall(';'.join(df.index)+';'))))\n",
    "\n",
    "def graph_regress(regresseur,regresse) :\n",
    "    sns.lmplot(x=regresse, y=regresseur, data=df1.drop(['Country Name','Country Code','Indicator Name'], axis = 1).loc[[regresse,regresseur]].dropna(axis = 1).T, robust = True)\n",
    "\n",
    "def regress (regresseur,regresse) :\n",
    "    x = sm.add_constant(df1.drop(['Country Name','Country Code','Indicator Name'],axis =1).loc[regresseur].to_numpy())\n",
    "    y = df1.drop(['Country Name','Country Code','Indicator Name'],axis=1).loc[regresse].to_numpy()\n",
    "\n",
    "    model = sm.OLS(y,x,'drop')\n",
    "    results = model.fit()\n",
    "    return(results)\n",
    "\n",
    "def create_gdf (df_geo,map_monde) :\n",
    "    map_monde_clean = pd.DataFrame()\n",
    "    map_monde_clean[['Country Code','geometry']] = map_monde[['iso_a3','geometry']].dropna()\n",
    "    gdf = gpd.GeoDataFrame(df_geo.dropna().reset_index().merge(map_monde_clean,on = 'Country Code'),\n",
    "                           geometry=df_geo.dropna()\n",
    "                                       .reset_index()\n",
    "                                       .merge(map_monde_clean,on = 'Country Code')['geometry'])\n",
    "    gdf = gdf.reset_index()\n",
    "    gdf = gdf.set_index('Pays_indic')\n",
    "    return(gdf)\n",
    "\n",
    "def log_norm (df_norm) :\n",
    "    return(np.log10(df_norm.astype(np.float64))/np.log10(df_norm.astype(np.float64).max()))\n",
    "\n",
    "def geo_plot (df,indic,annee,couleur = 'Oranges',norm=True) : \n",
    "    #On importe la map monde dans un data frame avec ses données géographiques : \n",
    "    map_monde = gpd.read_file('map_monde (1).json')\n",
    "    #on créé deux dictionnaires différents pour pouvoir adapter les codes pays et merge le plus correctemment possible\n",
    "    #les deux dataframe: \n",
    "    dic_map = refresh_dico('iso_a3','sovereignt',map_monde)\n",
    "    dic_code = refresh_dico('Country Code','Country Name',df)  \n",
    "    liste_non_concord = []\n",
    "    \n",
    "    #On récupère tous les pays pour lesquels les codes pays ne correspondent pas :\n",
    "    for i in dic_map.keys():\n",
    "        j = ''\n",
    "        try :\n",
    "            j = dic_code[i]\n",
    "        except KeyError:\n",
    "            liste_non_concord.append(dic_map[i])\n",
    "\n",
    "    for i in liste_non_concord:\n",
    "        try :\n",
    "            map_monde.loc[map_monde['sovereignt'] == i,'iso_a3'] = dic_pays[i]\n",
    "        except KeyError:\n",
    "            print(i +' n\\'a aucun équivalent dans la table des données')\n",
    "            \n",
    "    #On peut dés maintenant commencer le plot :\n",
    "    ax = gplt.polyplot(map_monde['geometry'],\n",
    "                       edgecolor='None',\n",
    "                       facecolor='lightgray',\n",
    "                       figsize=(18, 7))\n",
    "\n",
    "    gdf = create_gdf(df.loc[rech_ligne_indic(indic,df),['Country Code',annee]],map_monde)\n",
    "    if norm :\n",
    "        gdf[annee] = log_norm(gdf[annee])\n",
    "    gplt.choropleth(gdf,\n",
    "                hue = annee,\n",
    "                cmap = couleur,\n",
    "                #norm=colors.LogNorm(vmin=gdf[annee].min(),\n",
    "                #                    vmax=gdf[annee].max()),\n",
    "                legend=True,\n",
    "                ax=ax)\n",
    "    plt.show()\n",
    "#/!\\ il faut entre le nom avec des caractères regex pour les ( et %)\n",
    "        "
   ]
  },
  {
   "cell_type": "markdown",
   "metadata": {},
   "source": [
    "On construit un dictionnaire nom du pays / code du pays :"
   ]
  },
  {
   "cell_type": "markdown",
   "metadata": {},
   "source": [
    "# On va télécharger les bases de données et repérer les variables pertinentes dans chacune des bases"
   ]
  },
  {
   "cell_type": "markdown",
   "metadata": {},
   "source": [
    "### On commmence par créer les dataframe"
   ]
  },
  {
   "cell_type": "markdown",
   "metadata": {},
   "source": [
    "Il faut légèrement modifier le fichier csv dézippé pour enlever les deux premières lignes, qui ne comprennent que des infos générales sur le format du fichier mais qui entrainaient un problème d'ouverture via la commande pd.read_csv car elles comportaient des virgules.\n",
    "\n",
    "On peut ensuite ouvrir sereinement toutes les base modifiées ainsi."
   ]
  },
  {
   "cell_type": "code",
   "execution_count": 2,
   "metadata": {},
   "outputs": [],
   "source": [
    "agri_forest = pd.read_csv(\"chiffre_agri_foret_peche.csv\")\n",
    "augment_pib = pd.read_csv(\"chiffre_augment_pib.csv\")\n",
    "energie_utilisee = pd.read_csv(\"chiffre_energie_utilise.csv\")\n",
    "emission_GES = pd.read_csv(\"chiffre_GES_total.csv\")\n",
    "nucle_total = pd.read_csv('chiffre_nucle_total_nuke_total_fossile.csv')\n",
    "part_indus_construc = pd.read_csv('chiffre_part_indus_construc.csv')\n",
    "pib = pd.read_csv(\"chiffre_pib.csv\")\n",
    "nom_pays = pib['Country Name']\n"
   ]
  },
  {
   "cell_type": "code",
   "execution_count": 3,
   "metadata": {},
   "outputs": [],
   "source": [
    "df_list  = [agri_forest, augment_pib, energie_utilisee, emission_GES, nucle_total, part_indus_construc, pib]"
   ]
  },
  {
   "cell_type": "markdown",
   "metadata": {},
   "source": [
    "### On regarde chaque dataframe pour identifier les variables pertinentes"
   ]
  },
  {
   "cell_type": "code",
   "execution_count": 4,
   "metadata": {},
   "outputs": [
    {
     "data": {
      "text/html": [
       "<div>\n",
       "<style scoped>\n",
       "    .dataframe tbody tr th:only-of-type {\n",
       "        vertical-align: middle;\n",
       "    }\n",
       "\n",
       "    .dataframe tbody tr th {\n",
       "        vertical-align: top;\n",
       "    }\n",
       "\n",
       "    .dataframe thead th {\n",
       "        text-align: right;\n",
       "    }\n",
       "</style>\n",
       "<table border=\"1\" class=\"dataframe\">\n",
       "  <thead>\n",
       "    <tr style=\"text-align: right;\">\n",
       "      <th></th>\n",
       "      <th>Country Name</th>\n",
       "      <th>Country Code</th>\n",
       "      <th>Indicator Name</th>\n",
       "      <th>Indicator Code</th>\n",
       "      <th>1960</th>\n",
       "      <th>1961</th>\n",
       "      <th>1962</th>\n",
       "      <th>1963</th>\n",
       "      <th>1964</th>\n",
       "      <th>1965</th>\n",
       "      <th>...</th>\n",
       "      <th>2012</th>\n",
       "      <th>2013</th>\n",
       "      <th>2014</th>\n",
       "      <th>2015</th>\n",
       "      <th>2016</th>\n",
       "      <th>2017</th>\n",
       "      <th>2018</th>\n",
       "      <th>2019</th>\n",
       "      <th>2020</th>\n",
       "      <th>Unnamed: 65</th>\n",
       "    </tr>\n",
       "  </thead>\n",
       "  <tbody>\n",
       "    <tr>\n",
       "      <th>0</th>\n",
       "      <td>Aruba</td>\n",
       "      <td>ABW</td>\n",
       "      <td>Agriculture, forestry, and fishing, value adde...</td>\n",
       "      <td>NV.AGR.TOTL.ZS</td>\n",
       "      <td>NaN</td>\n",
       "      <td>NaN</td>\n",
       "      <td>NaN</td>\n",
       "      <td>NaN</td>\n",
       "      <td>NaN</td>\n",
       "      <td>NaN</td>\n",
       "      <td>...</td>\n",
       "      <td>NaN</td>\n",
       "      <td>NaN</td>\n",
       "      <td>NaN</td>\n",
       "      <td>NaN</td>\n",
       "      <td>NaN</td>\n",
       "      <td>NaN</td>\n",
       "      <td>NaN</td>\n",
       "      <td>NaN</td>\n",
       "      <td>NaN</td>\n",
       "      <td>NaN</td>\n",
       "    </tr>\n",
       "  </tbody>\n",
       "</table>\n",
       "<p>1 rows × 66 columns</p>\n",
       "</div>"
      ],
      "text/plain": [
       "  Country Name Country Code  \\\n",
       "0        Aruba          ABW   \n",
       "\n",
       "                                      Indicator Name  Indicator Code  1960  \\\n",
       "0  Agriculture, forestry, and fishing, value adde...  NV.AGR.TOTL.ZS   NaN   \n",
       "\n",
       "   1961  1962  1963  1964  1965  ...  2012  2013  2014  2015  2016  2017  \\\n",
       "0   NaN   NaN   NaN   NaN   NaN  ...   NaN   NaN   NaN   NaN   NaN   NaN   \n",
       "\n",
       "   2018  2019  2020  Unnamed: 65  \n",
       "0   NaN   NaN   NaN          NaN  \n",
       "\n",
       "[1 rows x 66 columns]"
      ]
     },
     "execution_count": 4,
     "metadata": {},
     "output_type": "execute_result"
    }
   ],
   "source": [
    "agri_forest.head(1)"
   ]
  },
  {
   "cell_type": "markdown",
   "metadata": {},
   "source": [
    "On observe que tous les df sont construits de la même manière. On a le nom du pays, son abréviation, le nom de l'indicateur utilisé, son code, puis sa valeur pour chaque année. On a aussi toujours une colonne vide, qui ne nous gène pas vraiment."
   ]
  },
  {
   "cell_type": "markdown",
   "metadata": {},
   "source": [
    "### On nettoie les bases en enlevant les informations qui ne nous intéresse pas"
   ]
  },
  {
   "cell_type": "markdown",
   "metadata": {},
   "source": [
    "Il faudra enlever la colomne \"unnamed\", les colomnes qui correpondent aux années qui ne nous intéresssent pas, et éventuellement les lignes (=pays ou région) que l'on ne garde pas.\n",
    "\n",
    "Par exemple, conserve-t-on les pays comme Aruba dont on ne connait que le PIB? Je pense que la question elle est vite répondue.\n",
    "\n",
    "Pareil, est-ce que ça a vraiement un intérêt de garder les zones géographiques du type Asie du Sud-Est, etc?  ce ne sont que des aggrégats de pays, donc pas forcément."
   ]
  },
  {
   "cell_type": "markdown",
   "metadata": {},
   "source": [
    "### On fusionne les dataframe pour aggréger tous ces indicateurs"
   ]
  },
  {
   "cell_type": "markdown",
   "metadata": {},
   "source": [
    "On peut envisager plusieurs manières de fusionner ces df. Soit on a en index Pays_Année et les colomnes correspindent chacune à un indice, soit on a Pays_Indicateur et les colonnes correspondent chacune a une année. Ce sont les formats wide et long (cf tp2).\n",
    "\n",
    "Pour des raisons de lisibilité, il est évident que l'on va conserver le nom de l'indicateur, et non pas son nom de code. En revanche, il faudra voir à l'usage si on préfère utiler le nom complet des pays ou seulement leur nom de code"
   ]
  },
  {
   "cell_type": "markdown",
   "metadata": {},
   "source": [
    "On concatène les df, on les trie et on met en index la variable créée à cet effet ci-dessus."
   ]
  },
  {
   "cell_type": "code",
   "execution_count": 5,
   "metadata": {},
   "outputs": [
    {
     "data": {
      "text/html": [
       "<div>\n",
       "<style scoped>\n",
       "    .dataframe tbody tr th:only-of-type {\n",
       "        vertical-align: middle;\n",
       "    }\n",
       "\n",
       "    .dataframe tbody tr th {\n",
       "        vertical-align: top;\n",
       "    }\n",
       "\n",
       "    .dataframe thead th {\n",
       "        text-align: right;\n",
       "    }\n",
       "</style>\n",
       "<table border=\"1\" class=\"dataframe\">\n",
       "  <thead>\n",
       "    <tr style=\"text-align: right;\">\n",
       "      <th></th>\n",
       "      <th>Country Name</th>\n",
       "      <th>Country Code</th>\n",
       "      <th>Indicator Name</th>\n",
       "      <th>Indicator Code</th>\n",
       "      <th>1960</th>\n",
       "      <th>1961</th>\n",
       "      <th>1962</th>\n",
       "      <th>1963</th>\n",
       "      <th>1964</th>\n",
       "      <th>1965</th>\n",
       "      <th>...</th>\n",
       "      <th>2012</th>\n",
       "      <th>2013</th>\n",
       "      <th>2014</th>\n",
       "      <th>2015</th>\n",
       "      <th>2016</th>\n",
       "      <th>2017</th>\n",
       "      <th>2018</th>\n",
       "      <th>2019</th>\n",
       "      <th>2020</th>\n",
       "      <th>Unnamed: 65</th>\n",
       "    </tr>\n",
       "    <tr>\n",
       "      <th>Pays_indic</th>\n",
       "      <th></th>\n",
       "      <th></th>\n",
       "      <th></th>\n",
       "      <th></th>\n",
       "      <th></th>\n",
       "      <th></th>\n",
       "      <th></th>\n",
       "      <th></th>\n",
       "      <th></th>\n",
       "      <th></th>\n",
       "      <th></th>\n",
       "      <th></th>\n",
       "      <th></th>\n",
       "      <th></th>\n",
       "      <th></th>\n",
       "      <th></th>\n",
       "      <th></th>\n",
       "      <th></th>\n",
       "      <th></th>\n",
       "      <th></th>\n",
       "      <th></th>\n",
       "    </tr>\n",
       "  </thead>\n",
       "  <tbody>\n",
       "    <tr>\n",
       "      <th>ABW_Agriculture, forestry, and fishing, value added (% of GDP)</th>\n",
       "      <td>Aruba</td>\n",
       "      <td>ABW</td>\n",
       "      <td>Agriculture, forestry, and fishing, value adde...</td>\n",
       "      <td>NV.AGR.TOTL.ZS</td>\n",
       "      <td>NaN</td>\n",
       "      <td>NaN</td>\n",
       "      <td>NaN</td>\n",
       "      <td>NaN</td>\n",
       "      <td>NaN</td>\n",
       "      <td>NaN</td>\n",
       "      <td>...</td>\n",
       "      <td>NaN</td>\n",
       "      <td>NaN</td>\n",
       "      <td>NaN</td>\n",
       "      <td>NaN</td>\n",
       "      <td>NaN</td>\n",
       "      <td>NaN</td>\n",
       "      <td>NaN</td>\n",
       "      <td>NaN</td>\n",
       "      <td>NaN</td>\n",
       "      <td>NaN</td>\n",
       "    </tr>\n",
       "    <tr>\n",
       "      <th>ABW_Alternative and nuclear energy (% of total energy use)</th>\n",
       "      <td>Aruba</td>\n",
       "      <td>ABW</td>\n",
       "      <td>Alternative and nuclear energy (% of total ene...</td>\n",
       "      <td>EG.USE.COMM.CL.ZS</td>\n",
       "      <td>NaN</td>\n",
       "      <td>NaN</td>\n",
       "      <td>NaN</td>\n",
       "      <td>NaN</td>\n",
       "      <td>NaN</td>\n",
       "      <td>NaN</td>\n",
       "      <td>...</td>\n",
       "      <td>NaN</td>\n",
       "      <td>NaN</td>\n",
       "      <td>NaN</td>\n",
       "      <td>NaN</td>\n",
       "      <td>NaN</td>\n",
       "      <td>NaN</td>\n",
       "      <td>NaN</td>\n",
       "      <td>NaN</td>\n",
       "      <td>NaN</td>\n",
       "      <td>NaN</td>\n",
       "    </tr>\n",
       "    <tr>\n",
       "      <th>ABW_Energy use (kg of oil equivalent per capita)</th>\n",
       "      <td>Aruba</td>\n",
       "      <td>ABW</td>\n",
       "      <td>Energy use (kg of oil equivalent per capita)</td>\n",
       "      <td>EG.USE.PCAP.KG.OE</td>\n",
       "      <td>NaN</td>\n",
       "      <td>NaN</td>\n",
       "      <td>NaN</td>\n",
       "      <td>NaN</td>\n",
       "      <td>NaN</td>\n",
       "      <td>NaN</td>\n",
       "      <td>...</td>\n",
       "      <td>NaN</td>\n",
       "      <td>NaN</td>\n",
       "      <td>NaN</td>\n",
       "      <td>NaN</td>\n",
       "      <td>NaN</td>\n",
       "      <td>NaN</td>\n",
       "      <td>NaN</td>\n",
       "      <td>NaN</td>\n",
       "      <td>NaN</td>\n",
       "      <td>NaN</td>\n",
       "    </tr>\n",
       "    <tr>\n",
       "      <th>ABW_GDP (current US$)</th>\n",
       "      <td>Aruba</td>\n",
       "      <td>ABW</td>\n",
       "      <td>GDP (current US$)</td>\n",
       "      <td>NY.GDP.MKTP.CD</td>\n",
       "      <td>NaN</td>\n",
       "      <td>NaN</td>\n",
       "      <td>NaN</td>\n",
       "      <td>NaN</td>\n",
       "      <td>NaN</td>\n",
       "      <td>NaN</td>\n",
       "      <td>...</td>\n",
       "      <td>2.534637e+09</td>\n",
       "      <td>2.701676e+09</td>\n",
       "      <td>2.765363e+09</td>\n",
       "      <td>2.919553e+09</td>\n",
       "      <td>2.965922e+09</td>\n",
       "      <td>3.056425e+09</td>\n",
       "      <td>NaN</td>\n",
       "      <td>NaN</td>\n",
       "      <td>NaN</td>\n",
       "      <td>NaN</td>\n",
       "    </tr>\n",
       "    <tr>\n",
       "      <th>ABW_GDP growth (annual %)</th>\n",
       "      <td>Aruba</td>\n",
       "      <td>ABW</td>\n",
       "      <td>GDP growth (annual %)</td>\n",
       "      <td>NY.GDP.MKTP.KD.ZG</td>\n",
       "      <td>NaN</td>\n",
       "      <td>NaN</td>\n",
       "      <td>NaN</td>\n",
       "      <td>NaN</td>\n",
       "      <td>NaN</td>\n",
       "      <td>NaN</td>\n",
       "      <td>...</td>\n",
       "      <td>-1.369863e+00</td>\n",
       "      <td>4.198232e+00</td>\n",
       "      <td>3.000000e-01</td>\n",
       "      <td>5.700001e+00</td>\n",
       "      <td>2.100000e+00</td>\n",
       "      <td>1.999999e+00</td>\n",
       "      <td>NaN</td>\n",
       "      <td>NaN</td>\n",
       "      <td>NaN</td>\n",
       "      <td>NaN</td>\n",
       "    </tr>\n",
       "  </tbody>\n",
       "</table>\n",
       "<p>5 rows × 66 columns</p>\n",
       "</div>"
      ],
      "text/plain": [
       "                                                   Country Name Country Code  \\\n",
       "Pays_indic                                                                     \n",
       "ABW_Agriculture, forestry, and fishing, value a...        Aruba          ABW   \n",
       "ABW_Alternative and nuclear energy (% of total ...        Aruba          ABW   \n",
       "ABW_Energy use (kg of oil equivalent per capita)          Aruba          ABW   \n",
       "ABW_GDP (current US$)                                     Aruba          ABW   \n",
       "ABW_GDP growth (annual %)                                 Aruba          ABW   \n",
       "\n",
       "                                                                                       Indicator Name  \\\n",
       "Pays_indic                                                                                              \n",
       "ABW_Agriculture, forestry, and fishing, value a...  Agriculture, forestry, and fishing, value adde...   \n",
       "ABW_Alternative and nuclear energy (% of total ...  Alternative and nuclear energy (% of total ene...   \n",
       "ABW_Energy use (kg of oil equivalent per capita)         Energy use (kg of oil equivalent per capita)   \n",
       "ABW_GDP (current US$)                                                               GDP (current US$)   \n",
       "ABW_GDP growth (annual %)                                                       GDP growth (annual %)   \n",
       "\n",
       "                                                       Indicator Code  1960  \\\n",
       "Pays_indic                                                                    \n",
       "ABW_Agriculture, forestry, and fishing, value a...     NV.AGR.TOTL.ZS   NaN   \n",
       "ABW_Alternative and nuclear energy (% of total ...  EG.USE.COMM.CL.ZS   NaN   \n",
       "ABW_Energy use (kg of oil equivalent per capita)    EG.USE.PCAP.KG.OE   NaN   \n",
       "ABW_GDP (current US$)                                  NY.GDP.MKTP.CD   NaN   \n",
       "ABW_GDP growth (annual %)                           NY.GDP.MKTP.KD.ZG   NaN   \n",
       "\n",
       "                                                    1961  1962  1963  1964  \\\n",
       "Pays_indic                                                                   \n",
       "ABW_Agriculture, forestry, and fishing, value a...   NaN   NaN   NaN   NaN   \n",
       "ABW_Alternative and nuclear energy (% of total ...   NaN   NaN   NaN   NaN   \n",
       "ABW_Energy use (kg of oil equivalent per capita)     NaN   NaN   NaN   NaN   \n",
       "ABW_GDP (current US$)                                NaN   NaN   NaN   NaN   \n",
       "ABW_GDP growth (annual %)                            NaN   NaN   NaN   NaN   \n",
       "\n",
       "                                                    1965  ...          2012  \\\n",
       "Pays_indic                                                ...                 \n",
       "ABW_Agriculture, forestry, and fishing, value a...   NaN  ...           NaN   \n",
       "ABW_Alternative and nuclear energy (% of total ...   NaN  ...           NaN   \n",
       "ABW_Energy use (kg of oil equivalent per capita)     NaN  ...           NaN   \n",
       "ABW_GDP (current US$)                                NaN  ...  2.534637e+09   \n",
       "ABW_GDP growth (annual %)                            NaN  ... -1.369863e+00   \n",
       "\n",
       "                                                            2013  \\\n",
       "Pays_indic                                                         \n",
       "ABW_Agriculture, forestry, and fishing, value a...           NaN   \n",
       "ABW_Alternative and nuclear energy (% of total ...           NaN   \n",
       "ABW_Energy use (kg of oil equivalent per capita)             NaN   \n",
       "ABW_GDP (current US$)                               2.701676e+09   \n",
       "ABW_GDP growth (annual %)                           4.198232e+00   \n",
       "\n",
       "                                                            2014  \\\n",
       "Pays_indic                                                         \n",
       "ABW_Agriculture, forestry, and fishing, value a...           NaN   \n",
       "ABW_Alternative and nuclear energy (% of total ...           NaN   \n",
       "ABW_Energy use (kg of oil equivalent per capita)             NaN   \n",
       "ABW_GDP (current US$)                               2.765363e+09   \n",
       "ABW_GDP growth (annual %)                           3.000000e-01   \n",
       "\n",
       "                                                            2015  \\\n",
       "Pays_indic                                                         \n",
       "ABW_Agriculture, forestry, and fishing, value a...           NaN   \n",
       "ABW_Alternative and nuclear energy (% of total ...           NaN   \n",
       "ABW_Energy use (kg of oil equivalent per capita)             NaN   \n",
       "ABW_GDP (current US$)                               2.919553e+09   \n",
       "ABW_GDP growth (annual %)                           5.700001e+00   \n",
       "\n",
       "                                                            2016  \\\n",
       "Pays_indic                                                         \n",
       "ABW_Agriculture, forestry, and fishing, value a...           NaN   \n",
       "ABW_Alternative and nuclear energy (% of total ...           NaN   \n",
       "ABW_Energy use (kg of oil equivalent per capita)             NaN   \n",
       "ABW_GDP (current US$)                               2.965922e+09   \n",
       "ABW_GDP growth (annual %)                           2.100000e+00   \n",
       "\n",
       "                                                            2017  2018  2019  \\\n",
       "Pays_indic                                                                     \n",
       "ABW_Agriculture, forestry, and fishing, value a...           NaN   NaN   NaN   \n",
       "ABW_Alternative and nuclear energy (% of total ...           NaN   NaN   NaN   \n",
       "ABW_Energy use (kg of oil equivalent per capita)             NaN   NaN   NaN   \n",
       "ABW_GDP (current US$)                               3.056425e+09   NaN   NaN   \n",
       "ABW_GDP growth (annual %)                           1.999999e+00   NaN   NaN   \n",
       "\n",
       "                                                    2020  Unnamed: 65  \n",
       "Pays_indic                                                             \n",
       "ABW_Agriculture, forestry, and fishing, value a...   NaN          NaN  \n",
       "ABW_Alternative and nuclear energy (% of total ...   NaN          NaN  \n",
       "ABW_Energy use (kg of oil equivalent per capita)     NaN          NaN  \n",
       "ABW_GDP (current US$)                                NaN          NaN  \n",
       "ABW_GDP growth (annual %)                            NaN          NaN  \n",
       "\n",
       "[5 rows x 66 columns]"
      ]
     },
     "execution_count": 5,
     "metadata": {},
     "output_type": "execute_result"
    }
   ],
   "source": [
    "#On fait ici la modif sur tous les df à l'aide d'une boucle for, \n",
    "for df in df_list :\n",
    "    df['Pays_indic'] = df['Country Code'].str[:3] + '_' + df['Indicator Name'].str[:99]\n",
    "#part_indus_construc['Pays_indic']\n",
    "\n",
    "df = pd.concat(df_list)\n",
    "df = df.sort_values('Pays_indic').set_index('Pays_indic')\n",
    "df.head()"
   ]
  },
  {
   "cell_type": "markdown",
   "metadata": {},
   "source": [
    "### Suppression des colonnes et lignes inutiles"
   ]
  },
  {
   "cell_type": "markdown",
   "metadata": {},
   "source": [
    "On a ici la liste des colonnes que l'on supprimme pour se restreindre aux données qui nous intéressent, sutrement dit à partir de 1980 (je ne sais plsu si on avait dit 1980 ou 1985)."
   ]
  },
  {
   "cell_type": "code",
   "execution_count": 6,
   "metadata": {},
   "outputs": [],
   "source": [
    "useless_data_list = ['Unnamed: 65', 'Indicator Code', '1960', '1961', '1962', '1963', '1964', '1965', '1966', '1967', '1968', \n",
    "                   '1969', '1970', '1971', '1972', '1973', '1974', '1975', '1976', '1977', '1978', '1979', '2020']\n",
    "df = df.drop(useless_data_list, axis = 1)\n",
    "#df.sample(15)"
   ]
  },
  {
   "cell_type": "markdown",
   "metadata": {},
   "source": [
    "On va chercher à enlever les lignes qui ne contiennent que peu d'infos (au moins 10 valeurs manquantes)"
   ]
  },
  {
   "cell_type": "code",
   "execution_count": 7,
   "metadata": {},
   "outputs": [
    {
     "data": {
      "text/plain": [
       "(1259, 43)"
      ]
     },
     "execution_count": 7,
     "metadata": {},
     "output_type": "execute_result"
    }
   ],
   "source": [
    "df1 = df\n",
    "nan_dict = {}\n",
    "for i in range(len(df1.index)) :\n",
    "    nb_nan = df1.iloc[i].isnull().sum()\n",
    "    if nb_nan >10 :\n",
    "        nan_dict[list(df.index)[i]] = nb_nan\n",
    "\n",
    "\n",
    "df1 = df1.drop(index = nan_dict.keys(), axis = 0)\n",
    "df1.shape"
   ]
  },
  {
   "cell_type": "markdown",
   "metadata": {},
   "source": [
    "En faisant cela, on supprme environ 600 lignes. Pour le rafiner, il faudrait voir si l'on ne doit pas supprimer toutes les données d'un pays lorsque l'on a que des infos sur deux ou trois indicateurs (notamment qi que sur le PIB). On doit pouvoir s'en sortir en supprimant tous les indexs qui commencent par le code du pays détecté de cette manière."
   ]
  },
  {
   "cell_type": "markdown",
   "metadata": {},
   "source": [
    "[Adrien]La fonction pour récupérer les indexs des pays où on a moins de 3 indicateurs."
   ]
  },
  {
   "cell_type": "code",
   "execution_count": 8,
   "metadata": {},
   "outputs": [
    {
     "ename": "TypeError",
     "evalue": "refresh_dico() missing 3 required positional arguments: 'Name', 'Code', and 'df'",
     "output_type": "error",
     "traceback": [
      "\u001b[1;31m---------------------------------------------------------------------------\u001b[0m",
      "\u001b[1;31mTypeError\u001b[0m                                 Traceback (most recent call last)",
      "\u001b[1;32m<ipython-input-8-bd1f35e03b22>\u001b[0m in \u001b[0;36m<module>\u001b[1;34m\u001b[0m\n\u001b[1;32m----> 1\u001b[1;33m \u001b[0mdic_pays\u001b[0m \u001b[1;33m=\u001b[0m \u001b[0mrefresh_dico\u001b[0m\u001b[1;33m(\u001b[0m\u001b[1;33m)\u001b[0m\u001b[1;33m\u001b[0m\u001b[1;33m\u001b[0m\u001b[0m\n\u001b[0m",
      "\u001b[1;31mTypeError\u001b[0m: refresh_dico() missing 3 required positional arguments: 'Name', 'Code', and 'df'"
     ]
    }
   ],
   "source": [
    "dic_pays = refresh_dico()"
   ]
  },
  {
   "cell_type": "code",
   "execution_count": null,
   "metadata": {},
   "outputs": [],
   "source": [
    "for i in dic_pays.keys() :\n",
    "    if len(rech_ligne_pays(i,df1))<3 :\n",
    "        df1 = df1.drop(rech_ligne_pays(i,df1))\n",
    "dic_pays = refresh_dico()\n",
    "#ancienne fonction que j'ai écrite plus tot (beaucoup plus lente) :\n",
    "\n",
    "#for i in nom_pays : \n",
    "#    compter_nb_indic = df1.apply(lambda x: True if x['Country Name'] == i else False, axis = 1)\n",
    "#    if len(compter_nb_indic[compter_nb_indic == True].index) <3 :\n",
    "#        liste_pays_dic[i] = compter_nb_indic[compter_nb_indic == True].index'''\n"
   ]
  },
  {
   "cell_type": "markdown",
   "metadata": {},
   "source": [
    "On supprime les lignes des pays dont on a trop peu d'indicateurs complet : (servait pourl'ancienne fonction)"
   ]
  },
  {
   "cell_type": "code",
   "execution_count": null,
   "metadata": {},
   "outputs": [],
   "source": [
    "#for i in liste_pays_dic.keys():\n",
    "#    df1 = df1.drop(index = liste_pays_dic[i], axis = 1)"
   ]
  },
  {
   "cell_type": "markdown",
   "metadata": {},
   "source": [
    "On a supprimer en tout 58 lignes. De plus on va aussi supprimer de la base les aggrégats de pays (ces lignes là sont colinéaires aux autres, ce qui risque de nous poser problème plus tard dans la prédiction). Voilà les régions à supprimer : Upper middle income, Latin America & the Caribbean (IDA & IBRD countries),Middle East & North Africa (IDA & IBRD countries),South Asia (IDA & IBRD), Middle East & North Africa (IDA & IBRD countries), Latin America & the Caribbean (IDA & IBRD countries),East Asia & Pacific (IDA & IBRD countries), Europe & Central Asia (IDA & IBRD countries), Sub-Saharan Africa, Sub-Saharan Africa (excluding high income), Post-demographic dividend, Pre-demographic dividend, OECD members, North America, Middle East & North Africa (excluding high income), Middle East & North Africa,Late-demographic dividend, Lower middle income\n",
    "Low & middle income,Latin America & Caribbean,Least developed countries: UN classification, Latin America & Caribbean (excluding high income),IBRD only,IDA & IBRD total,IDA total,IDA blend,Heavily indebted poor countries (HIPC),High income, European Union, Fragile and conflict affected situations,East Asia & Pacific (excluding high income)\n",
    "Early-demographic dividend, East Asia & Pacific, Europe & Central Asia (excluding high income), Europe & Central Asia,Central Europe and the Baltics\n",
    "\n",
    "\n",
    "à propos des aggrégats (comment ils aggrègent :)\n",
    "\n",
    "Aggregation Rules\n",
    "\n",
    "Aggregates are based on the World Bank’s regional and income classification of economies. Because of missing data, aggregates for groups of economies should be treated as approximations of unknown totals or average values. Regional and income group aggregates are based on the largest available set of data. The aggregation rules are intended to yield estimates for a consistent set of economies from one period to the next and for all indicators. Small differences between sums of subgroup aggregates and overall totals and averages may occur because of the approximations used. In addition, compilation errors and data reporting practices may cause discrepancies in theoretically identical aggregates such as world exports and world imports.\n",
    "\n",
    "Five methods of aggregation are used in the World Development Indicators:\n",
    "\n",
    "For group and world totals denoted in the tables by a t, missing data are imputed based on the relationship of the sum of available data to the total in the year of the previous estimate. The imputation process works forward and backward from 2010. Missing values in 2010 are imputed using one of several proxy variables for which complete data are available in that year. The imputed value is calculated so that it (or its proxy) bears the same relationship to the total of available data. Imputed values are usually not calculated if missing data account for more than a third of the total in the benchmark year. The variables used as proxies are GNI in U.S. dollars, total population, exports and imports of goods and services in U.S. dollars, and value added in agriculture, industry, manufacturing, and services in U.S. dollars.\n",
    "\n",
    "Aggregates marked by an s are sums of available data. Missing values are not imputed. Sums are not computed if more than a third of the observations in the series or a proxy for the series are missing in a given year.\n",
    "\n",
    "Aggregates of ratios are generally calculated as weighted averages of the ratios (indicated by w) using the value of the denominator or, in some cases, another indicator as a weight. The aggregate ratios are based on available data, including data for economies not shown in the main tables. Missing values are assumed to have the same average value as the available data. No aggregate is calculated if missing data account for more than a third of the value of weights in the benchmark year. In a few cases the aggregate ratio may be computed as the ratio of group totals after imputing values for missing data according to the above rules for computing totals.\n",
    "\n",
    "Aggregate growth rates are generally calculated as a weighted average of growth rates (and indicated by a w). In a few cases growth rates may be computed from time series of group totals. Growth rates are not calculated if more than half the observations in a period are missing. For further discussion of methods of computing growth rates see below.\n",
    "\n",
    "Aggregates denoted by an m are medians of the values shown in the table. No value is shown if more than half the observations for countries with a population of more than 1 million are missing. Exceptions to the rules occur throughout the book. Depending on the judgment of World Bank analysts, the aggregates may be based on as little as 50 percent of the available data.\n",
    "In other cases, where missing or excluded values are judged to be small or irrelevant, aggregates are based only on the data shown in the tables.\n",
    "\n",
    "Du coup en fonction de comment ils ont agrégés les données ça peut être intéressant ou non de les conserver. Notamment ceux pour lesquels ils ont utilisés la 1ère méthode puisqu'elle nous permet d'avoir une approximation des données qui nous manque (après est ce qu'on veut garder des approximations ? Dans tous les cas il faudra voir je pense si nos prédictions sont robustes à leur ajout ou non)"
   ]
  },
  {
   "cell_type": "code",
   "execution_count": null,
   "metadata": {
    "scrolled": true
   },
   "outputs": [],
   "source": [
    "#/!\\ il ne faut faire tourner qu'une seule fois cette fonction, sinon on a une KeyError\n",
    "liste_supression = [\"Upper middle income\", \"Latin America & the Caribbean (IDA & IBRD countries)\",\"Middle East & North Africa (IDA & IBRD countries)\",\"South Asia (IDA & IBRD)\",\"Middle East & North Africa (IDA & IBRD countries)\", \"Latin America & the Caribbean (IDA & IBRD countries)\",\"East Asia & Pacific (IDA & IBRD countries)\",\"Europe & Central Asia (IDA & IBRD countries)\",\"Sub-Saharan Africa\", \"Sub-Saharan Africa (excluding high income)\",\"Post-demographic dividend\", \"Pre-demographic dividend\", \"OECD members\", \"North America\", \"Middle East & North Africa (excluding high income)\", \"Middle East & North Africa\",\"Late-demographic dividend\", \"Lower middle income\",\"Low & middle income\",\"Latin America & Caribbean\",\"Least developed countries: UN classification\", \"Latin America & Caribbean (excluding high income)\",\"IBRD only\",\"IDA & IBRD total\",\"IDA total\",\"IDA blend\",\"Heavily indebted poor countries (HIPC)\",\"High income\",\"European Union\", \"Fragile and conflict affected situations\",\"East Asia & Pacific (excluding high income)\",\"Early-demographic dividend\",\"East Asia & Pacific\",\"Europe & Central Asia (excluding high income)\",\"Europe & Central Asia\",\"Central Europe and the Baltics\"]\n",
    "\n",
    "for i in liste_supression :\n",
    "    df1 = df1.drop(labels = rech_ligne_pays(i,df1)) \n",
    "dic_pays = refresh_dico()\n"
   ]
  },
  {
   "cell_type": "markdown",
   "metadata": {},
   "source": [
    "On a supprimer en tout une centaine de lignes encore. On actualise la liste pour stocker uniquement les noms des pays restants :"
   ]
  },
  {
   "cell_type": "markdown",
   "metadata": {},
   "source": [
    "# Premières représentations graphiques"
   ]
  },
  {
   "cell_type": "markdown",
   "metadata": {},
   "source": [
    "On créé un vecteur temps pour pouvoir créer des graphiques en fonction du temps facilement."
   ]
  },
  {
   "cell_type": "code",
   "execution_count": null,
   "metadata": {},
   "outputs": [],
   "source": [
    "t = np.linspace(1980,2019,40)"
   ]
  },
  {
   "cell_type": "code",
   "execution_count": null,
   "metadata": {},
   "outputs": [],
   "source": [
    "#Sur deux subplots différents\n",
    "plt.subplot(211)\n",
    "plt.plot(t[0:31],df1.loc['FRA_Émissions totales de GES (kt d’équivalent CO2)'][2:42].to_numpy()[1:32].T)\n",
    "plt.subplot(212)\n",
    "plt.plot(t[0:31],df1.loc['FRA_GDP growth (annual %)'][2:42].to_numpy()[1:32].T)\n",
    "\n",
    "plt.show()\n",
    "\n",
    "#Sur le même plot\\n\",\n",
    "\n",
    "fig, ax1 = plt.subplots()\n",
    "\n",
    "color = 'tab:red'\n",
    "ax1.set_xlabel('time (s)')\n",
    "ax1.set_ylabel('Emission de GES', color=color)\n",
    "ax1.plot(t[0:31], df1.loc['FRA_Émissions totales de GES (kt d’équivalent CO2)'][2:42].to_numpy()[1:32].T, color=color)\n",
    "ax1.tick_params(axis='y', labelcolor=color)\n",
    "\n",
    "ax2 = ax1.twinx()  #  commence un deuxième axe qui partage le même axe x\n",
    "\n",
    "color = 'tab:blue'\n",
    "ax2.set_ylabel('PIB', color=color)  \n",
    "ax2.plot(t[0:31], df1.loc['FRA_GDP (current US$)'][2:42].to_numpy()[1:32].T, color=color)\n",
    "ax2.tick_params(axis='y', labelcolor=color)\n",
    "\n",
    "fig.tight_layout()  # otherwise the right y-label is slightly clipped\n",
    "plt.show()"
   ]
  },
  {
   "cell_type": "code",
   "execution_count": null,
   "metadata": {},
   "outputs": [],
   "source": [
    "#Sur deux subplots différents\n",
    "plt.subplot(211)\n",
    "plt.plot(t[0:31],df1.loc['USA_Émissions totales de GES (kt d’équivalent CO2)'][2:42].to_numpy()[1:32].T)\n",
    "plt.subplot(212)\n",
    "plt.plot(t[0:31],df1.loc['USA_GDP growth (annual %)'][2:42].to_numpy()[1:32].T)\n",
    "\n",
    "plt.show()\n",
    "\n",
    "#Sur le même plot\\n\",\n",
    "\n",
    "fig, ax1 = plt.subplots()\n",
    "\n",
    "color = 'tab:red'\n",
    "ax1.set_xlabel('time (s)')\n",
    "ax1.set_ylabel('Emission de GES', color=color)\n",
    "ax1.plot(t[0:31], df1.loc['USA_Émissions totales de GES (kt d’équivalent CO2)'][2:42].to_numpy()[1:32].T, color=color)\n",
    "ax1.tick_params(axis='y', labelcolor=color)\n",
    "\n",
    "ax2 = ax1.twinx()  #  commence un deuxième axe qui partage le même axe x\n",
    "\n",
    "color = 'tab:blue'\n",
    "ax2.set_ylabel('PIB', color=color)  \n",
    "ax2.plot(t[0:31], df1.loc['USA_GDP (current US$)'][2:42].to_numpy()[1:32].T, color=color)\n",
    "ax2.tick_params(axis='y', labelcolor=color)\n",
    "\n",
    "fig.tight_layout()  # otherwise the right y-label is slightly clipped\n",
    "plt.show()\n"
   ]
  },
  {
   "cell_type": "markdown",
   "metadata": {},
   "source": [
    "On va créer un nouvel indicateur qui va nous donner la croissance à l'année des gazs à effet de serre pour chaque pays :"
   ]
  },
  {
   "cell_type": "code",
   "execution_count": null,
   "metadata": {},
   "outputs": [],
   "source": [
    "for i in rech_ligne_indic('Émissions totales de GES \\(kt d’équivalent CO2\\)',df1) :\n",
    "    df1.loc[i[0:3]+'_croissance émissions GES (kt d’équivalent CO2)'] = df1.loc[i][3:44].astype(np.float64).diff()\n",
    "    df1.loc[i[0:3]+'_croissance émissions GES (pourcent)'] = df1.loc[i[0:3]+'_croissance émissions GES (kt d’équivalent CO2)']*100 /(df1.loc[i[0:3]+'_Émissions totales de GES (kt d’équivalent CO2)']-df1.loc[i[0:3]+'_croissance émissions GES (kt d’équivalent CO2)'] ) "
   ]
  },
  {
   "cell_type": "code",
   "execution_count": null,
   "metadata": {},
   "outputs": [],
   "source": [
    "rech_ligne_indic('Émissions totales de GES \\(kt d’équivalent CO2\\)',df1)"
   ]
  },
  {
   "cell_type": "code",
   "execution_count": null,
   "metadata": {},
   "outputs": [],
   "source": []
  },
  {
   "cell_type": "markdown",
   "metadata": {},
   "source": [
    "Maintenant qu'on à la croissance des émissions de gazs à effet de serre par an, on peut représenter la croissance du PIB et celle-ci sur le même graphe :"
   ]
  },
  {
   "cell_type": "code",
   "execution_count": null,
   "metadata": {},
   "outputs": [],
   "source": [
    "#Sur le même plot,\n",
    "\n",
    "fig, ax1 = plt.subplots()\n",
    "\n",
    "color = 'tab:red'\n",
    "ax1.set_xlabel('time (s)')\n",
    "ax1.set_ylabel('Emission de GES', color=color)\n",
    "ax1.plot(t[0:31], df1.loc['USA_croissance émissions GES (pourcent)'][2:42].to_numpy()[1:32].T, color=color)\n",
    "ax1.tick_params(axis='y', labelcolor=color)\n",
    "\n",
    "ax2 = ax1.twinx()  #  commence un deuxième axe qui partage le même axe x\n",
    "\n",
    "color = 'tab:blue'\n",
    "ax2.set_ylabel('Croissance du PIB', color=color)  \n",
    "ax2.plot(t[0:31], df1.loc['USA_GDP growth (annual %)'][2:42].to_numpy()[1:32].T, color=color)\n",
    "ax2.tick_params(axis='y', labelcolor=color)\n",
    "\n",
    "fig.tight_layout()  # otherwise the right y-label is slightly clipped\n",
    "plt.show()"
   ]
  },
  {
   "cell_type": "markdown",
   "metadata": {},
   "source": [
    "On peut voir qu'il y a apparemment une certaine concommitance des courbes, cela-dit il faut faire attention aux effets d'échelles car ici le PIB ne passe presque jamais dans le négatif (ce qui est loin d'être le cas de la croissance des émissions de gaz à effet de serre). On va essayer de le faire dans le cas de la France pour se faire plus d'idées :"
   ]
  },
  {
   "cell_type": "code",
   "execution_count": null,
   "metadata": {},
   "outputs": [],
   "source": [
    "#Sur le même plot,\n",
    "\n",
    "fig, ax1 = plt.subplots()\n",
    "\n",
    "color = 'tab:red'\n",
    "ax1.set_xlabel('time (s)')\n",
    "ax1.set_ylabel('Emission de GES', color=color)\n",
    "ax1.plot(t[0:31], df1.loc['FRA_croissance émissions GES (pourcent)'][2:42].to_numpy()[1:32].T, color=color)\n",
    "ax1.tick_params(axis='y', labelcolor=color)\n",
    "\n",
    "ax2 = ax1.twinx()  #  commence un deuxième axe qui partage le même axe x\n",
    "\n",
    "color = 'tab:blue'\n",
    "ax2.set_ylabel('Croissance du PIB', color=color)  \n",
    "ax2.plot(t[0:31], df1.loc['FRA_GDP growth (annual %)'][2:42].to_numpy()[1:32].T, color=color)\n",
    "ax2.tick_params(axis='y', labelcolor=color)\n",
    "\n",
    "fig.tight_layout()  # otherwise the right y-label is slightly clipped\n",
    "plt.show()"
   ]
  },
  {
   "cell_type": "markdown",
   "metadata": {},
   "source": [
    "Idée : on pourrait essayer de faire du clustering afin de déterminer la dépendance de la croissance à certains facteurs afin d'essayer de prédire la dépendance de la croissance à l'émission de gaz à effet de serre.\n",
    "\n",
    "Je vais essayer de régresser le PIB sur l'émission de gaz à effet de serre dans plusieurs pays : la France, Les Etats Unis, La Chine et le Zimbabwe"
   ]
  },
  {
   "cell_type": "markdown",
   "metadata": {},
   "source": [
    "## Régressions"
   ]
  },
  {
   "cell_type": "markdown",
   "metadata": {},
   "source": [
    "### Régressions avec scipy"
   ]
  },
  {
   "cell_type": "code",
   "execution_count": null,
   "metadata": {},
   "outputs": [],
   "source": [
    "import scipy.optimize\n",
    "def affin(x,a,b): \n",
    "    return a*x + b\n",
    "\n",
    "def regress2 (country_code, regresse, regresseur, courbe = False):\n",
    "    \n",
    "    interm= pd.DataFrame(df1.loc[[country_code + regresse, country_code + regresseur]]).dropna(axis = 1)\n",
    "    if interm.shape != (2,0): \n",
    "        \n",
    "        regresse_val = pd.DataFrame(interm.loc[country_code + regresse][3:30])[country_code + regresse].to_numpy(dtype = float)\n",
    "        regresseur_val = pd.DataFrame(interm.loc[country_code + regresseur][3:30])[country_code + regresseur].to_numpy(dtype = float)\n",
    "\n",
    "        popt, pcov = scipy.optimize.curve_fit(affin, regresseur_val, regresse_val)\n",
    "        coeff, cst = popt[0], popt[1]\n",
    "\n",
    "        if courbe == True :\n",
    "            fig, ax1 = plt.subplots()\n",
    "\n",
    "            color = 'tab:red'\n",
    "            ax1.set_xlabel('time (s)' + country_code, color = 'k')\n",
    "            ax1.set_ylabel(regresse, color='k')\n",
    "            ax1.plot(t[0:31], df1.loc[country_code + regresse][2:42].to_numpy()[1:32].T, color='k')\n",
    "            ax1.tick_params(axis='y', labelcolor='k')\n",
    "\n",
    "            ax1.plot(t[0:31], coeff*df1.loc[country_code + regresseur][2:42].to_numpy()[1:32].T + cst, color='b')\n",
    "\n",
    "            fig.tight_layout()  # otherwise the right y-label is slightly clipped\n",
    "            plt.show()\n",
    "\n",
    "        return coeff, cst\n",
    "    else : return \n",
    "    \n",
    "code_list = []\n",
    "for i in df1['Country Code']:\n",
    "    if i not in code_list : \n",
    "        code_list.append(i)\n",
    "code_list.pop(-1)\n",
    "\n",
    "regresseur = '_GDP (current US$)'\n",
    "regresse = '_Émissions totales de GES (kt d’équivalent CO2)'\n",
    "dic = {}\n",
    "\n",
    "for code in code_list:\n",
    "    dic[code] = regress2(code, regresse, regresseur, False)\n",
    "    if dic[code] == None:\n",
    "        dic.pop(code)\n",
    "#Attention, il faudra donner un nom explicit à chaque df, différent pour chaque régression.\n",
    "regress2_df = pd.DataFrame(dic.values(), dic.keys(), ['Coeff', 'Cst'])\n",
    "regress2_df.head()"
   ]
  },
  {
   "cell_type": "markdown",
   "metadata": {},
   "source": [
    "### Régressions graphiques avec Seaborn"
   ]
  },
  {
   "cell_type": "code",
   "execution_count": null,
   "metadata": {},
   "outputs": [],
   "source": [
    "from sklearn.linear_model import LinearRegression\n",
    "from sklearn.model_selection import train_test_split\n",
    "import sklearn.metrics"
   ]
  },
  {
   "cell_type": "code",
   "execution_count": null,
   "metadata": {},
   "outputs": [],
   "source": [
    "\n",
    "for i in ['IND','CHN','ZWE','SWE','USA']:\n",
    "    sns.lmplot(x=i+\"_GDP growth (annual %)\", y=i+\"_croissance émissions GES (pourcent)\", \n",
    "               data=df1.drop(['Country Name','Country Code','Indicator Name'], axis = 1).loc[[i+'_GDP growth (annual %)',i+'_croissance émissions GES (pourcent)']].dropna(axis = 1).T, robust = True)\n",
    "    \n",
    "def graph_regress(regresseur,regresse) :\n",
    "    sns.lmplot(x=regresse, y=regresseur, data=df1.drop(['Country Name',\n",
    "        'Country Code','Indicator Name'], axis = 1).loc[[regresse,regresseur]].dropna(axis = 1).T, robust = True)"
   ]
  },
  {
   "cell_type": "markdown",
   "metadata": {},
   "source": [
    "### Régressions avec statsmodels"
   ]
  },
  {
   "cell_type": "code",
   "execution_count": null,
   "metadata": {
    "scrolled": true
   },
   "outputs": [],
   "source": [
    "#On a ici la syntaxe pour faire une régression avec statsmodels, ainsi que la forme de la sortie\n",
    "x = sm.add_constant(df1.drop(['Country Name','Country Code','Indicator Name'],axis =1).loc['USA_Émissions totales de GES (kt d’équivalent CO2)'].to_numpy())\n",
    "y = df1.drop(['Country Name','Country Code','Indicator Name'],axis=1).loc['USA_GDP (current US$)'].to_numpy()\n",
    "\n",
    "model = sm.OLS(y,x,'drop')\n",
    "results = model.fit()\n",
    "print(results.summary())\n"
   ]
  },
  {
   "cell_type": "code",
   "execution_count": null,
   "metadata": {},
   "outputs": [],
   "source": [
    "#On voit ici coment récupérer les coefficients voulus\n",
    "print(dir(results))\n",
    "results._get_robustcov_results\n",
    "results.rsquared"
   ]
  },
  {
   "cell_type": "markdown",
   "metadata": {},
   "source": [
    "On définit ici la fonction qui permet d'automatiser les régressions sur tous les pays, puis on garde les résultats dans un dataframe."
   ]
  },
  {
   "cell_type": "code",
   "execution_count": null,
   "metadata": {},
   "outputs": [],
   "source": [
    "def regress (country_code, regresseur, regresse) :\n",
    "    \n",
    "    if country_code + regresse in df1.index and country_code + regresseur in df1.index :\n",
    "        interm= pd.DataFrame(df1.loc[[country_code + regresse, country_code + regresseur]]).drop(['Country Name',\n",
    "        'Country Code','Indicator Name'],axis =1).dropna(axis = 1)\n",
    "\n",
    "        if interm.shape != (2,0): \n",
    "            x = sm.add_constant(interm.loc[country_code + regresseur].to_numpy())\n",
    "            y = interm.loc[country_code + regresse].to_numpy()\n",
    "\n",
    "            model = sm.OLS(y,x,'drop')\n",
    "            results = model.fit()\n",
    "\n",
    "            r2 = results.rsquared\n",
    "            cst = results.params[0]\n",
    "            coef = results.params[1]\n",
    "\n",
    "            return cst, coef, r2\n",
    "    \n",
    "    else : return\n",
    "\n",
    "    \n",
    "    \n",
    "code_list = []\n",
    "for i in df1['Country Code']:\n",
    "    if i not in code_list : \n",
    "        code_list.append(i)\n",
    "code_list.pop(-1)\n",
    "\n",
    "regresse = '_GDP (current US$)'\n",
    "regresseur = '_Émissions totales de GES (kt d’équivalent CO2)'\n",
    "\n",
    "for code in code_list:\n",
    "    dic[code] = regress(code, regresse, regresseur)\n",
    "    if dic[code] == None:\n",
    "        dic.pop(code)\n",
    "        \n",
    "regress_df = pd.DataFrame(dic.values(), dic.keys(), ['Constante', 'Coefficient', 'R2'])\n",
    "regress_df.head()"
   ]
  },
  {
   "cell_type": "markdown",
   "metadata": {},
   "source": [
    "On peut ensuite effectuer toutes les régressions que l'on souhaite graâce à cette fonction, en changeant simplementles variables regresseur et regresse. Il suffit à chaque fois de créer un dataframe avec un nom différent, de donner des noms plus explicits aux colonnes, et de les concaténer après.\n",
    "\n",
    "Exemple ci-dessous, en concaténant la régression de gdp sur ges avec celle sur leurs taux de variation"
   ]
  },
  {
   "cell_type": "code",
   "execution_count": null,
   "metadata": {},
   "outputs": [],
   "source": [
    "regresse = '_GDP (current US$)'\n",
    "regresseur = '_Émissions totales de GES (kt d’équivalent CO2)'\n",
    "\n",
    "\n",
    "for code in code_list:\n",
    "    dic[code] = regress(code, regresse, regresseur)\n",
    "    if dic[code] == None:\n",
    "        dic.pop(code)\n",
    "        \n",
    "regress1_df = pd.DataFrame(dic.values(), dic.keys(), ['Constante GDP sur total GES',\n",
    "                                                     'Coefficient GDP sur total GES', 'R2 GDP sur total GES'])\n",
    "regress1_df.head()\n",
    "\n",
    "\n",
    "\n",
    "\n",
    "regresse = '_GDP growth (annual %)'\n",
    "regresseur = '_croissance émissions GES (kt d’équivalent CO2)'\n",
    "\n",
    "dic = {}\n",
    "for code in code_list:\n",
    "    dic[code] = regress(code, regresse, regresseur)\n",
    "    if dic[code] == None:\n",
    "        dic.pop(code)\n",
    "\n",
    "regress2_df = pd.DataFrame(dic.values(), dic.keys(), ['Constante GDP_var sur GES_var', 'Coefficient GDP_var sur GES_var', 'R2 GDP_var sur GES_var'])\n",
    "\n",
    "regress_df = pd.concat([regress1_df, regress2_df], axis = 1)\n",
    "regress_df.head()"
   ]
  },
  {
   "cell_type": "code",
   "execution_count": null,
   "metadata": {},
   "outputs": [],
   "source": [
    "regress_df.plot(x='Coefficient GDP sur total GES', y='Coefficient GDP_var sur GES_var', kind = 'scatter', label = \"Ce graphique n'est pas extraordinaire\")"
   ]
  },
  {
   "cell_type": "code",
   "execution_count": null,
   "metadata": {},
   "outputs": [],
   "source": []
  }
 ],
 "metadata": {
  "kernelspec": {
   "display_name": "Python 3",
   "language": "python",
   "name": "python3"
  }
 },
 "nbformat": 4,
 "nbformat_minor": 2
}
