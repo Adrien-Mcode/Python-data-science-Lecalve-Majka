{
 "cells": [
  {
   "cell_type": "code",
   "execution_count": 1,
   "metadata": {},
   "outputs": [],
   "source": [
    "import pandas as pd\n",
    "import numpy as np\n",
    "import matplotlib.pyplot as plt\n",
    "import seaborn as sns\n",
    "from sklearn.preprocessing import StandardScaler\n",
    "import re\n",
    "import statsmodels.api as sm\n",
    "\n",
    "#Fonction pour trouver les codes correspondants à un pays entre les codes de pays et le nom des pays :\"\n",
    "def refresh_dico ():\n",
    "    dic = {}\n",
    "    for i in df1[['Country Name','Country Code']].dropna().drop_duplicates().iterrows() :\n",
    "        dic[i[1]['Country Name']] = i[1]['Country Code']\n",
    "    return (dic)\n",
    "    \n",
    "\n",
    "#fonction pour trouver toutes les lignes qui correspondent à un pays où à une variable en particulier\n",
    "\n",
    "def rech_ligne_pays (y,df) :\n",
    "    expression = re.compile(dic_pays[y]+\".*?;\")\n",
    "    return(list(i[:-1] for i in (expression.findall(';'.join(df.index)+';'))))\n",
    "\n",
    "def rech_ligne_indic (y,df):\n",
    "    expression = re.compile(\".{,4}\"+y+\";\")\n",
    "    return(list(i[:-1] for i in (expression.findall(';'.join(df.index)+';'))))\n",
    "\n",
    "def graph_regress(regresseur,regresse) :\n",
    "    sns.lmplot(x=regresse, y=regresseur, data=df1.drop(['Country Name','Country Code','Indicator Name'], axis = 1).loc[[regresse,regresseur]].dropna(axis = 1).T, robust = True)\n",
    "\n",
    "def regress (regresseur,regresse) :\n",
    "    x = sm.add_constant(df1.drop(['Country Name','Country Code','Indicator Name'],axis =1).loc[regresseur].to_numpy())\n",
    "    y = df1.drop(['Country Name','Country Code','Indicator Name'],axis=1).loc[regresse].to_numpy()\n",
    "\n",
    "    model = sm.OLS(y,x,'drop')\n",
    "    results = model.fit()\n",
    "    return(results)\n",
    "#/!\\ il faut entre le nom avec des caractères regex pour les ( et %)\n",
    "        "
   ]
  },
  {
   "cell_type": "markdown",
   "metadata": {},
   "source": [
    "On construit un dictionnaire nom du pays / code du pays :"
   ]
  },
  {
   "cell_type": "markdown",
   "metadata": {},
   "source": [
    "# On va télécharger les bases de données et repérer les variables pertinentes dans chacune des bases"
   ]
  },
  {
   "cell_type": "markdown",
   "metadata": {},
   "source": [
    "### On commmence par créer les dataframe"
   ]
  },
  {
   "cell_type": "markdown",
   "metadata": {},
   "source": [
    "Il faut légèrement modifier le fichier csv dézippé pour enlever les deux premières lignes, qui ne comprennent que des infos générales sur le format du fichier mais qui entrainaient un problème d'ouverture via la commande pd.read_csv car elles comportaient des virgules.\n",
    "\n",
    "On peut ensuite ouvrir sereinement toutes les base modifiées ainsi."
   ]
  },
  {
   "cell_type": "code",
   "execution_count": 2,
   "metadata": {},
   "outputs": [],
   "source": [
    "agri_forest = pd.read_csv(\"chiffre_agri_foret_peche.csv\")\n",
    "augment_pib = pd.read_csv(\"chiffre_augment_pib.csv\")\n",
    "energie_utilisee = pd.read_csv(\"chiffre_energie_utilise.csv\")\n",
    "emission_GES = pd.read_csv(\"chiffre_GES_total.csv\")\n",
    "nucle_total = pd.read_csv('chiffre_nucle_total_nuke_total_fossile.csv')\n",
    "part_indus_construc = pd.read_csv('chiffre_part_indus_construc.csv')\n",
    "pib = pd.read_csv(\"chiffre_pib.csv\")\n",
    "pop = pd.read_csv('chiffre_population.csv')\n",
    "nom_pays = pib['Country Name']\n"
   ]
  },
  {
   "cell_type": "code",
   "execution_count": 4,
   "metadata": {},
   "outputs": [],
   "source": [
    "df_list  = [agri_forest, augment_pib, energie_utilisee, emission_GES, nucle_total, part_indus_construc, pib, pop]"
   ]
  },
  {
   "cell_type": "markdown",
   "metadata": {},
   "source": [
    "### On regarde chaque dataframe pour identifier les variables pertinentes"
   ]
  },
  {
   "cell_type": "code",
   "execution_count": 5,
   "metadata": {},
   "outputs": [
    {
     "data": {
      "text/html": [
       "<div>\n",
       "<style scoped>\n",
       "    .dataframe tbody tr th:only-of-type {\n",
       "        vertical-align: middle;\n",
       "    }\n",
       "\n",
       "    .dataframe tbody tr th {\n",
       "        vertical-align: top;\n",
       "    }\n",
       "\n",
       "    .dataframe thead th {\n",
       "        text-align: right;\n",
       "    }\n",
       "</style>\n",
       "<table border=\"1\" class=\"dataframe\">\n",
       "  <thead>\n",
       "    <tr style=\"text-align: right;\">\n",
       "      <th></th>\n",
       "      <th>Country Name</th>\n",
       "      <th>Country Code</th>\n",
       "      <th>Indicator Name</th>\n",
       "      <th>Indicator Code</th>\n",
       "      <th>1960</th>\n",
       "      <th>1961</th>\n",
       "      <th>1962</th>\n",
       "      <th>1963</th>\n",
       "      <th>1964</th>\n",
       "      <th>1965</th>\n",
       "      <th>...</th>\n",
       "      <th>2012</th>\n",
       "      <th>2013</th>\n",
       "      <th>2014</th>\n",
       "      <th>2015</th>\n",
       "      <th>2016</th>\n",
       "      <th>2017</th>\n",
       "      <th>2018</th>\n",
       "      <th>2019</th>\n",
       "      <th>2020</th>\n",
       "      <th>Unnamed: 65</th>\n",
       "    </tr>\n",
       "  </thead>\n",
       "  <tbody>\n",
       "    <tr>\n",
       "      <th>0</th>\n",
       "      <td>Aruba</td>\n",
       "      <td>ABW</td>\n",
       "      <td>Agriculture, forestry, and fishing, value adde...</td>\n",
       "      <td>NV.AGR.TOTL.ZS</td>\n",
       "      <td>NaN</td>\n",
       "      <td>NaN</td>\n",
       "      <td>NaN</td>\n",
       "      <td>NaN</td>\n",
       "      <td>NaN</td>\n",
       "      <td>NaN</td>\n",
       "      <td>...</td>\n",
       "      <td>NaN</td>\n",
       "      <td>NaN</td>\n",
       "      <td>NaN</td>\n",
       "      <td>NaN</td>\n",
       "      <td>NaN</td>\n",
       "      <td>NaN</td>\n",
       "      <td>NaN</td>\n",
       "      <td>NaN</td>\n",
       "      <td>NaN</td>\n",
       "      <td>NaN</td>\n",
       "    </tr>\n",
       "  </tbody>\n",
       "</table>\n",
       "<p>1 rows × 66 columns</p>\n",
       "</div>"
      ],
      "text/plain": [
       "  Country Name Country Code  \\\n",
       "0        Aruba          ABW   \n",
       "\n",
       "                                      Indicator Name  Indicator Code  1960  \\\n",
       "0  Agriculture, forestry, and fishing, value adde...  NV.AGR.TOTL.ZS   NaN   \n",
       "\n",
       "   1961  1962  1963  1964  1965  ...  2012  2013  2014  2015  2016  2017  \\\n",
       "0   NaN   NaN   NaN   NaN   NaN  ...   NaN   NaN   NaN   NaN   NaN   NaN   \n",
       "\n",
       "   2018  2019  2020  Unnamed: 65  \n",
       "0   NaN   NaN   NaN          NaN  \n",
       "\n",
       "[1 rows x 66 columns]"
      ]
     },
     "execution_count": 5,
     "metadata": {},
     "output_type": "execute_result"
    }
   ],
   "source": [
    "agri_forest.head(1)"
   ]
  },
  {
   "cell_type": "markdown",
   "metadata": {},
   "source": [
    "On observe que tous les df sont construits de la même manière. On a le nom du pays, son abréviation, le nom de l'indicateur utilisé, son code, puis sa valeur pour chaque année. On a aussi toujours une colonne vide, qui ne nous gène pas vraiment."
   ]
  },
  {
   "cell_type": "markdown",
   "metadata": {},
   "source": [
    "### On nettoie les bases en enlevant les informations qui ne nous intéresse pas"
   ]
  },
  {
   "cell_type": "markdown",
   "metadata": {},
   "source": [
    "Il faudra enlever la colomne \"unnamed\", les colomnes qui correpondent aux années qui ne nous intéresssent pas, et éventuellement les lignes (=pays ou région) que l'on ne garde pas.\n",
    "\n",
    "Par exemple, conserve-t-on les pays comme Aruba dont on ne connait que le PIB? Je pense que la question elle est vite répondue.\n",
    "\n",
    "Pareil, est-ce que ça a vraiement un intérêt de garder les zones géographiques du type Asie du Sud-Est, etc?  ce ne sont que des aggrégats de pays, donc pas forcément."
   ]
  },
  {
   "cell_type": "markdown",
   "metadata": {},
   "source": [
    "### On fusionne les dataframe pour aggréger tous ces indicateurs"
   ]
  },
  {
   "cell_type": "markdown",
   "metadata": {},
   "source": [
    "On peut envisager plusieurs manières de fusionner ces df. Soit on a en index Pays_Année et les colomnes correspindent chacune à un indice, soit on a Pays_Indicateur et les colonnes correspondent chacune a une année. Ce sont les formats wide et long (cf tp2).\n",
    "\n",
    "Pour des raisons de lisibilité, il est évident que l'on va conserver le nom de l'indicateur, et non pas son nom de code. En revanche, il faudra voir à l'usage si on préfère utiler le nom complet des pays ou seulement leur nom de code"
   ]
  },
  {
   "cell_type": "markdown",
   "metadata": {},
   "source": [
    "On concatène les df, on les trie et on met en index la variable créée à cet effet ci-dessus."
   ]
  },
  {
   "cell_type": "code",
   "execution_count": 9,
   "metadata": {},
   "outputs": [],
   "source": [
    "#On fait ici la modif sur tous les df à l'aide d'une boucle for, \n",
    "for df in df_list :\n",
    "    df['Pays_indic'] = df['Country Code'].str[:3] + '_' + df['Indicator Name'].str[:99]\n",
    "#part_indus_construc['Pays_indic']\n",
    "\n",
    "df = pd.concat(df_list)\n",
    "df = df.sort_values('Pays_indic').set_index('Pays_indic')\n",
    "\n",
    "\n",
    "code_list = []\n",
    "for i in df['Country Code']:\n",
    "    if i not in code_list : \n",
    "        code_list.append(i)\n",
    "code_list.pop(-1)\n",
    "\n",
    "for i in code_list :\n",
    "    df.loc[i+'_PIB par Tete'] = df.loc[i+'_GDP (current US$)'][4:].astype(np.float64)/df.loc[i+'_Population, total'][4:].astype(np.float64)\n",
    "    df.loc[i+'_Emission de GES par Tete']=df.loc[i+'_Émissions totales de GES (kt d’équivalent CO2)'][4:].astype(np.float64)/df.loc[i+'_Population, total'][4:].astype(np.float64)"
   ]
  },
  {
   "cell_type": "markdown",
   "metadata": {},
   "source": [
    "### Suppression des colonnes et lignes inutiles"
   ]
  },
  {
   "cell_type": "markdown",
   "metadata": {},
   "source": [
    "On a ici la liste des colonnes que l'on supprimme pour se restreindre aux données qui nous intéressent, sutrement dit à partir de 1980 (je ne sais plsu si on avait dit 1980 ou 1985)."
   ]
  },
  {
   "cell_type": "code",
   "execution_count": 10,
   "metadata": {},
   "outputs": [],
   "source": [
    "useless_data_list = ['Unnamed: 65', 'Indicator Code', '1960', '1961', '1962', '1963', '1964', '1965', '1966', '1967', '1968', \n",
    "                   '1969', '1970', '1971', '1972', '1973', '1974', '1975', '1976', '1977', '1978', '1979', '2020']\n",
    "df = df.drop(useless_data_list, axis = 1)\n",
    "#df.sample(15)"
   ]
  },
  {
   "cell_type": "markdown",
   "metadata": {},
   "source": [
    "On va chercher à enlever les lignes qui ne contiennent que peu d'infos (au moins 10 valeurs manquantes)"
   ]
  },
  {
   "cell_type": "code",
   "execution_count": 11,
   "metadata": {},
   "outputs": [
    {
     "data": {
      "text/plain": [
       "(1916, 43)"
      ]
     },
     "execution_count": 11,
     "metadata": {},
     "output_type": "execute_result"
    }
   ],
   "source": [
    "df1 = df\n",
    "nan_dict = {}\n",
    "for i in range(len(df1.index)) :\n",
    "    nb_nan = df1.iloc[i].isnull().sum()\n",
    "    if nb_nan >10 :\n",
    "        nan_dict[list(df.index)[i]] = nb_nan\n",
    "\n",
    "\n",
    "df1 = df1.drop(index = nan_dict.keys(), axis = 0)\n",
    "df1.shape"
   ]
  },
  {
   "cell_type": "markdown",
   "metadata": {},
   "source": [
    "En faisant cela, on supprme environ 600 lignes. Pour le rafiner, il faudrait voir si l'on ne doit pas supprimer toutes les données d'un pays lorsque l'on a que des infos sur deux ou trois indicateurs (notamment qi que sur le PIB). On doit pouvoir s'en sortir en supprimant tous les indexs qui commencent par le code du pays détecté de cette manière."
   ]
  },
  {
   "cell_type": "markdown",
   "metadata": {},
   "source": [
    "[Adrien]La fonction pour récupérer les indexs des pays où on a moins de 3 indicateurs."
   ]
  },
  {
   "cell_type": "code",
   "execution_count": 12,
   "metadata": {},
   "outputs": [],
   "source": [
    "dic_pays = refresh_dico()"
   ]
  },
  {
   "cell_type": "code",
   "execution_count": 13,
   "metadata": {},
   "outputs": [],
   "source": [
    "for i in dic_pays.keys() :\n",
    "    if len(rech_ligne_pays(i,df1))<3 :\n",
    "        df1 = df1.drop(rech_ligne_pays(i,df1))\n",
    "dic_pays = refresh_dico()\n",
    "#ancienne fonction que j'ai écrite plus tot (beaucoup plus lente) :\n",
    "\n",
    "#for i in nom_pays : \n",
    "#    compter_nb_indic = df1.apply(lambda x: True if x['Country Name'] == i else False, axis = 1)\n",
    "#    if len(compter_nb_indic[compter_nb_indic == True].index) <3 :\n",
    "#        liste_pays_dic[i] = compter_nb_indic[compter_nb_indic == True].index'''\n"
   ]
  },
  {
   "cell_type": "markdown",
   "metadata": {},
   "source": [
    "On supprime les lignes des pays dont on a trop peu d'indicateurs complet : (servait pourl'ancienne fonction)"
   ]
  },
  {
   "cell_type": "code",
   "execution_count": 14,
   "metadata": {},
   "outputs": [],
   "source": [
    "#for i in liste_pays_dic.keys():\n",
    "#    df1 = df1.drop(index = liste_pays_dic[i], axis = 1)"
   ]
  },
  {
   "cell_type": "markdown",
   "metadata": {},
   "source": [
    "On a supprimer en tout 58 lignes. De plus on va aussi supprimer de la base les aggrégats de pays (ces lignes là sont colinéaires aux autres, ce qui risque de nous poser problème plus tard dans la prédiction). Voilà les régions à supprimer : Upper middle income, Latin America & the Caribbean (IDA & IBRD countries),Middle East & North Africa (IDA & IBRD countries),South Asia (IDA & IBRD), Middle East & North Africa (IDA & IBRD countries), Latin America & the Caribbean (IDA & IBRD countries),East Asia & Pacific (IDA & IBRD countries), Europe & Central Asia (IDA & IBRD countries), Sub-Saharan Africa, Sub-Saharan Africa (excluding high income), Post-demographic dividend, Pre-demographic dividend, OECD members, North America, Middle East & North Africa (excluding high income), Middle East & North Africa,Late-demographic dividend, Lower middle income\n",
    "Low & middle income,Latin America & Caribbean,Least developed countries: UN classification, Latin America & Caribbean (excluding high income),IBRD only,IDA & IBRD total,IDA total,IDA blend,Heavily indebted poor countries (HIPC),High income, European Union, Fragile and conflict affected situations,East Asia & Pacific (excluding high income)\n",
    "Early-demographic dividend, East Asia & Pacific, Europe & Central Asia (excluding high income), Europe & Central Asia,Central Europe and the Baltics\n",
    "\n",
    "\n",
    "à propos des aggrégats (comment ils aggrègent :)\n",
    "\n",
    "Aggregation Rules\n",
    "\n",
    "Aggregates are based on the World Bank’s regional and income classification of economies. Because of missing data, aggregates for groups of economies should be treated as approximations of unknown totals or average values. Regional and income group aggregates are based on the largest available set of data. The aggregation rules are intended to yield estimates for a consistent set of economies from one period to the next and for all indicators. Small differences between sums of subgroup aggregates and overall totals and averages may occur because of the approximations used. In addition, compilation errors and data reporting practices may cause discrepancies in theoretically identical aggregates such as world exports and world imports.\n",
    "\n",
    "Five methods of aggregation are used in the World Development Indicators:\n",
    "\n",
    "For group and world totals denoted in the tables by a t, missing data are imputed based on the relationship of the sum of available data to the total in the year of the previous estimate. The imputation process works forward and backward from 2010. Missing values in 2010 are imputed using one of several proxy variables for which complete data are available in that year. The imputed value is calculated so that it (or its proxy) bears the same relationship to the total of available data. Imputed values are usually not calculated if missing data account for more than a third of the total in the benchmark year. The variables used as proxies are GNI in U.S. dollars, total population, exports and imports of goods and services in U.S. dollars, and value added in agriculture, industry, manufacturing, and services in U.S. dollars.\n",
    "\n",
    "Aggregates marked by an s are sums of available data. Missing values are not imputed. Sums are not computed if more than a third of the observations in the series or a proxy for the series are missing in a given year.\n",
    "\n",
    "Aggregates of ratios are generally calculated as weighted averages of the ratios (indicated by w) using the value of the denominator or, in some cases, another indicator as a weight. The aggregate ratios are based on available data, including data for economies not shown in the main tables. Missing values are assumed to have the same average value as the available data. No aggregate is calculated if missing data account for more than a third of the value of weights in the benchmark year. In a few cases the aggregate ratio may be computed as the ratio of group totals after imputing values for missing data according to the above rules for computing totals.\n",
    "\n",
    "Aggregate growth rates are generally calculated as a weighted average of growth rates (and indicated by a w). In a few cases growth rates may be computed from time series of group totals. Growth rates are not calculated if more than half the observations in a period are missing. For further discussion of methods of computing growth rates see below.\n",
    "\n",
    "Aggregates denoted by an m are medians of the values shown in the table. No value is shown if more than half the observations for countries with a population of more than 1 million are missing. Exceptions to the rules occur throughout the book. Depending on the judgment of World Bank analysts, the aggregates may be based on as little as 50 percent of the available data.\n",
    "In other cases, where missing or excluded values are judged to be small or irrelevant, aggregates are based only on the data shown in the tables.\n",
    "\n",
    "Du coup en fonction de comment ils ont agrégés les données ça peut être intéressant ou non de les conserver. Notamment ceux pour lesquels ils ont utilisés la 1ère méthode puisqu'elle nous permet d'avoir une approximation des données qui nous manque (après est ce qu'on veut garder des approximations ? Dans tous les cas il faudra voir je pense si nos prédictions sont robustes à leur ajout ou non)"
   ]
  },
  {
   "cell_type": "code",
   "execution_count": 15,
   "metadata": {
    "scrolled": true
   },
   "outputs": [],
   "source": [
    "#/!\\ il ne faut faire tourner qu'une seule fois cette fonction, sinon on a une KeyError\n",
    "liste_supression = [\"Upper middle income\", \"Latin America & the Caribbean (IDA & IBRD countries)\",\"Middle East & North Africa (IDA & IBRD countries)\",\"South Asia (IDA & IBRD)\",\"Middle East & North Africa (IDA & IBRD countries)\", \"Latin America & the Caribbean (IDA & IBRD countries)\",\"East Asia & Pacific (IDA & IBRD countries)\",\"Europe & Central Asia (IDA & IBRD countries)\",\"Sub-Saharan Africa\", \"Sub-Saharan Africa (excluding high income)\",\"Post-demographic dividend\", \"Pre-demographic dividend\", \"OECD members\", \"North America\", \"Middle East & North Africa (excluding high income)\", \"Middle East & North Africa\",\"Late-demographic dividend\", \"Lower middle income\",\"Low & middle income\",\"Latin America & Caribbean\",\"Least developed countries: UN classification\", \"Latin America & Caribbean (excluding high income)\",\"IBRD only\",\"IDA & IBRD total\",\"IDA total\",\"IDA blend\",\"Heavily indebted poor countries (HIPC)\",\"High income\",\"European Union\", \"Fragile and conflict affected situations\",\"East Asia & Pacific (excluding high income)\",\"Early-demographic dividend\",\"East Asia & Pacific\",\"Europe & Central Asia (excluding high income)\",\"Europe & Central Asia\",\"Central Europe and the Baltics\"]\n",
    "\n",
    "for i in liste_supression :\n",
    "    df1 = df1.drop(labels = rech_ligne_pays(i,df1)) \n",
    "dic_pays = refresh_dico()\n"
   ]
  },
  {
   "cell_type": "markdown",
   "metadata": {},
   "source": [
    "On a supprimer en tout une centaine de lignes encore. On actualise la liste pour stocker uniquement les noms des pays restants :"
   ]
  },
  {
   "cell_type": "markdown",
   "metadata": {},
   "source": [
    "# Premières représentations graphiques"
   ]
  },
  {
   "cell_type": "markdown",
   "metadata": {},
   "source": [
    "On créé un vecteur temps pour pouvoir créer des graphiques en fonction du temps facilement."
   ]
  },
  {
   "cell_type": "code",
   "execution_count": 16,
   "metadata": {},
   "outputs": [],
   "source": [
    "t = np.linspace(1980,2019,40)"
   ]
  },
  {
   "cell_type": "code",
   "execution_count": 17,
   "metadata": {},
   "outputs": [
    {
     "data": {
      "image/png": "[encoded data removed]",
      "text/plain": [
       "<Figure size 432x288 with 2 Axes>"
      ]
     },
     "metadata": {
      "needs_background": "light"
     },
     "output_type": "display_data"
    },
    {
     "data": {
      "image/png": "[encoded data removed]",
      "text/plain": [
       "<Figure size 432x288 with 2 Axes>"
      ]
     },
     "metadata": {
      "needs_background": "light"
     },
     "output_type": "display_data"
    }
   ],
   "source": [
    "#Sur deux subplots différents\n",
    "plt.subplot(211)\n",
    "plt.plot(t[0:31],df1.loc['FRA_Émissions totales de GES (kt d’équivalent CO2)'][2:42].to_numpy()[1:32].T)\n",
    "plt.subplot(212)\n",
    "plt.plot(t[0:31],df1.loc['FRA_GDP growth (annual %)'][2:42].to_numpy()[1:32].T)\n",
    "\n",
    "plt.show()\n",
    "\n",
    "#Sur le même plot\\n\",\n",
    "\n",
    "fig, ax1 = plt.subplots()\n",
    "\n",
    "color = 'tab:red'\n",
    "ax1.set_xlabel('time (s)')\n",
    "ax1.set_ylabel('Emission de GES', color=color)\n",
    "ax1.plot(t[0:31], df1.loc['FRA_Émissions totales de GES (kt d’équivalent CO2)'][2:42].to_numpy()[1:32].T, color=color)\n",
    "ax1.tick_params(axis='y', labelcolor=color)\n",
    "\n",
    "ax2 = ax1.twinx()  #  commence un deuxième axe qui partage le même axe x\n",
    "\n",
    "color = 'tab:blue'\n",
    "ax2.set_ylabel('PIB', color=color)  \n",
    "ax2.plot(t[0:31], df1.loc['FRA_GDP (current US$)'][2:42].to_numpy()[1:32].T, color=color)\n",
    "ax2.tick_params(axis='y', labelcolor=color)\n",
    "\n",
    "fig.tight_layout()  # otherwise the right y-label is slightly clipped\n",
    "plt.show()"
   ]
  },
  {
   "cell_type": "code",
   "execution_count": 18,
   "metadata": {},
   "outputs": [
    {
     "data": {
      "image/png": "[encoded data removed]",
      "text/plain": [
       "<Figure size 432x288 with 2 Axes>"
      ]
     },
     "metadata": {
      "needs_background": "light"
     },
     "output_type": "display_data"
    },
    {
     "data": {
      "image/png": "[encoded data removed]",
      "text/plain": [
       "<Figure size 432x288 with 2 Axes>"
      ]
     },
     "metadata": {
      "needs_background": "light"
     },
     "output_type": "display_data"
    }
   ],
   "source": [
    "#Sur deux subplots différents\n",
    "plt.subplot(211)\n",
    "plt.plot(t[0:31],df1.loc['USA_Émissions totales de GES (kt d’équivalent CO2)'][2:42].to_numpy()[1:32].T)\n",
    "plt.subplot(212)\n",
    "plt.plot(t[0:31],df1.loc['USA_GDP growth (annual %)'][2:42].to_numpy()[1:32].T)\n",
    "\n",
    "plt.show()\n",
    "\n",
    "#Sur le même plot\\n\",\n",
    "\n",
    "fig, ax1 = plt.subplots()\n",
    "\n",
    "color = 'tab:red'\n",
    "ax1.set_xlabel('time (s)')\n",
    "ax1.set_ylabel('Emission de GES', color=color)\n",
    "ax1.plot(t[0:31], df1.loc['USA_Émissions totales de GES (kt d’équivalent CO2)'][2:42].to_numpy()[1:32].T, color=color)\n",
    "ax1.tick_params(axis='y', labelcolor=color)\n",
    "\n",
    "ax2 = ax1.twinx()  #  commence un deuxième axe qui partage le même axe x\n",
    "\n",
    "color = 'tab:blue'\n",
    "ax2.set_ylabel('PIB', color=color)  \n",
    "ax2.plot(t[0:31], df1.loc['USA_GDP (current US$)'][2:42].to_numpy()[1:32].T, color=color)\n",
    "ax2.tick_params(axis='y', labelcolor=color)\n",
    "\n",
    "fig.tight_layout()  # otherwise the right y-label is slightly clipped\n",
    "plt.show()\n"
   ]
  },
  {
   "cell_type": "markdown",
   "metadata": {},
   "source": [
    "On va créer un nouvel indicateur qui va nous donner la croissance à l'année des gazs à effet de serre pour chaque pays :"
   ]
  },
  {
   "cell_type": "code",
   "execution_count": 19,
   "metadata": {},
   "outputs": [],
   "source": [
    "for i in rech_ligne_indic('Émissions totales de GES \\(kt d’équivalent CO2\\)',df1) :\n",
    "    df1.loc[i[0:3]+'_croissance émissions GES (kt d’équivalent CO2)'] = df1.loc[i][3:44].astype(np.float64).diff()\n",
    "    df1.loc[i[0:3]+'_croissance émissions GES (pourcent)'] = df1.loc[i[0:3]+'_croissance émissions GES (kt d’équivalent CO2)']*100 /(df1.loc[i[0:3]+'_Émissions totales de GES (kt d’équivalent CO2)']-df1.loc[i[0:3]+'_croissance émissions GES (kt d’équivalent CO2)'] ) "
   ]
  },
  {
   "cell_type": "code",
   "execution_count": 20,
   "metadata": {},
   "outputs": [
    {
     "data": {
      "text/plain": [
       "['AFG_Émissions totales de GES (kt d’équivalent CO2)',\n",
       " 'AGO_Émissions totales de GES (kt d’équivalent CO2)',\n",
       " 'ALB_Émissions totales de GES (kt d’équivalent CO2)',\n",
       " 'ARB_Émissions totales de GES (kt d’équivalent CO2)',\n",
       " 'ARE_Émissions totales de GES (kt d’équivalent CO2)',\n",
       " 'ARG_Émissions totales de GES (kt d’équivalent CO2)',\n",
       " 'ARM_Émissions totales de GES (kt d’équivalent CO2)',\n",
       " 'ASM_Émissions totales de GES (kt d’équivalent CO2)',\n",
       " 'ATG_Émissions totales de GES (kt d’équivalent CO2)',\n",
       " 'AUS_Émissions totales de GES (kt d’équivalent CO2)',\n",
       " 'AUT_Émissions totales de GES (kt d’équivalent CO2)',\n",
       " 'AZE_Émissions totales de GES (kt d’équivalent CO2)',\n",
       " 'BDI_Émissions totales de GES (kt d’équivalent CO2)',\n",
       " 'BEL_Émissions totales de GES (kt d’équivalent CO2)',\n",
       " 'BEN_Émissions totales de GES (kt d’équivalent CO2)',\n",
       " 'BFA_Émissions totales de GES (kt d’équivalent CO2)',\n",
       " 'BGD_Émissions totales de GES (kt d’équivalent CO2)',\n",
       " 'BGR_Émissions totales de GES (kt d’équivalent CO2)',\n",
       " 'BHS_Émissions totales de GES (kt d’équivalent CO2)',\n",
       " 'BIH_Émissions totales de GES (kt d’équivalent CO2)',\n",
       " 'BLR_Émissions totales de GES (kt d’équivalent CO2)',\n",
       " 'BLZ_Émissions totales de GES (kt d’équivalent CO2)',\n",
       " 'BMU_Émissions totales de GES (kt d’équivalent CO2)',\n",
       " 'BOL_Émissions totales de GES (kt d’équivalent CO2)',\n",
       " 'BRA_Émissions totales de GES (kt d’équivalent CO2)',\n",
       " 'BRN_Émissions totales de GES (kt d’équivalent CO2)',\n",
       " 'BTN_Émissions totales de GES (kt d’équivalent CO2)',\n",
       " 'BWA_Émissions totales de GES (kt d’équivalent CO2)',\n",
       " 'CAF_Émissions totales de GES (kt d’équivalent CO2)',\n",
       " 'CAN_Émissions totales de GES (kt d’équivalent CO2)',\n",
       " 'CHE_Émissions totales de GES (kt d’équivalent CO2)',\n",
       " 'CHL_Émissions totales de GES (kt d’équivalent CO2)',\n",
       " 'CHN_Émissions totales de GES (kt d’équivalent CO2)',\n",
       " 'CIV_Émissions totales de GES (kt d’équivalent CO2)',\n",
       " 'CMR_Émissions totales de GES (kt d’équivalent CO2)',\n",
       " 'COD_Émissions totales de GES (kt d’équivalent CO2)',\n",
       " 'COG_Émissions totales de GES (kt d’équivalent CO2)',\n",
       " 'COL_Émissions totales de GES (kt d’équivalent CO2)',\n",
       " 'COM_Émissions totales de GES (kt d’équivalent CO2)',\n",
       " 'CRI_Émissions totales de GES (kt d’équivalent CO2)',\n",
       " 'CSS_Émissions totales de GES (kt d’équivalent CO2)',\n",
       " 'CUB_Émissions totales de GES (kt d’équivalent CO2)',\n",
       " 'CYP_Émissions totales de GES (kt d’équivalent CO2)',\n",
       " 'CZE_Émissions totales de GES (kt d’équivalent CO2)',\n",
       " 'DEU_Émissions totales de GES (kt d’équivalent CO2)',\n",
       " 'DJI_Émissions totales de GES (kt d’équivalent CO2)',\n",
       " 'DMA_Émissions totales de GES (kt d’équivalent CO2)',\n",
       " 'DNK_Émissions totales de GES (kt d’équivalent CO2)',\n",
       " 'DOM_Émissions totales de GES (kt d’équivalent CO2)',\n",
       " 'DZA_Émissions totales de GES (kt d’équivalent CO2)',\n",
       " 'ECU_Émissions totales de GES (kt d’équivalent CO2)',\n",
       " 'EGY_Émissions totales de GES (kt d’équivalent CO2)',\n",
       " 'EMU_Émissions totales de GES (kt d’équivalent CO2)',\n",
       " 'ESP_Émissions totales de GES (kt d’équivalent CO2)',\n",
       " 'EST_Émissions totales de GES (kt d’équivalent CO2)',\n",
       " 'ETH_Émissions totales de GES (kt d’équivalent CO2)',\n",
       " 'FIN_Émissions totales de GES (kt d’équivalent CO2)',\n",
       " 'FJI_Émissions totales de GES (kt d’équivalent CO2)',\n",
       " 'FRA_Émissions totales de GES (kt d’équivalent CO2)',\n",
       " 'GAB_Émissions totales de GES (kt d’équivalent CO2)',\n",
       " 'GBR_Émissions totales de GES (kt d’équivalent CO2)',\n",
       " 'GEO_Émissions totales de GES (kt d’équivalent CO2)',\n",
       " 'GHA_Émissions totales de GES (kt d’équivalent CO2)',\n",
       " 'GIN_Émissions totales de GES (kt d’équivalent CO2)',\n",
       " 'GMB_Émissions totales de GES (kt d’équivalent CO2)',\n",
       " 'GNB_Émissions totales de GES (kt d’équivalent CO2)',\n",
       " 'GNQ_Émissions totales de GES (kt d’équivalent CO2)',\n",
       " 'GRC_Émissions totales de GES (kt d’équivalent CO2)',\n",
       " 'GRD_Émissions totales de GES (kt d’équivalent CO2)',\n",
       " 'GTM_Émissions totales de GES (kt d’équivalent CO2)',\n",
       " 'GUM_Émissions totales de GES (kt d’équivalent CO2)',\n",
       " 'GUY_Émissions totales de GES (kt d’équivalent CO2)',\n",
       " 'HKG_Émissions totales de GES (kt d’équivalent CO2)',\n",
       " 'HND_Émissions totales de GES (kt d’équivalent CO2)',\n",
       " 'HRV_Émissions totales de GES (kt d’équivalent CO2)',\n",
       " 'HTI_Émissions totales de GES (kt d’équivalent CO2)',\n",
       " 'HUN_Émissions totales de GES (kt d’équivalent CO2)',\n",
       " 'IDN_Émissions totales de GES (kt d’équivalent CO2)',\n",
       " 'IDX_Émissions totales de GES (kt d’équivalent CO2)',\n",
       " 'IND_Émissions totales de GES (kt d’équivalent CO2)',\n",
       " 'IRL_Émissions totales de GES (kt d’équivalent CO2)',\n",
       " 'IRQ_Émissions totales de GES (kt d’équivalent CO2)',\n",
       " 'ISL_Émissions totales de GES (kt d’équivalent CO2)',\n",
       " 'ISR_Émissions totales de GES (kt d’équivalent CO2)',\n",
       " 'ITA_Émissions totales de GES (kt d’équivalent CO2)',\n",
       " 'JAM_Émissions totales de GES (kt d’équivalent CO2)',\n",
       " 'JOR_Émissions totales de GES (kt d’équivalent CO2)',\n",
       " 'JPN_Émissions totales de GES (kt d’équivalent CO2)',\n",
       " 'KAZ_Émissions totales de GES (kt d’équivalent CO2)',\n",
       " 'KEN_Émissions totales de GES (kt d’équivalent CO2)',\n",
       " 'KGZ_Émissions totales de GES (kt d’équivalent CO2)',\n",
       " 'KHM_Émissions totales de GES (kt d’équivalent CO2)',\n",
       " 'KOR_Émissions totales de GES (kt d’équivalent CO2)',\n",
       " 'KWT_Émissions totales de GES (kt d’équivalent CO2)',\n",
       " 'LAO_Émissions totales de GES (kt d’équivalent CO2)',\n",
       " 'LBR_Émissions totales de GES (kt d’équivalent CO2)',\n",
       " 'LBY_Émissions totales de GES (kt d’équivalent CO2)',\n",
       " 'LCA_Émissions totales de GES (kt d’équivalent CO2)',\n",
       " 'LIC_Émissions totales de GES (kt d’équivalent CO2)',\n",
       " 'LKA_Émissions totales de GES (kt d’équivalent CO2)',\n",
       " 'LSO_Émissions totales de GES (kt d’équivalent CO2)',\n",
       " 'LTU_Émissions totales de GES (kt d’équivalent CO2)',\n",
       " 'LUX_Émissions totales de GES (kt d’équivalent CO2)',\n",
       " 'LVA_Émissions totales de GES (kt d’équivalent CO2)',\n",
       " 'MAR_Émissions totales de GES (kt d’équivalent CO2)',\n",
       " 'MDA_Émissions totales de GES (kt d’équivalent CO2)',\n",
       " 'MDG_Émissions totales de GES (kt d’équivalent CO2)',\n",
       " 'MEX_Émissions totales de GES (kt d’équivalent CO2)',\n",
       " 'MIC_Émissions totales de GES (kt d’équivalent CO2)',\n",
       " 'MLI_Émissions totales de GES (kt d’équivalent CO2)',\n",
       " 'MMR_Émissions totales de GES (kt d’équivalent CO2)',\n",
       " 'MNG_Émissions totales de GES (kt d’équivalent CO2)',\n",
       " 'MNP_Émissions totales de GES (kt d’équivalent CO2)',\n",
       " 'MOZ_Émissions totales de GES (kt d’équivalent CO2)',\n",
       " 'MRT_Émissions totales de GES (kt d’équivalent CO2)',\n",
       " 'MWI_Émissions totales de GES (kt d’équivalent CO2)',\n",
       " 'MYS_Émissions totales de GES (kt d’équivalent CO2)',\n",
       " 'NAM_Émissions totales de GES (kt d’équivalent CO2)',\n",
       " 'NER_Émissions totales de GES (kt d’équivalent CO2)',\n",
       " 'NGA_Émissions totales de GES (kt d’équivalent CO2)',\n",
       " 'NIC_Émissions totales de GES (kt d’équivalent CO2)',\n",
       " 'NLD_Émissions totales de GES (kt d’équivalent CO2)',\n",
       " 'NOR_Émissions totales de GES (kt d’équivalent CO2)',\n",
       " 'NPL_Émissions totales de GES (kt d’équivalent CO2)',\n",
       " 'NZL_Émissions totales de GES (kt d’équivalent CO2)',\n",
       " 'OMN_Émissions totales de GES (kt d’équivalent CO2)',\n",
       " 'OSS_Émissions totales de GES (kt d’équivalent CO2)',\n",
       " 'PAK_Émissions totales de GES (kt d’équivalent CO2)',\n",
       " 'PAN_Émissions totales de GES (kt d’équivalent CO2)',\n",
       " 'PER_Émissions totales de GES (kt d’équivalent CO2)',\n",
       " 'PHL_Émissions totales de GES (kt d’équivalent CO2)',\n",
       " 'PNG_Émissions totales de GES (kt d’équivalent CO2)',\n",
       " 'POL_Émissions totales de GES (kt d’équivalent CO2)',\n",
       " 'PRI_Émissions totales de GES (kt d’équivalent CO2)',\n",
       " 'PRK_Émissions totales de GES (kt d’équivalent CO2)',\n",
       " 'PRT_Émissions totales de GES (kt d’équivalent CO2)',\n",
       " 'PRY_Émissions totales de GES (kt d’équivalent CO2)',\n",
       " 'PSS_Émissions totales de GES (kt d’équivalent CO2)',\n",
       " 'ROU_Émissions totales de GES (kt d’équivalent CO2)',\n",
       " 'RUS_Émissions totales de GES (kt d’équivalent CO2)',\n",
       " 'RWA_Émissions totales de GES (kt d’équivalent CO2)',\n",
       " 'SAS_Émissions totales de GES (kt d’équivalent CO2)',\n",
       " 'SDN_Émissions totales de GES (kt d’équivalent CO2)',\n",
       " 'SEN_Émissions totales de GES (kt d’équivalent CO2)',\n",
       " 'SLB_Émissions totales de GES (kt d’équivalent CO2)',\n",
       " 'SLE_Émissions totales de GES (kt d’équivalent CO2)',\n",
       " 'SLV_Émissions totales de GES (kt d’équivalent CO2)',\n",
       " 'SOM_Émissions totales de GES (kt d’équivalent CO2)',\n",
       " 'SST_Émissions totales de GES (kt d’équivalent CO2)',\n",
       " 'STP_Émissions totales de GES (kt d’équivalent CO2)',\n",
       " 'SUR_Émissions totales de GES (kt d’équivalent CO2)',\n",
       " 'SVK_Émissions totales de GES (kt d’équivalent CO2)',\n",
       " 'SVN_Émissions totales de GES (kt d’équivalent CO2)',\n",
       " 'SWE_Émissions totales de GES (kt d’équivalent CO2)',\n",
       " 'SWZ_Émissions totales de GES (kt d’équivalent CO2)',\n",
       " 'SYR_Émissions totales de GES (kt d’équivalent CO2)',\n",
       " 'TCD_Émissions totales de GES (kt d’équivalent CO2)',\n",
       " 'TGO_Émissions totales de GES (kt d’équivalent CO2)',\n",
       " 'THA_Émissions totales de GES (kt d’équivalent CO2)',\n",
       " 'TJK_Émissions totales de GES (kt d’équivalent CO2)',\n",
       " 'TKM_Émissions totales de GES (kt d’équivalent CO2)',\n",
       " 'TLS_Émissions totales de GES (kt d’équivalent CO2)',\n",
       " 'TON_Émissions totales de GES (kt d’équivalent CO2)',\n",
       " 'TSS_Émissions totales de GES (kt d’équivalent CO2)',\n",
       " 'TUN_Émissions totales de GES (kt d’équivalent CO2)',\n",
       " 'TUR_Émissions totales de GES (kt d’équivalent CO2)',\n",
       " 'TUV_Émissions totales de GES (kt d’équivalent CO2)',\n",
       " 'TZA_Émissions totales de GES (kt d’équivalent CO2)',\n",
       " 'UGA_Émissions totales de GES (kt d’équivalent CO2)',\n",
       " 'UKR_Émissions totales de GES (kt d’équivalent CO2)',\n",
       " 'URY_Émissions totales de GES (kt d’équivalent CO2)',\n",
       " 'USA_Émissions totales de GES (kt d’équivalent CO2)',\n",
       " 'UZB_Émissions totales de GES (kt d’équivalent CO2)',\n",
       " 'VCT_Émissions totales de GES (kt d’équivalent CO2)',\n",
       " 'VEN_Émissions totales de GES (kt d’équivalent CO2)',\n",
       " 'VIR_Émissions totales de GES (kt d’équivalent CO2)',\n",
       " 'VNM_Émissions totales de GES (kt d’équivalent CO2)',\n",
       " 'VUT_Émissions totales de GES (kt d’équivalent CO2)',\n",
       " 'WLD_Émissions totales de GES (kt d’équivalent CO2)',\n",
       " 'WSM_Émissions totales de GES (kt d’équivalent CO2)',\n",
       " 'YEM_Émissions totales de GES (kt d’équivalent CO2)',\n",
       " 'ZMB_Émissions totales de GES (kt d’équivalent CO2)',\n",
       " 'ZWE_Émissions totales de GES (kt d’équivalent CO2)']"
      ]
     },
     "execution_count": 20,
     "metadata": {},
     "output_type": "execute_result"
    }
   ],
   "source": [
    "rech_ligne_indic('Émissions totales de GES \\(kt d’équivalent CO2\\)',df1)"
   ]
  },
  {
   "cell_type": "code",
   "execution_count": null,
   "metadata": {},
   "outputs": [],
   "source": []
  },
  {
   "cell_type": "markdown",
   "metadata": {},
   "source": [
    "Maintenant qu'on à la croissance des émissions de gazs à effet de serre par an, on peut représenter la croissance du PIB et celle-ci sur le même graphe :"
   ]
  },
  {
   "cell_type": "code",
   "execution_count": 21,
   "metadata": {},
   "outputs": [
    {
     "data": {
      "image/png": "[encoded data removed]",
      "text/plain": [
       "<Figure size 432x288 with 2 Axes>"
      ]
     },
     "metadata": {
      "needs_background": "light"
     },
     "output_type": "display_data"
    }
   ],
   "source": [
    "#Sur le même plot,\n",
    "\n",
    "fig, ax1 = plt.subplots()\n",
    "\n",
    "color = 'tab:red'\n",
    "ax1.set_xlabel('time (s)')\n",
    "ax1.set_ylabel('Emission de GES', color=color)\n",
    "ax1.plot(t[0:31], df1.loc['USA_croissance émissions GES (pourcent)'][2:42].to_numpy()[1:32].T, color=color)\n",
    "ax1.tick_params(axis='y', labelcolor=color)\n",
    "\n",
    "ax2 = ax1.twinx()  #  commence un deuxième axe qui partage le même axe x\n",
    "\n",
    "color = 'tab:blue'\n",
    "ax2.set_ylabel('Croissance du PIB', color=color)  \n",
    "ax2.plot(t[0:31], df1.loc['USA_GDP growth (annual %)'][2:42].to_numpy()[1:32].T, color=color)\n",
    "ax2.tick_params(axis='y', labelcolor=color)\n",
    "\n",
    "fig.tight_layout()  # otherwise the right y-label is slightly clipped\n",
    "plt.show()"
   ]
  },
  {
   "cell_type": "markdown",
   "metadata": {},
   "source": [
    "On peut voir qu'il y a apparemment une certaine concommitance des courbes, cela-dit il faut faire attention aux effets d'échelles car ici le PIB ne passe presque jamais dans le négatif (ce qui est loin d'être le cas de la croissance des émissions de gaz à effet de serre). On va essayer de le faire dans le cas de la France pour se faire plus d'idées :"
   ]
  },
  {
   "cell_type": "code",
   "execution_count": 22,
   "metadata": {},
   "outputs": [
    {
     "data": {
      "image/png": "[encoded data removed]",
      "text/plain": [
       "<Figure size 432x288 with 2 Axes>"
      ]
     },
     "metadata": {
      "needs_background": "light"
     },
     "output_type": "display_data"
    }
   ],
   "source": [
    "#Sur le même plot,\n",
    "\n",
    "fig, ax1 = plt.subplots()\n",
    "\n",
    "color = 'tab:red'\n",
    "ax1.set_xlabel('time (s)')\n",
    "ax1.set_ylabel('Emission de GES', color=color)\n",
    "ax1.plot(t[0:31], df1.loc['FRA_croissance émissions GES (pourcent)'][2:42].to_numpy()[1:32].T, color=color)\n",
    "ax1.tick_params(axis='y', labelcolor=color)\n",
    "\n",
    "ax2 = ax1.twinx()  #  commence un deuxième axe qui partage le même axe x\n",
    "\n",
    "color = 'tab:blue'\n",
    "ax2.set_ylabel('Croissance du PIB', color=color)  \n",
    "ax2.plot(t[0:31], df1.loc['FRA_GDP growth (annual %)'][2:42].to_numpy()[1:32].T, color=color)\n",
    "ax2.tick_params(axis='y', labelcolor=color)\n",
    "\n",
    "fig.tight_layout()  # otherwise the right y-label is slightly clipped\n",
    "plt.show()"
   ]
  },
  {
   "cell_type": "markdown",
   "metadata": {},
   "source": [
    "Idée : on pourrait essayer de faire du clustering afin de déterminer la dépendance de la croissance à certains facteurs afin d'essayer de prédire la dépendance de la croissance à l'émission de gaz à effet de serre.\n",
    "\n",
    "Je vais essayer de régresser le PIB sur l'émission de gaz à effet de serre dans plusieurs pays : la France, Les Etats Unis, La Chine et le Zimbabwe"
   ]
  },
  {
   "cell_type": "markdown",
   "metadata": {},
   "source": [
    "## Régressions"
   ]
  },
  {
   "cell_type": "markdown",
   "metadata": {},
   "source": [
    "### Régressions avec scipy"
   ]
  },
  {
   "cell_type": "code",
   "execution_count": 42,
   "metadata": {},
   "outputs": [
    {
     "data": {
      "text/html": [
       "<div>\n",
       "<style scoped>\n",
       "    .dataframe tbody tr th:only-of-type {\n",
       "        vertical-align: middle;\n",
       "    }\n",
       "\n",
       "    .dataframe tbody tr th {\n",
       "        vertical-align: top;\n",
       "    }\n",
       "\n",
       "    .dataframe thead th {\n",
       "        text-align: right;\n",
       "    }\n",
       "</style>\n",
       "<table border=\"1\" class=\"dataframe\">\n",
       "  <thead>\n",
       "    <tr style=\"text-align: right;\">\n",
       "      <th></th>\n",
       "      <th>Coeff</th>\n",
       "      <th>Cst</th>\n",
       "    </tr>\n",
       "  </thead>\n",
       "  <tbody>\n",
       "    <tr>\n",
       "      <th>AGO</th>\n",
       "      <td>-6.620092e-08</td>\n",
       "      <td>41266.421464</td>\n",
       "    </tr>\n",
       "    <tr>\n",
       "      <th>ALB</th>\n",
       "      <td>4.616427e-08</td>\n",
       "      <td>7910.371044</td>\n",
       "    </tr>\n",
       "    <tr>\n",
       "      <th>ARB</th>\n",
       "      <td>9.907592e-07</td>\n",
       "      <td>657614.053686</td>\n",
       "    </tr>\n",
       "    <tr>\n",
       "      <th>ARE</th>\n",
       "      <td>4.617759e-07</td>\n",
       "      <td>57509.188888</td>\n",
       "    </tr>\n",
       "    <tr>\n",
       "      <th>ARG</th>\n",
       "      <td>3.505091e-07</td>\n",
       "      <td>232757.502216</td>\n",
       "    </tr>\n",
       "  </tbody>\n",
       "</table>\n",
       "</div>"
      ],
      "text/plain": [
       "            Coeff            Cst\n",
       "AGO -6.620092e-08   41266.421464\n",
       "ALB  4.616427e-08    7910.371044\n",
       "ARB  9.907592e-07  657614.053686\n",
       "ARE  4.617759e-07   57509.188888\n",
       "ARG  3.505091e-07  232757.502216"
      ]
     },
     "execution_count": 42,
     "metadata": {},
     "output_type": "execute_result"
    }
   ],
   "source": [
    "import scipy.optimize\n",
    "def affin(x,a,b): \n",
    "    return a*x + b\n",
    "\n",
    "def regress2 (country_code, regresse, regresseur, courbe = False):\n",
    "    if country_code + regresse in df1.index and country_code + regresseur in df1.index :\n",
    "        interm= pd.DataFrame(df1.loc[[country_code + regresse, country_code + regresseur]]).drop(['Country Name',\n",
    "        'Country Code','Indicator Name'],axis =1).dropna(axis = 1)\n",
    "        if interm.shape != (2,0): \n",
    "\n",
    "            regresse_val = pd.DataFrame(interm.loc[country_code + regresse][3:30])[country_code + regresse].to_numpy(dtype = float)\n",
    "            regresseur_val = pd.DataFrame(interm.loc[country_code + regresseur][3:30])[country_code + regresseur].to_numpy(dtype = float)\n",
    "\n",
    "            popt, pcov = scipy.optimize.curve_fit(affin, regresseur_val, regresse_val)\n",
    "            coeff, cst = popt[0], popt[1]\n",
    "\n",
    "            if courbe == True :\n",
    "                fig, ax1 = plt.subplots()\n",
    "\n",
    "                color = 'tab:red'\n",
    "                ax1.set_xlabel('time (s)' + country_code, color = 'k')\n",
    "                ax1.set_ylabel(regresse, color='k')\n",
    "                ax1.plot(t[0:31], df1.loc[country_code + regresse][2:42].to_numpy()[1:32].T, color='k')\n",
    "                ax1.tick_params(axis='y', labelcolor='k')\n",
    "\n",
    "                ax1.plot(t[0:31], coeff*df1.loc[country_code + regresseur][2:42].to_numpy()[1:32].T + cst, color='b')\n",
    "\n",
    "                fig.tight_layout()  # otherwise the right y-label is slightly clipped\n",
    "                plt.show()\n",
    "\n",
    "            return coeff, cst\n",
    "    else : return \n",
    "    \n",
    "code_list = []\n",
    "for i in df1['Country Code']:\n",
    "    if i not in code_list : \n",
    "        code_list.append(i)\n",
    "code_list.pop(-1)\n",
    "\n",
    "regresseur = '_GDP (current US$)'\n",
    "regresse = '_Émissions totales de GES (kt d’équivalent CO2)'\n",
    "dic = {}\n",
    "\n",
    "for code in code_list:\n",
    "    dic[code] = regress2(code, regresse, regresseur, False)\n",
    "    if dic[code] == None:\n",
    "        dic.pop(code)\n",
    "#Attention, il faudra donner un nom explicit à chaque df, différent pour chaque régression.\n",
    "regress2_df = pd.DataFrame(dic.values(), dic.keys(), ['Coeff', 'Cst'])\n",
    "regress2_df.head()"
   ]
  },
  {
   "cell_type": "markdown",
   "metadata": {},
   "source": [
    "### Régressions graphiques avec Seaborn"
   ]
  },
  {
   "cell_type": "code",
   "execution_count": 24,
   "metadata": {},
   "outputs": [],
   "source": [
    "from sklearn.linear_model import LinearRegression\n",
    "from sklearn.model_selection import train_test_split\n",
    "import sklearn.metrics"
   ]
  },
  {
   "cell_type": "code",
   "execution_count": 26,
   "metadata": {},
   "outputs": [
    {
     "data": {
      "image/png": "[encoded data removed]",
      "text/plain": [
       "<Figure size 360x360 with 1 Axes>"
      ]
     },
     "metadata": {
      "needs_background": "light"
     },
     "output_type": "display_data"
    },
    {
     "data": {
      "image/png": "[encoded data removed]",
      "text/plain": [
       "<Figure size 360x360 with 1 Axes>"
      ]
     },
     "metadata": {
      "needs_background": "light"
     },
     "output_type": "display_data"
    },
    {
     "data": {
      "image/png": "[encoded data removed]",
      "text/plain": [
       "<Figure size 360x360 with 1 Axes>"
      ]
     },
     "metadata": {
      "needs_background": "light"
     },
     "output_type": "display_data"
    },
    {
     "data": {
      "image/png": "[encoded data removed]",
      "text/plain": [
       "<Figure size 360x360 with 1 Axes>"
      ]
     },
     "metadata": {
      "needs_background": "light"
     },
     "output_type": "display_data"
    },
    {
     "data": {
      "image/png": "[encoded data removed]",
      "text/plain": [
       "<Figure size 360x360 with 1 Axes>"
      ]
     },
     "metadata": {
      "needs_background": "light"
     },
     "output_type": "display_data"
    }
   ],
   "source": [
    "\n",
    "for i in ['IND','CHN','ZWE','SWE','USA']:\n",
    "    sns.lmplot(x=i+\"_GDP growth (annual %)\", y=i+\"_croissance émissions GES (pourcent)\", \n",
    "               data=df1.drop(['Country Name','Country Code','Indicator Name'], axis = 1).loc[[i+'_GDP growth (annual %)',i+'_croissance émissions GES (pourcent)']].dropna(axis = 1).T, robust = True)\n",
    "    \n",
    "def graph_regress(regresseur,regresse) :\n",
    "    sns.lmplot(x=regresse, y=regresseur, data=df1.drop(['Country Name',\n",
    "        'Country Code','Indicator Name'], axis = 1).loc[[regresse,regresseur]].dropna(axis = 1).T, robust = True)"
   ]
  },
  {
   "cell_type": "markdown",
   "metadata": {},
   "source": [
    "### Régressions avec statsmodels"
   ]
  },
  {
   "cell_type": "code",
   "execution_count": 27,
   "metadata": {
    "scrolled": true
   },
   "outputs": [
    {
     "name": "stdout",
     "output_type": "stream",
     "text": [
      "                            OLS Regression Results                            \n",
      "==============================================================================\n",
      "Dep. Variable:                      y   R-squared:                       0.632\n",
      "Model:                            OLS   Adj. R-squared:                  0.620\n",
      "Method:                 Least Squares   F-statistic:                     53.28\n",
      "Date:                Sat, 12 Dec 2020   Prob (F-statistic):           3.25e-08\n",
      "Time:                        14:16:35   Log-Likelihood:                -988.85\n",
      "No. Observations:                  33   AIC:                             1982.\n",
      "Df Residuals:                      31   BIC:                             1985.\n",
      "Df Model:                           1                                         \n",
      "Covariance Type:            nonrobust                                         \n",
      "==============================================================================\n",
      "                 coef    std err          t      P>|t|      [0.025      0.975]\n",
      "------------------------------------------------------------------------------\n",
      "const      -3.343e+13    5.8e+12     -5.762      0.000   -4.53e+13   -2.16e+13\n",
      "x1          6.584e+06   9.02e+05      7.300      0.000    4.74e+06    8.42e+06\n",
      "==============================================================================\n",
      "Omnibus:                       16.583   Durbin-Watson:                   0.213\n",
      "Prob(Omnibus):                  0.000   Jarque-Bera (JB):               18.325\n",
      "Skew:                           1.594   Prob(JB):                     0.000105\n",
      "Kurtosis:                       4.778   Cond. No.                     8.32e+07\n",
      "==============================================================================\n",
      "\n",
      "Warnings:\n",
      "[1] Standard Errors assume that the covariance matrix of the errors is correctly specified.\n",
      "[2] The condition number is large, 8.32e+07. This might indicate that there are\n",
      "strong multicollinearity or other numerical problems.\n"
     ]
    }
   ],
   "source": [
    "#On a ici la syntaxe pour faire une régression avec statsmodels, ainsi que la forme de la sortie\n",
    "x = sm.add_constant(df1.drop(['Country Name','Country Code','Indicator Name'],axis =1).loc['USA_Émissions totales de GES (kt d’équivalent CO2)'].to_numpy())\n",
    "y = df1.drop(['Country Name','Country Code','Indicator Name'],axis=1).loc['USA_GDP (current US$)'].to_numpy()\n",
    "\n",
    "model = sm.OLS(y,x,'drop')\n",
    "results = model.fit()\n",
    "print(results.summary())\n"
   ]
  },
  {
   "cell_type": "code",
   "execution_count": 28,
   "metadata": {},
   "outputs": [
    {
     "name": "stdout",
     "output_type": "stream",
     "text": [
      "['HC0_se', 'HC1_se', 'HC2_se', 'HC3_se', '_HCCM', '__class__', '__delattr__', '__dict__', '__dir__', '__doc__', '__eq__', '__format__', '__ge__', '__getattribute__', '__gt__', '__hash__', '__init__', '__init_subclass__', '__le__', '__lt__', '__module__', '__ne__', '__new__', '__reduce__', '__reduce_ex__', '__repr__', '__setattr__', '__sizeof__', '__str__', '__subclasshook__', '__weakref__', '_cache', '_data_attr', '_get_robustcov_results', '_is_nested', '_wexog_singular_values', 'aic', 'bic', 'bse', 'centered_tss', 'compare_f_test', 'compare_lm_test', 'compare_lr_test', 'condition_number', 'conf_int', 'conf_int_el', 'cov_HC0', 'cov_HC1', 'cov_HC2', 'cov_HC3', 'cov_kwds', 'cov_params', 'cov_type', 'df_model', 'df_resid', 'diagn', 'eigenvals', 'el_test', 'ess', 'f_pvalue', 'f_test', 'fittedvalues', 'fvalue', 'get_influence', 'get_prediction', 'get_robustcov_results', 'initialize', 'k_constant', 'llf', 'load', 'model', 'mse_model', 'mse_resid', 'mse_total', 'nobs', 'normalized_cov_params', 'outlier_test', 'params', 'predict', 'pvalues', 'remove_data', 'resid', 'resid_pearson', 'rsquared', 'rsquared_adj', 'save', 'scale', 'ssr', 'summary', 'summary2', 't_test', 't_test_pairwise', 'tvalues', 'uncentered_tss', 'use_t', 'wald_test', 'wald_test_terms', 'wresid']\n"
     ]
    },
    {
     "data": {
      "text/plain": [
       "0.6321904749624481"
      ]
     },
     "execution_count": 28,
     "metadata": {},
     "output_type": "execute_result"
    }
   ],
   "source": [
    "#On voit ici coment récupérer les coefficients voulus\n",
    "print(dir(results))\n",
    "results._get_robustcov_results\n",
    "results.rsquared"
   ]
  },
  {
   "cell_type": "markdown",
   "metadata": {},
   "source": [
    "On définit ici la fonction qui permet d'automatiser les régressions sur tous les pays, puis on garde les résultats dans un dataframe."
   ]
  },
  {
   "cell_type": "code",
   "execution_count": 29,
   "metadata": {},
   "outputs": [
    {
     "data": {
      "text/html": [
       "<div>\n",
       "<style scoped>\n",
       "    .dataframe tbody tr th:only-of-type {\n",
       "        vertical-align: middle;\n",
       "    }\n",
       "\n",
       "    .dataframe tbody tr th {\n",
       "        vertical-align: top;\n",
       "    }\n",
       "\n",
       "    .dataframe thead th {\n",
       "        text-align: right;\n",
       "    }\n",
       "</style>\n",
       "<table border=\"1\" class=\"dataframe\">\n",
       "  <thead>\n",
       "    <tr style=\"text-align: right;\">\n",
       "      <th></th>\n",
       "      <th>Constante</th>\n",
       "      <th>Coefficient</th>\n",
       "      <th>R2</th>\n",
       "    </tr>\n",
       "  </thead>\n",
       "  <tbody>\n",
       "    <tr>\n",
       "      <th>AGO</th>\n",
       "      <td>41207.191385</td>\n",
       "      <td>-2.577127e-08</td>\n",
       "      <td>0.018065</td>\n",
       "    </tr>\n",
       "    <tr>\n",
       "      <th>ALB</th>\n",
       "      <td>8720.110365</td>\n",
       "      <td>-3.120555e-08</td>\n",
       "      <td>0.003241</td>\n",
       "    </tr>\n",
       "    <tr>\n",
       "      <th>ARB</th>\n",
       "      <td>822732.568287</td>\n",
       "      <td>6.780234e-07</td>\n",
       "      <td>0.656422</td>\n",
       "    </tr>\n",
       "    <tr>\n",
       "      <th>ARE</th>\n",
       "      <td>56172.066313</td>\n",
       "      <td>4.438433e-07</td>\n",
       "      <td>0.917791</td>\n",
       "    </tr>\n",
       "    <tr>\n",
       "      <th>ARG</th>\n",
       "      <td>239837.609818</td>\n",
       "      <td>2.982657e-07</td>\n",
       "      <td>0.509120</td>\n",
       "    </tr>\n",
       "  </tbody>\n",
       "</table>\n",
       "</div>"
      ],
      "text/plain": [
       "         Constante   Coefficient        R2\n",
       "AGO   41207.191385 -2.577127e-08  0.018065\n",
       "ALB    8720.110365 -3.120555e-08  0.003241\n",
       "ARB  822732.568287  6.780234e-07  0.656422\n",
       "ARE   56172.066313  4.438433e-07  0.917791\n",
       "ARG  239837.609818  2.982657e-07  0.509120"
      ]
     },
     "execution_count": 29,
     "metadata": {},
     "output_type": "execute_result"
    }
   ],
   "source": [
    "def regress (country_code, regresseur, regresse) :\n",
    "    \n",
    "    if country_code + regresse in df1.index and country_code + regresseur in df1.index :\n",
    "        interm= pd.DataFrame(df1.loc[[country_code + regresse, country_code + regresseur]]).drop(['Country Name',\n",
    "        'Country Code','Indicator Name'],axis =1).dropna(axis = 1)\n",
    "\n",
    "        if interm.shape != (2,0): \n",
    "            x = sm.add_constant(interm.loc[country_code + regresseur].to_numpy())\n",
    "            y = interm.loc[country_code + regresse].to_numpy()\n",
    "\n",
    "            model = sm.OLS(y,x,'drop')\n",
    "            results = model.fit()\n",
    "\n",
    "            r2 = results.rsquared\n",
    "            cst = results.params[0]\n",
    "            coef = results.params[1]\n",
    "\n",
    "            return cst, coef, r2\n",
    "    \n",
    "    else : return\n",
    "\n",
    "    \n",
    "    \n",
    "code_list = []\n",
    "for i in df1['Country Code']:\n",
    "    if i not in code_list : \n",
    "        code_list.append(i)\n",
    "code_list.pop(-1)\n",
    "\n",
    "regresse = '_GDP (current US$)'\n",
    "regresseur = '_Émissions totales de GES (kt d’équivalent CO2)'\n",
    "\n",
    "for code in code_list:\n",
    "    dic[code] = regress(code, regresse, regresseur)\n",
    "    if dic[code] == None:\n",
    "        dic.pop(code)\n",
    "        \n",
    "regress_df = pd.DataFrame(dic.values(), dic.keys(), ['Constante', 'Coefficient', 'R2'])\n",
    "regress_df.head()"
   ]
  },
  {
   "cell_type": "markdown",
   "metadata": {},
   "source": [
    "On peut ensuite effectuer toutes les régressions que l'on souhaite graâce à cette fonction, en changeant simplementles variables regresseur et regresse. Il suffit à chaque fois de créer un dataframe avec un nom différent, de donner des noms plus explicits aux colonnes, et de les concaténer après.\n",
    "\n",
    "Exemple ci-dessous, en concaténant la régression de gdp sur ges avec celle sur leurs taux de variation"
   ]
  },
  {
   "cell_type": "code",
   "execution_count": 48,
   "metadata": {},
   "outputs": [
    {
     "name": "stderr",
     "output_type": "stream",
     "text": [
      "C:\\Users\\Titouan\\Anaconda3\\lib\\site-packages\\ipykernel_launcher.py:28: FutureWarning: Sorting because non-concatenation axis is not aligned. A future version\n",
      "of pandas will change to not sort by default.\n",
      "\n",
      "To accept the future behavior, pass 'sort=False'.\n",
      "\n",
      "To retain the current behavior and silence the warning, pass 'sort=True'.\n",
      "\n"
     ]
    },
    {
     "data": {
      "text/html": [
       "<div>\n",
       "<style scoped>\n",
       "    .dataframe tbody tr th:only-of-type {\n",
       "        vertical-align: middle;\n",
       "    }\n",
       "\n",
       "    .dataframe tbody tr th {\n",
       "        vertical-align: top;\n",
       "    }\n",
       "\n",
       "    .dataframe thead th {\n",
       "        text-align: right;\n",
       "    }\n",
       "</style>\n",
       "<table border=\"1\" class=\"dataframe\">\n",
       "  <thead>\n",
       "    <tr style=\"text-align: right;\">\n",
       "      <th></th>\n",
       "      <th>Constante GDP sur total GES</th>\n",
       "      <th>Coefficient GDP sur total GES</th>\n",
       "      <th>R2 GDP sur total GES</th>\n",
       "      <th>Constante GDP_var sur GES_tete</th>\n",
       "      <th>Coefficient GDP_var sur GES_tete</th>\n",
       "      <th>R2 GDP_var sur GES_var</th>\n",
       "    </tr>\n",
       "  </thead>\n",
       "  <tbody>\n",
       "    <tr>\n",
       "      <th>AGO</th>\n",
       "      <td>41207.191385</td>\n",
       "      <td>-2.577127e-08</td>\n",
       "      <td>0.018065</td>\n",
       "      <td>0.003699</td>\n",
       "      <td>-5.078478e-07</td>\n",
       "      <td>0.310325</td>\n",
       "    </tr>\n",
       "    <tr>\n",
       "      <th>ALB</th>\n",
       "      <td>8720.110365</td>\n",
       "      <td>-3.120555e-08</td>\n",
       "      <td>0.003241</td>\n",
       "      <td>0.002747</td>\n",
       "      <td>2.821586e-08</td>\n",
       "      <td>0.002799</td>\n",
       "    </tr>\n",
       "    <tr>\n",
       "      <th>ARB</th>\n",
       "      <td>822732.568287</td>\n",
       "      <td>6.780234e-07</td>\n",
       "      <td>0.656422</td>\n",
       "      <td>0.004042</td>\n",
       "      <td>3.928051e-07</td>\n",
       "      <td>0.319756</td>\n",
       "    </tr>\n",
       "    <tr>\n",
       "      <th>ARE</th>\n",
       "      <td>56172.066313</td>\n",
       "      <td>4.438433e-07</td>\n",
       "      <td>0.917791</td>\n",
       "      <td>0.046873</td>\n",
       "      <td>-2.950150e-07</td>\n",
       "      <td>0.052396</td>\n",
       "    </tr>\n",
       "    <tr>\n",
       "      <th>ARG</th>\n",
       "      <td>239837.609818</td>\n",
       "      <td>2.982657e-07</td>\n",
       "      <td>0.509120</td>\n",
       "      <td>0.008266</td>\n",
       "      <td>6.733994e-08</td>\n",
       "      <td>0.107357</td>\n",
       "    </tr>\n",
       "  </tbody>\n",
       "</table>\n",
       "</div>"
      ],
      "text/plain": [
       "     Constante GDP sur total GES  Coefficient GDP sur total GES  \\\n",
       "AGO                 41207.191385                  -2.577127e-08   \n",
       "ALB                  8720.110365                  -3.120555e-08   \n",
       "ARB                822732.568287                   6.780234e-07   \n",
       "ARE                 56172.066313                   4.438433e-07   \n",
       "ARG                239837.609818                   2.982657e-07   \n",
       "\n",
       "     R2 GDP sur total GES  Constante GDP_var sur GES_tete  \\\n",
       "AGO              0.018065                        0.003699   \n",
       "ALB              0.003241                        0.002747   \n",
       "ARB              0.656422                        0.004042   \n",
       "ARE              0.917791                        0.046873   \n",
       "ARG              0.509120                        0.008266   \n",
       "\n",
       "     Coefficient GDP_var sur GES_tete  R2 GDP_var sur GES_var  \n",
       "AGO                     -5.078478e-07                0.310325  \n",
       "ALB                      2.821586e-08                0.002799  \n",
       "ARB                      3.928051e-07                0.319756  \n",
       "ARE                     -2.950150e-07                0.052396  \n",
       "ARG                      6.733994e-08                0.107357  "
      ]
     },
     "execution_count": 48,
     "metadata": {},
     "output_type": "execute_result"
    }
   ],
   "source": [
    "regresse = '_GDP (current US$)'\n",
    "regresseur = '_Émissions totales de GES (kt d’équivalent CO2)'\n",
    "\n",
    "\n",
    "for code in code_list:\n",
    "    dic[code] = regress(code, regresse, regresseur)\n",
    "    if dic[code] == None:\n",
    "        dic.pop(code)\n",
    "        \n",
    "regress1_df = pd.DataFrame(dic.values(), dic.keys(), ['Constante GDP sur total GES',\n",
    "                                                     'Coefficient GDP sur total GES', 'R2 GDP sur total GES'])\n",
    "regress1_df.head()\n",
    "\n",
    "\n",
    "\n",
    "\n",
    "regresse = '_PIB par Tete'\n",
    "regresseur = '_Emission de GES par Tete'\n",
    "\n",
    "dic = {}\n",
    "for code in code_list:\n",
    "    dic[code] = regress(code, regresse, regresseur)\n",
    "    if dic[code] == None:\n",
    "        dic.pop(code)\n",
    "\n",
    "regress2_df = pd.DataFrame(dic.values(), dic.keys(), ['Constante GDP_var sur GES_tete', 'Coefficient GDP_var sur GES_tete', 'R2 GDP_var sur GES_var'])\n",
    "\n",
    "regress_df = pd.concat([regress1_df, regress2_df], axis = 1)\n",
    "regress_df.head()"
   ]
  },
  {
   "cell_type": "code",
   "execution_count": 32,
   "metadata": {},
   "outputs": [
    {
     "data": {
      "text/plain": [
       "<matplotlib.axes._subplots.AxesSubplot at 0x19a4aa09f28>"
      ]
     },
     "execution_count": 32,
     "metadata": {},
     "output_type": "execute_result"
    },
    {
     "data": {
      "image/png": "[encoded data removed]",
      "text/plain": [
       "<Figure size 432x288 with 1 Axes>"
      ]
     },
     "metadata": {
      "needs_background": "light"
     },
     "output_type": "display_data"
    }
   ],
   "source": [
    "regress_df.plot(x='Coefficient GDP sur total GES', y='Coefficient GDP_var sur GES_var', kind = 'scatter', label = \"Ce graphique n'est pas extraordinaire\")"
   ]
  },
  {
   "cell_type": "markdown",
   "metadata": {},
   "source": [
    "### Graphiques sur seaborn"
   ]
  },
  {
   "cell_type": "markdown",
   "metadata": {},
   "source": [
    "Pour tracer les graphiques, afin de simplifier l'utilisation du module, on va créer un dataframe qui n'est rien d'autre que la transposé du précédent, où l'on a enlevé les trois colonnes qui ne correspondent pas à des données chiffrées."
   ]
  },
  {
   "cell_type": "code",
   "execution_count": 129,
   "metadata": {},
   "outputs": [
    {
     "data": {
      "text/html": [
       "<div>\n",
       "<style scoped>\n",
       "    .dataframe tbody tr th:only-of-type {\n",
       "        vertical-align: middle;\n",
       "    }\n",
       "\n",
       "    .dataframe tbody tr th {\n",
       "        vertical-align: top;\n",
       "    }\n",
       "\n",
       "    .dataframe thead th {\n",
       "        text-align: right;\n",
       "    }\n",
       "</style>\n",
       "<table border=\"1\" class=\"dataframe\">\n",
       "  <thead>\n",
       "    <tr style=\"text-align: right;\">\n",
       "      <th>Pays_indic</th>\n",
       "      <th>ABW_GDP (current US$)</th>\n",
       "      <th>ABW_GDP growth (annual %)</th>\n",
       "      <th>ABW_Population, total</th>\n",
       "      <th>AFG_Population, total</th>\n",
       "      <th>AFG_Émissions totales de GES (kt d’équivalent CO2)</th>\n",
       "      <th>AGO_Alternative and nuclear energy (% of total energy use)</th>\n",
       "      <th>AGO_Energy use (kg of oil equivalent per capita)</th>\n",
       "      <th>AGO_GDP (current US$)</th>\n",
       "      <th>AGO_GDP growth (annual %)</th>\n",
       "      <th>AGO_Population, total</th>\n",
       "      <th>...</th>\n",
       "      <th>WLD_croissance émissions GES (pourcent)</th>\n",
       "      <th>WSM_croissance émissions GES (kt d’équivalent CO2)</th>\n",
       "      <th>WSM_croissance émissions GES (pourcent)</th>\n",
       "      <th>YEM_croissance émissions GES (kt d’équivalent CO2)</th>\n",
       "      <th>YEM_croissance émissions GES (pourcent)</th>\n",
       "      <th>ZMB_croissance émissions GES (kt d’équivalent CO2)</th>\n",
       "      <th>ZMB_croissance émissions GES (pourcent)</th>\n",
       "      <th>ZWE_croissance émissions GES (kt d’équivalent CO2)</th>\n",
       "      <th>ZWE_croissance émissions GES (pourcent)</th>\n",
       "      <th>year</th>\n",
       "    </tr>\n",
       "  </thead>\n",
       "  <tbody>\n",
       "    <tr>\n",
       "      <th>1980</th>\n",
       "      <td>NaN</td>\n",
       "      <td>NaN</td>\n",
       "      <td>60096.0</td>\n",
       "      <td>13356511.0</td>\n",
       "      <td>15691.2660</td>\n",
       "      <td>1.121397</td>\n",
       "      <td>547.044587</td>\n",
       "      <td>5.930503e+09</td>\n",
       "      <td>NaN</td>\n",
       "      <td>8341289.0</td>\n",
       "      <td>...</td>\n",
       "      <td>NaN</td>\n",
       "      <td>NaN</td>\n",
       "      <td>NaN</td>\n",
       "      <td>NaN</td>\n",
       "      <td>NaN</td>\n",
       "      <td>NaN</td>\n",
       "      <td>NaN</td>\n",
       "      <td>NaN</td>\n",
       "      <td>NaN</td>\n",
       "      <td>1980.0</td>\n",
       "    </tr>\n",
       "    <tr>\n",
       "      <th>1981</th>\n",
       "      <td>NaN</td>\n",
       "      <td>NaN</td>\n",
       "      <td>60567.0</td>\n",
       "      <td>13171673.0</td>\n",
       "      <td>15810.3350</td>\n",
       "      <td>1.114046</td>\n",
       "      <td>531.589110</td>\n",
       "      <td>5.550483e+09</td>\n",
       "      <td>-4.400001</td>\n",
       "      <td>8640446.0</td>\n",
       "      <td>...</td>\n",
       "      <td>-3.172873</td>\n",
       "      <td>84.305333</td>\n",
       "      <td>44.413249</td>\n",
       "      <td>104.25780</td>\n",
       "      <td>1.335454</td>\n",
       "      <td>-24252.304000</td>\n",
       "      <td>-13.039750</td>\n",
       "      <td>-922.688</td>\n",
       "      <td>-4.054677</td>\n",
       "      <td>1981.0</td>\n",
       "    </tr>\n",
       "    <tr>\n",
       "      <th>1982</th>\n",
       "      <td>NaN</td>\n",
       "      <td>NaN</td>\n",
       "      <td>61345.0</td>\n",
       "      <td>12882528.0</td>\n",
       "      <td>15615.3330</td>\n",
       "      <td>1.197734</td>\n",
       "      <td>506.059344</td>\n",
       "      <td>5.550483e+09</td>\n",
       "      <td>0.000000</td>\n",
       "      <td>8952950.0</td>\n",
       "      <td>...</td>\n",
       "      <td>6.021602</td>\n",
       "      <td>-46.242566</td>\n",
       "      <td>-16.869118</td>\n",
       "      <td>562.36590</td>\n",
       "      <td>7.108497</td>\n",
       "      <td>21619.566000</td>\n",
       "      <td>13.367262</td>\n",
       "      <td>903.570</td>\n",
       "      <td>4.138466</td>\n",
       "      <td>1982.0</td>\n",
       "    </tr>\n",
       "    <tr>\n",
       "      <th>1983</th>\n",
       "      <td>NaN</td>\n",
       "      <td>NaN</td>\n",
       "      <td>62201.0</td>\n",
       "      <td>12537730.0</td>\n",
       "      <td>15322.5300</td>\n",
       "      <td>1.067446</td>\n",
       "      <td>501.904917</td>\n",
       "      <td>5.784342e+09</td>\n",
       "      <td>4.200001</td>\n",
       "      <td>9278096.0</td>\n",
       "      <td>...</td>\n",
       "      <td>-1.506701</td>\n",
       "      <td>3.808297</td>\n",
       "      <td>1.671163</td>\n",
       "      <td>526.56240</td>\n",
       "      <td>6.214193</td>\n",
       "      <td>-35.916000</td>\n",
       "      <td>-0.019588</td>\n",
       "      <td>-123.331</td>\n",
       "      <td>-0.542424</td>\n",
       "      <td>1983.0</td>\n",
       "    </tr>\n",
       "    <tr>\n",
       "      <th>1984</th>\n",
       "      <td>NaN</td>\n",
       "      <td>NaN</td>\n",
       "      <td>62836.0</td>\n",
       "      <td>12204292.0</td>\n",
       "      <td>14278.7921</td>\n",
       "      <td>1.098590</td>\n",
       "      <td>489.327132</td>\n",
       "      <td>6.131475e+09</td>\n",
       "      <td>6.000002</td>\n",
       "      <td>9614754.0</td>\n",
       "      <td>...</td>\n",
       "      <td>-3.040496</td>\n",
       "      <td>23.853315</td>\n",
       "      <td>10.295300</td>\n",
       "      <td>185.51110</td>\n",
       "      <td>2.061210</td>\n",
       "      <td>-41599.650000</td>\n",
       "      <td>-22.692512</td>\n",
       "      <td>-627.623</td>\n",
       "      <td>-2.775412</td>\n",
       "      <td>1984.0</td>\n",
       "    </tr>\n",
       "    <tr>\n",
       "      <th>1985</th>\n",
       "      <td>NaN</td>\n",
       "      <td>NaN</td>\n",
       "      <td>63026.0</td>\n",
       "      <td>11938208.0</td>\n",
       "      <td>13545.7369</td>\n",
       "      <td>1.208085</td>\n",
       "      <td>500.924865</td>\n",
       "      <td>7.553560e+09</td>\n",
       "      <td>3.499999</td>\n",
       "      <td>9961997.0</td>\n",
       "      <td>...</td>\n",
       "      <td>0.784963</td>\n",
       "      <td>8.700717</td>\n",
       "      <td>3.404774</td>\n",
       "      <td>419.73270</td>\n",
       "      <td>4.569455</td>\n",
       "      <td>2430.069000</td>\n",
       "      <td>1.714707</td>\n",
       "      <td>1909.708</td>\n",
       "      <td>8.685992</td>\n",
       "      <td>1985.0</td>\n",
       "    </tr>\n",
       "    <tr>\n",
       "      <th>1986</th>\n",
       "      <td>4.054634e+08</td>\n",
       "      <td>NaN</td>\n",
       "      <td>62644.0</td>\n",
       "      <td>11736179.0</td>\n",
       "      <td>12269.4624</td>\n",
       "      <td>1.194329</td>\n",
       "      <td>489.111697</td>\n",
       "      <td>7.072063e+09</td>\n",
       "      <td>2.900002</td>\n",
       "      <td>10320111.0</td>\n",
       "      <td>...</td>\n",
       "      <td>2.928455</td>\n",
       "      <td>-9.948027</td>\n",
       "      <td>-3.764694</td>\n",
       "      <td>404.95260</td>\n",
       "      <td>4.215906</td>\n",
       "      <td>-9191.621000</td>\n",
       "      <td>-6.376461</td>\n",
       "      <td>2111.366</td>\n",
       "      <td>8.835729</td>\n",
       "      <td>1986.0</td>\n",
       "    </tr>\n",
       "    <tr>\n",
       "      <th>1987</th>\n",
       "      <td>4.876025e+08</td>\n",
       "      <td>16.078431</td>\n",
       "      <td>61833.0</td>\n",
       "      <td>11604534.0</td>\n",
       "      <td>12400.5073</td>\n",
       "      <td>1.166168</td>\n",
       "      <td>483.624483</td>\n",
       "      <td>8.083872e+09</td>\n",
       "      <td>4.082749</td>\n",
       "      <td>10689250.0</td>\n",
       "      <td>...</td>\n",
       "      <td>5.620393</td>\n",
       "      <td>10.828437</td>\n",
       "      <td>4.258180</td>\n",
       "      <td>92.69940</td>\n",
       "      <td>0.926040</td>\n",
       "      <td>53084.692000</td>\n",
       "      <td>39.334337</td>\n",
       "      <td>2153.126</td>\n",
       "      <td>8.278980</td>\n",
       "      <td>1987.0</td>\n",
       "    </tr>\n",
       "    <tr>\n",
       "      <th>1988</th>\n",
       "      <td>5.964236e+08</td>\n",
       "      <td>18.648649</td>\n",
       "      <td>61079.0</td>\n",
       "      <td>11618005.0</td>\n",
       "      <td>12959.2948</td>\n",
       "      <td>1.120664</td>\n",
       "      <td>486.037649</td>\n",
       "      <td>8.769251e+09</td>\n",
       "      <td>6.128890</td>\n",
       "      <td>11068050.0</td>\n",
       "      <td>...</td>\n",
       "      <td>-1.347983</td>\n",
       "      <td>16.575470</td>\n",
       "      <td>6.251928</td>\n",
       "      <td>1541.38080</td>\n",
       "      <td>15.256660</td>\n",
       "      <td>-55818.763000</td>\n",
       "      <td>-29.684148</td>\n",
       "      <td>1209.376</td>\n",
       "      <td>4.294618</td>\n",
       "      <td>1988.0</td>\n",
       "    </tr>\n",
       "    <tr>\n",
       "      <th>1989</th>\n",
       "      <td>6.953044e+08</td>\n",
       "      <td>12.129841</td>\n",
       "      <td>61032.0</td>\n",
       "      <td>11868877.0</td>\n",
       "      <td>12348.9570</td>\n",
       "      <td>1.110309</td>\n",
       "      <td>480.094200</td>\n",
       "      <td>1.020110e+10</td>\n",
       "      <td>0.041621</td>\n",
       "      <td>11454777.0</td>\n",
       "      <td>...</td>\n",
       "      <td>1.777609</td>\n",
       "      <td>-3.978760</td>\n",
       "      <td>-1.412404</td>\n",
       "      <td>398.19160</td>\n",
       "      <td>3.419602</td>\n",
       "      <td>16781.397000</td>\n",
       "      <td>12.691684</td>\n",
       "      <td>894.828</td>\n",
       "      <td>3.046779</td>\n",
       "      <td>1989.0</td>\n",
       "    </tr>\n",
       "    <tr>\n",
       "      <th>1990</th>\n",
       "      <td>7.648871e+08</td>\n",
       "      <td>3.961402</td>\n",
       "      <td>62149.0</td>\n",
       "      <td>12412308.0</td>\n",
       "      <td>12528.0165</td>\n",
       "      <td>0.742242</td>\n",
       "      <td>496.536490</td>\n",
       "      <td>1.122876e+10</td>\n",
       "      <td>-3.450099</td>\n",
       "      <td>11848386.0</td>\n",
       "      <td>...</td>\n",
       "      <td>5.879916</td>\n",
       "      <td>9.384280</td>\n",
       "      <td>3.379014</td>\n",
       "      <td>807.43840</td>\n",
       "      <td>6.704865</td>\n",
       "      <td>60643.855069</td>\n",
       "      <td>40.699218</td>\n",
       "      <td>4836.119</td>\n",
       "      <td>15.979526</td>\n",
       "      <td>1990.0</td>\n",
       "    </tr>\n",
       "    <tr>\n",
       "      <th>1991</th>\n",
       "      <td>8.721387e+08</td>\n",
       "      <td>7.962872</td>\n",
       "      <td>64622.0</td>\n",
       "      <td>13299017.0</td>\n",
       "      <td>12307.0638</td>\n",
       "      <td>0.738678</td>\n",
       "      <td>491.802571</td>\n",
       "      <td>1.060378e+10</td>\n",
       "      <td>0.991359</td>\n",
       "      <td>12248901.0</td>\n",
       "      <td>...</td>\n",
       "      <td>0.929410</td>\n",
       "      <td>-2.782990</td>\n",
       "      <td>-0.969322</td>\n",
       "      <td>1686.43433</td>\n",
       "      <td>13.123989</td>\n",
       "      <td>-35604.153682</td>\n",
       "      <td>-16.982759</td>\n",
       "      <td>-968.061</td>\n",
       "      <td>-2.757962</td>\n",
       "      <td>1991.0</td>\n",
       "    </tr>\n",
       "    <tr>\n",
       "      <th>1992</th>\n",
       "      <td>9.584632e+08</td>\n",
       "      <td>5.882353</td>\n",
       "      <td>68235.0</td>\n",
       "      <td>14485546.0</td>\n",
       "      <td>11370.4531</td>\n",
       "      <td>0.802166</td>\n",
       "      <td>478.585592</td>\n",
       "      <td>8.307811e+09</td>\n",
       "      <td>-5.838281</td>\n",
       "      <td>12657366.0</td>\n",
       "      <td>...</td>\n",
       "      <td>3.205315</td>\n",
       "      <td>8.663520</td>\n",
       "      <td>3.047062</td>\n",
       "      <td>801.22414</td>\n",
       "      <td>5.511829</td>\n",
       "      <td>104215.004693</td>\n",
       "      <td>59.878310</td>\n",
       "      <td>4143.449</td>\n",
       "      <td>12.139297</td>\n",
       "      <td>1992.0</td>\n",
       "    </tr>\n",
       "    <tr>\n",
       "      <th>1993</th>\n",
       "      <td>1.082980e+09</td>\n",
       "      <td>7.307692</td>\n",
       "      <td>72504.0</td>\n",
       "      <td>15816603.0</td>\n",
       "      <td>11390.8748</td>\n",
       "      <td>0.820624</td>\n",
       "      <td>479.819846</td>\n",
       "      <td>5.768720e+09</td>\n",
       "      <td>-23.983417</td>\n",
       "      <td>13075049.0</td>\n",
       "      <td>...</td>\n",
       "      <td>-4.376682</td>\n",
       "      <td>-2.677070</td>\n",
       "      <td>-0.913715</td>\n",
       "      <td>-734.65827</td>\n",
       "      <td>-4.789894</td>\n",
       "      <td>-121732.446460</td>\n",
       "      <td>-43.747786</td>\n",
       "      <td>-8092.562</td>\n",
       "      <td>-21.142666</td>\n",
       "      <td>1993.0</td>\n",
       "    </tr>\n",
       "    <tr>\n",
       "      <th>1994</th>\n",
       "      <td>1.245688e+09</td>\n",
       "      <td>8.203903</td>\n",
       "      <td>76700.0</td>\n",
       "      <td>17075727.0</td>\n",
       "      <td>11290.6882</td>\n",
       "      <td>0.813644</td>\n",
       "      <td>470.938622</td>\n",
       "      <td>4.438321e+09</td>\n",
       "      <td>1.339363</td>\n",
       "      <td>13503747.0</td>\n",
       "      <td>...</td>\n",
       "      <td>1.914157</td>\n",
       "      <td>-18.492570</td>\n",
       "      <td>-6.369935</td>\n",
       "      <td>2018.05193</td>\n",
       "      <td>13.819421</td>\n",
       "      <td>26159.434690</td>\n",
       "      <td>16.712386</td>\n",
       "      <td>25.318</td>\n",
       "      <td>0.083880</td>\n",
       "      <td>1994.0</td>\n",
       "    </tr>\n",
       "  </tbody>\n",
       "</table>\n",
       "<p>15 rows × 1951 columns</p>\n",
       "</div>"
      ],
      "text/plain": [
       "Pays_indic  ABW_GDP (current US$)  ABW_GDP growth (annual %)  \\\n",
       "1980                          NaN                        NaN   \n",
       "1981                          NaN                        NaN   \n",
       "1982                          NaN                        NaN   \n",
       "1983                          NaN                        NaN   \n",
       "1984                          NaN                        NaN   \n",
       "1985                          NaN                        NaN   \n",
       "1986                 4.054634e+08                        NaN   \n",
       "1987                 4.876025e+08                  16.078431   \n",
       "1988                 5.964236e+08                  18.648649   \n",
       "1989                 6.953044e+08                  12.129841   \n",
       "1990                 7.648871e+08                   3.961402   \n",
       "1991                 8.721387e+08                   7.962872   \n",
       "1992                 9.584632e+08                   5.882353   \n",
       "1993                 1.082980e+09                   7.307692   \n",
       "1994                 1.245688e+09                   8.203903   \n",
       "\n",
       "Pays_indic  ABW_Population, total  AFG_Population, total  \\\n",
       "1980                      60096.0             13356511.0   \n",
       "1981                      60567.0             13171673.0   \n",
       "1982                      61345.0             12882528.0   \n",
       "1983                      62201.0             12537730.0   \n",
       "1984                      62836.0             12204292.0   \n",
       "1985                      63026.0             11938208.0   \n",
       "1986                      62644.0             11736179.0   \n",
       "1987                      61833.0             11604534.0   \n",
       "1988                      61079.0             11618005.0   \n",
       "1989                      61032.0             11868877.0   \n",
       "1990                      62149.0             12412308.0   \n",
       "1991                      64622.0             13299017.0   \n",
       "1992                      68235.0             14485546.0   \n",
       "1993                      72504.0             15816603.0   \n",
       "1994                      76700.0             17075727.0   \n",
       "\n",
       "Pays_indic  AFG_Émissions totales de GES (kt d’équivalent CO2)  \\\n",
       "1980                                               15691.2660    \n",
       "1981                                               15810.3350    \n",
       "1982                                               15615.3330    \n",
       "1983                                               15322.5300    \n",
       "1984                                               14278.7921    \n",
       "1985                                               13545.7369    \n",
       "1986                                               12269.4624    \n",
       "1987                                               12400.5073    \n",
       "1988                                               12959.2948    \n",
       "1989                                               12348.9570    \n",
       "1990                                               12528.0165    \n",
       "1991                                               12307.0638    \n",
       "1992                                               11370.4531    \n",
       "1993                                               11390.8748    \n",
       "1994                                               11290.6882    \n",
       "\n",
       "Pays_indic  AGO_Alternative and nuclear energy (% of total energy use)  \\\n",
       "1980                                                 1.121397            \n",
       "1981                                                 1.114046            \n",
       "1982                                                 1.197734            \n",
       "1983                                                 1.067446            \n",
       "1984                                                 1.098590            \n",
       "1985                                                 1.208085            \n",
       "1986                                                 1.194329            \n",
       "1987                                                 1.166168            \n",
       "1988                                                 1.120664            \n",
       "1989                                                 1.110309            \n",
       "1990                                                 0.742242            \n",
       "1991                                                 0.738678            \n",
       "1992                                                 0.802166            \n",
       "1993                                                 0.820624            \n",
       "1994                                                 0.813644            \n",
       "\n",
       "Pays_indic  AGO_Energy use (kg of oil equivalent per capita)  \\\n",
       "1980                                              547.044587   \n",
       "1981                                              531.589110   \n",
       "1982                                              506.059344   \n",
       "1983                                              501.904917   \n",
       "1984                                              489.327132   \n",
       "1985                                              500.924865   \n",
       "1986                                              489.111697   \n",
       "1987                                              483.624483   \n",
       "1988                                              486.037649   \n",
       "1989                                              480.094200   \n",
       "1990                                              496.536490   \n",
       "1991                                              491.802571   \n",
       "1992                                              478.585592   \n",
       "1993                                              479.819846   \n",
       "1994                                              470.938622   \n",
       "\n",
       "Pays_indic  AGO_GDP (current US$)  AGO_GDP growth (annual %)  \\\n",
       "1980                 5.930503e+09                        NaN   \n",
       "1981                 5.550483e+09                  -4.400001   \n",
       "1982                 5.550483e+09                   0.000000   \n",
       "1983                 5.784342e+09                   4.200001   \n",
       "1984                 6.131475e+09                   6.000002   \n",
       "1985                 7.553560e+09                   3.499999   \n",
       "1986                 7.072063e+09                   2.900002   \n",
       "1987                 8.083872e+09                   4.082749   \n",
       "1988                 8.769251e+09                   6.128890   \n",
       "1989                 1.020110e+10                   0.041621   \n",
       "1990                 1.122876e+10                  -3.450099   \n",
       "1991                 1.060378e+10                   0.991359   \n",
       "1992                 8.307811e+09                  -5.838281   \n",
       "1993                 5.768720e+09                 -23.983417   \n",
       "1994                 4.438321e+09                   1.339363   \n",
       "\n",
       "Pays_indic  AGO_Population, total  ...  \\\n",
       "1980                    8341289.0  ...   \n",
       "1981                    8640446.0  ...   \n",
       "1982                    8952950.0  ...   \n",
       "1983                    9278096.0  ...   \n",
       "1984                    9614754.0  ...   \n",
       "1985                    9961997.0  ...   \n",
       "1986                   10320111.0  ...   \n",
       "1987                   10689250.0  ...   \n",
       "1988                   11068050.0  ...   \n",
       "1989                   11454777.0  ...   \n",
       "1990                   11848386.0  ...   \n",
       "1991                   12248901.0  ...   \n",
       "1992                   12657366.0  ...   \n",
       "1993                   13075049.0  ...   \n",
       "1994                   13503747.0  ...   \n",
       "\n",
       "Pays_indic  WLD_croissance émissions GES (pourcent)  \\\n",
       "1980                                            NaN   \n",
       "1981                                      -3.172873   \n",
       "1982                                       6.021602   \n",
       "1983                                      -1.506701   \n",
       "1984                                      -3.040496   \n",
       "1985                                       0.784963   \n",
       "1986                                       2.928455   \n",
       "1987                                       5.620393   \n",
       "1988                                      -1.347983   \n",
       "1989                                       1.777609   \n",
       "1990                                       5.879916   \n",
       "1991                                       0.929410   \n",
       "1992                                       3.205315   \n",
       "1993                                      -4.376682   \n",
       "1994                                       1.914157   \n",
       "\n",
       "Pays_indic  WSM_croissance émissions GES (kt d’équivalent CO2)  \\\n",
       "1980                                                      NaN    \n",
       "1981                                                84.305333    \n",
       "1982                                               -46.242566    \n",
       "1983                                                 3.808297    \n",
       "1984                                                23.853315    \n",
       "1985                                                 8.700717    \n",
       "1986                                                -9.948027    \n",
       "1987                                                10.828437    \n",
       "1988                                                16.575470    \n",
       "1989                                                -3.978760    \n",
       "1990                                                 9.384280    \n",
       "1991                                                -2.782990    \n",
       "1992                                                 8.663520    \n",
       "1993                                                -2.677070    \n",
       "1994                                               -18.492570    \n",
       "\n",
       "Pays_indic  WSM_croissance émissions GES (pourcent)  \\\n",
       "1980                                            NaN   \n",
       "1981                                      44.413249   \n",
       "1982                                     -16.869118   \n",
       "1983                                       1.671163   \n",
       "1984                                      10.295300   \n",
       "1985                                       3.404774   \n",
       "1986                                      -3.764694   \n",
       "1987                                       4.258180   \n",
       "1988                                       6.251928   \n",
       "1989                                      -1.412404   \n",
       "1990                                       3.379014   \n",
       "1991                                      -0.969322   \n",
       "1992                                       3.047062   \n",
       "1993                                      -0.913715   \n",
       "1994                                      -6.369935   \n",
       "\n",
       "Pays_indic  YEM_croissance émissions GES (kt d’équivalent CO2)  \\\n",
       "1980                                                      NaN    \n",
       "1981                                                104.25780    \n",
       "1982                                                562.36590    \n",
       "1983                                                526.56240    \n",
       "1984                                                185.51110    \n",
       "1985                                                419.73270    \n",
       "1986                                                404.95260    \n",
       "1987                                                 92.69940    \n",
       "1988                                               1541.38080    \n",
       "1989                                                398.19160    \n",
       "1990                                                807.43840    \n",
       "1991                                               1686.43433    \n",
       "1992                                                801.22414    \n",
       "1993                                               -734.65827    \n",
       "1994                                               2018.05193    \n",
       "\n",
       "Pays_indic  YEM_croissance émissions GES (pourcent)  \\\n",
       "1980                                            NaN   \n",
       "1981                                       1.335454   \n",
       "1982                                       7.108497   \n",
       "1983                                       6.214193   \n",
       "1984                                       2.061210   \n",
       "1985                                       4.569455   \n",
       "1986                                       4.215906   \n",
       "1987                                       0.926040   \n",
       "1988                                      15.256660   \n",
       "1989                                       3.419602   \n",
       "1990                                       6.704865   \n",
       "1991                                      13.123989   \n",
       "1992                                       5.511829   \n",
       "1993                                      -4.789894   \n",
       "1994                                      13.819421   \n",
       "\n",
       "Pays_indic  ZMB_croissance émissions GES (kt d’équivalent CO2)  \\\n",
       "1980                                                      NaN    \n",
       "1981                                            -24252.304000    \n",
       "1982                                             21619.566000    \n",
       "1983                                               -35.916000    \n",
       "1984                                            -41599.650000    \n",
       "1985                                              2430.069000    \n",
       "1986                                             -9191.621000    \n",
       "1987                                             53084.692000    \n",
       "1988                                            -55818.763000    \n",
       "1989                                             16781.397000    \n",
       "1990                                             60643.855069    \n",
       "1991                                            -35604.153682    \n",
       "1992                                            104215.004693    \n",
       "1993                                           -121732.446460    \n",
       "1994                                             26159.434690    \n",
       "\n",
       "Pays_indic  ZMB_croissance émissions GES (pourcent)  \\\n",
       "1980                                            NaN   \n",
       "1981                                     -13.039750   \n",
       "1982                                      13.367262   \n",
       "1983                                      -0.019588   \n",
       "1984                                     -22.692512   \n",
       "1985                                       1.714707   \n",
       "1986                                      -6.376461   \n",
       "1987                                      39.334337   \n",
       "1988                                     -29.684148   \n",
       "1989                                      12.691684   \n",
       "1990                                      40.699218   \n",
       "1991                                     -16.982759   \n",
       "1992                                      59.878310   \n",
       "1993                                     -43.747786   \n",
       "1994                                      16.712386   \n",
       "\n",
       "Pays_indic  ZWE_croissance émissions GES (kt d’équivalent CO2)  \\\n",
       "1980                                                      NaN    \n",
       "1981                                                 -922.688    \n",
       "1982                                                  903.570    \n",
       "1983                                                 -123.331    \n",
       "1984                                                 -627.623    \n",
       "1985                                                 1909.708    \n",
       "1986                                                 2111.366    \n",
       "1987                                                 2153.126    \n",
       "1988                                                 1209.376    \n",
       "1989                                                  894.828    \n",
       "1990                                                 4836.119    \n",
       "1991                                                 -968.061    \n",
       "1992                                                 4143.449    \n",
       "1993                                                -8092.562    \n",
       "1994                                                   25.318    \n",
       "\n",
       "Pays_indic  ZWE_croissance émissions GES (pourcent)    year  \n",
       "1980                                            NaN  1980.0  \n",
       "1981                                      -4.054677  1981.0  \n",
       "1982                                       4.138466  1982.0  \n",
       "1983                                      -0.542424  1983.0  \n",
       "1984                                      -2.775412  1984.0  \n",
       "1985                                       8.685992  1985.0  \n",
       "1986                                       8.835729  1986.0  \n",
       "1987                                       8.278980  1987.0  \n",
       "1988                                       4.294618  1988.0  \n",
       "1989                                       3.046779  1989.0  \n",
       "1990                                      15.979526  1990.0  \n",
       "1991                                      -2.757962  1991.0  \n",
       "1992                                      12.139297  1992.0  \n",
       "1993                                     -21.142666  1993.0  \n",
       "1994                                       0.083880  1994.0  \n",
       "\n",
       "[15 rows x 1951 columns]"
      ]
     },
     "execution_count": 129,
     "metadata": {},
     "output_type": "execute_result"
    }
   ],
   "source": [
    "country_code = 'USA'\n",
    "var1 = '_GDP (current US$)'\n",
    "var2 = '_Émissions totales de GES (kt d’équivalent CO2)'\n",
    "var3 = '_Alternative and nuclear energy (% of total energy use)'\n",
    "\n",
    "year = list(df1)[3:]\n",
    "for i in range(len(year)):\n",
    "    year[i] = float(year[i])\n",
    "\n",
    "df_plot = df1.drop(['Country Name', 'Country Code', 'Indicator Name'], axis = 1)\n",
    "df_plot.loc['year'] = year\n",
    "df_plot = df_plot.T\n",
    "df_plot.head(15)"
   ]
  },
  {
   "cell_type": "code",
   "execution_count": 130,
   "metadata": {},
   "outputs": [
    {
     "data": {
      "text/plain": [
       "<seaborn.axisgrid.FacetGrid at 0x19a4ec173c8>"
      ]
     },
     "execution_count": 130,
     "metadata": {},
     "output_type": "execute_result"
    },
    {
     "data": {
      "image/png": "[encoded data removed]",
      "text/plain": [
       "<Figure size 695.25x360 with 1 Axes>"
      ]
     },
     "metadata": {
      "needs_background": "light"
     },
     "output_type": "display_data"
    }
   ],
   "source": [
    "sns.relplot(data = df_plot, x= 'year', y = country_code + var1,\n",
    "            hue = country_code + var2, size = country_code + var3)"
   ]
  },
  {
   "cell_type": "code",
   "execution_count": null,
   "metadata": {},
   "outputs": [],
   "source": []
  }
 ],
 "metadata": {
  "kernelspec": {
   "display_name": "Python 3",
   "language": "python",
   "name": "python3"
  },
  "language_info": {
   "codemirror_mode": {
    "name": "ipython",
    "version": 3
   },
   "file_extension": ".py",
   "mimetype": "text/x-python",
   "name": "python",
   "nbconvert_exporter": "python",
   "pygments_lexer": "ipython3",
   "version": "3.7.3"
  }
 },
 "nbformat": 4,
 "nbformat_minor": 2
}
