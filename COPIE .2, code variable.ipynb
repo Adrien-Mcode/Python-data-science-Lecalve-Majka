{
 "cells": [
  {
   "cell_type": "code",
   "execution_count": 3,
   "metadata": {},
   "outputs": [],
   "source": [
    "import pandas as pd\n",
    "import numpy as np\n",
    "import matplotlib.pyplot as plt\n",
    "import seaborn as sns\n",
    "from sklearn.preprocessing import StandardScaler\n",
    "import re\n",
    "import statsmodels.api as sm\n",
    "import geoplot as gplt\n",
    "import geopandas as gpd\n",
    "from scipy.cluster.hierarchy import dendrogram, linkage\n",
    "\n",
    "#Fonction pour trouver les codes correspondants à un pays entre les codes de pays et le nom des pays :\"\n",
    "def refresh_dico(Name,Code,df):\n",
    "    dic = {}\n",
    "    for i in df[[Name,Code]].dropna().drop_duplicates().iterrows() :\n",
    "        dic[i[1][Name]] = i[1][Code]\n",
    "    return (dic)\n",
    "    \n",
    "\n",
    "#fonction pour trouver toutes les lignes qui correspondent à un pays où à une variable en particulier\n",
    "\n",
    "def rech_ligne_pays (y,df) :\n",
    "    expression = re.compile(dic_pays[y]+\".*?;\")\n",
    "    return(list(i[:-1] for i in (expression.findall(';'.join(df.index)+';'))))\n",
    "\n",
    "def rech_ligne_indic (y,df):\n",
    "    expression = re.compile(\".{,4}\"+y+\";\")\n",
    "    return(list(i[:-1] for i in (expression.findall(';'.join(df.index)+';'))))\n",
    "\n",
    "def graph_regress(regresseur,regresse) :\n",
    "    sns.lmplot(x=regresse, y=regresseur, data=df1.drop(['Country Name','Country Code','Indicator Name'], axis = 1).loc[[regresse,regresseur]].dropna(axis = 1).T, robust = True)\n",
    "\n",
    "def regress (regresseur,regresse) :\n",
    "    x = sm.add_constant(df1.drop(['Country Name','Country Code','Indicator Name'],axis =1).loc[regresseur].to_numpy())\n",
    "    y = df1.drop(['Country Name','Country Code','Indicator Name'],axis=1).loc[regresse].to_numpy()\n",
    "\n",
    "    model = sm.OLS(y,x,'drop')\n",
    "    results = model.fit()\n",
    "    return(results)\n",
    "#/!\\ il faut entre le nom avec des caractères regex pour les ( et %)\n",
    "        "
   ]
  },
  {
   "cell_type": "markdown",
   "metadata": {},
   "source": [
    "On construit un dictionnaire nom du pays / code du pays :"
   ]
  },
  {
   "cell_type": "markdown",
   "metadata": {},
   "source": [
    "# On va télécharger les bases de données et repérer les variables pertinentes dans chacune des bases"
   ]
  },
  {
   "cell_type": "markdown",
   "metadata": {},
   "source": [
    "### On commmence par créer les dataframe"
   ]
  },
  {
   "cell_type": "markdown",
   "metadata": {},
   "source": [
    "Il faut légèrement modifier le fichier csv dézippé pour enlever les deux premières lignes, qui ne comprennent que des infos générales sur le format du fichier mais qui entrainaient un problème d'ouverture via la commande pd.read_csv car elles comportaient des virgules.\n",
    "\n",
    "On peut ensuite ouvrir sereinement toutes les base modifiées ainsi."
   ]
  },
  {
   "cell_type": "code",
   "execution_count": 4,
   "metadata": {},
   "outputs": [],
   "source": [
    "agri_forest = pd.read_csv(\"chiffre_agri_foret_peche.csv\")\n",
    "augment_pib = pd.read_csv(\"chiffre_augment_pib.csv\")\n",
    "energie_utilisee = pd.read_csv(\"chiffre_energie_utilise.csv\")\n",
    "emission_GES = pd.read_csv(\"chiffre_GES_total.csv\")\n",
    "nucle_total = pd.read_csv('chiffre_nucle_total_nuke_total_fossile.csv')\n",
    "part_indus_construc = pd.read_csv('chiffre_part_indus_construc.csv')\n",
    "pib = pd.read_csv(\"chiffre_pib.csv\")\n",
    "pop = pd.read_csv('chiffre_population.csv')\n",
    "nom_pays = pib['Country Name']\n"
   ]
  },
  {
   "cell_type": "code",
   "execution_count": 5,
   "metadata": {},
   "outputs": [],
   "source": [
    "df_list  = [agri_forest, augment_pib, energie_utilisee, emission_GES, nucle_total, part_indus_construc, pib,pop]"
   ]
  },
  {
   "cell_type": "markdown",
   "metadata": {},
   "source": [
    "### On regarde chaque dataframe pour identifier les variables pertinentes"
   ]
  },
  {
   "cell_type": "markdown",
   "metadata": {},
   "source": [
    "On observe que tous les df sont construits de la même manière. On a le nom du pays, son abréviation, le nom de l'indicateur utilisé, son code, puis sa valeur pour chaque année. On a aussi toujours une colonne vide, qui ne nous gène pas vraiment."
   ]
  },
  {
   "cell_type": "markdown",
   "metadata": {},
   "source": [
    "### On nettoie les bases en enlevant les informations qui ne nous intéresse pas"
   ]
  },
  {
   "cell_type": "markdown",
   "metadata": {},
   "source": [
    "Il faudra enlever la colomne \"unnamed\", les colomnes qui correpondent aux années qui ne nous intéresssent pas, et éventuellement les lignes (=pays ou région) que l'on ne garde pas.\n",
    "\n",
    "Par exemple, conserve-t-on les pays comme Aruba dont on ne connait que le PIB? Je pense que la question elle est vite répondue.\n",
    "\n",
    "Pareil, est-ce que ça a vraiement un intérêt de garder les zones géographiques du type Asie du Sud-Est, etc?  ce ne sont que des aggrégats de pays, donc pas forcément."
   ]
  },
  {
   "cell_type": "markdown",
   "metadata": {},
   "source": [
    "### On fusionne les dataframe pour aggréger tous ces indicateurs"
   ]
  },
  {
   "cell_type": "markdown",
   "metadata": {},
   "source": [
    "On peut envisager plusieurs manières de fusionner ces df. Soit on a en index Pays_Année et les colomnes correspindent chacune à un indice, soit on a Pays_Indicateur et les colonnes correspondent chacune a une année. Ce sont les formats wide et long (cf tp2).\n",
    "\n",
    "Pour des raisons de lisibilité, il est évident que l'on va conserver le nom de l'indicateur, et non pas son nom de code. En revanche, il faudra voir à l'usage si on préfère utiler le nom complet des pays ou seulement leur nom de code"
   ]
  },
  {
   "cell_type": "markdown",
   "metadata": {},
   "source": [
    "On concatène les df, on les trie et on met en index la variable créée à cet effet ci-dessus."
   ]
  },
  {
   "cell_type": "code",
   "execution_count": 7,
   "metadata": {},
   "outputs": [
    {
     "data": {
      "text/html": [
       "<div>\n",
       "<style scoped>\n",
       "    .dataframe tbody tr th:only-of-type {\n",
       "        vertical-align: middle;\n",
       "    }\n",
       "\n",
       "    .dataframe tbody tr th {\n",
       "        vertical-align: top;\n",
       "    }\n",
       "\n",
       "    .dataframe thead th {\n",
       "        text-align: right;\n",
       "    }\n",
       "</style>\n",
       "<table border=\"1\" class=\"dataframe\">\n",
       "  <thead>\n",
       "    <tr style=\"text-align: right;\">\n",
       "      <th></th>\n",
       "      <th>Country Name</th>\n",
       "      <th>Country Code</th>\n",
       "      <th>Indicator Name</th>\n",
       "      <th>Indicator Code</th>\n",
       "      <th>1960</th>\n",
       "      <th>1961</th>\n",
       "      <th>1962</th>\n",
       "      <th>1963</th>\n",
       "      <th>1964</th>\n",
       "      <th>1965</th>\n",
       "      <th>...</th>\n",
       "      <th>2012</th>\n",
       "      <th>2013</th>\n",
       "      <th>2014</th>\n",
       "      <th>2015</th>\n",
       "      <th>2016</th>\n",
       "      <th>2017</th>\n",
       "      <th>2018</th>\n",
       "      <th>2019</th>\n",
       "      <th>2020</th>\n",
       "      <th>Unnamed: 65</th>\n",
       "    </tr>\n",
       "    <tr>\n",
       "      <th>Pays_indic</th>\n",
       "      <th></th>\n",
       "      <th></th>\n",
       "      <th></th>\n",
       "      <th></th>\n",
       "      <th></th>\n",
       "      <th></th>\n",
       "      <th></th>\n",
       "      <th></th>\n",
       "      <th></th>\n",
       "      <th></th>\n",
       "      <th></th>\n",
       "      <th></th>\n",
       "      <th></th>\n",
       "      <th></th>\n",
       "      <th></th>\n",
       "      <th></th>\n",
       "      <th></th>\n",
       "      <th></th>\n",
       "      <th></th>\n",
       "      <th></th>\n",
       "      <th></th>\n",
       "    </tr>\n",
       "  </thead>\n",
       "  <tbody>\n",
       "    <tr>\n",
       "      <td>ABW_Agriculture, forestry, and fishing, value added (% of GDP)</td>\n",
       "      <td>Aruba</td>\n",
       "      <td>ABW</td>\n",
       "      <td>Agriculture, forestry, and fishing, value adde...</td>\n",
       "      <td>NV.AGR.TOTL.ZS</td>\n",
       "      <td>NaN</td>\n",
       "      <td>NaN</td>\n",
       "      <td>NaN</td>\n",
       "      <td>NaN</td>\n",
       "      <td>NaN</td>\n",
       "      <td>NaN</td>\n",
       "      <td>...</td>\n",
       "      <td>NaN</td>\n",
       "      <td>NaN</td>\n",
       "      <td>NaN</td>\n",
       "      <td>NaN</td>\n",
       "      <td>NaN</td>\n",
       "      <td>NaN</td>\n",
       "      <td>NaN</td>\n",
       "      <td>NaN</td>\n",
       "      <td>NaN</td>\n",
       "      <td>NaN</td>\n",
       "    </tr>\n",
       "    <tr>\n",
       "      <td>ABW_Alternative and nuclear energy (% of total energy use)</td>\n",
       "      <td>Aruba</td>\n",
       "      <td>ABW</td>\n",
       "      <td>Alternative and nuclear energy (% of total ene...</td>\n",
       "      <td>EG.USE.COMM.CL.ZS</td>\n",
       "      <td>NaN</td>\n",
       "      <td>NaN</td>\n",
       "      <td>NaN</td>\n",
       "      <td>NaN</td>\n",
       "      <td>NaN</td>\n",
       "      <td>NaN</td>\n",
       "      <td>...</td>\n",
       "      <td>NaN</td>\n",
       "      <td>NaN</td>\n",
       "      <td>NaN</td>\n",
       "      <td>NaN</td>\n",
       "      <td>NaN</td>\n",
       "      <td>NaN</td>\n",
       "      <td>NaN</td>\n",
       "      <td>NaN</td>\n",
       "      <td>NaN</td>\n",
       "      <td>NaN</td>\n",
       "    </tr>\n",
       "    <tr>\n",
       "      <td>ABW_Energy use (kg of oil equivalent per capita)</td>\n",
       "      <td>Aruba</td>\n",
       "      <td>ABW</td>\n",
       "      <td>Energy use (kg of oil equivalent per capita)</td>\n",
       "      <td>EG.USE.PCAP.KG.OE</td>\n",
       "      <td>NaN</td>\n",
       "      <td>NaN</td>\n",
       "      <td>NaN</td>\n",
       "      <td>NaN</td>\n",
       "      <td>NaN</td>\n",
       "      <td>NaN</td>\n",
       "      <td>...</td>\n",
       "      <td>NaN</td>\n",
       "      <td>NaN</td>\n",
       "      <td>NaN</td>\n",
       "      <td>NaN</td>\n",
       "      <td>NaN</td>\n",
       "      <td>NaN</td>\n",
       "      <td>NaN</td>\n",
       "      <td>NaN</td>\n",
       "      <td>NaN</td>\n",
       "      <td>NaN</td>\n",
       "    </tr>\n",
       "    <tr>\n",
       "      <td>ABW_GDP (current US$)</td>\n",
       "      <td>Aruba</td>\n",
       "      <td>ABW</td>\n",
       "      <td>GDP (current US$)</td>\n",
       "      <td>NY.GDP.MKTP.CD</td>\n",
       "      <td>NaN</td>\n",
       "      <td>NaN</td>\n",
       "      <td>NaN</td>\n",
       "      <td>NaN</td>\n",
       "      <td>NaN</td>\n",
       "      <td>NaN</td>\n",
       "      <td>...</td>\n",
       "      <td>2.534637e+09</td>\n",
       "      <td>2.701676e+09</td>\n",
       "      <td>2.765363e+09</td>\n",
       "      <td>2.919553e+09</td>\n",
       "      <td>2.965922e+09</td>\n",
       "      <td>3.056425e+09</td>\n",
       "      <td>NaN</td>\n",
       "      <td>NaN</td>\n",
       "      <td>NaN</td>\n",
       "      <td>NaN</td>\n",
       "    </tr>\n",
       "    <tr>\n",
       "      <td>ABW_GDP growth (annual %)</td>\n",
       "      <td>Aruba</td>\n",
       "      <td>ABW</td>\n",
       "      <td>GDP growth (annual %)</td>\n",
       "      <td>NY.GDP.MKTP.KD.ZG</td>\n",
       "      <td>NaN</td>\n",
       "      <td>NaN</td>\n",
       "      <td>NaN</td>\n",
       "      <td>NaN</td>\n",
       "      <td>NaN</td>\n",
       "      <td>NaN</td>\n",
       "      <td>...</td>\n",
       "      <td>-1.369863e+00</td>\n",
       "      <td>4.198232e+00</td>\n",
       "      <td>3.000000e-01</td>\n",
       "      <td>5.700001e+00</td>\n",
       "      <td>2.100000e+00</td>\n",
       "      <td>1.999999e+00</td>\n",
       "      <td>NaN</td>\n",
       "      <td>NaN</td>\n",
       "      <td>NaN</td>\n",
       "      <td>NaN</td>\n",
       "    </tr>\n",
       "  </tbody>\n",
       "</table>\n",
       "<p>5 rows × 66 columns</p>\n",
       "</div>"
      ],
      "text/plain": [
       "                                                   Country Name Country Code  \\\n",
       "Pays_indic                                                                     \n",
       "ABW_Agriculture, forestry, and fishing, value a...        Aruba          ABW   \n",
       "ABW_Alternative and nuclear energy (% of total ...        Aruba          ABW   \n",
       "ABW_Energy use (kg of oil equivalent per capita)          Aruba          ABW   \n",
       "ABW_GDP (current US$)                                     Aruba          ABW   \n",
       "ABW_GDP growth (annual %)                                 Aruba          ABW   \n",
       "\n",
       "                                                                                       Indicator Name  \\\n",
       "Pays_indic                                                                                              \n",
       "ABW_Agriculture, forestry, and fishing, value a...  Agriculture, forestry, and fishing, value adde...   \n",
       "ABW_Alternative and nuclear energy (% of total ...  Alternative and nuclear energy (% of total ene...   \n",
       "ABW_Energy use (kg of oil equivalent per capita)         Energy use (kg of oil equivalent per capita)   \n",
       "ABW_GDP (current US$)                                                               GDP (current US$)   \n",
       "ABW_GDP growth (annual %)                                                       GDP growth (annual %)   \n",
       "\n",
       "                                                       Indicator Code  1960  \\\n",
       "Pays_indic                                                                    \n",
       "ABW_Agriculture, forestry, and fishing, value a...     NV.AGR.TOTL.ZS   NaN   \n",
       "ABW_Alternative and nuclear energy (% of total ...  EG.USE.COMM.CL.ZS   NaN   \n",
       "ABW_Energy use (kg of oil equivalent per capita)    EG.USE.PCAP.KG.OE   NaN   \n",
       "ABW_GDP (current US$)                                  NY.GDP.MKTP.CD   NaN   \n",
       "ABW_GDP growth (annual %)                           NY.GDP.MKTP.KD.ZG   NaN   \n",
       "\n",
       "                                                    1961  1962  1963  1964  \\\n",
       "Pays_indic                                                                   \n",
       "ABW_Agriculture, forestry, and fishing, value a...   NaN   NaN   NaN   NaN   \n",
       "ABW_Alternative and nuclear energy (% of total ...   NaN   NaN   NaN   NaN   \n",
       "ABW_Energy use (kg of oil equivalent per capita)     NaN   NaN   NaN   NaN   \n",
       "ABW_GDP (current US$)                                NaN   NaN   NaN   NaN   \n",
       "ABW_GDP growth (annual %)                            NaN   NaN   NaN   NaN   \n",
       "\n",
       "                                                    1965  ...          2012  \\\n",
       "Pays_indic                                                ...                 \n",
       "ABW_Agriculture, forestry, and fishing, value a...   NaN  ...           NaN   \n",
       "ABW_Alternative and nuclear energy (% of total ...   NaN  ...           NaN   \n",
       "ABW_Energy use (kg of oil equivalent per capita)     NaN  ...           NaN   \n",
       "ABW_GDP (current US$)                                NaN  ...  2.534637e+09   \n",
       "ABW_GDP growth (annual %)                            NaN  ... -1.369863e+00   \n",
       "\n",
       "                                                            2013  \\\n",
       "Pays_indic                                                         \n",
       "ABW_Agriculture, forestry, and fishing, value a...           NaN   \n",
       "ABW_Alternative and nuclear energy (% of total ...           NaN   \n",
       "ABW_Energy use (kg of oil equivalent per capita)             NaN   \n",
       "ABW_GDP (current US$)                               2.701676e+09   \n",
       "ABW_GDP growth (annual %)                           4.198232e+00   \n",
       "\n",
       "                                                            2014  \\\n",
       "Pays_indic                                                         \n",
       "ABW_Agriculture, forestry, and fishing, value a...           NaN   \n",
       "ABW_Alternative and nuclear energy (% of total ...           NaN   \n",
       "ABW_Energy use (kg of oil equivalent per capita)             NaN   \n",
       "ABW_GDP (current US$)                               2.765363e+09   \n",
       "ABW_GDP growth (annual %)                           3.000000e-01   \n",
       "\n",
       "                                                            2015  \\\n",
       "Pays_indic                                                         \n",
       "ABW_Agriculture, forestry, and fishing, value a...           NaN   \n",
       "ABW_Alternative and nuclear energy (% of total ...           NaN   \n",
       "ABW_Energy use (kg of oil equivalent per capita)             NaN   \n",
       "ABW_GDP (current US$)                               2.919553e+09   \n",
       "ABW_GDP growth (annual %)                           5.700001e+00   \n",
       "\n",
       "                                                            2016  \\\n",
       "Pays_indic                                                         \n",
       "ABW_Agriculture, forestry, and fishing, value a...           NaN   \n",
       "ABW_Alternative and nuclear energy (% of total ...           NaN   \n",
       "ABW_Energy use (kg of oil equivalent per capita)             NaN   \n",
       "ABW_GDP (current US$)                               2.965922e+09   \n",
       "ABW_GDP growth (annual %)                           2.100000e+00   \n",
       "\n",
       "                                                            2017  2018  2019  \\\n",
       "Pays_indic                                                                     \n",
       "ABW_Agriculture, forestry, and fishing, value a...           NaN   NaN   NaN   \n",
       "ABW_Alternative and nuclear energy (% of total ...           NaN   NaN   NaN   \n",
       "ABW_Energy use (kg of oil equivalent per capita)             NaN   NaN   NaN   \n",
       "ABW_GDP (current US$)                               3.056425e+09   NaN   NaN   \n",
       "ABW_GDP growth (annual %)                           1.999999e+00   NaN   NaN   \n",
       "\n",
       "                                                    2020  Unnamed: 65  \n",
       "Pays_indic                                                             \n",
       "ABW_Agriculture, forestry, and fishing, value a...   NaN          NaN  \n",
       "ABW_Alternative and nuclear energy (% of total ...   NaN          NaN  \n",
       "ABW_Energy use (kg of oil equivalent per capita)     NaN          NaN  \n",
       "ABW_GDP (current US$)                                NaN          NaN  \n",
       "ABW_GDP growth (annual %)                            NaN          NaN  \n",
       "\n",
       "[5 rows x 66 columns]"
      ]
     },
     "execution_count": 7,
     "metadata": {},
     "output_type": "execute_result"
    }
   ],
   "source": [
    "#On fait ici la modif sur tous les df à l'aide d'une boucle for, \n",
    "for df in df_list :\n",
    "    df['Pays_indic'] = df['Country Code'].str[:3] + '_' + df['Indicator Name'].str[:99]\n",
    "#part_indus_construc['Pays_indic']\n",
    "\n",
    "df = pd.concat(df_list)\n",
    "df = df.sort_values('Pays_indic').set_index('Pays_indic')\n",
    "df.head()"
   ]
  },
  {
   "cell_type": "code",
   "execution_count": 8,
   "metadata": {},
   "outputs": [],
   "source": [
    "code_list = []\n",
    "for i in df['Country Code']:\n",
    "    if i not in code_list : \n",
    "        code_list.append(i)\n",
    "code_list.pop(-1)\n",
    "\n",
    "def gen_croissance(variable):\n",
    "    for i in code_list:\n",
    "        df.loc[i+'_Croissance'+variable+' (pourcent)']=100*df.loc[i+variable][4:].astype(np.float64).diff() / (df.loc[i+variable][4:].astype(np.float64)-df.loc[i+variable][4:].astype(np.float64).diff())\n",
    "        df.loc[i+'_Croissance'+variable+' (pourcent)',['Country Name','Country Code']]=df.loc[i+variable,['Country Name','Country Code']]\n",
    "        df.loc[i+'_Croissance'+variable+' (pourcent)','Indicator Name']='Croissance '+variable\n",
    "    return \n",
    "\n",
    "def gen_par_tete(variable):\n",
    "    for i in code_list:\n",
    "        df.loc[i+variable+' par Tete']= df.loc[i+variable][4:].astype(np.float64) / df.loc[i+'_Population, total'][4:].astype(np.float64)\n",
    "        df.loc[i+variable+' par Tete',['Country Name','Country Code']]=df.loc[i+variable,['Country Name','Country Code']]\n",
    "        df.loc[i+variable+' par Tete','Indicator Name']= variable + ' par Tete'\n",
    "    return\n",
    "\n",
    "gen_par_tete('_GDP (current US$)')\n",
    "gen_par_tete('_Émissions totales de GES (kt d’équivalent CO2)')\n",
    "gen_croissance('_Émissions totales de GES (kt d’équivalent CO2)')\n",
    "gen_croissance('_GDP (current US$) par Tete')\n",
    "gen_croissance('_Émissions totales de GES (kt d’équivalent CO2) par Tete')\n",
    "gen_croissance('_Energy use (kg of oil equivalent per capita)')\n"
   ]
  },
  {
   "cell_type": "markdown",
   "metadata": {},
   "source": [
    "# Premières représentations graphiques"
   ]
  },
  {
   "cell_type": "markdown",
   "metadata": {},
   "source": [
    "On créer une fonction afin de récupérer les moyennes des variables qui nous intéressent :"
   ]
  },
  {
   "cell_type": "code",
   "execution_count": null,
   "metadata": {},
   "outputs": [],
   "source": [
    "def create_average(var,df) :\n",
    "    temp_list = ['Average','AVG',var]\n",
    "    for column in df1.columns[3:]:\n",
    "        temp_list.append(df1[column].where('_' + df1['Indicator Name'] == var).mean())\n",
    "    df1.loc['AVG' + var] = temp_list\n",
    "\n",
    "var_list = ['_GDP (current US$)', '_Émissions totales de GES (kt d’équivalent CO2)', \n",
    "           '_Alternative and nuclear energy (% of total energy use)']\n",
    "for var in var_list : \n",
    "    create_average(var,df1)\n",
    "\n",
    "var_list"
   ]
  },
  {
   "cell_type": "code",
   "execution_count": null,
   "metadata": {},
   "outputs": [],
   "source": [
    "def triplot_seaborn (var1,var2,country_code,Titre,axis,var3 = None) :\n",
    "    year = list(df)[3:]\n",
    "    for i in range(len(year)):\n",
    "        year[i] = float(year[i])\n",
    "\n",
    "    df_plot = df.drop(['Country Name', 'Country Code', 'Indicator Name'], axis = 1)\n",
    "    df_plot.loc['year'] = year\n",
    "    df_plot = df_plot.T\n",
    "    if var3 != None :\n",
    "        graph = sns.relplot(ax = axis,\n",
    "                            data = df_plot,\n",
    "                            x= 'year', y = country_code + var1,\n",
    "                            hue = country_code + var3, \n",
    "                            size = country_code + var2, \n",
    "                            palette = 'rocket_r', \n",
    "                            sizes = (30,300), \n",
    "                            kind = 'scatter')\n",
    "    else :\n",
    "        graph = sns.relplot(ax = axis,\n",
    "                            data = df_plot,\n",
    "                            x= 'year', y = country_code + var1,\n",
    "                            size = country_code + var2, \n",
    "                            sizes = (30,300),\n",
    "                            kind = 'scatter')\n",
    "    \n",
    "    graph.set_axis_labels('Date','PIB').set_titles(Titre)\n",
    "    return(graph)\n"
   ]
  },
  {
   "cell_type": "code",
   "execution_count": null,
   "metadata": {},
   "outputs": [],
   "source": [
    "triplot_seaborn('_GDP (current US$)','_Émissions totales de GES (kt d’équivalent CO2)','WLD','PIB mondiale en fonction du temps',var3 = None)"
   ]
  },
  {
   "cell_type": "markdown",
   "metadata": {},
   "source": [
    "Ici on peut voir les le pib mondiale en fonction du temps, coloré par les émissions mondiales de GES. On peut clairement voir que le PIB mondial n'a cessé de croître sur toutes la période, tout comme les émissions de gazs à effet de serre comme on peut le voir au travers du fait que les points sont de plus en plus foncés au fur et à mesure que l'on avance dans le temps \n",
    "\n",
    "Ce graphique explicite bien le fait stylisé que l'économie mondiale s'est développé en même temps que les émissions de gazs à effet de serre du à l'activité économique grossissaient, et ce sans presque aucune interruption. En effet, le développement d'industrie lourde dans les pays en développement (comme la métallurgie en Chine par exemple) ou le développement d'agriculture à grande échelle mécanisée (comme au Brésil) a fortement pesé dans le bilan carbone de ces pays, comme on peut le voir dans les graphiques suivant :"
   ]
  },
  {
   "cell_type": "code",
   "execution_count": null,
   "metadata": {},
   "outputs": [],
   "source": [
    "triplot_seaborn('_GDP (current US$)',\n",
    "                '_Émissions totales de GES (kt d’équivalent CO2) par Tete',\n",
    "                'CHN',\n",
    "                'PIB de la Chine en fonction du temps',\n",
    "                var3 ='_Industry (including construction), value added (% of GDP)' )"
   ]
  },
  {
   "cell_type": "markdown",
   "metadata": {},
   "source": [
    "Comme on peut le voir ici la chine a fortement développé son industrie a partir des années 1980, ce qui a fait que celle-ci a gardé une aprt constante dans le PIB voir a même pris de l'importance alors même que le PIB de la chine augmentait très fortement chaque année. De plus, on peut observer en parrallèle le développement des émissions de gazs à effet de serre par tête de la Chine. \n",
    "\n",
    "Ce graphique nous montre bien un certain sentier de croissance suivi par la Chine, qui laisse une grande place à l'industrie fortement polluante et donc à l'émission de gazs à effet de serre.\n",
    "\n",
    "Même si le Brésil n'a pas subie une industrialisation aussi lourde que la Chine on peut voir que ses émissions de gazs à effet de serre par habitant"
   ]
  },
  {
   "cell_type": "code",
   "execution_count": 28,
   "metadata": {},
   "outputs": [
    {
     "ename": "NameError",
     "evalue": "name 'triplot_seaborn' is not defined",
     "output_type": "error",
     "traceback": [
      "\u001b[1;31m---------------------------------------------------------------------------\u001b[0m",
      "\u001b[1;31mNameError\u001b[0m                                 Traceback (most recent call last)",
      "\u001b[1;32m<ipython-input-28-64275c54a4f7>\u001b[0m in \u001b[0;36m<module>\u001b[1;34m\u001b[0m\n\u001b[1;32m----> 1\u001b[1;33m triplot_seaborn('_GDP (current US$)',\n\u001b[0m\u001b[0;32m      2\u001b[0m                 \u001b[1;34m'_Émissions totales de GES (kt d’équivalent CO2)'\u001b[0m\u001b[1;33m,\u001b[0m\u001b[1;33m\u001b[0m\u001b[1;33m\u001b[0m\u001b[0m\n\u001b[0;32m      3\u001b[0m                 \u001b[1;34m'BRA'\u001b[0m\u001b[1;33m,\u001b[0m\u001b[1;33m\u001b[0m\u001b[1;33m\u001b[0m\u001b[0m\n\u001b[0;32m      4\u001b[0m                 \u001b[1;34m'PIB du Brésil en fonction du temps'\u001b[0m\u001b[1;33m,\u001b[0m\u001b[1;33m\u001b[0m\u001b[1;33m\u001b[0m\u001b[0m\n\u001b[0;32m      5\u001b[0m                axis = None)\n",
      "\u001b[1;31mNameError\u001b[0m: name 'triplot_seaborn' is not defined"
     ]
    }
   ],
   "source": [
    "triplot_seaborn('_GDP (current US$)',\n",
    "                '_Émissions totales de GES (kt d’équivalent CO2)',\n",
    "                'BRA',\n",
    "                'PIB du Brésil en fonction du temps',\n",
    "               axis = None)\n"
   ]
  },
  {
   "cell_type": "markdown",
   "metadata": {},
   "source": [
    "On peut voir que là aussi le développement du pays a été fortement corréllé au développement des émissions de gazs à effet de serre. Cependant ici cette croissance des émissions est pour le pays globale, et non pas par tete. En effet, si on regarde ce que donne "
   ]
  },
  {
   "cell_type": "code",
   "execution_count": null,
   "metadata": {},
   "outputs": [],
   "source": [
    "#geoplot à utiliser das le cas d'une base avec des années (on a donc année et indic sur les lignes et années en colonnes)\n",
    "\n",
    "def geo_plot (df,indic,annee,Titre = None,couleur = 'Oranges',norm=True) : \n",
    "    #On importe la map monde dans un data frame avec ses données géographiques : \n",
    "    map_monde = gpd.read_file('map_monde (1).json')\n",
    "    #on créé deux dictionnaires différents pour pouvoir adapter les codes pays et merge le plus correctemment possible\n",
    "    #les deux dataframe: \n",
    "    dic_map = refresh_dico('iso_a3','sovereignt',map_monde)\n",
    "    dic_code = refresh_dico('Country Code','Country Name',df)  \n",
    "    liste_non_concord = []\n",
    "    \n",
    "    #On récupère tous les pays pour lesquels les codes pays ne correspondent pas :\n",
    "    for i in dic_map.keys():\n",
    "        j = ''\n",
    "        try :\n",
    "            j = dic_code[i]\n",
    "        except KeyError:\n",
    "            liste_non_concord.append(dic_map[i])\n",
    "\n",
    "    for i in liste_non_concord:\n",
    "        try :\n",
    "            map_monde.loc[map_monde['sovereignt'] == i,'iso_a3'] = dic_pays[i]\n",
    "        except KeyError:\n",
    "            print(i +' n\\'a aucun équivalent dans la table des données')\n",
    "            \n",
    "    #On peut dés maintenant commencer le plot :\n",
    "    ax = gplt.polyplot(map_monde['geometry'],\n",
    "                       edgecolor='None',\n",
    "                       facecolor='lightgray',\n",
    "                       figsize=(18, 7))\n",
    "    if Titre != None :\n",
    "        ax.set_title(Titre, fontsize = 20)\n",
    "\n",
    "    gdf = create_gdf(df.loc[rech_ligne_indic(indic,df),['Country Code',annee]],map_monde)\n",
    "    \n",
    "    if norm :\n",
    "        gdf[annee] = log_norm(gdf[annee])\n",
    "    \n",
    "    gplt.choropleth(gdf,\n",
    "                    hue = annee,\n",
    "                    cmap = couleur,\n",
    "                    legend=True,\n",
    "                    ax=ax)\n",
    "        \n",
    "    \n",
    "    plt.show()\n",
    "    \n",
    "#La fonction intermédiaire que l'on utilise pour créer le géodataframe :\n",
    "def create_gdf (df_geo,map_monde) :\n",
    "    map_monde_clean = pd.DataFrame()\n",
    "    map_monde_clean[['Country Code','geometry']] = map_monde[['iso_a3','geometry']].dropna()\n",
    "    gdf = gpd.GeoDataFrame(df_geo.dropna().reset_index().merge(map_monde_clean,on = 'Country Code'),\n",
    "                           geometry=df_geo.dropna()\n",
    "                                       .reset_index()\n",
    "                                       .merge(map_monde_clean,on = 'Country Code')['geometry'])\n",
    "    return(gdf)\n",
    "#La fonction pour passer nos valeurs au logarithme en base 10.\n",
    "def log_norm (df_norm) :\n",
    "    return(np.log10(df_norm.astype(np.float64)))\n",
    "    #/np.log10(df_norm.astype(np.float64).max()))\n"
   ]
  },
  {
   "cell_type": "code",
   "execution_count": null,
   "metadata": {},
   "outputs": [],
   "source": [
    "geo_plot(df1,\n",
    "         'Émissions totales de GES \\(kt d’équivalent CO2\\)',\n",
    "         '1980',\n",
    "         Titre = 'Emissions totales de GES en 1980 en logarithme de base 10 \\n (kt d\\'équivalent CO2)',\n",
    "         couleur = 'Oranges',\n",
    "         norm=True)"
   ]
  },
  {
   "cell_type": "markdown",
   "metadata": {},
   "source": [
    "On peut voir ici les émissions totales de gaz à effet de serre sur une map-monde. On peut déjà y voir que le plus gros pollueurs de l'époque sont les Etats-Unis, tallonné par la Russie. On peut aussi remarquer que la Chine fait elle aussi déjà parti des plus gros émetteurs de gazs à effet de serre en 1980, cependant cette projection ne prend pas en compte la population de chaque pays, qui est de fait une variable d'importance pour mesurer les gazs à effet de serre sur l'ensemble du pays. "
   ]
  },
  {
   "cell_type": "code",
   "execution_count": null,
   "metadata": {},
   "outputs": [],
   "source": [
    "geo_plot(df1,\n",
    "         'Émissions totales de GES \\(kt d’équivalent CO2\\) par Tete',\n",
    "         '1981',\n",
    "         Titre = 'Emissions totales de GES par habitant en logarithme de base 10 \\n en 1981 (kt d\\'équivalent CO2)',\n",
    "         couleur = 'Oranges',\n",
    "         norm=True)"
   ]
  },
  {
   "cell_type": "markdown",
   "metadata": {},
   "source": [
    "On créé un vecteur temps pour pouvoir créer des graphiques en fonction du temps facilement."
   ]
  },
  {
   "cell_type": "code",
   "execution_count": 18,
   "metadata": {},
   "outputs": [],
   "source": [
    "t = np.linspace(1980,2019,40)"
   ]
  },
  {
   "cell_type": "code",
   "execution_count": 19,
   "metadata": {},
   "outputs": [
    {
     "data": {
      "image/png": "[encoded data removed]",
      "text/plain": [
       "<Figure size 432x288 with 2 Axes>"
      ]
     },
     "metadata": {
      "needs_background": "light"
     },
     "output_type": "display_data"
    },
    {
     "data": {
      "image/png": "[encoded data removed]",
      "text/plain": [
       "<Figure size 432x288 with 2 Axes>"
      ]
     },
     "metadata": {
      "needs_background": "light"
     },
     "output_type": "display_data"
    }
   ],
   "source": [
    "#Sur deux subplots différents\n",
    "plt.subplot(211)\n",
    "plt.plot(t[0:31],df1.loc['FRA_Émissions totales de GES (kt d’équivalent CO2)'][2:42].to_numpy()[1:32].T)\n",
    "plt.subplot(212)\n",
    "plt.plot(t[0:31],df1.loc['FRA_GDP growth (annual %)'][2:42].to_numpy()[1:32].T)\n",
    "\n",
    "plt.show()\n",
    "\n",
    "#Sur le même plot\\n\",\n",
    "\n",
    "fig, ax1 = plt.subplots()\n",
    "\n",
    "color = 'tab:red'\n",
    "ax1.set_xlabel('time (s)')\n",
    "ax1.set_ylabel('Emission de GES', color=color)\n",
    "ax1.plot(t[0:31], df1.loc['FRA_Émissions totales de GES (kt d’équivalent CO2)'][2:42].to_numpy()[1:32].T, color=color)\n",
    "ax1.tick_params(axis='y', labelcolor=color)\n",
    "\n",
    "ax2 = ax1.twinx()  #  commence un deuxième axe qui partage le même axe x\n",
    "\n",
    "color = 'tab:blue'\n",
    "ax2.set_ylabel('PIB', color=color)  \n",
    "ax2.plot(t[0:31], df1.loc['FRA_GDP (current US$)'][2:42].to_numpy()[1:32].T, color=color)\n",
    "ax2.tick_params(axis='y', labelcolor=color)\n",
    "\n",
    "fig.tight_layout()  # otherwise the right y-label is slightly clipped\n",
    "plt.show()"
   ]
  },
  {
   "cell_type": "code",
   "execution_count": 20,
   "metadata": {},
   "outputs": [
    {
     "data": {
      "image/png": "[encoded data removed]",
      "text/plain": [
       "<Figure size 432x288 with 2 Axes>"
      ]
     },
     "metadata": {
      "needs_background": "light"
     },
     "output_type": "display_data"
    },
    {
     "data": {
      "image/png": "[encoded data removed]",
      "text/plain": [
       "<Figure size 432x288 with 2 Axes>"
      ]
     },
     "metadata": {
      "needs_background": "light"
     },
     "output_type": "display_data"
    }
   ],
   "source": [
    "#Sur deux subplots différents\n",
    "plt.subplot(211)\n",
    "plt.plot(t[0:31],df1.loc['USA_Émissions totales de GES (kt d’équivalent CO2)'][2:42].to_numpy()[1:32].T)\n",
    "plt.subplot(212)\n",
    "plt.plot(t[0:31],df1.loc['USA_GDP growth (annual %)'][2:42].to_numpy()[1:32].T)\n",
    "\n",
    "plt.show()\n",
    "\n",
    "#Sur le même plot\\n\",\n",
    "\n",
    "fig, ax1 = plt.subplots()\n",
    "\n",
    "color = 'tab:red'\n",
    "ax1.set_xlabel('time (s)')\n",
    "ax1.set_ylabel('Emission de GES', color=color)\n",
    "ax1.plot(t[0:31], df1.loc['USA_Émissions totales de GES (kt d’équivalent CO2)'][2:42].to_numpy()[1:32].T, color=color)\n",
    "ax1.tick_params(axis='y', labelcolor=color)\n",
    "\n",
    "ax2 = ax1.twinx()  #  commence un deuxième axe qui partage le même axe x\n",
    "\n",
    "color = 'tab:blue'\n",
    "ax2.set_ylabel('PIB', color=color)  \n",
    "ax2.plot(t[0:31], df1.loc['USA_GDP (current US$)'][2:42].to_numpy()[1:32].T, color=color)\n",
    "ax2.tick_params(axis='y', labelcolor=color)\n",
    "\n",
    "fig.tight_layout()  # otherwise the right y-label is slightly clipped\n",
    "plt.show()\n"
   ]
  },
  {
   "cell_type": "markdown",
   "metadata": {},
   "source": [
    "Maintenant qu'on à la croissance des émissions de gazs à effet de serre par an, on peut représenter la croissance du PIB et celle-ci sur le même graphe :"
   ]
  },
  {
   "cell_type": "code",
   "execution_count": 23,
   "metadata": {},
   "outputs": [
    {
     "data": {
      "image/png": "[encoded data removed]",
      "text/plain": [
       "<Figure size 432x288 with 2 Axes>"
      ]
     },
     "metadata": {
      "needs_background": "light"
     },
     "output_type": "display_data"
    }
   ],
   "source": [
    "#Sur le même plot,\n",
    "\n",
    "fig, ax1 = plt.subplots()\n",
    "\n",
    "color = 'tab:red'\n",
    "ax1.set_xlabel('time (s)')\n",
    "ax1.set_ylabel('Emission de GES', color=color)\n",
    "ax1.plot(t[0:31], df1.loc['USA_croissance émissions GES (pourcent)'][2:42].to_numpy()[1:32].T, color=color)\n",
    "ax1.tick_params(axis='y', labelcolor=color)\n",
    "\n",
    "ax2 = ax1.twinx()  #  commence un deuxième axe qui partage le même axe x\n",
    "\n",
    "color = 'tab:blue'\n",
    "ax2.set_ylabel('Croissance du PIB', color=color)  \n",
    "ax2.plot(t[0:31], df1.loc['USA_GDP growth (annual %)'][2:42].to_numpy()[1:32].T, color=color)\n",
    "ax2.tick_params(axis='y', labelcolor=color)\n",
    "\n",
    "fig.tight_layout()  # otherwise the right y-label is slightly clipped\n",
    "plt.show()"
   ]
  },
  {
   "cell_type": "code",
   "execution_count": 24,
   "metadata": {},
   "outputs": [
    {
     "data": {
      "image/png": "[encoded data removed]",
      "text/plain": [
       "<Figure size 432x288 with 2 Axes>"
      ]
     },
     "metadata": {
      "needs_background": "light"
     },
     "output_type": "display_data"
    }
   ],
   "source": [
    "#Sur le même plot,\n",
    "\n",
    "fig, ax1 = plt.subplots()\n",
    "\n",
    "color = 'tab:red'\n",
    "ax1.set_xlabel('time (s)')\n",
    "ax1.set_ylabel('Emission de GES', color=color)\n",
    "ax1.plot(t[0:31], df1.loc['FRA_croissance émissions GES (pourcent)'][2:42].to_numpy()[1:32].T, color=color)\n",
    "ax1.tick_params(axis='y', labelcolor=color)\n",
    "\n",
    "ax2 = ax1.twinx()  #  commence un deuxième axe qui partage le même axe x\n",
    "\n",
    "color = 'tab:blue'\n",
    "ax2.set_ylabel('Croissance du PIB', color=color)  \n",
    "ax2.plot(t[0:31], df1.loc['FRA_GDP growth (annual %)'][2:42].to_numpy()[1:32].T, color=color)\n",
    "ax2.tick_params(axis='y', labelcolor=color)\n",
    "\n",
    "fig.tight_layout()  # otherwise the right y-label is slightly clipped\n",
    "plt.show()"
   ]
  },
  {
   "cell_type": "markdown",
   "metadata": {},
   "source": [
    "On peut voir qu'il y a apparemment une certaine concommitance des courbes, cela-dit il faut faire attention aux effets d'échelles car ici le PIB ne passe presque jamais dans le négatif (ce qui est loin d'être le cas de la croissance des émissions de gaz à effet de serre). On va essayer de le faire dans le cas de la France pour se faire plus d'idées :"
   ]
  },
  {
   "cell_type": "markdown",
   "metadata": {},
   "source": [
    "### Suppression des colonnes et lignes inutiles"
   ]
  },
  {
   "cell_type": "markdown",
   "metadata": {},
   "source": [
    "On a ici la liste des colonnes que l'on supprimme pour se restreindre aux données qui nous intéressent, sutrement dit à partir de 1980 (je ne sais plsu si on avait dit 1980 ou 1985)."
   ]
  },
  {
   "cell_type": "code",
   "execution_count": 9,
   "metadata": {},
   "outputs": [],
   "source": [
    "useless_data_list = ['Unnamed: 65', 'Indicator Code', '1960', '1961', '1962', '1963', '1964', '1965', '1966', '1967', '1968', \n",
    "                   '1969', '1970', '1971', '1972', '1973', '1974', '1975', '1976', '1977', '1978', '1979', '2020']\n",
    "df = df.drop(useless_data_list, axis = 1)\n",
    "#df.sample(15)"
   ]
  },
  {
   "cell_type": "markdown",
   "metadata": {},
   "source": [
    "On va chercher à enlever les lignes qui ne contiennent que peu d'infos (au moins 10 valeurs manquantes)"
   ]
  },
  {
   "cell_type": "code",
   "execution_count": 10,
   "metadata": {},
   "outputs": [
    {
     "data": {
      "text/plain": [
       "(2727, 43)"
      ]
     },
     "execution_count": 10,
     "metadata": {},
     "output_type": "execute_result"
    }
   ],
   "source": [
    "df1 = df\n",
    "nan_dict = {}\n",
    "for i in range(len(df1.index)) :\n",
    "    nb_nan = df1.iloc[i].isnull().sum()\n",
    "    if nb_nan >10 :\n",
    "        nan_dict[list(df.index)[i]] = nb_nan\n",
    "\n",
    "\n",
    "df1 = df1.drop(index = nan_dict.keys(), axis = 0)\n",
    "df1.shape"
   ]
  },
  {
   "cell_type": "markdown",
   "metadata": {},
   "source": [
    "En faisant cela, on supprme environ 600 lignes. Pour le rafiner, il faudrait voir si l'on ne doit pas supprimer toutes les données d'un pays lorsque l'on a que des infos sur deux ou trois indicateurs (notamment qi que sur le PIB). On doit pouvoir s'en sortir en supprimant tous les indexs qui commencent par le code du pays détecté de cette manière."
   ]
  },
  {
   "cell_type": "markdown",
   "metadata": {},
   "source": [
    "[Adrien]La fonction pour récupérer les indexs des pays où on a moins de 3 indicateurs."
   ]
  },
  {
   "cell_type": "code",
   "execution_count": 11,
   "metadata": {},
   "outputs": [],
   "source": [
    "dic_pays = refresh_dico()"
   ]
  },
  {
   "cell_type": "code",
   "execution_count": 12,
   "metadata": {},
   "outputs": [],
   "source": [
    "for i in dic_pays.keys() :\n",
    "    if len(rech_ligne_pays(i,df1))<7 :\n",
    "        df1 = df1.drop(rech_ligne_pays(i,df1))\n",
    "dic_pays = refresh_dico()\n",
    "#ancienne fonction que j'ai écrite plus tot (beaucoup plus lente) :\n",
    "\n",
    "#for i in nom_pays : \n",
    "#    compter_nb_indic = df1.apply(lambda x: True if x['Country Name'] == i else False, axis = 1)\n",
    "#    if len(compter_nb_indic[compter_nb_indic == True].index) <3 :\n",
    "#        liste_pays_dic[i] = compter_nb_indic[compter_nb_indic == True].index'''\n"
   ]
  },
  {
   "cell_type": "code",
   "execution_count": 13,
   "metadata": {},
   "outputs": [
    {
     "data": {
      "text/plain": [
       "(2563, 43)"
      ]
     },
     "execution_count": 13,
     "metadata": {},
     "output_type": "execute_result"
    }
   ],
   "source": [
    "df1.shape"
   ]
  },
  {
   "cell_type": "markdown",
   "metadata": {},
   "source": [
    "On supprime les lignes des pays dont on a trop peu d'indicateurs complet : (servait pourl'ancienne fonction)"
   ]
  },
  {
   "cell_type": "code",
   "execution_count": 14,
   "metadata": {},
   "outputs": [],
   "source": [
    "#for i in liste_pays_dic.keys():\n",
    "#    df1 = df1.drop(index = liste_pays_dic[i], axis = 1)"
   ]
  },
  {
   "cell_type": "markdown",
   "metadata": {},
   "source": [
    "On a supprimer en tout 58 lignes. De plus on va aussi supprimer de la base les aggrégats de pays (ces lignes là sont colinéaires aux autres, ce qui risque de nous poser problème plus tard dans la prédiction). Voilà les régions à supprimer : Upper middle income, Latin America & the Caribbean (IDA & IBRD countries),Middle East & North Africa (IDA & IBRD countries),South Asia (IDA & IBRD), Middle East & North Africa (IDA & IBRD countries), Latin America & the Caribbean (IDA & IBRD countries),East Asia & Pacific (IDA & IBRD countries), Europe & Central Asia (IDA & IBRD countries), Sub-Saharan Africa, Sub-Saharan Africa (excluding high income), Post-demographic dividend, Pre-demographic dividend, OECD members, North America, Middle East & North Africa (excluding high income), Middle East & North Africa,Late-demographic dividend, Lower middle income\n",
    "Low & middle income,Latin America & Caribbean,Least developed countries: UN classification, Latin America & Caribbean (excluding high income),IBRD only,IDA & IBRD total,IDA total,IDA blend,Heavily indebted poor countries (HIPC),High income, European Union, Fragile and conflict affected situations,East Asia & Pacific (excluding high income)\n",
    "Early-demographic dividend, East Asia & Pacific, Europe & Central Asia (excluding high income), Europe & Central Asia,Central Europe and the Baltics\n",
    "\n",
    "\n",
    "à propos des aggrégats (comment ils aggrègent :)\n",
    "\n",
    "Aggregation Rules\n",
    "\n",
    "Aggregates are based on the World Bank’s regional and income classification of economies. Because of missing data, aggregates for groups of economies should be treated as approximations of unknown totals or average values. Regional and income group aggregates are based on the largest available set of data. The aggregation rules are intended to yield estimates for a consistent set of economies from one period to the next and for all indicators. Small differences between sums of subgroup aggregates and overall totals and averages may occur because of the approximations used. In addition, compilation errors and data reporting practices may cause discrepancies in theoretically identical aggregates such as world exports and world imports.\n",
    "\n",
    "Five methods of aggregation are used in the World Development Indicators:\n",
    "\n",
    "For group and world totals denoted in the tables by a t, missing data are imputed based on the relationship of the sum of available data to the total in the year of the previous estimate. The imputation process works forward and backward from 2010. Missing values in 2010 are imputed using one of several proxy variables for which complete data are available in that year. The imputed value is calculated so that it (or its proxy) bears the same relationship to the total of available data. Imputed values are usually not calculated if missing data account for more than a third of the total in the benchmark year. The variables used as proxies are GNI in U.S. dollars, total population, exports and imports of goods and services in U.S. dollars, and value added in agriculture, industry, manufacturing, and services in U.S. dollars.\n",
    "\n",
    "Aggregates marked by an s are sums of available data. Missing values are not imputed. Sums are not computed if more than a third of the observations in the series or a proxy for the series are missing in a given year.\n",
    "\n",
    "Aggregates of ratios are generally calculated as weighted averages of the ratios (indicated by w) using the value of the denominator or, in some cases, another indicator as a weight. The aggregate ratios are based on available data, including data for economies not shown in the main tables. Missing values are assumed to have the same average value as the available data. No aggregate is calculated if missing data account for more than a third of the value of weights in the benchmark year. In a few cases the aggregate ratio may be computed as the ratio of group totals after imputing values for missing data according to the above rules for computing totals.\n",
    "\n",
    "Aggregate growth rates are generally calculated as a weighted average of growth rates (and indicated by a w). In a few cases growth rates may be computed from time series of group totals. Growth rates are not calculated if more than half the observations in a period are missing. For further discussion of methods of computing growth rates see below.\n",
    "\n",
    "Aggregates denoted by an m are medians of the values shown in the table. No value is shown if more than half the observations for countries with a population of more than 1 million are missing. Exceptions to the rules occur throughout the book. Depending on the judgment of World Bank analysts, the aggregates may be based on as little as 50 percent of the available data.\n",
    "In other cases, where missing or excluded values are judged to be small or irrelevant, aggregates are based only on the data shown in the tables.\n",
    "\n",
    "Du coup en fonction de comment ils ont agrégés les données ça peut être intéressant ou non de les conserver. Notamment ceux pour lesquels ils ont utilisés la 1ère méthode puisqu'elle nous permet d'avoir une approximation des données qui nous manque (après est ce qu'on veut garder des approximations ? Dans tous les cas il faudra voir je pense si nos prédictions sont robustes à leur ajout ou non)"
   ]
  },
  {
   "cell_type": "code",
   "execution_count": 15,
   "metadata": {
    "scrolled": true
   },
   "outputs": [],
   "source": [
    "#/!\\ il ne faut faire tourner qu'une seule fois cette fonction, sinon on a une KeyError\n",
    "\n",
    "\n",
    "suppr_liste = ['Arab World', 'Le monde arabe', 'Central Europe and the Baltics', 'Europe centrale et les pays baltes',\n",
    " 'Caribbean small states', 'Petits états des Caraïbes','East Asia & Pacific (excluding high income)', \n",
    " 'Asie de l’Est et Pacifique (hors revenu élevé)', 'Early-demographic dividend', \n",
    " 'de dividende précoce démographique', 'East Asia & Pacific', 'Asie de l’Est et Pacifique',\n",
    " 'Europe & Central Asia (excluding high income)', 'Europe et Asie centrale (hors revenu élevé)',\n",
    " 'Europe & Central Asia', 'Europe et Asie centrale',  'Euro area', 'Zone euro', \n",
    " 'European Union', 'Union européenne','Fragile and conflict affected situations',\n",
    " 'Fragile et les situations de conflit touchées', 'High income',\n",
    " 'Revenu élevé','Heavily indebted poor countries (HIPC)','Pays pauvres très endettés (PPTE)','IBRD only',\n",
    " 'BIRD seulement','IDA & IBRD total',\n",
    " 'BIRD et IDA',\n",
    " 'IDA total',\n",
    " 'IDA totale',\n",
    " 'IDA blend',\n",
    " 'IDA mélange','IDA only',\n",
    " 'IDA seulement','Latin America & Caribbean (excluding high income)',\n",
    " 'Amérique latine et Caraïbes (hors revenu élevé)','Latin America & Caribbean',\n",
    " 'Amérique latine et Caraïbes',\n",
    " 'Least developed countries: UN classification',\n",
    " 'Pays les moins avancés\\xa0: classement de l’ONU',\n",
    " 'Low income',\n",
    " 'Faible revenu','Lower middle income',\n",
    " 'Revenu intermédiaire, tranche inférieure',\n",
    " 'Low & middle income',\n",
    " 'Revenu faible et intermédiaire','Late-demographic dividend',\n",
    " 'de dividende tardif démographique','Middle East & North Africa',\n",
    " 'Afrique du Nord et Moyen-Orient','Middle income',\n",
    " 'Revenu intermédiaire', 'Middle East & North Africa (excluding high income)',\n",
    " 'Afrique du Nord et Moyen-Orient (hors revenu élevé)','North America',\n",
    " 'Amérique du Nord','OECD members',\n",
    " \"Pays membres de l'OCDE\",'Other small states',\n",
    " 'Autres petits états','Pre-demographic dividend',\n",
    " 'de Pré-dividende démographique', 'Pacific island small states',\n",
    " 'Petits états insulaires du Pacifique',\n",
    " 'Post-demographic dividend',\n",
    " 'de Post-dividende démographique','South Asia',\n",
    " 'Asie du Sud','Sub-Saharan Africa (excluding high income)',\n",
    " 'Afrique subsaharienne (hors revenu élevé)',\n",
    " 'Sub-Saharan Africa',\n",
    " 'Afrique subsaharienne',\n",
    " 'Small states',\n",
    " 'Petits états','East Asia & Pacific (IDA & IBRD countries)',\n",
    " 'Asie de l’Est et Pacifique (BIRD et IDA)',\n",
    " 'Europe & Central Asia (IDA & IBRD countries)',\n",
    " 'Europe et Asie centrale (BIRD et IDA)','Latin America & the Caribbean (IDA & IBRD countries)',\n",
    " 'Amérique latine et Caraïbes (BIRD et IDA)',\n",
    " 'Middle East & North Africa (IDA & IBRD countries)',\n",
    " 'Afrique du Nord et Moyen-Orient (BIRD et IDA)', 'South Asia (IDA & IBRD)',\n",
    " 'Asie du Sud (BIRD et IDA)',\n",
    " 'Sub-Saharan Africa (IDA & IBRD countries)',\n",
    " 'Afrique subsaharienne (BIRD et IDA)','Upper middle income',\n",
    " 'Revenu intermédiaire, tranche supérieure','World',\n",
    " 'Monde']"
   ]
  },
  {
   "cell_type": "code",
   "execution_count": 16,
   "metadata": {},
   "outputs": [
    {
     "data": {
      "text/plain": [
       "(1974, 43)"
      ]
     },
     "execution_count": 16,
     "metadata": {},
     "output_type": "execute_result"
    }
   ],
   "source": [
    "for i in suppr_liste :\n",
    "    df1 = df1.drop(labels = rech_ligne_pays(i,df1)) \n",
    "dic_pays = refresh_dico()\n",
    "df1.shape"
   ]
  },
  {
   "cell_type": "code",
   "execution_count": 17,
   "metadata": {},
   "outputs": [],
   "source": [
    "data_csv=df1.to_csv('Complete_Data.csv',index=True)"
   ]
  },
  {
   "cell_type": "markdown",
   "metadata": {},
   "source": [
    "On a supprimer en tout une centaine de lignes encore. On actualise la liste pour stocker uniquement les noms des pays restants :"
   ]
  },
  {
   "cell_type": "code",
   "execution_count": null,
   "metadata": {},
   "outputs": [],
   "source": []
  },
  {
   "cell_type": "markdown",
   "metadata": {},
   "source": [
    "Idée : on pourrait essayer de faire du clustering afin de déterminer la dépendance de la croissance à certains facteurs afin d'essayer de prédire la dépendance de la croissance à l'émission de gaz à effet de serre.\n",
    "\n",
    "Je vais essayer de régresser le PIB sur l'émission de gaz à effet de serre dans plusieurs pays : la France, Les Etats Unis, La Chine et le Zimbabwe"
   ]
  },
  {
   "cell_type": "markdown",
   "metadata": {},
   "source": [
    "## Régressions"
   ]
  },
  {
   "cell_type": "markdown",
   "metadata": {},
   "source": [
    "### Régressions avec scipy"
   ]
  },
  {
   "cell_type": "code",
   "execution_count": 25,
   "metadata": {},
   "outputs": [
    {
     "data": {
      "text/html": [
       "<div>\n",
       "<style scoped>\n",
       "    .dataframe tbody tr th:only-of-type {\n",
       "        vertical-align: middle;\n",
       "    }\n",
       "\n",
       "    .dataframe tbody tr th {\n",
       "        vertical-align: top;\n",
       "    }\n",
       "\n",
       "    .dataframe thead th {\n",
       "        text-align: right;\n",
       "    }\n",
       "</style>\n",
       "<table border=\"1\" class=\"dataframe\">\n",
       "  <thead>\n",
       "    <tr style=\"text-align: right;\">\n",
       "      <th></th>\n",
       "      <th>Coeff</th>\n",
       "      <th>Cst</th>\n",
       "    </tr>\n",
       "  </thead>\n",
       "  <tbody>\n",
       "    <tr>\n",
       "      <td>AGO</td>\n",
       "      <td>-1.708738e-07</td>\n",
       "      <td>42796.716066</td>\n",
       "    </tr>\n",
       "    <tr>\n",
       "      <td>ALB</td>\n",
       "      <td>-5.227622e-08</td>\n",
       "      <td>8779.637511</td>\n",
       "    </tr>\n",
       "    <tr>\n",
       "      <td>ARE</td>\n",
       "      <td>5.916212e-07</td>\n",
       "      <td>45866.834613</td>\n",
       "    </tr>\n",
       "    <tr>\n",
       "      <td>ARG</td>\n",
       "      <td>2.627844e-07</td>\n",
       "      <td>242104.529466</td>\n",
       "    </tr>\n",
       "    <tr>\n",
       "      <td>ARM</td>\n",
       "      <td>2.204460e-07</td>\n",
       "      <td>9162.633152</td>\n",
       "    </tr>\n",
       "  </tbody>\n",
       "</table>\n",
       "</div>"
      ],
      "text/plain": [
       "            Coeff            Cst\n",
       "AGO -1.708738e-07   42796.716066\n",
       "ALB -5.227622e-08    8779.637511\n",
       "ARE  5.916212e-07   45866.834613\n",
       "ARG  2.627844e-07  242104.529466\n",
       "ARM  2.204460e-07    9162.633152"
      ]
     },
     "execution_count": 25,
     "metadata": {},
     "output_type": "execute_result"
    }
   ],
   "source": [
    "import scipy.optimize\n",
    "def affin(x,a,b): \n",
    "    return a*x + b\n",
    "\n",
    "def regress2 (country_code, regresse, regresseur, courbe = False):\n",
    "    if country_code + regresse in df1.index and country_code + regresseur in df1.index :\n",
    "        interm= pd.DataFrame(df1.loc[[country_code + regresse, country_code + regresseur]]).dropna(axis = 1)\n",
    "        if interm.shape != (2,0): \n",
    "\n",
    "            regresse_val = pd.DataFrame(interm.loc[country_code + regresse][3:30])[country_code + regresse].to_numpy(dtype = float)\n",
    "            regresseur_val = pd.DataFrame(interm.loc[country_code + regresseur][3:30])[country_code + regresseur].to_numpy(dtype = float)\n",
    "\n",
    "            popt, pcov = scipy.optimize.curve_fit(affin, regresseur_val, regresse_val)\n",
    "            coeff, cst = popt[0], popt[1]\n",
    "\n",
    "            if courbe == True :\n",
    "                fig, ax1 = plt.subplots()\n",
    "\n",
    "                color = 'tab:red'\n",
    "                ax1.set_xlabel('time (s)' + country_code, color = 'k')\n",
    "                ax1.set_ylabel(regresse, color='k')\n",
    "                ax1.plot(t[0:31], df1.loc[country_code + regresse][2:42].to_numpy()[1:32].T, color='k')\n",
    "                ax1.tick_params(axis='y', labelcolor='k')\n",
    "\n",
    "                ax1.plot(t[0:31], coeff*df1.loc[country_code + regresseur][2:42].to_numpy()[1:32].T + cst, color='b')\n",
    "\n",
    "                fig.tight_layout()  # otherwise the right y-label is slightly clipped\n",
    "                plt.show()\n",
    "\n",
    "            return coeff, cst\n",
    "    else : return \n",
    "    \n",
    "code_list = []\n",
    "for i in df1['Country Code']:\n",
    "    if i not in code_list : \n",
    "        code_list.append(i)\n",
    "code_list.pop(-1)\n",
    "\n",
    "regresseur = '_GDP (current US$)'\n",
    "regresse = '_Émissions totales de GES (kt d’équivalent CO2)'\n",
    "dic = {}\n",
    "\n",
    "for code in code_list:\n",
    "    dic[code] = regress2(code, regresse, regresseur, False)\n",
    "    if dic[code] == None:\n",
    "        dic.pop(code)\n",
    "#Attention, il faudra donner un nom explicit à chaque df, différent pour chaque régression.\n",
    "regress2_df = pd.DataFrame(dic.values(), dic.keys(), ['Coeff', 'Cst'])\n",
    "regress2_df.head()"
   ]
  },
  {
   "cell_type": "markdown",
   "metadata": {},
   "source": [
    "### Régressions graphiques avec Seaborn"
   ]
  },
  {
   "cell_type": "code",
   "execution_count": 26,
   "metadata": {},
   "outputs": [],
   "source": [
    "from sklearn.linear_model import LinearRegression\n",
    "from sklearn.model_selection import train_test_split\n",
    "import sklearn.metrics"
   ]
  },
  {
   "cell_type": "code",
   "execution_count": 27,
   "metadata": {},
   "outputs": [
    {
     "data": {
      "image/png": "[encoded data removed]",
      "text/plain": [
       "<Figure size 360x360 with 1 Axes>"
      ]
     },
     "metadata": {
      "needs_background": "light"
     },
     "output_type": "display_data"
    },
    {
     "data": {
      "image/png": "[encoded data removed]",
      "text/plain": [
       "<Figure size 360x360 with 1 Axes>"
      ]
     },
     "metadata": {
      "needs_background": "light"
     },
     "output_type": "display_data"
    },
    {
     "data": {
      "image/png": "[encoded data removed]",
      "text/plain": [
       "<Figure size 360x360 with 1 Axes>"
      ]
     },
     "metadata": {
      "needs_background": "light"
     },
     "output_type": "display_data"
    },
    {
     "data": {
      "image/png": "[encoded data removed]",
      "text/plain": [
       "<Figure size 360x360 with 1 Axes>"
      ]
     },
     "metadata": {
      "needs_background": "light"
     },
     "output_type": "display_data"
    },
    {
     "data": {
      "image/png": "[encoded data removed]",
      "text/plain": [
       "<Figure size 360x360 with 1 Axes>"
      ]
     },
     "metadata": {
      "needs_background": "light"
     },
     "output_type": "display_data"
    }
   ],
   "source": [
    "\n",
    "for i in ['IND','CHN','ZWE','SWE','USA']:\n",
    "    sns.lmplot(x=i+\"_GDP growth (annual %)\", y=i+\"_croissance émissions GES (pourcent)\", \n",
    "               data=df1.drop(['Country Name','Country Code','Indicator Name'], axis = 1).loc[[i+'_GDP growth (annual %)',i+'_croissance émissions GES (pourcent)']].dropna(axis = 1).T, robust = True)\n",
    "    \n",
    "def graph_regress(regresseur,regresse) :\n",
    "    sns.lmplot(x=regresse, y=regresseur, data=df1.drop(['Country Name',\n",
    "        'Country Code','Indicator Name'], axis = 1).loc[[regresse,regresseur]].dropna(axis = 1).T, robust = True)"
   ]
  },
  {
   "cell_type": "markdown",
   "metadata": {},
   "source": [
    "### Régressions avec statsmodels"
   ]
  },
  {
   "cell_type": "code",
   "execution_count": 107,
   "metadata": {
    "scrolled": true
   },
   "outputs": [
    {
     "name": "stdout",
     "output_type": "stream",
     "text": [
      "                            OLS Regression Results                            \n",
      "==============================================================================\n",
      "Dep. Variable:                      y   R-squared:                       0.632\n",
      "Model:                            OLS   Adj. R-squared:                  0.620\n",
      "Method:                 Least Squares   F-statistic:                     53.28\n",
      "Date:                Sat, 12 Dec 2020   Prob (F-statistic):           3.25e-08\n",
      "Time:                        16:11:50   Log-Likelihood:                -988.85\n",
      "No. Observations:                  33   AIC:                             1982.\n",
      "Df Residuals:                      31   BIC:                             1985.\n",
      "Df Model:                           1                                         \n",
      "Covariance Type:            nonrobust                                         \n",
      "==============================================================================\n",
      "                 coef    std err          t      P>|t|      [0.025      0.975]\n",
      "------------------------------------------------------------------------------\n",
      "const      -3.343e+13    5.8e+12     -5.762      0.000   -4.53e+13   -2.16e+13\n",
      "x1          6.584e+06   9.02e+05      7.300      0.000    4.74e+06    8.42e+06\n",
      "==============================================================================\n",
      "Omnibus:                       16.583   Durbin-Watson:                   0.213\n",
      "Prob(Omnibus):                  0.000   Jarque-Bera (JB):               18.325\n",
      "Skew:                           1.594   Prob(JB):                     0.000105\n",
      "Kurtosis:                       4.778   Cond. No.                     8.32e+07\n",
      "==============================================================================\n",
      "\n",
      "Notes:\n",
      "[1] Standard Errors assume that the covariance matrix of the errors is correctly specified.\n",
      "[2] The condition number is large, 8.32e+07. This might indicate that there are\n",
      "strong multicollinearity or other numerical problems.\n"
     ]
    }
   ],
   "source": [
    "#On a ici la syntaxe pour faire une régression avec statsmodels, ainsi que la forme de la sortie\n",
    "x = sm.add_constant(df1.drop(['Country Name','Country Code','Indicator Name'],axis =1).loc['USA_Émissions totales de GES (kt d’équivalent CO2)'].to_numpy())\n",
    "y = df1.drop(['Country Name','Country Code','Indicator Name'],axis=1).loc['USA_GDP (current US$)'].to_numpy()\n",
    "\n",
    "model = sm.OLS(y,x,'drop')\n",
    "results = model.fit()\n",
    "print(results.summary())\n"
   ]
  },
  {
   "cell_type": "code",
   "execution_count": 102,
   "metadata": {},
   "outputs": [
    {
     "data": {
      "text/html": [
       "<div>\n",
       "<style scoped>\n",
       "    .dataframe tbody tr th:only-of-type {\n",
       "        vertical-align: middle;\n",
       "    }\n",
       "\n",
       "    .dataframe tbody tr th {\n",
       "        vertical-align: top;\n",
       "    }\n",
       "\n",
       "    .dataframe thead th {\n",
       "        text-align: right;\n",
       "    }\n",
       "</style>\n",
       "<table border=\"1\" class=\"dataframe\">\n",
       "  <thead>\n",
       "    <tr style=\"text-align: right;\">\n",
       "      <th></th>\n",
       "      <th>1980</th>\n",
       "      <th>1981</th>\n",
       "      <th>1982</th>\n",
       "      <th>1983</th>\n",
       "      <th>1984</th>\n",
       "      <th>1985</th>\n",
       "      <th>1986</th>\n",
       "      <th>1987</th>\n",
       "      <th>1988</th>\n",
       "      <th>1989</th>\n",
       "      <th>...</th>\n",
       "      <th>2003</th>\n",
       "      <th>2004</th>\n",
       "      <th>2005</th>\n",
       "      <th>2006</th>\n",
       "      <th>2007</th>\n",
       "      <th>2008</th>\n",
       "      <th>2009</th>\n",
       "      <th>2010</th>\n",
       "      <th>2011</th>\n",
       "      <th>2012</th>\n",
       "    </tr>\n",
       "    <tr>\n",
       "      <th>Pays_indic</th>\n",
       "      <th></th>\n",
       "      <th></th>\n",
       "      <th></th>\n",
       "      <th></th>\n",
       "      <th></th>\n",
       "      <th></th>\n",
       "      <th></th>\n",
       "      <th></th>\n",
       "      <th></th>\n",
       "      <th></th>\n",
       "      <th></th>\n",
       "      <th></th>\n",
       "      <th></th>\n",
       "      <th></th>\n",
       "      <th></th>\n",
       "      <th></th>\n",
       "      <th></th>\n",
       "      <th></th>\n",
       "      <th></th>\n",
       "      <th></th>\n",
       "      <th></th>\n",
       "    </tr>\n",
       "  </thead>\n",
       "  <tbody>\n",
       "    <tr>\n",
       "      <th>USA_Émissions totales de GES (kt d’équivalent CO2)</th>\n",
       "      <td>5.896083e+06</td>\n",
       "      <td>5.830249e+06</td>\n",
       "      <td>5.534118e+06</td>\n",
       "      <td>5.524778e+06</td>\n",
       "      <td>5.761217e+06</td>\n",
       "      <td>5.776898e+06</td>\n",
       "      <td>5.731026e+06</td>\n",
       "      <td>5.743633e+06</td>\n",
       "      <td>6.185748e+06</td>\n",
       "      <td>6.221392e+06</td>\n",
       "      <td>...</td>\n",
       "      <td>6.991255e+06</td>\n",
       "      <td>7.244272e+06</td>\n",
       "      <td>7.182808e+06</td>\n",
       "      <td>6.994087e+06</td>\n",
       "      <td>7.128952e+06</td>\n",
       "      <td>6.648991e+06</td>\n",
       "      <td>6.604069e+06</td>\n",
       "      <td>6.713349e+06</td>\n",
       "      <td>6.571654e+06</td>\n",
       "      <td>6.343841e+06</td>\n",
       "    </tr>\n",
       "    <tr>\n",
       "      <th>USA_Population, total</th>\n",
       "      <td>2.272250e+08</td>\n",
       "      <td>2.294660e+08</td>\n",
       "      <td>2.316640e+08</td>\n",
       "      <td>2.337920e+08</td>\n",
       "      <td>2.358250e+08</td>\n",
       "      <td>2.379240e+08</td>\n",
       "      <td>2.401330e+08</td>\n",
       "      <td>2.422890e+08</td>\n",
       "      <td>2.444990e+08</td>\n",
       "      <td>2.468190e+08</td>\n",
       "      <td>...</td>\n",
       "      <td>2.901079e+08</td>\n",
       "      <td>2.928053e+08</td>\n",
       "      <td>2.955166e+08</td>\n",
       "      <td>2.983799e+08</td>\n",
       "      <td>3.012312e+08</td>\n",
       "      <td>3.040940e+08</td>\n",
       "      <td>3.067715e+08</td>\n",
       "      <td>3.093217e+08</td>\n",
       "      <td>3.115569e+08</td>\n",
       "      <td>3.138310e+08</td>\n",
       "    </tr>\n",
       "    <tr>\n",
       "      <th>USA_GDP (current US$)</th>\n",
       "      <td>2.857307e+12</td>\n",
       "      <td>3.207042e+12</td>\n",
       "      <td>3.343789e+12</td>\n",
       "      <td>3.634038e+12</td>\n",
       "      <td>4.037613e+12</td>\n",
       "      <td>4.338979e+12</td>\n",
       "      <td>4.579631e+12</td>\n",
       "      <td>4.855215e+12</td>\n",
       "      <td>5.236438e+12</td>\n",
       "      <td>5.641580e+12</td>\n",
       "      <td>...</td>\n",
       "      <td>1.145824e+13</td>\n",
       "      <td>1.221373e+13</td>\n",
       "      <td>1.303664e+13</td>\n",
       "      <td>1.381461e+13</td>\n",
       "      <td>1.445186e+13</td>\n",
       "      <td>1.471284e+13</td>\n",
       "      <td>1.444893e+13</td>\n",
       "      <td>1.499205e+13</td>\n",
       "      <td>1.554258e+13</td>\n",
       "      <td>1.619701e+13</td>\n",
       "    </tr>\n",
       "  </tbody>\n",
       "</table>\n",
       "<p>3 rows × 33 columns</p>\n",
       "</div>"
      ],
      "text/plain": [
       "                                                            1980  \\\n",
       "Pays_indic                                                         \n",
       "USA_Émissions totales de GES (kt d’équivalent CO2)  5.896083e+06   \n",
       "USA_Population, total                               2.272250e+08   \n",
       "USA_GDP (current US$)                               2.857307e+12   \n",
       "\n",
       "                                                            1981  \\\n",
       "Pays_indic                                                         \n",
       "USA_Émissions totales de GES (kt d’équivalent CO2)  5.830249e+06   \n",
       "USA_Population, total                               2.294660e+08   \n",
       "USA_GDP (current US$)                               3.207042e+12   \n",
       "\n",
       "                                                            1982  \\\n",
       "Pays_indic                                                         \n",
       "USA_Émissions totales de GES (kt d’équivalent CO2)  5.534118e+06   \n",
       "USA_Population, total                               2.316640e+08   \n",
       "USA_GDP (current US$)                               3.343789e+12   \n",
       "\n",
       "                                                            1983  \\\n",
       "Pays_indic                                                         \n",
       "USA_Émissions totales de GES (kt d’équivalent CO2)  5.524778e+06   \n",
       "USA_Population, total                               2.337920e+08   \n",
       "USA_GDP (current US$)                               3.634038e+12   \n",
       "\n",
       "                                                            1984  \\\n",
       "Pays_indic                                                         \n",
       "USA_Émissions totales de GES (kt d’équivalent CO2)  5.761217e+06   \n",
       "USA_Population, total                               2.358250e+08   \n",
       "USA_GDP (current US$)                               4.037613e+12   \n",
       "\n",
       "                                                            1985  \\\n",
       "Pays_indic                                                         \n",
       "USA_Émissions totales de GES (kt d’équivalent CO2)  5.776898e+06   \n",
       "USA_Population, total                               2.379240e+08   \n",
       "USA_GDP (current US$)                               4.338979e+12   \n",
       "\n",
       "                                                            1986  \\\n",
       "Pays_indic                                                         \n",
       "USA_Émissions totales de GES (kt d’équivalent CO2)  5.731026e+06   \n",
       "USA_Population, total                               2.401330e+08   \n",
       "USA_GDP (current US$)                               4.579631e+12   \n",
       "\n",
       "                                                            1987  \\\n",
       "Pays_indic                                                         \n",
       "USA_Émissions totales de GES (kt d’équivalent CO2)  5.743633e+06   \n",
       "USA_Population, total                               2.422890e+08   \n",
       "USA_GDP (current US$)                               4.855215e+12   \n",
       "\n",
       "                                                            1988  \\\n",
       "Pays_indic                                                         \n",
       "USA_Émissions totales de GES (kt d’équivalent CO2)  6.185748e+06   \n",
       "USA_Population, total                               2.444990e+08   \n",
       "USA_GDP (current US$)                               5.236438e+12   \n",
       "\n",
       "                                                            1989  ...  \\\n",
       "Pays_indic                                                        ...   \n",
       "USA_Émissions totales de GES (kt d’équivalent CO2)  6.221392e+06  ...   \n",
       "USA_Population, total                               2.468190e+08  ...   \n",
       "USA_GDP (current US$)                               5.641580e+12  ...   \n",
       "\n",
       "                                                            2003  \\\n",
       "Pays_indic                                                         \n",
       "USA_Émissions totales de GES (kt d’équivalent CO2)  6.991255e+06   \n",
       "USA_Population, total                               2.901079e+08   \n",
       "USA_GDP (current US$)                               1.145824e+13   \n",
       "\n",
       "                                                            2004  \\\n",
       "Pays_indic                                                         \n",
       "USA_Émissions totales de GES (kt d’équivalent CO2)  7.244272e+06   \n",
       "USA_Population, total                               2.928053e+08   \n",
       "USA_GDP (current US$)                               1.221373e+13   \n",
       "\n",
       "                                                            2005  \\\n",
       "Pays_indic                                                         \n",
       "USA_Émissions totales de GES (kt d’équivalent CO2)  7.182808e+06   \n",
       "USA_Population, total                               2.955166e+08   \n",
       "USA_GDP (current US$)                               1.303664e+13   \n",
       "\n",
       "                                                            2006  \\\n",
       "Pays_indic                                                         \n",
       "USA_Émissions totales de GES (kt d’équivalent CO2)  6.994087e+06   \n",
       "USA_Population, total                               2.983799e+08   \n",
       "USA_GDP (current US$)                               1.381461e+13   \n",
       "\n",
       "                                                            2007  \\\n",
       "Pays_indic                                                         \n",
       "USA_Émissions totales de GES (kt d’équivalent CO2)  7.128952e+06   \n",
       "USA_Population, total                               3.012312e+08   \n",
       "USA_GDP (current US$)                               1.445186e+13   \n",
       "\n",
       "                                                            2008  \\\n",
       "Pays_indic                                                         \n",
       "USA_Émissions totales de GES (kt d’équivalent CO2)  6.648991e+06   \n",
       "USA_Population, total                               3.040940e+08   \n",
       "USA_GDP (current US$)                               1.471284e+13   \n",
       "\n",
       "                                                            2009  \\\n",
       "Pays_indic                                                         \n",
       "USA_Émissions totales de GES (kt d’équivalent CO2)  6.604069e+06   \n",
       "USA_Population, total                               3.067715e+08   \n",
       "USA_GDP (current US$)                               1.444893e+13   \n",
       "\n",
       "                                                            2010  \\\n",
       "Pays_indic                                                         \n",
       "USA_Émissions totales de GES (kt d’équivalent CO2)  6.713349e+06   \n",
       "USA_Population, total                               3.093217e+08   \n",
       "USA_GDP (current US$)                               1.499205e+13   \n",
       "\n",
       "                                                            2011          2012  \n",
       "Pays_indic                                                                      \n",
       "USA_Émissions totales de GES (kt d’équivalent CO2)  6.571654e+06  6.343841e+06  \n",
       "USA_Population, total                               3.115569e+08  3.138310e+08  \n",
       "USA_GDP (current US$)                               1.554258e+13  1.619701e+13  \n",
       "\n",
       "[3 rows x 33 columns]"
      ]
     },
     "execution_count": 102,
     "metadata": {},
     "output_type": "execute_result"
    }
   ],
   "source": [
    "interm.head()"
   ]
  },
  {
   "cell_type": "code",
   "execution_count": null,
   "metadata": {},
   "outputs": [],
   "source": []
  },
  {
   "cell_type": "code",
   "execution_count": 24,
   "metadata": {},
   "outputs": [
    {
     "name": "stdout",
     "output_type": "stream",
     "text": [
      "['HC0_se', 'HC1_se', 'HC2_se', 'HC3_se', '_HCCM', '__class__', '__delattr__', '__dict__', '__dir__', '__doc__', '__eq__', '__format__', '__ge__', '__getattribute__', '__gt__', '__hash__', '__init__', '__init_subclass__', '__le__', '__lt__', '__module__', '__ne__', '__new__', '__reduce__', '__reduce_ex__', '__repr__', '__setattr__', '__sizeof__', '__str__', '__subclasshook__', '__weakref__', '_abat_diagonal', '_cache', '_data_attr', '_data_in_cache', '_get_robustcov_results', '_is_nested', '_use_t', '_wexog_singular_values', 'aic', 'bic', 'bse', 'centered_tss', 'compare_f_test', 'compare_lm_test', 'compare_lr_test', 'condition_number', 'conf_int', 'conf_int_el', 'cov_HC0', 'cov_HC1', 'cov_HC2', 'cov_HC3', 'cov_kwds', 'cov_params', 'cov_type', 'df_model', 'df_resid', 'diagn', 'eigenvals', 'el_test', 'ess', 'f_pvalue', 'f_test', 'fittedvalues', 'fvalue', 'get_influence', 'get_prediction', 'get_robustcov_results', 'initialize', 'k_constant', 'llf', 'load', 'model', 'mse_model', 'mse_resid', 'mse_total', 'nobs', 'normalized_cov_params', 'outlier_test', 'params', 'predict', 'pvalues', 'remove_data', 'resid', 'resid_pearson', 'rsquared', 'rsquared_adj', 'save', 'scale', 'ssr', 'summary', 'summary2', 't_test', 't_test_pairwise', 'tvalues', 'uncentered_tss', 'use_t', 'wald_test', 'wald_test_terms', 'wresid']\n"
     ]
    },
    {
     "data": {
      "text/plain": [
       "0.6321904749624478"
      ]
     },
     "execution_count": 24,
     "metadata": {},
     "output_type": "execute_result"
    }
   ],
   "source": [
    "#On voit ici coment récupérer les coefficients voulus\n",
    "print(dir(results))\n",
    "results._get_robustcov_results\n",
    "results.rsquared"
   ]
  },
  {
   "cell_type": "markdown",
   "metadata": {},
   "source": [
    "On définit ici la fonction qui permet d'automatiser les régressions sur tous les pays, puis on garde les résultats dans un dataframe."
   ]
  },
  {
   "cell_type": "code",
   "execution_count": 71,
   "metadata": {},
   "outputs": [
    {
     "ename": "TypeError",
     "evalue": "unsupported operand type(s) for +: 'float' and 'str'",
     "output_type": "error",
     "traceback": [
      "\u001b[1;31m---------------------------------------------------------------------------\u001b[0m",
      "\u001b[1;31mTypeError\u001b[0m                                 Traceback (most recent call last)",
      "\u001b[1;32m<ipython-input-71-5729fa45fd08>\u001b[0m in \u001b[0;36m<module>\u001b[1;34m\u001b[0m\n\u001b[0;32m     32\u001b[0m \u001b[1;33m\u001b[0m\u001b[0m\n\u001b[0;32m     33\u001b[0m \u001b[1;32mfor\u001b[0m \u001b[0mcode\u001b[0m \u001b[1;32min\u001b[0m \u001b[0mcode_list\u001b[0m\u001b[1;33m:\u001b[0m\u001b[1;33m\u001b[0m\u001b[1;33m\u001b[0m\u001b[0m\n\u001b[1;32m---> 34\u001b[1;33m     \u001b[0mdic\u001b[0m\u001b[1;33m[\u001b[0m\u001b[0mcode\u001b[0m\u001b[1;33m]\u001b[0m \u001b[1;33m=\u001b[0m \u001b[0mregress\u001b[0m\u001b[1;33m(\u001b[0m\u001b[0mcode\u001b[0m\u001b[1;33m,\u001b[0m \u001b[0mregresse\u001b[0m\u001b[1;33m,\u001b[0m \u001b[0mregresseur\u001b[0m\u001b[1;33m)\u001b[0m\u001b[1;33m\u001b[0m\u001b[1;33m\u001b[0m\u001b[0m\n\u001b[0m\u001b[0;32m     35\u001b[0m     \u001b[1;32mif\u001b[0m \u001b[0mdic\u001b[0m\u001b[1;33m[\u001b[0m\u001b[0mcode\u001b[0m\u001b[1;33m]\u001b[0m \u001b[1;33m==\u001b[0m \u001b[1;32mNone\u001b[0m\u001b[1;33m:\u001b[0m\u001b[1;33m\u001b[0m\u001b[1;33m\u001b[0m\u001b[0m\n\u001b[0;32m     36\u001b[0m         \u001b[0mdic\u001b[0m\u001b[1;33m.\u001b[0m\u001b[0mpop\u001b[0m\u001b[1;33m(\u001b[0m\u001b[0mcode\u001b[0m\u001b[1;33m)\u001b[0m\u001b[1;33m\u001b[0m\u001b[1;33m\u001b[0m\u001b[0m\n",
      "\u001b[1;32m<ipython-input-71-5729fa45fd08>\u001b[0m in \u001b[0;36mregress\u001b[1;34m(country_code, regresseur, regresse)\u001b[0m\n\u001b[0;32m      1\u001b[0m \u001b[1;32mdef\u001b[0m \u001b[0mregress\u001b[0m \u001b[1;33m(\u001b[0m\u001b[0mcountry_code\u001b[0m\u001b[1;33m,\u001b[0m \u001b[0mregresseur\u001b[0m\u001b[1;33m,\u001b[0m \u001b[0mregresse\u001b[0m\u001b[1;33m)\u001b[0m \u001b[1;33m:\u001b[0m\u001b[1;33m\u001b[0m\u001b[1;33m\u001b[0m\u001b[0m\n\u001b[0;32m      2\u001b[0m \u001b[1;33m\u001b[0m\u001b[0m\n\u001b[1;32m----> 3\u001b[1;33m     \u001b[1;32mif\u001b[0m \u001b[0mcountry_code\u001b[0m \u001b[1;33m+\u001b[0m \u001b[0mregresse\u001b[0m \u001b[1;32min\u001b[0m \u001b[0mdf1\u001b[0m\u001b[1;33m.\u001b[0m\u001b[0mindex\u001b[0m \u001b[1;32mand\u001b[0m \u001b[0mcountry_code\u001b[0m \u001b[1;33m+\u001b[0m \u001b[0mregresseur\u001b[0m \u001b[1;32min\u001b[0m \u001b[0mdf1\u001b[0m\u001b[1;33m.\u001b[0m\u001b[0mindex\u001b[0m \u001b[1;33m:\u001b[0m\u001b[1;33m\u001b[0m\u001b[1;33m\u001b[0m\u001b[0m\n\u001b[0m\u001b[0;32m      4\u001b[0m         interm= pd.DataFrame(df1.loc[[country_code + regresse, country_code + regresseur]]).drop(['Country Name',\n\u001b[0;32m      5\u001b[0m         'Country Code','Indicator Name'],axis =1).dropna(axis = 1)\n",
      "\u001b[1;31mTypeError\u001b[0m: unsupported operand type(s) for +: 'float' and 'str'"
     ]
    }
   ],
   "source": [
    "def regress (country_code, regresseur, regresse) :\n",
    "    \n",
    "    if country_code + regresse in df1.index and country_code + regresseur in df1.index :\n",
    "        interm= pd.DataFrame(df1.loc[[country_code + regresse, country_code + regresseur]]).drop(['Country Name',\n",
    "        'Country Code','Indicator Name'],axis =1).dropna(axis = 1)\n",
    "\n",
    "        if interm.shape != (2,0): \n",
    "            x = sm.add_constant(interm.loc[country_code + regresseur].to_numpy())\n",
    "            y = interm.loc[country_code + regresse].to_numpy()\n",
    "\n",
    "            model = sm.OLS(y,x,'drop')\n",
    "            results = model.fit()\n",
    "\n",
    "            r2 = results.rsquared\n",
    "            cst = results.params[0]\n",
    "            coef = results.params[1]\n",
    "\n",
    "            return cst, coef, r2\n",
    "    \n",
    "    else : return\n",
    "\n",
    "    \n",
    "    \n",
    "code_list = []\n",
    "for i in df1['Country Code']:\n",
    "    if i not in code_list : \n",
    "        code_list.append(i)\n",
    "code_list.pop(-1)\n",
    "\n",
    "regresse = '_GDP (current US$)'\n",
    "regresseur = '_Émissions totales de GES (kt d’équivalent CO2)'\n",
    "\n",
    "for code in code_list:\n",
    "    dic[code] = regress(code, regresse, regresseur)\n",
    "    if dic[code] == None:\n",
    "        dic.pop(code)\n",
    "        \n",
    "regress_df = pd.DataFrame(dic.values(), dic.keys(), ['Constante', 'Coefficient', 'R2'])\n",
    "regress_df.head()"
   ]
  },
  {
   "cell_type": "markdown",
   "metadata": {},
   "source": [
    "On peut ensuite effectuer toutes les régressions que l'on souhaite graâce à cette fonction, en changeant simplementles variables regresseur et regresse. Il suffit à chaque fois de créer un dataframe avec un nom différent, de donner des noms plus explicits aux colonnes, et de les concaténer après.\n",
    "\n",
    "Exemple ci-dessous, en concaténant la régression de gdp sur ges avec celle sur leurs taux de variation"
   ]
  },
  {
   "cell_type": "code",
   "execution_count": 82,
   "metadata": {},
   "outputs": [
    {
     "data": {
      "text/plain": [
       "Constante GDP sur total GES        5.568862e+06\n",
       "Coefficient GDP sur total GES      9.601371e-08\n",
       "R2 GDP sur total GES               6.321905e-01\n",
       "Constante GDP_var sur GES_var      5.568862e+05\n",
       "Coefficient GDP_var sur GES_var    9.601371e-08\n",
       "R2 GDP_var sur GES_var             6.321905e-01\n",
       "Name: USA, dtype: float64"
      ]
     },
     "execution_count": 82,
     "metadata": {},
     "output_type": "execute_result"
    }
   ],
   "source": [
    "regresse = '_GDP (current US$)'\n",
    "regresseur = '_Émissions totales de GES (kt d’équivalent CO2)'\n",
    "\n",
    "\n",
    "for code in code_list:\n",
    "    dic[code] = regress(code, regresse, regresseur)\n",
    "    if dic[code] == None:\n",
    "        dic.pop(code)\n",
    "        \n",
    "regress1_df = pd.DataFrame(dic.values(), dic.keys(), ['Constante GDP sur total GES',\n",
    "                                                     'Coefficient GDP sur total GES', 'R2 GDP sur total GES'])\n",
    "regress1_df.head()\n",
    "\n",
    "\n",
    "\n",
    "\n",
    "regresse = 'PIB_test'\n",
    "regresseur = 'Emission GES test'\n",
    "\n",
    "dic = {}\n",
    "for code in code_list:\n",
    "    dic[code] = regress(code, regresse, regresseur)\n",
    "    if dic[code] == None:\n",
    "        dic.pop(code)\n",
    "\n",
    "regress2_df = pd.DataFrame(dic.values(), dic.keys(), ['Constante GDP_var sur GES_var', 'Coefficient GDP_var sur GES_var', 'R2 GDP_var sur GES_var'])\n",
    "\n",
    "regress_df = pd.concat([regress1_df, regress2_df], axis = 1)\n",
    "regress_df.loc['USA']"
   ]
  },
  {
   "cell_type": "code",
   "execution_count": null,
   "metadata": {},
   "outputs": [],
   "source": [
    "regress_df.plot(x='Coefficient GDP sur total GES', y='Coefficient GDP_var sur GES_var', kind = 'scatter', label = \"Ce graphique n'est pas extraordinaire\")"
   ]
  },
  {
   "cell_type": "code",
   "execution_count": 79,
   "metadata": {},
   "outputs": [],
   "source": [
    "for i in code_list :\n",
    "    df.loc[i+'PIB_test'] = df.loc[i+'_GDP (current US$)'][4:].astype(np.float64)/10\n",
    "    df.loc[i+'Emission GES test'] = df.loc[i+'_Émissions totales de GES (kt d’équivalent CO2)'][4:].astype(np.float64)/10\n",
    "#df1.loc[['ARE_Emission de GES par Tete','ARE_Émissions totales de GES (kt d’équivalent CO2)','ARE_Population, total']]   \n",
    "    "
   ]
  },
  {
   "cell_type": "code",
   "execution_count": 67,
   "metadata": {},
   "outputs": [
    {
     "data": {
      "text/html": [
       "<div>\n",
       "<style scoped>\n",
       "    .dataframe tbody tr th:only-of-type {\n",
       "        vertical-align: middle;\n",
       "    }\n",
       "\n",
       "    .dataframe tbody tr th {\n",
       "        vertical-align: top;\n",
       "    }\n",
       "\n",
       "    .dataframe thead th {\n",
       "        text-align: right;\n",
       "    }\n",
       "</style>\n",
       "<table border=\"1\" class=\"dataframe\">\n",
       "  <thead>\n",
       "    <tr style=\"text-align: right;\">\n",
       "      <th></th>\n",
       "      <th>Country Name</th>\n",
       "      <th>Country Code</th>\n",
       "      <th>Indicator Name</th>\n",
       "      <th>1980</th>\n",
       "      <th>1981</th>\n",
       "      <th>1982</th>\n",
       "      <th>1983</th>\n",
       "      <th>1984</th>\n",
       "      <th>1985</th>\n",
       "      <th>1986</th>\n",
       "      <th>...</th>\n",
       "      <th>2010</th>\n",
       "      <th>2011</th>\n",
       "      <th>2012</th>\n",
       "      <th>2013</th>\n",
       "      <th>2014</th>\n",
       "      <th>2015</th>\n",
       "      <th>2016</th>\n",
       "      <th>2017</th>\n",
       "      <th>2018</th>\n",
       "      <th>2019</th>\n",
       "    </tr>\n",
       "    <tr>\n",
       "      <th>Pays_indic</th>\n",
       "      <th></th>\n",
       "      <th></th>\n",
       "      <th></th>\n",
       "      <th></th>\n",
       "      <th></th>\n",
       "      <th></th>\n",
       "      <th></th>\n",
       "      <th></th>\n",
       "      <th></th>\n",
       "      <th></th>\n",
       "      <th></th>\n",
       "      <th></th>\n",
       "      <th></th>\n",
       "      <th></th>\n",
       "      <th></th>\n",
       "      <th></th>\n",
       "      <th></th>\n",
       "      <th></th>\n",
       "      <th></th>\n",
       "      <th></th>\n",
       "      <th></th>\n",
       "    </tr>\n",
       "  </thead>\n",
       "  <tbody>\n",
       "    <tr>\n",
       "      <th>USAPIB_test</th>\n",
       "      <td>NaN</td>\n",
       "      <td>NaN</td>\n",
       "      <td>NaN</td>\n",
       "      <td>NaN</td>\n",
       "      <td>3.207042e+11</td>\n",
       "      <td>3.343789e+11</td>\n",
       "      <td>3.634038e+11</td>\n",
       "      <td>4.037613e+11</td>\n",
       "      <td>4.338979e+11</td>\n",
       "      <td>4.579631e+11</td>\n",
       "      <td>...</td>\n",
       "      <td>1.499205e+12</td>\n",
       "      <td>1.554258e+12</td>\n",
       "      <td>1.619701e+12</td>\n",
       "      <td>1.678485e+12</td>\n",
       "      <td>1.752175e+12</td>\n",
       "      <td>1.821930e+12</td>\n",
       "      <td>1.870719e+12</td>\n",
       "      <td>1.948539e+12</td>\n",
       "      <td>2.052905e+12</td>\n",
       "      <td>2.137442e+12</td>\n",
       "    </tr>\n",
       "    <tr>\n",
       "      <th>USAEmission GES test</th>\n",
       "      <td>NaN</td>\n",
       "      <td>NaN</td>\n",
       "      <td>NaN</td>\n",
       "      <td>NaN</td>\n",
       "      <td>5.830249e+05</td>\n",
       "      <td>5.534118e+05</td>\n",
       "      <td>5.524778e+05</td>\n",
       "      <td>5.761217e+05</td>\n",
       "      <td>5.776898e+05</td>\n",
       "      <td>5.731026e+05</td>\n",
       "      <td>...</td>\n",
       "      <td>6.713349e+05</td>\n",
       "      <td>6.571654e+05</td>\n",
       "      <td>6.343841e+05</td>\n",
       "      <td>NaN</td>\n",
       "      <td>NaN</td>\n",
       "      <td>NaN</td>\n",
       "      <td>NaN</td>\n",
       "      <td>NaN</td>\n",
       "      <td>NaN</td>\n",
       "      <td>NaN</td>\n",
       "    </tr>\n",
       "  </tbody>\n",
       "</table>\n",
       "<p>2 rows × 43 columns</p>\n",
       "</div>"
      ],
      "text/plain": [
       "                     Country Name Country Code Indicator Name  1980  \\\n",
       "Pays_indic                                                            \n",
       "USAPIB_test                   NaN          NaN            NaN   NaN   \n",
       "USAEmission GES test          NaN          NaN            NaN   NaN   \n",
       "\n",
       "                              1981          1982          1983          1984  \\\n",
       "Pays_indic                                                                     \n",
       "USAPIB_test           3.207042e+11  3.343789e+11  3.634038e+11  4.037613e+11   \n",
       "USAEmission GES test  5.830249e+05  5.534118e+05  5.524778e+05  5.761217e+05   \n",
       "\n",
       "                              1985          1986  ...          2010  \\\n",
       "Pays_indic                                        ...                 \n",
       "USAPIB_test           4.338979e+11  4.579631e+11  ...  1.499205e+12   \n",
       "USAEmission GES test  5.776898e+05  5.731026e+05  ...  6.713349e+05   \n",
       "\n",
       "                              2011          2012          2013          2014  \\\n",
       "Pays_indic                                                                     \n",
       "USAPIB_test           1.554258e+12  1.619701e+12  1.678485e+12  1.752175e+12   \n",
       "USAEmission GES test  6.571654e+05  6.343841e+05           NaN           NaN   \n",
       "\n",
       "                              2015          2016          2017          2018  \\\n",
       "Pays_indic                                                                     \n",
       "USAPIB_test           1.821930e+12  1.870719e+12  1.948539e+12  2.052905e+12   \n",
       "USAEmission GES test           NaN           NaN           NaN           NaN   \n",
       "\n",
       "                              2019  \n",
       "Pays_indic                          \n",
       "USAPIB_test           2.137442e+12  \n",
       "USAEmission GES test           NaN  \n",
       "\n",
       "[2 rows x 43 columns]"
      ]
     },
     "execution_count": 67,
     "metadata": {},
     "output_type": "execute_result"
    }
   ],
   "source": [
    "df.loc[['USAPIB_test','USAEmission GES test']]"
   ]
  },
  {
   "cell_type": "code",
   "execution_count": 62,
   "metadata": {},
   "outputs": [
    {
     "name": "stdout",
     "output_type": "stream",
     "text": [
      "                            OLS Regression Results                            \n",
      "==============================================================================\n",
      "Dep. Variable:                      y   R-squared:                       1.000\n",
      "Model:                            OLS   Adj. R-squared:                  1.000\n",
      "Method:                 Least Squares   F-statistic:                 3.445e+33\n",
      "Date:                Sat, 12 Dec 2020   Prob (F-statistic):               0.00\n",
      "Time:                        15:20:14   Log-Likelihood:                 326.98\n",
      "No. Observations:                  39   AIC:                            -650.0\n",
      "Df Residuals:                      37   BIC:                            -646.6\n",
      "Df Model:                           1                                         \n",
      "Covariance Type:            nonrobust                                         \n",
      "==============================================================================\n",
      "                 coef    std err          t      P>|t|      [0.025      0.975]\n",
      "------------------------------------------------------------------------------\n",
      "const          0.0002   2.05e-05      8.572      0.000       0.000       0.000\n",
      "x1             1.0000    1.7e-17   5.87e+16      0.000       1.000       1.000\n",
      "==============================================================================\n",
      "Omnibus:                       12.359   Durbin-Watson:                   0.125\n",
      "Prob(Omnibus):                  0.002   Jarque-Bera (JB):               13.894\n",
      "Skew:                          -1.461   Prob(JB):                     0.000962\n",
      "Kurtosis:                       3.133   Cond. No.                     2.71e+12\n",
      "==============================================================================\n",
      "\n",
      "Notes:\n",
      "[1] Standard Errors assume that the covariance matrix of the errors is correctly specified.\n",
      "[2] The condition number is large, 2.71e+12. This might indicate that there are\n",
      "strong multicollinearity or other numerical problems.\n"
     ]
    }
   ],
   "source": [
    "\n",
    "regresse = 'PIB_test'\n",
    "regresseur = '_Émissions totales de GES (kt d’équivalent CO2)'\n",
    "x = sm.add_constant(df1.drop(['Country Name','Country Code','Indicator Name'],axis =1).loc['USAEmission GES test'].to_numpy())\n",
    "y = df1.drop(['Country Name','Country Code','Indicator Name'],axis=1).loc['USAPIB_test'].to_numpy()\n",
    "\n",
    "model = sm.OLS(y,x,'drop')\n",
    "results = model.fit()\n",
    "print(results.summary())\n"
   ]
  }
 ],
 "metadata": {
  "kernelspec": {
   "display_name": "Python 3",
   "language": "python",
   "name": "python3"
  },
  "language_info": {
   "codemirror_mode": {
    "name": "ipython",
    "version": 3
   },
   "file_extension": ".py",
   "mimetype": "text/x-python",
   "name": "python",
   "nbconvert_exporter": "python",
   "pygments_lexer": "ipython3",
   "version": "3.7.4"
  }
 },
 "nbformat": 4,
 "nbformat_minor": 2
}
