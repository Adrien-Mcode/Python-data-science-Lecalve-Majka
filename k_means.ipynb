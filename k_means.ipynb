{
 "cells": [
  {
   "cell_type": "code",
   "execution_count": 4,
   "metadata": {},
   "outputs": [],
   "source": [
    "import pandas as pd\n",
    "import numpy as np\n",
    "import matplotlib.pyplot as plt\n",
    "import seaborn as sns\n",
    "from sklearn import preprocessing\n",
    "import sklearn as sklearn\n",
    "from sklearn import decomposition,cluster\n",
    "import re\n",
    "import statsmodels.api as sm\n",
    "import plotly.graph_objects as go\n",
    "import geoplot as gplt\n",
    "import geopandas as gpd\n",
    "\n",
    "def refresh_dico(Name,Code,df):\n",
    "    dic = {}\n",
    "    for i in df[[Name,Code]].dropna().drop_duplicates().iterrows() :\n",
    "        dic[i[1][Name]] = i[1][Code]\n",
    "    return (dic)\n",
    "\n",
    "def rech_ligne_pays (y,df) :\n",
    "    expression = re.compile(dic_pays[y]+\".*?;\")\n",
    "    return(list(i[:-1] for i in (expression.findall(';'.join(df.index)+';'))))\n",
    "\n",
    "def rech_ligne_indic (y,df):\n",
    "    expression = re.compile(\".{,4}\"+y+\";\")\n",
    "    return(list(i[:-1] for i in (expression.findall(';'.join(df.index)+';'))))\n",
    "\n",
    "def create_gdf (df_geo,map_monde) :\n",
    "    map_monde_clean = pd.DataFrame()\n",
    "    map_monde_clean[['Country Code','geometry']] = map_monde[['iso_a3','geometry']].dropna()\n",
    "    gdf = gpd.GeoDataFrame(df_geo.dropna().reset_index().merge(map_monde_clean,on = 'Country Code'),\n",
    "                           geometry=df_geo.dropna()\n",
    "                                       .reset_index()\n",
    "                                       .merge(map_monde_clean,on = 'Country Code')['geometry'])\n",
    "    gdf = gdf.reset_index()\n",
    "    gdf = gdf.set_index('Pays_indic')\n",
    "    return(gdf)\n",
    "\n",
    "def log_norm (df_norm) :\n",
    "    return(np.log10(df_norm.astype(np.float64))/np.log10(df_norm.astype(np.float64).max()))\n",
    "\n",
    "def geo_plot (df,indic,annee,couleur = 'Oranges',norm=True) : \n",
    "    #On importe la map monde dans un data frame avec ses données géographiques : \n",
    "    map_monde = gpd.read_file('map_monde (1).json')\n",
    "    #on créé deux dictionnaires différents pour pouvoir adapter les codes pays et merge le plus correctemment possible\n",
    "    #les deux dataframe: \n",
    "    dic_map = refresh_dico('iso_a3','sovereignt',map_monde)\n",
    "    dic_code = refresh_dico('Country Code','Country Name',df)  \n",
    "    liste_non_concord = []\n",
    "    \n",
    "    #On récupère tous les pays pour lesquels les codes pays ne correspondent pas :\n",
    "    for i in dic_map.keys():\n",
    "        j = ''\n",
    "        try :\n",
    "            j = dic_code[i]\n",
    "        except KeyError:\n",
    "            liste_non_concord.append(dic_map[i])\n",
    "\n",
    "    for i in liste_non_concord:\n",
    "        try :\n",
    "            map_monde.loc[map_monde['sovereignt'] == i,'iso_a3'] = dic_pays[i]\n",
    "        except KeyError:\n",
    "            print(i +' n\\'a aucun équivalent dans la table des données')\n",
    "            \n",
    "    #On peut dés maintenant commencer le plot :\n",
    "    ax = gplt.polyplot(map_monde['geometry'],\n",
    "                       edgecolor='None',\n",
    "                       facecolor='lightgray',\n",
    "                       figsize=(18, 7))\n",
    "\n",
    "    gdf = create_gdf(df.loc[rech_ligne_indic(indic,df),['Country Code',annee]],map_monde)\n",
    "    if norm :\n",
    "        gdf[annee] = log_norm(gdf[annee])\n",
    "    gplt.choropleth(gdf,\n",
    "                hue = annee,\n",
    "                cmap = couleur,\n",
    "                #norm=colors.LogNorm(vmin=gdf[annee].min(),\n",
    "                #                    vmax=gdf[annee].max()),\n",
    "                legend=True,\n",
    "                ax=ax)\n",
    "    plt.show()"
   ]
  },
  {
   "cell_type": "markdown",
   "metadata": {},
   "source": [
    "## Application de la méthode des k-means à la base obtenue"
   ]
  },
  {
   "cell_type": "code",
   "execution_count": 26,
   "metadata": {},
   "outputs": [],
   "source": [
    "df1 = pd.read_csv(\"Complete_Data.csv\")\n",
    "df1 = df1.set_index('Pays_indic')\n",
    "dic_code = refresh_dico('Country Code','Country Name',df1)"
   ]
  },
  {
   "cell_type": "markdown",
   "metadata": {},
   "source": [
    "On crée ici une liste des codes de pays, et un dictionnaire avec le nom des variables afin de faciliter les manipulations"
   ]
  },
  {
   "cell_type": "code",
   "execution_count": 27,
   "metadata": {},
   "outputs": [],
   "source": [
    "code_list = []\n",
    "for i in df1['Country Code']:\n",
    "    if i not in code_list : \n",
    "        code_list.append(i)\n",
    "code_list.pop(-1)\n",
    "\n",
    "dic = {}\n",
    "dic['pib'] = '_GDP (current US$)'\n",
    "dic['pib_hab'] = '_GDP (current US$) par Tete'\n",
    "dic['pib_growth'] = '_GDP growth (annual %)'\n",
    "dic['pib_hab_growth'] = '_Croissance_GDP (current US$) par Tete (pourcent)'\n",
    "dic['pop'] = '_Population, total'\n",
    "dic['ges'] = '_Émissions totales de GES (kt d’équivalent CO2)'\n",
    "dic['ges_growth'] = '_Croissance_Émissions totales de GES (kt d’équivalent CO2) (pourcent)\t'\n",
    "dic['ges_hab'] = '_Émissions totales de GES (kt d’équivalent CO2) par Tete'\n",
    "dic['ges_hab_growth'] = '_Croissance_Émissions totales de GES (kt d’équivalent CO2) par Tete (pourcent)'\n",
    "dic['industry'] = '_Industry (including construction), value added (% of GDP)'\n",
    "dic['agr'] = '_Agriculture, forestry, and fishing, value added (% of GDP)'\n",
    "dic['clean_nrj'] = '_Alternative and nuclear energy (% of total energy use)'\n",
    "dic['nrj_hab'] = '_Energy use (kg of oil equivalent per capita)'\n",
    "dic['nrj_hab_growth'] = '_Croissance_Energy use (kg of oil equivalent per capita) (pourcent)'"
   ]
  },
  {
   "cell_type": "markdown",
   "metadata": {},
   "source": [
    "Afin d'étudier les sentiers de croissance et leurs dépendances énergétiques, nous avons retenu trois catégories de variables :\n",
    "\n",
    "    - La valeur en 2000, qui nous permet d'estimer de manière absolue la niveau des variables. L'année 2000 a été retenu car nous notre base manque de donnée au début des années 80 et après 2010 pour certains pays.\n",
    "    \n",
    "    -Le taux de variation moyen, qui nous donne une bonne estimation de l'évolution de la variable sur notre jeu de donnée.\n",
    "    \n",
    "    -le coefficient de la régression ainsi que son R² pour les variables qui nous ont parues pertinentes. On a décidé de prendre ces indicateurs pour mesurer la dépendance entre les variables et la significativité de cette dépendance.\n",
    "\n",
    "On va chercher à créer la base avec les données qui nous intéressent pour la modélisation. Pour ça on définit les fonctions suivantes :"
   ]
  },
  {
   "cell_type": "markdown",
   "metadata": {},
   "source": [
    "La fonction regress nous permet d'obtenir le coeffiecient et le R² de la régression."
   ]
  },
  {
   "cell_type": "code",
   "execution_count": 16,
   "metadata": {},
   "outputs": [],
   "source": [
    "def regress (country_code, regresseur, regresse) :\n",
    "    \n",
    "    if country_code + regresse in df1.index and country_code + regresseur in df1.index :\n",
    "        interm= pd.DataFrame(df1.loc[[country_code + regresse, country_code + regresseur]]).drop(['Country Name',\n",
    "        'Country Code','Indicator Name'],axis =1).dropna(axis = 1)\n",
    "\n",
    "        if interm.shape != (2,0): \n",
    "            x = sm.add_constant(interm.loc[country_code + regresseur].to_numpy())\n",
    "            y = interm.loc[country_code + regresse].to_numpy()\n",
    "\n",
    "            model = sm.OLS(y,x,'drop')\n",
    "            results = model.fit()\n",
    "\n",
    "            r2 = results.rsquared\n",
    "            coef = results.params[1]\n",
    "\n",
    "            return coef, r2\n",
    "    \n",
    "    else : return\n"
   ]
  },
  {
   "cell_type": "markdown",
   "metadata": {},
   "source": [
    "Cette fonction permet de créer un dataframe contenant les valeurs de la régression pour tous les pays."
   ]
  },
  {
   "cell_type": "code",
   "execution_count": 20,
   "metadata": {},
   "outputs": [],
   "source": [
    "def get_coeff (regresse, regresseur) :    \n",
    "    dico = {}\n",
    "    for code in code_list:\n",
    "        dico[code] = regress(code, regresseur, regresse)\n",
    "        if dico[code] == None:\n",
    "            dico.pop(code)\n",
    "\n",
    "    regress_df = pd.DataFrame(dico.values(), dico.keys(), ['Coefficient de ' + regresse + ' sur ' + regresseur,\n",
    "                                                         'R2 de ' + regresse + ' sur ' + regresseur])\n",
    "    return regress_df"
   ]
  },
  {
   "cell_type": "markdown",
   "metadata": {},
   "source": [
    "get_2000 crée une dataframe à partir des valeurs en 2000 de la variable d'entrée pour chaque pays."
   ]
  },
  {
   "cell_type": "code",
   "execution_count": 29,
   "metadata": {},
   "outputs": [],
   "source": [
    "def get_2000(var):\n",
    "    dic = {}\n",
    "    \n",
    "    for country_code in code_list : \n",
    "        if country_code + var in df1.index :\n",
    "            dic[country_code] = df1.loc[country_code + var][23]\n",
    "    \n",
    "    temp_df = pd.DataFrame(dic.values(), dic.keys(), ['2000' + var])\n",
    "    \n",
    "    return(temp_df)"
   ]
  },
  {
   "cell_type": "markdown",
   "metadata": {},
   "source": [
    "Cette fonction nous permet d'obtenir le taux de variation moyen."
   ]
  },
  {
   "cell_type": "code",
   "execution_count": 22,
   "metadata": {},
   "outputs": [],
   "source": [
    "def get_average_growth_rate(var) :\n",
    "    dic = {}\n",
    "    \n",
    "    for country_code in code_list : \n",
    "        if country_code + var in df1.index :    \n",
    "            values = list(df1.loc[country_code + var][3:])\n",
    "            values = [x for x in values if ~np.isnan(x)]\n",
    "            initial_value = values[0]\n",
    "            final_value = values[len(values)-1]\n",
    "            variation_rate = (100 * ((final_value / initial_value))**(1/(len(values)-1))) - 100\n",
    "            if variation_rate != np.inf :\n",
    "                dic[country_code] = variation_rate\n",
    "    \n",
    "    temp_df = pd.DataFrame(dic.values(), dic.keys(), ['Average Growth Rate' + var])\n",
    "    \n",
    "    return(temp_df)"
   ]
  },
  {
   "cell_type": "markdown",
   "metadata": {},
   "source": [
    "Ici nous réalisons la création de la base des indicateurs par aggrégation."
   ]
  },
  {
   "cell_type": "code",
   "execution_count": 30,
   "metadata": {},
   "outputs": [
    {
     "name": "stderr",
     "output_type": "stream",
     "text": [
      "<ipython-input-22-99e7bd4fb978>:10: RuntimeWarning: divide by zero encountered in double_scalars\n",
      "  variation_rate = (100 * ((final_value / initial_value))**(1/(len(values)-1))) - 100\n",
      "<ipython-input-22-99e7bd4fb978>:10: RuntimeWarning: invalid value encountered in double_scalars\n",
      "  variation_rate = (100 * ((final_value / initial_value))**(1/(len(values)-1))) - 100\n"
     ]
    },
    {
     "data": {
      "text/plain": [
       "(168, 16)"
      ]
     },
     "execution_count": 30,
     "metadata": {},
     "output_type": "execute_result"
    }
   ],
   "source": [
    "data = get_average_growth_rate(dic['pib_hab'])\n",
    "\n",
    "data_list = [get_average_growth_rate(dic['agr']), get_average_growth_rate(dic['industry']), \n",
    "            get_average_growth_rate(dic['ges_hab']), get_average_growth_rate(dic['clean_nrj']),\n",
    "            get_average_growth_rate(dic['nrj_hab']), \n",
    "            get_2000(dic['pib_hab']), get_2000(dic['agr']), get_2000(dic['industry']),\n",
    "            get_2000(dic['ges_hab']), get_2000(dic['clean_nrj']), get_2000(dic['nrj_hab']), \n",
    "            get_coeff(dic['pib_hab'], dic['ges_hab']),\n",
    "            get_coeff(dic['pib_hab'], dic['nrj_hab'])]\n",
    "for i in data_list :\n",
    "    data = data.merge(i, how = 'outer', left_index = True, right_index = True)\n",
    "data.shape"
   ]
  },
  {
   "cell_type": "markdown",
   "metadata": {},
   "source": [
    "Après plusieurs essais, nous avons automatisé l'application de la méthode des K-means à un dataframe ne contenant pas de NaN.\n",
    "\n",
    "Cette fonction normalise la base, applique la méthode des K-means, puis réalise une ACP sur la base afin d'obtenir une représentation en deux dimensions.\n",
    "Elle peut optionnellement tracer le graphe de l'inertie du clustering en fonction du nombre de cluster, elle peut également représenter la part de la variance expliquée pour chaque vecteur propre de l'ACP."
   ]
  },
  {
   "cell_type": "code",
   "execution_count": 23,
   "metadata": {},
   "outputs": [],
   "source": [
    "def get_cluster_ACP(n_k_means, data, graph_ACP=False,to_normalize=True,graph_k_means=False,seed=False):\n",
    "    #normalisation\n",
    "    if to_normalize == True :\n",
    "        data_norm = pd.DataFrame()\n",
    "        for i in data.columns :\n",
    "            data_norm[i] = preprocessing.scale(data[i])\n",
    "            data_norm.index = data.index\n",
    "    else : \n",
    "        data_norm=data\n",
    "        \n",
    "    #On crée le graphe du coude des clusters\n",
    "    if graph_k_means==True:\n",
    "        iner = []\n",
    "        for k in range(2,10):\n",
    "            result=data_norm.copy()\n",
    "            centroid, appartenance, inertie = sklearn.cluster.k_means(data_norm, k)\n",
    "            iner.append(inertie)\n",
    "        plt.plot(np.linspace(2,9,num=8),iner)\n",
    "        plt.title(\"Evolution de l'inertie en fonction du nombre de cluster\")\n",
    "        plt.show() \n",
    "    \n",
    "    \n",
    "    #graph ACP\n",
    "    if graph_ACP==True:\n",
    "        \n",
    "        PCA = sklearn.decomposition.PCA(10)\n",
    "        PCA.fit(data_norm)\n",
    "\n",
    "        res = PCA.explained_variance_ratio_\n",
    "\n",
    "        t=np.linspace(1,10,num=10)\n",
    "        plt.plot(t,PCA.explained_variance_ratio_*100)\n",
    "        plt.title(\"Part de la variance expliquée sur chaque axe de l'ACP\")\n",
    "        plt.show()\n",
    "\n",
    "    #on enregistre dans la base les centroïdes\n",
    "    result=data_norm.copy()\n",
    "    if seed != False:\n",
    "        centroid, result['Cluster'], inertie = sklearn.cluster.k_means(data_norm, n_k_means,random_state=seed)\n",
    "    else :\n",
    "        centroid, result['Cluster'], inertie = sklearn.cluster.k_means(data_norm, n_k_means)\n",
    "    for i in range(0,n_k_means):\n",
    "        result.loc['Centroid '+str(i)] = np.concatenate((centroid[i],np.array([i])))\n",
    "    \n",
    "     \n",
    "        \n",
    "    #Application de l'ACP\n",
    "    PCA = sklearn.decomposition.PCA(2)\n",
    "    PCA.fit(data_norm)\n",
    "    data_ds_acp = PCA.transform(data_norm)\n",
    "    result_ACP = pd.DataFrame(data_ds_acp)\n",
    "    \n",
    "    #Enregistrement des données de l'ACP\n",
    "    data_norm.loc['axis_1']=PCA.components_[0]\n",
    "    data_norm.loc['axis_2']=PCA.components_[1]\n",
    "    PCA_axis=data_norm.loc[['axis_1','axis_2']]\n",
    "    \n",
    "    #représentation graphique des clusters dans l'ACP\n",
    "    result_ACP.index = result.index[:-n_k_means]\n",
    "    result_ACP['Cluster'] = result['Cluster'][:-n_k_means]\n",
    "    \n",
    "    f = go.FigureWidget([go.Scatter(x=list(result_ACP[0]), \n",
    "                                y=list(result_ACP[1]), \n",
    "                                text=result_ACP.index,\n",
    "                                mode='markers',\n",
    "                                hoverinfo='text'\n",
    "                                )])\n",
    "\n",
    "    scatter = f.data[0]\n",
    "    colormap = np.array(['black','red','royalblue','forestgreen','gold','silver','darkgoldenrod','deeppink','mediumturquoise','orange','firebrick'])\n",
    "\n",
    "    \n",
    "    \n",
    "    scatter.marker.color = colormap[result_ACP['Cluster'].astype(int).to_numpy()]\n",
    "    scatter.marker.size = [10] * len(result_ACP.index)\n",
    "    f.layout.hovermode = 'closest'\n",
    "    \n",
    "    #plt.title(\"Représentation des clusters dans L'ACP\")\n",
    "    f.show()\n",
    "    \n",
    "    dic_cluster={}\n",
    "    for i in range (n_k_means):\n",
    "        dic_cluster['Cluster'+str(i)]=list(result.where(result['Cluster'] == i).dropna().index[:-1])\n",
    "        dic_cluster['Cluster'+str(i)].append(colormap[i])\n",
    "\n",
    "        \n",
    "    return result,dic_cluster,PCA_axis"
   ]
  },
  {
   "cell_type": "markdown",
   "metadata": {},
   "source": [
    "A notre première tentative, nous avons appliqué cette méthode sur notre base où avons supprimé tous les pays dont il manquait un indicateur"
   ]
  },
  {
   "cell_type": "code",
   "execution_count": 31,
   "metadata": {},
   "outputs": [],
   "source": [
    "data_1=data.dropna(axis=0)"
   ]
  },
  {
   "cell_type": "code",
   "execution_count": 250,
   "metadata": {},
   "outputs": [
    {
     "data": {
      "image/png": "[encoded data removed]",
      "text/plain": [
       "<Figure size 432x288 with 1 Axes>"
      ]
     },
     "metadata": {
      "needs_background": "light"
     },
     "output_type": "display_data"
    },
    {
     "data": {
      "image/png": "[encoded data removed]",
      "text/plain": [
       "<Figure size 432x288 with 1 Axes>"
      ]
     },
     "metadata": {
      "needs_background": "light"
     },
     "output_type": "display_data"
    },
    {
     "data": {
      "image/png": "[encoded data removed]",
      "text/plain": [
       "<Figure size 432x288 with 1 Axes>"
      ]
     },
     "metadata": {
      "needs_background": "light"
     },
     "output_type": "display_data"
    }
   ],
   "source": [
    "A,dic,axis=get_cluster_ACP(3,data_1,graph_ACP=True,graph_k_means=True,seed=1)\n"
   ]
  },
  {
   "cell_type": "markdown",
   "metadata": {},
   "source": [
    "Dans un souci de visualisation, nous avons choisi de nous limiter au deux premiers axes de l'ACP, qui expliquent environ 45 % de la variance de notre jeu de donnée. On peut afficher axis pour les interpréter"
   ]
  },
  {
   "cell_type": "code",
   "execution_count": 251,
   "metadata": {},
   "outputs": [
    {
     "data": {
      "text/html": [
       "<div>\n",
       "<style scoped>\n",
       "    .dataframe tbody tr th:only-of-type {\n",
       "        vertical-align: middle;\n",
       "    }\n",
       "\n",
       "    .dataframe tbody tr th {\n",
       "        vertical-align: top;\n",
       "    }\n",
       "\n",
       "    .dataframe thead th {\n",
       "        text-align: right;\n",
       "    }\n",
       "</style>\n",
       "<table border=\"1\" class=\"dataframe\">\n",
       "  <thead>\n",
       "    <tr style=\"text-align: right;\">\n",
       "      <th></th>\n",
       "      <th>Average Growth Rate_GDP (current US$) par Tete</th>\n",
       "      <th>Average Growth Rate_Agriculture, forestry, and fishing, value added (% of GDP)</th>\n",
       "      <th>Average Growth Rate_Industry (including construction), value added (% of GDP)</th>\n",
       "      <th>Average Growth Rate_Émissions totales de GES (kt d’équivalent CO2) par Tete</th>\n",
       "      <th>Average Growth Rate_Alternative and nuclear energy (% of total energy use)</th>\n",
       "      <th>Average Growth Rate_Energy use (kg of oil equivalent per capita)</th>\n",
       "      <th>2000_GDP (current US$) par Tete</th>\n",
       "      <th>2000_Agriculture, forestry, and fishing, value added (% of GDP)</th>\n",
       "      <th>2000_Industry (including construction), value added (% of GDP)</th>\n",
       "      <th>2000_Émissions totales de GES (kt d’équivalent CO2) par Tete</th>\n",
       "      <th>2000_Alternative and nuclear energy (% of total energy use)</th>\n",
       "      <th>2000_Energy use (kg of oil equivalent per capita)</th>\n",
       "      <th>Coefficient de _GDP (current US$) par Tete sur _Émissions totales de GES (kt d’équivalent CO2) par Tete</th>\n",
       "      <th>R2 de _GDP (current US$) par Tete sur _Émissions totales de GES (kt d’équivalent CO2) par Tete</th>\n",
       "      <th>Coefficient de _GDP (current US$) par Tete sur _Energy use (kg of oil equivalent per capita)</th>\n",
       "      <th>R2 de _GDP (current US$) par Tete sur _Energy use (kg of oil equivalent per capita)</th>\n",
       "    </tr>\n",
       "  </thead>\n",
       "  <tbody>\n",
       "    <tr>\n",
       "      <th>axis_1</th>\n",
       "      <td>-0.083922</td>\n",
       "      <td>-0.113444</td>\n",
       "      <td>-0.242245</td>\n",
       "      <td>-0.180743</td>\n",
       "      <td>0.068738</td>\n",
       "      <td>-0.233689</td>\n",
       "      <td>0.432991</td>\n",
       "      <td>-0.310303</td>\n",
       "      <td>-0.036326</td>\n",
       "      <td>0.226164</td>\n",
       "      <td>0.372706</td>\n",
       "      <td>0.418256</td>\n",
       "      <td>-0.315826</td>\n",
       "      <td>0.005593</td>\n",
       "      <td>0.011666</td>\n",
       "      <td>-0.281782</td>\n",
       "    </tr>\n",
       "    <tr>\n",
       "      <th>axis_2</th>\n",
       "      <td>0.417687</td>\n",
       "      <td>-0.243149</td>\n",
       "      <td>-0.188613</td>\n",
       "      <td>0.329397</td>\n",
       "      <td>0.033347</td>\n",
       "      <td>0.410420</td>\n",
       "      <td>0.111488</td>\n",
       "      <td>-0.292115</td>\n",
       "      <td>0.183203</td>\n",
       "      <td>0.008673</td>\n",
       "      <td>0.069575</td>\n",
       "      <td>0.163092</td>\n",
       "      <td>0.077947</td>\n",
       "      <td>0.370132</td>\n",
       "      <td>0.193883</td>\n",
       "      <td>0.330574</td>\n",
       "    </tr>\n",
       "  </tbody>\n",
       "</table>\n",
       "</div>"
      ],
      "text/plain": [
       "        Average Growth Rate_GDP (current US$) par Tete  \\\n",
       "axis_1                                       -0.083922   \n",
       "axis_2                                        0.417687   \n",
       "\n",
       "        Average Growth Rate_Agriculture, forestry, and fishing, value added (% of GDP)  \\\n",
       "axis_1                                          -0.113444                                \n",
       "axis_2                                          -0.243149                                \n",
       "\n",
       "        Average Growth Rate_Industry (including construction), value added (% of GDP)  \\\n",
       "axis_1                                          -0.242245                               \n",
       "axis_2                                          -0.188613                               \n",
       "\n",
       "        Average Growth Rate_Émissions totales de GES (kt d’équivalent CO2) par Tete  \\\n",
       "axis_1                                          -0.180743                             \n",
       "axis_2                                           0.329397                             \n",
       "\n",
       "        Average Growth Rate_Alternative and nuclear energy (% of total energy use)  \\\n",
       "axis_1                                           0.068738                            \n",
       "axis_2                                           0.033347                            \n",
       "\n",
       "        Average Growth Rate_Energy use (kg of oil equivalent per capita)  \\\n",
       "axis_1                                          -0.233689                  \n",
       "axis_2                                           0.410420                  \n",
       "\n",
       "        2000_GDP (current US$) par Tete  \\\n",
       "axis_1                         0.432991   \n",
       "axis_2                         0.111488   \n",
       "\n",
       "        2000_Agriculture, forestry, and fishing, value added (% of GDP)  \\\n",
       "axis_1                                          -0.310303                 \n",
       "axis_2                                          -0.292115                 \n",
       "\n",
       "        2000_Industry (including construction), value added (% of GDP)  \\\n",
       "axis_1                                          -0.036326                \n",
       "axis_2                                           0.183203                \n",
       "\n",
       "        2000_Émissions totales de GES (kt d’équivalent CO2) par Tete  \\\n",
       "axis_1                                           0.226164              \n",
       "axis_2                                           0.008673              \n",
       "\n",
       "        2000_Alternative and nuclear energy (% of total energy use)  \\\n",
       "axis_1                                           0.372706             \n",
       "axis_2                                           0.069575             \n",
       "\n",
       "        2000_Energy use (kg of oil equivalent per capita)  \\\n",
       "axis_1                                           0.418256   \n",
       "axis_2                                           0.163092   \n",
       "\n",
       "        Coefficient de _GDP (current US$) par Tete sur _Émissions totales de GES (kt d’équivalent CO2) par Tete  \\\n",
       "axis_1                                          -0.315826                                                         \n",
       "axis_2                                           0.077947                                                         \n",
       "\n",
       "        R2 de _GDP (current US$) par Tete sur _Émissions totales de GES (kt d’équivalent CO2) par Tete  \\\n",
       "axis_1                                           0.005593                                                \n",
       "axis_2                                           0.370132                                                \n",
       "\n",
       "        Coefficient de _GDP (current US$) par Tete sur _Energy use (kg of oil equivalent per capita)  \\\n",
       "axis_1                                           0.011666                                              \n",
       "axis_2                                           0.193883                                              \n",
       "\n",
       "        R2 de _GDP (current US$) par Tete sur _Energy use (kg of oil equivalent per capita)  \n",
       "axis_1                                          -0.281782                                    \n",
       "axis_2                                           0.330574                                    "
      ]
     },
     "execution_count": 251,
     "metadata": {},
     "output_type": "execute_result"
    }
   ],
   "source": [
    "axis"
   ]
  },
  {
   "cell_type": "markdown",
   "metadata": {},
   "source": [
    "Les pays à droite dans ce plan sont, grossièrement, les pays avec dont les indicateurs économiques sont significativement au-dessus de la moyenne en 2000, et dont le rythme de croissance de nos indicateurs est plutôt inférieur à la moyenne. Les pays plutôt en haut, quand à eux, sont ceux dont la croissance a été très au-dessus de la moyenne, ce qui passe par une forte consommation d'énergie. Certte dernière est pour eux assez corrélée avec l'augmentation de la production, d'après les coefficients de régression et les R² associés."
   ]
  },
  {
   "cell_type": "code",
   "execution_count": 117,
   "metadata": {},
   "outputs": [
    {
     "data": {
      "text/html": [
       "<div>\n",
       "<style scoped>\n",
       "    .dataframe tbody tr th:only-of-type {\n",
       "        vertical-align: middle;\n",
       "    }\n",
       "\n",
       "    .dataframe tbody tr th {\n",
       "        vertical-align: top;\n",
       "    }\n",
       "\n",
       "    .dataframe thead th {\n",
       "        text-align: right;\n",
       "    }\n",
       "</style>\n",
       "<table border=\"1\" class=\"dataframe\">\n",
       "  <thead>\n",
       "    <tr style=\"text-align: right;\">\n",
       "      <th></th>\n",
       "      <th>Average Growth Rate_GDP (current US$) par Tete</th>\n",
       "      <th>Average Growth Rate_Agriculture, forestry, and fishing, value added (% of GDP)</th>\n",
       "      <th>Average Growth Rate_Industry (including construction), value added (% of GDP)</th>\n",
       "      <th>Average Growth Rate_Émissions totales de GES (kt d’équivalent CO2) par Tete</th>\n",
       "      <th>Average Growth Rate_Alternative and nuclear energy (% of total energy use)</th>\n",
       "      <th>Average Growth Rate_Energy use (kg of oil equivalent per capita)</th>\n",
       "      <th>2000_GDP (current US$) par Tete</th>\n",
       "      <th>2000_Agriculture, forestry, and fishing, value added (% of GDP)</th>\n",
       "      <th>2000_Industry (including construction), value added (% of GDP)</th>\n",
       "      <th>2000_Émissions totales de GES (kt d’équivalent CO2) par Tete</th>\n",
       "      <th>2000_Alternative and nuclear energy (% of total energy use)</th>\n",
       "      <th>2000_Energy use (kg of oil equivalent per capita)</th>\n",
       "      <th>Coefficient de _GDP (current US$) par Tete sur _Émissions totales de GES (kt d’équivalent CO2) par Tete</th>\n",
       "      <th>R2 de _GDP (current US$) par Tete sur _Émissions totales de GES (kt d’équivalent CO2) par Tete</th>\n",
       "      <th>Coefficient de _GDP (current US$) par Tete sur _Energy use (kg of oil equivalent per capita)</th>\n",
       "      <th>R2 de _GDP (current US$) par Tete sur _Energy use (kg of oil equivalent per capita)</th>\n",
       "      <th>Cluster</th>\n",
       "    </tr>\n",
       "  </thead>\n",
       "  <tbody>\n",
       "    <tr>\n",
       "      <th>Centroid 0</th>\n",
       "      <td>0.662221</td>\n",
       "      <td>-0.369528</td>\n",
       "      <td>-0.068925</td>\n",
       "      <td>0.732833</td>\n",
       "      <td>-0.149695</td>\n",
       "      <td>0.893346</td>\n",
       "      <td>-0.302165</td>\n",
       "      <td>-0.140460</td>\n",
       "      <td>0.091702</td>\n",
       "      <td>-0.338126</td>\n",
       "      <td>-0.220337</td>\n",
       "      <td>-0.303177</td>\n",
       "      <td>0.483463</td>\n",
       "      <td>0.831323</td>\n",
       "      <td>0.209392</td>\n",
       "      <td>0.866244</td>\n",
       "      <td>0.0</td>\n",
       "    </tr>\n",
       "    <tr>\n",
       "      <th>Centroid 1</th>\n",
       "      <td>-0.016431</td>\n",
       "      <td>-0.459584</td>\n",
       "      <td>-0.828894</td>\n",
       "      <td>-0.564649</td>\n",
       "      <td>0.486405</td>\n",
       "      <td>-0.834137</td>\n",
       "      <td>1.533741</td>\n",
       "      <td>-0.825042</td>\n",
       "      <td>-0.332440</td>\n",
       "      <td>0.804375</td>\n",
       "      <td>1.244375</td>\n",
       "      <td>1.627530</td>\n",
       "      <td>-1.212338</td>\n",
       "      <td>0.096832</td>\n",
       "      <td>-0.116746</td>\n",
       "      <td>-1.004639</td>\n",
       "      <td>1.0</td>\n",
       "    </tr>\n",
       "    <tr>\n",
       "      <th>Centroid 2</th>\n",
       "      <td>-0.552758</td>\n",
       "      <td>0.524794</td>\n",
       "      <td>0.440887</td>\n",
       "      <td>-0.359482</td>\n",
       "      <td>-0.097830</td>\n",
       "      <td>-0.370922</td>\n",
       "      <td>-0.452203</td>\n",
       "      <td>0.499640</td>\n",
       "      <td>0.075840</td>\n",
       "      <td>-0.085144</td>\n",
       "      <td>-0.387888</td>\n",
       "      <td>-0.494633</td>\n",
       "      <td>0.150457</td>\n",
       "      <td>-0.748119</td>\n",
       "      <td>-0.123295</td>\n",
       "      <td>-0.269297</td>\n",
       "      <td>2.0</td>\n",
       "    </tr>\n",
       "  </tbody>\n",
       "</table>\n",
       "</div>"
      ],
      "text/plain": [
       "            Average Growth Rate_GDP (current US$) par Tete  \\\n",
       "Centroid 0                                        0.662221   \n",
       "Centroid 1                                       -0.016431   \n",
       "Centroid 2                                       -0.552758   \n",
       "\n",
       "            Average Growth Rate_Agriculture, forestry, and fishing, value added (% of GDP)  \\\n",
       "Centroid 0                                          -0.369528                                \n",
       "Centroid 1                                          -0.459584                                \n",
       "Centroid 2                                           0.524794                                \n",
       "\n",
       "            Average Growth Rate_Industry (including construction), value added (% of GDP)  \\\n",
       "Centroid 0                                          -0.068925                               \n",
       "Centroid 1                                          -0.828894                               \n",
       "Centroid 2                                           0.440887                               \n",
       "\n",
       "            Average Growth Rate_Émissions totales de GES (kt d’équivalent CO2) par Tete  \\\n",
       "Centroid 0                                           0.732833                             \n",
       "Centroid 1                                          -0.564649                             \n",
       "Centroid 2                                          -0.359482                             \n",
       "\n",
       "            Average Growth Rate_Alternative and nuclear energy (% of total energy use)  \\\n",
       "Centroid 0                                          -0.149695                            \n",
       "Centroid 1                                           0.486405                            \n",
       "Centroid 2                                          -0.097830                            \n",
       "\n",
       "            Average Growth Rate_Energy use (kg of oil equivalent per capita)  \\\n",
       "Centroid 0                                           0.893346                  \n",
       "Centroid 1                                          -0.834137                  \n",
       "Centroid 2                                          -0.370922                  \n",
       "\n",
       "            2000_GDP (current US$) par Tete  \\\n",
       "Centroid 0                        -0.302165   \n",
       "Centroid 1                         1.533741   \n",
       "Centroid 2                        -0.452203   \n",
       "\n",
       "            2000_Agriculture, forestry, and fishing, value added (% of GDP)  \\\n",
       "Centroid 0                                          -0.140460                 \n",
       "Centroid 1                                          -0.825042                 \n",
       "Centroid 2                                           0.499640                 \n",
       "\n",
       "            2000_Industry (including construction), value added (% of GDP)  \\\n",
       "Centroid 0                                           0.091702                \n",
       "Centroid 1                                          -0.332440                \n",
       "Centroid 2                                           0.075840                \n",
       "\n",
       "            2000_Émissions totales de GES (kt d’équivalent CO2) par Tete  \\\n",
       "Centroid 0                                          -0.338126              \n",
       "Centroid 1                                           0.804375              \n",
       "Centroid 2                                          -0.085144              \n",
       "\n",
       "            2000_Alternative and nuclear energy (% of total energy use)  \\\n",
       "Centroid 0                                          -0.220337             \n",
       "Centroid 1                                           1.244375             \n",
       "Centroid 2                                          -0.387888             \n",
       "\n",
       "            2000_Energy use (kg of oil equivalent per capita)  \\\n",
       "Centroid 0                                          -0.303177   \n",
       "Centroid 1                                           1.627530   \n",
       "Centroid 2                                          -0.494633   \n",
       "\n",
       "            Coefficient de _GDP (current US$) par Tete sur _Émissions totales de GES (kt d’équivalent CO2) par Tete  \\\n",
       "Centroid 0                                           0.483463                                                         \n",
       "Centroid 1                                          -1.212338                                                         \n",
       "Centroid 2                                           0.150457                                                         \n",
       "\n",
       "            R2 de _GDP (current US$) par Tete sur _Émissions totales de GES (kt d’équivalent CO2) par Tete  \\\n",
       "Centroid 0                                           0.831323                                                \n",
       "Centroid 1                                           0.096832                                                \n",
       "Centroid 2                                          -0.748119                                                \n",
       "\n",
       "            Coefficient de _GDP (current US$) par Tete sur _Energy use (kg of oil equivalent per capita)  \\\n",
       "Centroid 0                                           0.209392                                              \n",
       "Centroid 1                                          -0.116746                                              \n",
       "Centroid 2                                          -0.123295                                              \n",
       "\n",
       "            R2 de _GDP (current US$) par Tete sur _Energy use (kg of oil equivalent per capita)  \\\n",
       "Centroid 0                                           0.866244                                     \n",
       "Centroid 1                                          -1.004639                                     \n",
       "Centroid 2                                          -0.269297                                     \n",
       "\n",
       "            Cluster  \n",
       "Centroid 0      0.0  \n",
       "Centroid 1      1.0  \n",
       "Centroid 2      2.0  "
      ]
     },
     "execution_count": 117,
     "metadata": {},
     "output_type": "execute_result"
    }
   ],
   "source": [
    "A.tail(3)"
   ]
  },
  {
   "cell_type": "markdown",
   "metadata": {},
   "source": [
    "Après de multiples essais, nous en sommes arrivés à la conclusion que les meilleurs clusters stables sont ceux ci-dessus. En effet, nous avons remarqué que lorsque le nombre de cluster augmentait, les clusters étaient plus précis mais ne se retrouvaient pas nécessairement d'une fois sur l'autre. Nous avons donc choisi de nous concentrer sur les clusters suffisamment reconnaissables par l'algorythme pour rester stable, gage de significativité du cluster.\n",
    "\n",
    "On retrouve très clairement trois catégories de pays :\n",
    "\n",
    "-Les pays de l'OCDE, en rouge, associé au Centroïde 1, caractérisés par une croissance du PIB faible, une tendance à la baisse des secteurs industriels et agricoles, une taux de variation de la production énergétique étonnamment bas, et des valeurs en 2000 plus importantes que la moyenne, et une décorrélation du PIB aux émissions de GES et à la production énergétique.\n",
    "\n",
    "-Les pays les moins développés, en bleu, associé au Centroïde 2, qui ont pour caractéristiques communes des indicateurs de faible valeur en ce qui concerne le PIB, l'énergie, l'émission de GES, la part d'énergie renouvelable et nucléaire, et une part importante de l'agriculture et de l'industrie dans le PIB. On retrouve également pour ces pays-là une faible corrélation du PIB à la croissance énergétique et aux émission de GES.\n",
    "\n",
    "-Les pays en cours de développement, en noir, associé au Centroïde 0. Ces derniers se distinguent par une forte croissance du PIB, des émissions de GES et du secteur énergétique, bien que leurs valeurs nominales soient inférieures à celles de l'OCDE. Pour ce cluster, le PIB est corrélé de manière significative au émissions de GES et à la croissance énergétique."
   ]
  },
  {
   "cell_type": "markdown",
   "metadata": {},
   "source": [
    "### Suppression de certains indicateurs pour augmenter le jeu de donnée, et clustering sur cette nouvelle base"
   ]
  },
  {
   "cell_type": "markdown",
   "metadata": {},
   "source": [
    " Dans le but de rendre notre modèle plus pertinent par le biais d'un échantillon plus représentatif, nous avons choisi de faire entrer de nouveaux pays en éliminant certains indicateurs pour lesquels nous avions essentiellement des données sur les pays riches."
   ]
  },
  {
   "cell_type": "code",
   "execution_count": 119,
   "metadata": {},
   "outputs": [],
   "source": [
    "data_2=data.drop(['Average Growth Rate_Alternative and nuclear energy (% of total energy use)','Average Growth Rate_Energy use (kg of oil equivalent per capita)',\n",
    "                '2000_Energy use (kg of oil equivalent per capita)','2000_Alternative and nuclear energy (% of total energy use)',\n",
    "                'Coefficient de _GDP (current US$) par Tete sur _Energy use (kg of oil equivalent per capita)',\n",
    "                'R2 de _GDP (current US$) par Tete sur _Energy use (kg of oil equivalent per capita)'],axis=1)\n"
   ]
  },
  {
   "cell_type": "code",
   "execution_count": 120,
   "metadata": {},
   "outputs": [
    {
     "data": {
      "text/plain": [
       "(108, 10)"
      ]
     },
     "execution_count": 120,
     "metadata": {},
     "output_type": "execute_result"
    }
   ],
   "source": [
    "data_2=data_2.dropna(axis=0)\n",
    "data_2.shape"
   ]
  },
  {
   "cell_type": "markdown",
   "metadata": {},
   "source": [
    "Grâce à cette modification de la conception de notre base, nous l'avons étendu à 108 pays, ce qui est plus pertinent pour faire du clustering. C'est ce que nous faisons maintenant"
   ]
  },
  {
   "cell_type": "code",
   "execution_count": 248,
   "metadata": {},
   "outputs": [
    {
     "data": {
      "image/png": "[encoded data removed]",
      "text/plain": [
       "<Figure size 432x288 with 1 Axes>"
      ]
     },
     "metadata": {
      "needs_background": "light"
     },
     "output_type": "display_data"
    },
    {
     "data": {
      "image/png": "[encoded data removed]",
      "text/plain": [
       "<Figure size 432x288 with 1 Axes>"
      ]
     },
     "metadata": {
      "needs_background": "light"
     },
     "output_type": "display_data"
    },
    {
     "data": {
      "image/png": "[encoded data removed]",
      "text/plain": [
       "<Figure size 432x288 with 1 Axes>"
      ]
     },
     "metadata": {
      "needs_background": "light"
     },
     "output_type": "display_data"
    }
   ],
   "source": [
    "A,dic,axis=get_cluster_ACP(2,data_2,graph_ACP=True,graph_k_means=True)"
   ]
  },
  {
   "cell_type": "markdown",
   "metadata": {},
   "source": [
    "Cette fois-ci, on voit clairement un \"coude\" dans le graphe de l'ACP, et on voit que les deux premiers axes permettent de rerésenter près de 50% de la variance totale, ce qui nous indique que notre représentation graphique est de qualité très correcte. En revanche, il est toujours aussi difficile de déterminer un nombre de cluster pertinent en se fondant sur l'inertie intraclasse. Comme l'analyse des axes n'apporte pas grand chose de plus que celle des clusters, nous ne l'effectuons plus à partir de maintenant."
   ]
  },
  {
   "cell_type": "code",
   "execution_count": 419,
   "metadata": {},
   "outputs": [
    {
     "data": {
      "image/png": "[encoded data removed]",
      "text/plain": [
       "<Figure size 432x288 with 1 Axes>"
      ]
     },
     "metadata": {
      "needs_background": "light"
     },
     "output_type": "display_data"
    }
   ],
   "source": [
    "A,dic,axis=get_cluster_ACP(5,data_2, seed = 2)"
   ]
  },
  {
   "cell_type": "code",
   "execution_count": 420,
   "metadata": {},
   "outputs": [
    {
     "data": {
      "text/html": [
       "<div>\n",
       "<style scoped>\n",
       "    .dataframe tbody tr th:only-of-type {\n",
       "        vertical-align: middle;\n",
       "    }\n",
       "\n",
       "    .dataframe tbody tr th {\n",
       "        vertical-align: top;\n",
       "    }\n",
       "\n",
       "    .dataframe thead th {\n",
       "        text-align: right;\n",
       "    }\n",
       "</style>\n",
       "<table border=\"1\" class=\"dataframe\">\n",
       "  <thead>\n",
       "    <tr style=\"text-align: right;\">\n",
       "      <th></th>\n",
       "      <th>Average Growth Rate_GDP (current US$) par Tete</th>\n",
       "      <th>Average Growth Rate_Agriculture, forestry, and fishing, value added (% of GDP)</th>\n",
       "      <th>Average Growth Rate_Industry (including construction), value added (% of GDP)</th>\n",
       "      <th>Average Growth Rate_Émissions totales de GES (kt d’équivalent CO2) par Tete</th>\n",
       "      <th>2000_GDP (current US$) par Tete</th>\n",
       "      <th>2000_Agriculture, forestry, and fishing, value added (% of GDP)</th>\n",
       "      <th>2000_Industry (including construction), value added (% of GDP)</th>\n",
       "      <th>2000_Émissions totales de GES (kt d’équivalent CO2) par Tete</th>\n",
       "      <th>Coefficient de _GDP (current US$) par Tete sur _Émissions totales de GES (kt d’équivalent CO2) par Tete</th>\n",
       "      <th>R2 de _GDP (current US$) par Tete sur _Émissions totales de GES (kt d’équivalent CO2) par Tete</th>\n",
       "      <th>Cluster</th>\n",
       "    </tr>\n",
       "  </thead>\n",
       "  <tbody>\n",
       "    <tr>\n",
       "      <th>Centroid 0</th>\n",
       "      <td>1.068014</td>\n",
       "      <td>-0.445809</td>\n",
       "      <td>0.170536</td>\n",
       "      <td>1.129572</td>\n",
       "      <td>-0.284261</td>\n",
       "      <td>-0.316524</td>\n",
       "      <td>0.138996</td>\n",
       "      <td>-0.369423</td>\n",
       "      <td>0.070083</td>\n",
       "      <td>1.559649</td>\n",
       "      <td>0.0</td>\n",
       "    </tr>\n",
       "    <tr>\n",
       "      <th>Centroid 1</th>\n",
       "      <td>-0.111847</td>\n",
       "      <td>-0.222676</td>\n",
       "      <td>-0.340420</td>\n",
       "      <td>-0.312992</td>\n",
       "      <td>-0.290950</td>\n",
       "      <td>-0.442192</td>\n",
       "      <td>0.404130</td>\n",
       "      <td>0.056935</td>\n",
       "      <td>-0.078867</td>\n",
       "      <td>-0.486499</td>\n",
       "      <td>1.0</td>\n",
       "    </tr>\n",
       "    <tr>\n",
       "      <th>Centroid 2</th>\n",
       "      <td>0.884699</td>\n",
       "      <td>-0.794461</td>\n",
       "      <td>0.595429</td>\n",
       "      <td>0.272024</td>\n",
       "      <td>1.167447</td>\n",
       "      <td>-1.235619</td>\n",
       "      <td>1.659612</td>\n",
       "      <td>-0.816174</td>\n",
       "      <td>9.864895</td>\n",
       "      <td>0.783132</td>\n",
       "      <td>2.0</td>\n",
       "    </tr>\n",
       "    <tr>\n",
       "      <th>Centroid 3</th>\n",
       "      <td>-0.228290</td>\n",
       "      <td>-0.100091</td>\n",
       "      <td>-0.609938</td>\n",
       "      <td>-0.539032</td>\n",
       "      <td>2.282571</td>\n",
       "      <td>-1.102016</td>\n",
       "      <td>0.128125</td>\n",
       "      <td>1.230458</td>\n",
       "      <td>-0.394336</td>\n",
       "      <td>0.294405</td>\n",
       "      <td>3.0</td>\n",
       "    </tr>\n",
       "    <tr>\n",
       "      <th>Centroid 4</th>\n",
       "      <td>-0.428543</td>\n",
       "      <td>0.578638</td>\n",
       "      <td>0.531731</td>\n",
       "      <td>-0.084832</td>\n",
       "      <td>-0.548962</td>\n",
       "      <td>1.202930</td>\n",
       "      <td>-0.638775</td>\n",
       "      <td>-0.365169</td>\n",
       "      <td>-0.069252</td>\n",
       "      <td>-0.526624</td>\n",
       "      <td>4.0</td>\n",
       "    </tr>\n",
       "  </tbody>\n",
       "</table>\n",
       "</div>"
      ],
      "text/plain": [
       "            Average Growth Rate_GDP (current US$) par Tete  \\\n",
       "Centroid 0                                        1.068014   \n",
       "Centroid 1                                       -0.111847   \n",
       "Centroid 2                                        0.884699   \n",
       "Centroid 3                                       -0.228290   \n",
       "Centroid 4                                       -0.428543   \n",
       "\n",
       "            Average Growth Rate_Agriculture, forestry, and fishing, value added (% of GDP)  \\\n",
       "Centroid 0                                          -0.445809                                \n",
       "Centroid 1                                          -0.222676                                \n",
       "Centroid 2                                          -0.794461                                \n",
       "Centroid 3                                          -0.100091                                \n",
       "Centroid 4                                           0.578638                                \n",
       "\n",
       "            Average Growth Rate_Industry (including construction), value added (% of GDP)  \\\n",
       "Centroid 0                                           0.170536                               \n",
       "Centroid 1                                          -0.340420                               \n",
       "Centroid 2                                           0.595429                               \n",
       "Centroid 3                                          -0.609938                               \n",
       "Centroid 4                                           0.531731                               \n",
       "\n",
       "            Average Growth Rate_Émissions totales de GES (kt d’équivalent CO2) par Tete  \\\n",
       "Centroid 0                                           1.129572                             \n",
       "Centroid 1                                          -0.312992                             \n",
       "Centroid 2                                           0.272024                             \n",
       "Centroid 3                                          -0.539032                             \n",
       "Centroid 4                                          -0.084832                             \n",
       "\n",
       "            2000_GDP (current US$) par Tete  \\\n",
       "Centroid 0                        -0.284261   \n",
       "Centroid 1                        -0.290950   \n",
       "Centroid 2                         1.167447   \n",
       "Centroid 3                         2.282571   \n",
       "Centroid 4                        -0.548962   \n",
       "\n",
       "            2000_Agriculture, forestry, and fishing, value added (% of GDP)  \\\n",
       "Centroid 0                                          -0.316524                 \n",
       "Centroid 1                                          -0.442192                 \n",
       "Centroid 2                                          -1.235619                 \n",
       "Centroid 3                                          -1.102016                 \n",
       "Centroid 4                                           1.202930                 \n",
       "\n",
       "            2000_Industry (including construction), value added (% of GDP)  \\\n",
       "Centroid 0                                           0.138996                \n",
       "Centroid 1                                           0.404130                \n",
       "Centroid 2                                           1.659612                \n",
       "Centroid 3                                           0.128125                \n",
       "Centroid 4                                          -0.638775                \n",
       "\n",
       "            2000_Émissions totales de GES (kt d’équivalent CO2) par Tete  \\\n",
       "Centroid 0                                          -0.369423              \n",
       "Centroid 1                                           0.056935              \n",
       "Centroid 2                                          -0.816174              \n",
       "Centroid 3                                           1.230458              \n",
       "Centroid 4                                          -0.365169              \n",
       "\n",
       "            Coefficient de _GDP (current US$) par Tete sur _Émissions totales de GES (kt d’équivalent CO2) par Tete  \\\n",
       "Centroid 0                                           0.070083                                                         \n",
       "Centroid 1                                          -0.078867                                                         \n",
       "Centroid 2                                           9.864895                                                         \n",
       "Centroid 3                                          -0.394336                                                         \n",
       "Centroid 4                                          -0.069252                                                         \n",
       "\n",
       "            R2 de _GDP (current US$) par Tete sur _Émissions totales de GES (kt d’équivalent CO2) par Tete  \\\n",
       "Centroid 0                                           1.559649                                                \n",
       "Centroid 1                                          -0.486499                                                \n",
       "Centroid 2                                           0.783132                                                \n",
       "Centroid 3                                           0.294405                                                \n",
       "Centroid 4                                          -0.526624                                                \n",
       "\n",
       "            Cluster  \n",
       "Centroid 0      0.0  \n",
       "Centroid 1      1.0  \n",
       "Centroid 2      2.0  \n",
       "Centroid 3      3.0  \n",
       "Centroid 4      4.0  "
      ]
     },
     "execution_count": 420,
     "metadata": {},
     "output_type": "execute_result"
    }
   ],
   "source": [
    "A.tail()"
   ]
  },
  {
   "cell_type": "markdown",
   "metadata": {},
   "source": [
    "Si l'on garde 5 clusters, on arrive à identifier un motif qui se répète assez souvent. Il s'agit de celui inidqué ci-dessus, avec une seed égale à 5. \n",
    "\n",
    "    -Le cluster 0, en noir, correspond aux pays qui se sont beaucoup développé sur la période, notamment à l'aide d'un accroissement de l'émission de GES assez marque, leur PIB y étant significativement dépendant.\n",
    "    -Le cluster un correspond à des pays de niveau de développement intermédiaire, dont la croissance de l'ensemble des indicateurs était inféreure à la moyenne. Il s'agit de pays dont le secteur agricole, contrairement au secteur industriel, était assez peu développé en 2000.\n",
    "    -Le centroïde deux ne concerne que Puerto Rico, qui est une valeur assez singulière dans cette base. Il s'agit d'une valeur isolée, et sans l'isoler dans un cluster on rend le reste du modèle instable en déplaçant l'un des centroïdes vers un point non pertinent. Ainsi, si l'on ne garde que quatre clusters, leur structure est très instable. Puertor Rico a notamment une valeur presque aberrante en ce qui concerne le coefficient de régression du PIB sur l'émission de GES.\n",
    "    -Le cluster 3 regroupe les pays qui polluaient beaucoup en 2000, et qui avaient un PIB très supérieur à la moyenne. Avec une croissance faible de l'industrie et un secteur industriel peu important et stagnant, il s'agit peu ou prou des pays industriels développés occidentaux.\n",
    "    - Le dernier cluster regroupe des pays peu développés : ils sont fortement agricole, leur croissance est faible, et leur agriculture (et dans une moindre mesure leur industrie) représentent une part plus importante de leur PIB que dans les autres pays. \n",
    "    \n",
    "Cette analyse à cinq clusters reste assez peu stable, mais elle permet de raffiner un peu l'analyse contrairement aux analyses avec moins de clusters. Celle en deux cluster oppose les pays développés (caricaturalement les pays occidentaux) aux pays en cours de développement. Et celle à trois clusters conserve un cluster pays développé (très stable quelque soit le nombre de clusters) et divise le cluster des pays moins développés entre ceux qui ont eu une forte croissance et ceux qui restent encore peu avanccés. On met les graphiques ci-dessous :"
   ]
  },
  {
   "cell_type": "markdown",
   "metadata": {},
   "source": [
    "### On refait une analyse enconservant les variables sur l'énergie, mais en supprimant celles sur les secteurs d'activité"
   ]
  },
  {
   "cell_type": "markdown",
   "metadata": {},
   "source": [
    "On a réussi à obtenir des résultats sur un échantillon plus grand, mais en supprimant certaines variables qui nous intéressaient, puisqu'eles portaient sur l'énergie. On cherche à voir si on peut retrouver ces résultats en conservant ces données, mais en supprimant celles portant sur les secteurs d'activité afin d'avoir un échantilllon plus important."
   ]
  },
  {
   "cell_type": "code",
   "execution_count": 302,
   "metadata": {},
   "outputs": [
    {
     "data": {
      "text/plain": [
       "(82, 12)"
      ]
     },
     "execution_count": 302,
     "metadata": {},
     "output_type": "execute_result"
    }
   ],
   "source": [
    "data_set_3=data.drop(['Average Growth Rate_Agriculture, forestry, and fishing, value added (% of GDP)',\n",
    "                  'Average Growth Rate_Industry (including construction), value added (% of GDP)',\n",
    "                  '2000_Agriculture, forestry, and fishing, value added (% of GDP)',\n",
    "                  '2000_Industry (including construction), value added (% of GDP)'],axis=1)\n",
    "data_set_3=data_set_3.dropna()\n",
    "data_set_3.shape"
   ]
  },
  {
   "cell_type": "markdown",
   "metadata": {},
   "source": [
    "On a cette fois-ci un nombre de pays supérieur à notre base initiale, mais quand même inférieur à la base précédemment créée."
   ]
  },
  {
   "cell_type": "code",
   "execution_count": 305,
   "metadata": {},
   "outputs": [
    {
     "data": {
      "image/png": "[encoded data removed]",
      "text/plain": [
       "<Figure size 432x288 with 1 Axes>"
      ]
     },
     "metadata": {
      "needs_background": "light"
     },
     "output_type": "display_data"
    },
    {
     "data": {
      "image/png": "[encoded data removed]",
      "text/plain": [
       "<Figure size 432x288 with 1 Axes>"
      ]
     },
     "metadata": {
      "needs_background": "light"
     },
     "output_type": "display_data"
    },
    {
     "data": {
      "image/png": "[encoded data removed]",
      "text/plain": [
       "<Figure size 432x288 with 1 Axes>"
      ]
     },
     "metadata": {
      "needs_background": "light"
     },
     "output_type": "display_data"
    },
    {
     "data": {
      "text/html": [
       "<div>\n",
       "<style scoped>\n",
       "    .dataframe tbody tr th:only-of-type {\n",
       "        vertical-align: middle;\n",
       "    }\n",
       "\n",
       "    .dataframe tbody tr th {\n",
       "        vertical-align: top;\n",
       "    }\n",
       "\n",
       "    .dataframe thead th {\n",
       "        text-align: right;\n",
       "    }\n",
       "</style>\n",
       "<table border=\"1\" class=\"dataframe\">\n",
       "  <thead>\n",
       "    <tr style=\"text-align: right;\">\n",
       "      <th></th>\n",
       "      <th>Average Growth Rate_GDP (current US$) par Tete</th>\n",
       "      <th>Average Growth Rate_Émissions totales de GES (kt d’équivalent CO2) par Tete</th>\n",
       "      <th>Average Growth Rate_Alternative and nuclear energy (% of total energy use)</th>\n",
       "      <th>Average Growth Rate_Energy use (kg of oil equivalent per capita)</th>\n",
       "      <th>2000_GDP (current US$) par Tete</th>\n",
       "      <th>2000_Émissions totales de GES (kt d’équivalent CO2) par Tete</th>\n",
       "      <th>2000_Alternative and nuclear energy (% of total energy use)</th>\n",
       "      <th>2000_Energy use (kg of oil equivalent per capita)</th>\n",
       "      <th>Coefficient de _GDP (current US$) par Tete sur _Émissions totales de GES (kt d’équivalent CO2) par Tete</th>\n",
       "      <th>R2 de _GDP (current US$) par Tete sur _Émissions totales de GES (kt d’équivalent CO2) par Tete</th>\n",
       "      <th>Coefficient de _GDP (current US$) par Tete sur _Energy use (kg of oil equivalent per capita)</th>\n",
       "      <th>R2 de _GDP (current US$) par Tete sur _Energy use (kg of oil equivalent per capita)</th>\n",
       "      <th>Cluster</th>\n",
       "    </tr>\n",
       "  </thead>\n",
       "  <tbody>\n",
       "    <tr>\n",
       "      <th>Centroid 0</th>\n",
       "      <td>-0.027435</td>\n",
       "      <td>0.160944</td>\n",
       "      <td>-0.152678</td>\n",
       "      <td>0.198076</td>\n",
       "      <td>-0.426557</td>\n",
       "      <td>-0.291768</td>\n",
       "      <td>-0.340112</td>\n",
       "      <td>-0.459276</td>\n",
       "      <td>0.343863</td>\n",
       "      <td>-0.055951</td>\n",
       "      <td>0.109952</td>\n",
       "      <td>0.251935</td>\n",
       "      <td>0.0</td>\n",
       "    </tr>\n",
       "    <tr>\n",
       "      <th>Centroid 1</th>\n",
       "      <td>0.085049</td>\n",
       "      <td>-0.498926</td>\n",
       "      <td>0.473303</td>\n",
       "      <td>-0.614035</td>\n",
       "      <td>1.322327</td>\n",
       "      <td>0.904479</td>\n",
       "      <td>1.054348</td>\n",
       "      <td>1.423755</td>\n",
       "      <td>-1.065977</td>\n",
       "      <td>0.173447</td>\n",
       "      <td>-0.340851</td>\n",
       "      <td>-0.780998</td>\n",
       "      <td>1.0</td>\n",
       "    </tr>\n",
       "  </tbody>\n",
       "</table>\n",
       "</div>"
      ],
      "text/plain": [
       "            Average Growth Rate_GDP (current US$) par Tete  \\\n",
       "Centroid 0                                       -0.027435   \n",
       "Centroid 1                                        0.085049   \n",
       "\n",
       "            Average Growth Rate_Émissions totales de GES (kt d’équivalent CO2) par Tete  \\\n",
       "Centroid 0                                           0.160944                             \n",
       "Centroid 1                                          -0.498926                             \n",
       "\n",
       "            Average Growth Rate_Alternative and nuclear energy (% of total energy use)  \\\n",
       "Centroid 0                                          -0.152678                            \n",
       "Centroid 1                                           0.473303                            \n",
       "\n",
       "            Average Growth Rate_Energy use (kg of oil equivalent per capita)  \\\n",
       "Centroid 0                                           0.198076                  \n",
       "Centroid 1                                          -0.614035                  \n",
       "\n",
       "            2000_GDP (current US$) par Tete  \\\n",
       "Centroid 0                        -0.426557   \n",
       "Centroid 1                         1.322327   \n",
       "\n",
       "            2000_Émissions totales de GES (kt d’équivalent CO2) par Tete  \\\n",
       "Centroid 0                                          -0.291768              \n",
       "Centroid 1                                           0.904479              \n",
       "\n",
       "            2000_Alternative and nuclear energy (% of total energy use)  \\\n",
       "Centroid 0                                          -0.340112             \n",
       "Centroid 1                                           1.054348             \n",
       "\n",
       "            2000_Energy use (kg of oil equivalent per capita)  \\\n",
       "Centroid 0                                          -0.459276   \n",
       "Centroid 1                                           1.423755   \n",
       "\n",
       "            Coefficient de _GDP (current US$) par Tete sur _Émissions totales de GES (kt d’équivalent CO2) par Tete  \\\n",
       "Centroid 0                                           0.343863                                                         \n",
       "Centroid 1                                          -1.065977                                                         \n",
       "\n",
       "            R2 de _GDP (current US$) par Tete sur _Émissions totales de GES (kt d’équivalent CO2) par Tete  \\\n",
       "Centroid 0                                          -0.055951                                                \n",
       "Centroid 1                                           0.173447                                                \n",
       "\n",
       "            Coefficient de _GDP (current US$) par Tete sur _Energy use (kg of oil equivalent per capita)  \\\n",
       "Centroid 0                                           0.109952                                              \n",
       "Centroid 1                                          -0.340851                                              \n",
       "\n",
       "            R2 de _GDP (current US$) par Tete sur _Energy use (kg of oil equivalent per capita)  \\\n",
       "Centroid 0                                           0.251935                                     \n",
       "Centroid 1                                          -0.780998                                     \n",
       "\n",
       "            Cluster  \n",
       "Centroid 0      0.0  \n",
       "Centroid 1      1.0  "
      ]
     },
     "execution_count": 305,
     "metadata": {},
     "output_type": "execute_result"
    }
   ],
   "source": [
    "A,dic,axis=get_cluster_ACP(2,data_set_3,graph_k_means=True,graph_ACP=True)\n",
    "A.tail(2)"
   ]
  },
  {
   "cell_type": "markdown",
   "metadata": {},
   "source": [
    "En ce qui concerne l'ACP, notre premier axe permet d'expliquer une grande part de la variance, et le deuxième apporte une contribution honorable. Notre représentation graphique devrait donc avoir du sens.\n",
    "En revanche, il est toujours difficile de trouver un bon nombre de clusters en se basant sur l'inertie intraclasse.\n",
    "\n",
    "On retrouve deux clusters la séparation entre pays riches et polluants d'une part, et les pays en cours de développement d'auttre part. Un des facteurs de séparation est toutefois l'élasticité énergétique du PIB. On voit ici que le centroïde correspondant au cluster des pays développés à des coefficients assez négatifs en ce qui concerne les coefficients des régressions, ainsi que le R² de la seconde régression. On voit donc que la production des pays développés est moins corrélée que celle des autres pays aux énergies utilisées, ainsi qu'à la quantité de GES émise. On pourrait expiquer cela par un niveau de développement plus avancé et donc à la fois une économie déjà assez industrialisée et surtout une part d'énergie alternative significativement au-dessus de la moyenne.\n",
    "\n",
    "Ce dernier résultat est donc assez solide, puisqu'on le retrouve avec toutes nos bases jusqu'à présent. On va chercher à voir, avec plus de clusters, s'il est possible de raffiner cette analyse au niveau des pays en développement."
   ]
  },
  {
   "cell_type": "code",
   "execution_count": 382,
   "metadata": {},
   "outputs": [
    {
     "data": {
      "image/png": "[encoded data removed]",
      "text/plain": [
       "<Figure size 432x288 with 1 Axes>"
      ]
     },
     "metadata": {
      "needs_background": "light"
     },
     "output_type": "display_data"
    },
    {
     "data": {
      "text/html": [
       "<div>\n",
       "<style scoped>\n",
       "    .dataframe tbody tr th:only-of-type {\n",
       "        vertical-align: middle;\n",
       "    }\n",
       "\n",
       "    .dataframe tbody tr th {\n",
       "        vertical-align: top;\n",
       "    }\n",
       "\n",
       "    .dataframe thead th {\n",
       "        text-align: right;\n",
       "    }\n",
       "</style>\n",
       "<table border=\"1\" class=\"dataframe\">\n",
       "  <thead>\n",
       "    <tr style=\"text-align: right;\">\n",
       "      <th></th>\n",
       "      <th>Average Growth Rate_GDP (current US$) par Tete</th>\n",
       "      <th>Average Growth Rate_Émissions totales de GES (kt d’équivalent CO2) par Tete</th>\n",
       "      <th>Average Growth Rate_Alternative and nuclear energy (% of total energy use)</th>\n",
       "      <th>Average Growth Rate_Energy use (kg of oil equivalent per capita)</th>\n",
       "      <th>2000_GDP (current US$) par Tete</th>\n",
       "      <th>2000_Émissions totales de GES (kt d’équivalent CO2) par Tete</th>\n",
       "      <th>2000_Alternative and nuclear energy (% of total energy use)</th>\n",
       "      <th>2000_Energy use (kg of oil equivalent per capita)</th>\n",
       "      <th>Coefficient de _GDP (current US$) par Tete sur _Émissions totales de GES (kt d’équivalent CO2) par Tete</th>\n",
       "      <th>R2 de _GDP (current US$) par Tete sur _Émissions totales de GES (kt d’équivalent CO2) par Tete</th>\n",
       "      <th>Coefficient de _GDP (current US$) par Tete sur _Energy use (kg of oil equivalent per capita)</th>\n",
       "      <th>R2 de _GDP (current US$) par Tete sur _Energy use (kg of oil equivalent per capita)</th>\n",
       "      <th>Cluster</th>\n",
       "    </tr>\n",
       "  </thead>\n",
       "  <tbody>\n",
       "    <tr>\n",
       "      <th>ZMB</th>\n",
       "      <td>-1.333725</td>\n",
       "      <td>-0.500974</td>\n",
       "      <td>-0.890624</td>\n",
       "      <td>-1.101673</td>\n",
       "      <td>-0.725765</td>\n",
       "      <td>2.215465</td>\n",
       "      <td>0.008550</td>\n",
       "      <td>-0.666205</td>\n",
       "      <td>0.110394</td>\n",
       "      <td>-1.252929</td>\n",
       "      <td>-0.719448</td>\n",
       "      <td>-1.481824</td>\n",
       "      <td>0.0</td>\n",
       "    </tr>\n",
       "    <tr>\n",
       "      <th>Centroid 0</th>\n",
       "      <td>-0.480735</td>\n",
       "      <td>-0.459852</td>\n",
       "      <td>-0.153801</td>\n",
       "      <td>-0.564275</td>\n",
       "      <td>-0.548255</td>\n",
       "      <td>-0.177313</td>\n",
       "      <td>-0.319889</td>\n",
       "      <td>-0.523228</td>\n",
       "      <td>0.105756</td>\n",
       "      <td>-0.736585</td>\n",
       "      <td>-0.076958</td>\n",
       "      <td>-0.533457</td>\n",
       "      <td>0.0</td>\n",
       "    </tr>\n",
       "    <tr>\n",
       "      <th>Centroid 1</th>\n",
       "      <td>0.398592</td>\n",
       "      <td>0.713043</td>\n",
       "      <td>-0.094837</td>\n",
       "      <td>0.884026</td>\n",
       "      <td>-0.408309</td>\n",
       "      <td>-0.410020</td>\n",
       "      <td>-0.333386</td>\n",
       "      <td>-0.424642</td>\n",
       "      <td>0.496617</td>\n",
       "      <td>0.509664</td>\n",
       "      <td>0.227780</td>\n",
       "      <td>0.926716</td>\n",
       "      <td>1.0</td>\n",
       "    </tr>\n",
       "    <tr>\n",
       "      <th>Centroid 2</th>\n",
       "      <td>0.227867</td>\n",
       "      <td>-0.634011</td>\n",
       "      <td>1.093589</td>\n",
       "      <td>-1.049924</td>\n",
       "      <td>1.521486</td>\n",
       "      <td>0.583289</td>\n",
       "      <td>0.954767</td>\n",
       "      <td>1.218837</td>\n",
       "      <td>-1.453690</td>\n",
       "      <td>0.672874</td>\n",
       "      <td>-1.846975</td>\n",
       "      <td>-1.150736</td>\n",
       "      <td>2.0</td>\n",
       "    </tr>\n",
       "    <tr>\n",
       "      <th>Centroid 3</th>\n",
       "      <td>-0.034882</td>\n",
       "      <td>-0.301428</td>\n",
       "      <td>-0.199407</td>\n",
       "      <td>-0.173752</td>\n",
       "      <td>1.438197</td>\n",
       "      <td>1.199132</td>\n",
       "      <td>1.061102</td>\n",
       "      <td>1.665075</td>\n",
       "      <td>-0.543748</td>\n",
       "      <td>-0.024324</td>\n",
       "      <td>1.058412</td>\n",
       "      <td>-0.299506</td>\n",
       "      <td>3.0</td>\n",
       "    </tr>\n",
       "  </tbody>\n",
       "</table>\n",
       "</div>"
      ],
      "text/plain": [
       "            Average Growth Rate_GDP (current US$) par Tete  \\\n",
       "ZMB                                              -1.333725   \n",
       "Centroid 0                                       -0.480735   \n",
       "Centroid 1                                        0.398592   \n",
       "Centroid 2                                        0.227867   \n",
       "Centroid 3                                       -0.034882   \n",
       "\n",
       "            Average Growth Rate_Émissions totales de GES (kt d’équivalent CO2) par Tete  \\\n",
       "ZMB                                                 -0.500974                             \n",
       "Centroid 0                                          -0.459852                             \n",
       "Centroid 1                                           0.713043                             \n",
       "Centroid 2                                          -0.634011                             \n",
       "Centroid 3                                          -0.301428                             \n",
       "\n",
       "            Average Growth Rate_Alternative and nuclear energy (% of total energy use)  \\\n",
       "ZMB                                                 -0.890624                            \n",
       "Centroid 0                                          -0.153801                            \n",
       "Centroid 1                                          -0.094837                            \n",
       "Centroid 2                                           1.093589                            \n",
       "Centroid 3                                          -0.199407                            \n",
       "\n",
       "            Average Growth Rate_Energy use (kg of oil equivalent per capita)  \\\n",
       "ZMB                                                 -1.101673                  \n",
       "Centroid 0                                          -0.564275                  \n",
       "Centroid 1                                           0.884026                  \n",
       "Centroid 2                                          -1.049924                  \n",
       "Centroid 3                                          -0.173752                  \n",
       "\n",
       "            2000_GDP (current US$) par Tete  \\\n",
       "ZMB                               -0.725765   \n",
       "Centroid 0                        -0.548255   \n",
       "Centroid 1                        -0.408309   \n",
       "Centroid 2                         1.521486   \n",
       "Centroid 3                         1.438197   \n",
       "\n",
       "            2000_Émissions totales de GES (kt d’équivalent CO2) par Tete  \\\n",
       "ZMB                                                  2.215465              \n",
       "Centroid 0                                          -0.177313              \n",
       "Centroid 1                                          -0.410020              \n",
       "Centroid 2                                           0.583289              \n",
       "Centroid 3                                           1.199132              \n",
       "\n",
       "            2000_Alternative and nuclear energy (% of total energy use)  \\\n",
       "ZMB                                                  0.008550             \n",
       "Centroid 0                                          -0.319889             \n",
       "Centroid 1                                          -0.333386             \n",
       "Centroid 2                                           0.954767             \n",
       "Centroid 3                                           1.061102             \n",
       "\n",
       "            2000_Energy use (kg of oil equivalent per capita)  \\\n",
       "ZMB                                                 -0.666205   \n",
       "Centroid 0                                          -0.523228   \n",
       "Centroid 1                                          -0.424642   \n",
       "Centroid 2                                           1.218837   \n",
       "Centroid 3                                           1.665075   \n",
       "\n",
       "            Coefficient de _GDP (current US$) par Tete sur _Émissions totales de GES (kt d’équivalent CO2) par Tete  \\\n",
       "ZMB                                                  0.110394                                                         \n",
       "Centroid 0                                           0.105756                                                         \n",
       "Centroid 1                                           0.496617                                                         \n",
       "Centroid 2                                          -1.453690                                                         \n",
       "Centroid 3                                          -0.543748                                                         \n",
       "\n",
       "            R2 de _GDP (current US$) par Tete sur _Émissions totales de GES (kt d’équivalent CO2) par Tete  \\\n",
       "ZMB                                                 -1.252929                                                \n",
       "Centroid 0                                          -0.736585                                                \n",
       "Centroid 1                                           0.509664                                                \n",
       "Centroid 2                                           0.672874                                                \n",
       "Centroid 3                                          -0.024324                                                \n",
       "\n",
       "            Coefficient de _GDP (current US$) par Tete sur _Energy use (kg of oil equivalent per capita)  \\\n",
       "ZMB                                                 -0.719448                                              \n",
       "Centroid 0                                          -0.076958                                              \n",
       "Centroid 1                                           0.227780                                              \n",
       "Centroid 2                                          -1.846975                                              \n",
       "Centroid 3                                           1.058412                                              \n",
       "\n",
       "            R2 de _GDP (current US$) par Tete sur _Energy use (kg of oil equivalent per capita)  \\\n",
       "ZMB                                                 -1.481824                                     \n",
       "Centroid 0                                          -0.533457                                     \n",
       "Centroid 1                                           0.926716                                     \n",
       "Centroid 2                                          -1.150736                                     \n",
       "Centroid 3                                          -0.299506                                     \n",
       "\n",
       "            Cluster  \n",
       "ZMB             0.0  \n",
       "Centroid 0      0.0  \n",
       "Centroid 1      1.0  \n",
       "Centroid 2      2.0  \n",
       "Centroid 3      3.0  "
      ]
     },
     "execution_count": 382,
     "metadata": {},
     "output_type": "execute_result"
    }
   ],
   "source": [
    "A,dic,axis=get_cluster_ACP(4,data_set_3, seed = 2)\n",
    "A.tail()"
   ]
  },
  {
   "cell_type": "code",
   "execution_count": 383,
   "metadata": {},
   "outputs": [
    {
     "name": "stdout",
     "output_type": "stream",
     "text": [
      "{'Cluster0': ['AGO', 'ALB', 'ARG', 'BGR', 'CIV', 'CMR', 'COD', 'COG', 'COL', 'CUB', 'ETH', 'GAB', 'GHA', 'HND', 'HTI', 'ITA', 'JAM', 'KEN', 'MEX', 'NGA', 'NIC', 'PER', 'PHL', 'POL', 'PRY', 'ROU', 'SDN', 'TGO', 'VEN', 'ZMB', 'black'], 'Cluster1': ['AUT', 'BGD', 'BOL', 'BRA', 'BWA', 'CHL', 'CHN', 'CRI', 'DOM', 'DZA', 'ECU', 'EGY', 'ESP', 'GRC', 'GTM', 'IDN', 'IND', 'KOR', 'LKA', 'MAR', 'MYS', 'NPL', 'PAK', 'PAN', 'PRT', 'SLV', 'THA', 'TUN', 'TUR', 'TZA', 'URY', 'VNM', 'red'], 'Cluster2': ['CHE', 'CZE', 'DEU', 'DNK', 'GBR', 'LUX', 'SVK', 'SWE', 'USA', 'royalblue'], 'Cluster3': ['AUS', 'BEL', 'CAN', 'FIN', 'FRA', 'IRL', 'ISL', 'JPN', 'NLD', 'NOR', 'NZL', 'forestgreen']}\n"
     ]
    }
   ],
   "source": [
    "print(dic)"
   ]
  },
  {
   "cell_type": "markdown",
   "metadata": {},
   "source": [
    "Avec trois clusters, on a tendance à retrouver la même partition que dans notre modèle précédent.Les pays développés restent dans un même cluster. Les pays qui ont eu un rattrappage dans le développement qui est passé par une forte utilisation d'énergie et une forte émission de GES forment un second cluster, et les pays dont le développement est moins marqué forment un troisième cluster.\n",
    "\n",
    "En revanche, la structure à qutre cluster que l'on retrouve avec la seed 2 est assez récurrente, et permet de faire une distinction supplémentaire parmi les pays développés au prix d'une plus forte instabilité de la séparation entre les deux clusters des pays en développement. \n",
    "\n",
    "Le cluster 2 est un cluster où les pays ont une évolution moins importante de l'utilisation de l'énergie que les autres pays développés. L'évolution de leurs émissions est en moyenne inférieur aussi, et au contraire il s'agit de pays qui ont beaucoup développé leur utilisation d'énergies alternatives sur la période même si en 2000 elle restait plus faible. Si l'on regarde les coefficients de nos régressions, il s'git de pays dont la production est beaucoup moins dépendante de la consommation d'énergie que les autres. C'est la premùière fois que l'on arrive à obtenir ces résultats, mais ils ne ssont pas totalement stable. De plus, on peut s'étonner de retrouver des pays comme l'Allemagne ou les USA dans ce cluster des pays \"modèles\" en terme d'élasticité énergétique de la croissance."
   ]
  },
  {
   "cell_type": "markdown",
   "metadata": {},
   "source": [
    "## On enlève les valeurs en 2000 pour n'avoir que des évolutions."
   ]
  },
  {
   "cell_type": "markdown",
   "metadata": {},
   "source": [
    "Pour se concentrer davantage sur ces sentiers de croissance, on décide de ne plus conserver les valeurs de nos variables en 2000. On espère voir davantage les clusters se concentrer sur les évolutions, et peut-être ne plus voir systématiquement apparaitre un cluster de pays riches. En revanche, comme on conserve tous nos indicateurs pour ce faire, on se retrouve sur une base avec seulement les 60 pays initiaux."
   ]
  },
  {
   "cell_type": "code",
   "execution_count": 384,
   "metadata": {},
   "outputs": [
    {
     "data": {
      "text/plain": [
       "(60, 10)"
      ]
     },
     "execution_count": 384,
     "metadata": {},
     "output_type": "execute_result"
    }
   ],
   "source": [
    "data_set_4=data.drop(['2000_GDP (current US$) par Tete',\n",
    "                      '2000_Émissions totales de GES (kt d’équivalent CO2) par Tete',\n",
    "                      '2000_Agriculture, forestry, and fishing, value added (% of GDP)',\n",
    "                      '2000_Industry (including construction), value added (% of GDP)',\n",
    "                      '2000_Alternative and nuclear energy (% of total energy use)',\n",
    "                      '2000_Energy use (kg of oil equivalent per capita)'],axis=1)\n",
    "data_set_4=data_set_4.dropna()\n",
    "data_set_4.shape"
   ]
  },
  {
   "cell_type": "code",
   "execution_count": 388,
   "metadata": {},
   "outputs": [
    {
     "data": {
      "image/png": "[encoded data removed]",
      "text/plain": [
       "<Figure size 432x288 with 1 Axes>"
      ]
     },
     "metadata": {
      "needs_background": "light"
     },
     "output_type": "display_data"
    },
    {
     "data": {
      "image/png": "[encoded data removed]",
      "text/plain": [
       "<Figure size 432x288 with 1 Axes>"
      ]
     },
     "metadata": {
      "needs_background": "light"
     },
     "output_type": "display_data"
    },
    {
     "data": {
      "image/png": "[encoded data removed]",
      "text/plain": [
       "<Figure size 432x288 with 1 Axes>"
      ]
     },
     "metadata": {
      "needs_background": "light"
     },
     "output_type": "display_data"
    },
    {
     "name": "stdout",
     "output_type": "stream",
     "text": [
      "{'Cluster0': ['AUT', 'BGD', 'BOL', 'BRA', 'BWA', 'CHL', 'CHN', 'CRI', 'DOM', 'ECU', 'EGY', 'GTM', 'IDN', 'IND', 'KOR', 'LKA', 'MAR', 'MYS', 'NPL', 'PAK', 'PAN', 'SLV', 'THA', 'TUN', 'TUR', 'URY', 'VNM', 'black'], 'Cluster1': ['ARG', 'AUS', 'BGR', 'CHE', 'CIV', 'CMR', 'COG', 'COL', 'CUB', 'DNK', 'ETH', 'FIN', 'FRA', 'GAB', 'GBR', 'GHA', 'HND', 'HTI', 'ITA', 'KEN', 'MEX', 'NGA', 'NLD', 'NOR', 'NZL', 'PHL', 'PRY', 'ROU', 'SDN', 'SWE', 'TGO', 'VEN', 'ZMB', 'red']}\n"
     ]
    },
    {
     "data": {
      "text/html": [
       "<div>\n",
       "<style scoped>\n",
       "    .dataframe tbody tr th:only-of-type {\n",
       "        vertical-align: middle;\n",
       "    }\n",
       "\n",
       "    .dataframe tbody tr th {\n",
       "        vertical-align: top;\n",
       "    }\n",
       "\n",
       "    .dataframe thead th {\n",
       "        text-align: right;\n",
       "    }\n",
       "</style>\n",
       "<table border=\"1\" class=\"dataframe\">\n",
       "  <thead>\n",
       "    <tr style=\"text-align: right;\">\n",
       "      <th></th>\n",
       "      <th>Average Growth Rate_GDP (current US$) par Tete</th>\n",
       "      <th>Average Growth Rate_Agriculture, forestry, and fishing, value added (% of GDP)</th>\n",
       "      <th>Average Growth Rate_Industry (including construction), value added (% of GDP)</th>\n",
       "      <th>Average Growth Rate_Émissions totales de GES (kt d’équivalent CO2) par Tete</th>\n",
       "      <th>Average Growth Rate_Alternative and nuclear energy (% of total energy use)</th>\n",
       "      <th>Average Growth Rate_Energy use (kg of oil equivalent per capita)</th>\n",
       "      <th>Coefficient de _GDP (current US$) par Tete sur _Émissions totales de GES (kt d’équivalent CO2) par Tete</th>\n",
       "      <th>R2 de _GDP (current US$) par Tete sur _Émissions totales de GES (kt d’équivalent CO2) par Tete</th>\n",
       "      <th>Coefficient de _GDP (current US$) par Tete sur _Energy use (kg of oil equivalent per capita)</th>\n",
       "      <th>R2 de _GDP (current US$) par Tete sur _Energy use (kg of oil equivalent per capita)</th>\n",
       "      <th>Cluster</th>\n",
       "    </tr>\n",
       "  </thead>\n",
       "  <tbody>\n",
       "    <tr>\n",
       "      <th>Centroid 0</th>\n",
       "      <td>0.563445</td>\n",
       "      <td>-0.236609</td>\n",
       "      <td>-0.014697</td>\n",
       "      <td>0.618222</td>\n",
       "      <td>-0.010219</td>\n",
       "      <td>0.805386</td>\n",
       "      <td>0.437434</td>\n",
       "      <td>0.533207</td>\n",
       "      <td>0.167631</td>\n",
       "      <td>0.836875</td>\n",
       "      <td>0.0</td>\n",
       "    </tr>\n",
       "    <tr>\n",
       "      <th>Centroid 1</th>\n",
       "      <td>-0.461000</td>\n",
       "      <td>0.193589</td>\n",
       "      <td>0.012025</td>\n",
       "      <td>-0.505818</td>\n",
       "      <td>0.008361</td>\n",
       "      <td>-0.658952</td>\n",
       "      <td>-0.357900</td>\n",
       "      <td>-0.436260</td>\n",
       "      <td>-0.137152</td>\n",
       "      <td>-0.684716</td>\n",
       "      <td>1.0</td>\n",
       "    </tr>\n",
       "  </tbody>\n",
       "</table>\n",
       "</div>"
      ],
      "text/plain": [
       "            Average Growth Rate_GDP (current US$) par Tete  \\\n",
       "Centroid 0                                        0.563445   \n",
       "Centroid 1                                       -0.461000   \n",
       "\n",
       "            Average Growth Rate_Agriculture, forestry, and fishing, value added (% of GDP)  \\\n",
       "Centroid 0                                          -0.236609                                \n",
       "Centroid 1                                           0.193589                                \n",
       "\n",
       "            Average Growth Rate_Industry (including construction), value added (% of GDP)  \\\n",
       "Centroid 0                                          -0.014697                               \n",
       "Centroid 1                                           0.012025                               \n",
       "\n",
       "            Average Growth Rate_Émissions totales de GES (kt d’équivalent CO2) par Tete  \\\n",
       "Centroid 0                                           0.618222                             \n",
       "Centroid 1                                          -0.505818                             \n",
       "\n",
       "            Average Growth Rate_Alternative and nuclear energy (% of total energy use)  \\\n",
       "Centroid 0                                          -0.010219                            \n",
       "Centroid 1                                           0.008361                            \n",
       "\n",
       "            Average Growth Rate_Energy use (kg of oil equivalent per capita)  \\\n",
       "Centroid 0                                           0.805386                  \n",
       "Centroid 1                                          -0.658952                  \n",
       "\n",
       "            Coefficient de _GDP (current US$) par Tete sur _Émissions totales de GES (kt d’équivalent CO2) par Tete  \\\n",
       "Centroid 0                                           0.437434                                                         \n",
       "Centroid 1                                          -0.357900                                                         \n",
       "\n",
       "            R2 de _GDP (current US$) par Tete sur _Émissions totales de GES (kt d’équivalent CO2) par Tete  \\\n",
       "Centroid 0                                           0.533207                                                \n",
       "Centroid 1                                          -0.436260                                                \n",
       "\n",
       "            Coefficient de _GDP (current US$) par Tete sur _Energy use (kg of oil equivalent per capita)  \\\n",
       "Centroid 0                                           0.167631                                              \n",
       "Centroid 1                                          -0.137152                                              \n",
       "\n",
       "            R2 de _GDP (current US$) par Tete sur _Energy use (kg of oil equivalent per capita)  \\\n",
       "Centroid 0                                           0.836875                                     \n",
       "Centroid 1                                          -0.684716                                     \n",
       "\n",
       "            Cluster  \n",
       "Centroid 0      0.0  \n",
       "Centroid 1      1.0  "
      ]
     },
     "execution_count": 388,
     "metadata": {},
     "output_type": "execute_result"
    }
   ],
   "source": [
    "A,dic,axis=get_cluster_ACP(2,data_set_4,graph_ACP=True,graph_k_means=True)\n",
    "print(dic)\n",
    "A.loc[['Centroid 0', 'Centroid 1']]"
   ]
  },
  {
   "cell_type": "markdown",
   "metadata": {},
   "source": [
    "La représentation dans le plan de l'ACP semble une nouvelle fois relativement fiable au vu de la varaince expliquée par les deux premiers axes (surtout par le premier). \n",
    "\n",
    "Il est toujours aussi difficile en revanche de trouver un nombre de cluster optimal par cette méthode de l'inertie intraclasse.\n",
    "\n",
    "Cette fois-ci, lorsque l'on partitionne nos données en deux clusters, la distinction ne se fait plus selon le niveau des variables en 2000. Il s'agit au contraire de séparer d'un côté les pays qui ont eu une forte croissance, basée sur l'augmentation de l'utilisation de l'énergie par tête et des émission de GES. On retrouve ainsi des coefficients relativement importants et significatifs en ce qui concerne la régression linéaire du PIB sur ces dex indicateurs. En revanche, leur industrie et leur développement des énergies alternatives ne sont que proches de la moyenne, et le développement de l'agriculture un peu en-dessous. Le second cluster représente alors les pays qui ont une trajectoire exactement inverse.\n",
    "\n",
    "On regarde si on peut raffiner un peu plus."
   ]
  },
  {
   "cell_type": "code",
   "execution_count": 575,
   "metadata": {},
   "outputs": [
    {
     "data": {
      "image/png": "[encoded data removed]",
      "text/plain": [
       "<Figure size 432x288 with 1 Axes>"
      ]
     },
     "metadata": {
      "needs_background": "light"
     },
     "output_type": "display_data"
    },
    {
     "name": "stdout",
     "output_type": "stream",
     "text": [
      "{'Cluster0': ['BGR', 'CHE', 'CMR', 'COL', 'CUB', 'DNK', 'FRA', 'GBR', 'GHA', 'PHL', 'PRY', 'ROU', 'SDN', 'SWE', 'ZMB', 'black'], 'Cluster1': ['AUT', 'BWA', 'CHL', 'CHN', 'DOM', 'EGY', 'IND', 'KOR', 'LKA', 'MAR', 'PAK', 'PAN', 'SLV', 'THA', 'TUN', 'TUR', 'VNM', 'red'], 'Cluster2': ['ARG', 'AUS', 'BGD', 'BOL', 'BRA', 'CIV', 'COG', 'CRI', 'ECU', 'ETH', 'FIN', 'GAB', 'GTM', 'HND', 'HTI', 'IDN', 'ITA', 'KEN', 'MEX', 'MYS', 'NGA', 'NLD', 'NOR', 'NPL', 'NZL', 'TGO', 'URY', 'VEN', 'royalblue']}\n"
     ]
    },
    {
     "data": {
      "text/html": [
       "<div>\n",
       "<style scoped>\n",
       "    .dataframe tbody tr th:only-of-type {\n",
       "        vertical-align: middle;\n",
       "    }\n",
       "\n",
       "    .dataframe tbody tr th {\n",
       "        vertical-align: top;\n",
       "    }\n",
       "\n",
       "    .dataframe thead th {\n",
       "        text-align: right;\n",
       "    }\n",
       "</style>\n",
       "<table border=\"1\" class=\"dataframe\">\n",
       "  <thead>\n",
       "    <tr style=\"text-align: right;\">\n",
       "      <th></th>\n",
       "      <th>Average Growth Rate_GDP (current US$) par Tete</th>\n",
       "      <th>Average Growth Rate_Agriculture, forestry, and fishing, value added (% of GDP)</th>\n",
       "      <th>Average Growth Rate_Industry (including construction), value added (% of GDP)</th>\n",
       "      <th>Average Growth Rate_Émissions totales de GES (kt d’équivalent CO2) par Tete</th>\n",
       "      <th>Average Growth Rate_Alternative and nuclear energy (% of total energy use)</th>\n",
       "      <th>Average Growth Rate_Energy use (kg of oil equivalent per capita)</th>\n",
       "      <th>Coefficient de _GDP (current US$) par Tete sur _Émissions totales de GES (kt d’équivalent CO2) par Tete</th>\n",
       "      <th>R2 de _GDP (current US$) par Tete sur _Émissions totales de GES (kt d’équivalent CO2) par Tete</th>\n",
       "      <th>Coefficient de _GDP (current US$) par Tete sur _Energy use (kg of oil equivalent per capita)</th>\n",
       "      <th>R2 de _GDP (current US$) par Tete sur _Energy use (kg of oil equivalent per capita)</th>\n",
       "      <th>Cluster</th>\n",
       "    </tr>\n",
       "  </thead>\n",
       "  <tbody>\n",
       "    <tr>\n",
       "      <th>Centroid 0</th>\n",
       "      <td>-0.350320</td>\n",
       "      <td>-0.481203</td>\n",
       "      <td>-0.003116</td>\n",
       "      <td>-0.503823</td>\n",
       "      <td>0.398815</td>\n",
       "      <td>-1.062503</td>\n",
       "      <td>-0.656798</td>\n",
       "      <td>-0.075712</td>\n",
       "      <td>-1.078421</td>\n",
       "      <td>-1.407172</td>\n",
       "      <td>0.0</td>\n",
       "    </tr>\n",
       "    <tr>\n",
       "      <th>Centroid 1</th>\n",
       "      <td>0.760603</td>\n",
       "      <td>-0.396542</td>\n",
       "      <td>0.033453</td>\n",
       "      <td>0.987399</td>\n",
       "      <td>-0.041275</td>\n",
       "      <td>0.899536</td>\n",
       "      <td>0.639208</td>\n",
       "      <td>1.238807</td>\n",
       "      <td>0.161698</td>\n",
       "      <td>0.805072</td>\n",
       "      <td>1.0</td>\n",
       "    </tr>\n",
       "    <tr>\n",
       "      <th>Centroid 2</th>\n",
       "      <td>-0.274123</td>\n",
       "      <td>0.498545</td>\n",
       "      <td>-0.018642</td>\n",
       "      <td>-0.329587</td>\n",
       "      <td>-0.188591</td>\n",
       "      <td>0.023051</td>\n",
       "      <td>-0.036235</td>\n",
       "      <td>-0.711573</td>\n",
       "      <td>0.479552</td>\n",
       "      <td>0.265049</td>\n",
       "      <td>2.0</td>\n",
       "    </tr>\n",
       "  </tbody>\n",
       "</table>\n",
       "</div>"
      ],
      "text/plain": [
       "            Average Growth Rate_GDP (current US$) par Tete  \\\n",
       "Centroid 0                                       -0.350320   \n",
       "Centroid 1                                        0.760603   \n",
       "Centroid 2                                       -0.274123   \n",
       "\n",
       "            Average Growth Rate_Agriculture, forestry, and fishing, value added (% of GDP)  \\\n",
       "Centroid 0                                          -0.481203                                \n",
       "Centroid 1                                          -0.396542                                \n",
       "Centroid 2                                           0.498545                                \n",
       "\n",
       "            Average Growth Rate_Industry (including construction), value added (% of GDP)  \\\n",
       "Centroid 0                                          -0.003116                               \n",
       "Centroid 1                                           0.033453                               \n",
       "Centroid 2                                          -0.018642                               \n",
       "\n",
       "            Average Growth Rate_Émissions totales de GES (kt d’équivalent CO2) par Tete  \\\n",
       "Centroid 0                                          -0.503823                             \n",
       "Centroid 1                                           0.987399                             \n",
       "Centroid 2                                          -0.329587                             \n",
       "\n",
       "            Average Growth Rate_Alternative and nuclear energy (% of total energy use)  \\\n",
       "Centroid 0                                           0.398815                            \n",
       "Centroid 1                                          -0.041275                            \n",
       "Centroid 2                                          -0.188591                            \n",
       "\n",
       "            Average Growth Rate_Energy use (kg of oil equivalent per capita)  \\\n",
       "Centroid 0                                          -1.062503                  \n",
       "Centroid 1                                           0.899536                  \n",
       "Centroid 2                                           0.023051                  \n",
       "\n",
       "            Coefficient de _GDP (current US$) par Tete sur _Émissions totales de GES (kt d’équivalent CO2) par Tete  \\\n",
       "Centroid 0                                          -0.656798                                                         \n",
       "Centroid 1                                           0.639208                                                         \n",
       "Centroid 2                                          -0.036235                                                         \n",
       "\n",
       "            R2 de _GDP (current US$) par Tete sur _Émissions totales de GES (kt d’équivalent CO2) par Tete  \\\n",
       "Centroid 0                                          -0.075712                                                \n",
       "Centroid 1                                           1.238807                                                \n",
       "Centroid 2                                          -0.711573                                                \n",
       "\n",
       "            Coefficient de _GDP (current US$) par Tete sur _Energy use (kg of oil equivalent per capita)  \\\n",
       "Centroid 0                                          -1.078421                                              \n",
       "Centroid 1                                           0.161698                                              \n",
       "Centroid 2                                           0.479552                                              \n",
       "\n",
       "            R2 de _GDP (current US$) par Tete sur _Energy use (kg of oil equivalent per capita)  \\\n",
       "Centroid 0                                          -1.407172                                     \n",
       "Centroid 1                                           0.805072                                     \n",
       "Centroid 2                                           0.265049                                     \n",
       "\n",
       "            Cluster  \n",
       "Centroid 0      0.0  \n",
       "Centroid 1      1.0  \n",
       "Centroid 2      2.0  "
      ]
     },
     "execution_count": 575,
     "metadata": {},
     "output_type": "execute_result"
    }
   ],
   "source": [
    "A,dic,axis=get_cluster_ACP(3,data_set_4, seed = 1)\n",
    "print(dic)\n",
    "A.tail(3)"
   ]
  },
  {
   "cell_type": "markdown",
   "metadata": {},
   "source": [
    "La structure à trois clusters est relativement stable aussi, on identifie trois groupes de pays relativement satbles, avec seulement quatre ou cinq pays qui changent de groupes d'une fois sur l'autre. Ici, avec la graine 1, cela donne :\n",
    "\n",
    "Le cluster 0 comprend les pays qui ont une corissance économique relativement lente, avec notamment une agriculture peu dynamique. Il s'agit surtout d'un groupe de pays où 'utilisation d'énergie, et dans une moindre mesure les émissions de GES, croit moins vite que dans les autres pays. On y voit que le PIB ne dépend que très peu de l'utilisation d'énergie ou de la production de GES. Il s'agit donc de pays ayant pour la plupart atteit un niveau de développement assez élevé (ou pour les autres qui stagnent, comme le Ghana), et qui semblent plafonner. Toutefois, cela se traduit par une plus faible émission de GES, ce qui est une bonne nouvelle. Certains points restent bien isolés quand on augmente le nombre de clusters (notamment la Suède, la Suisse, la Grande Bretagne, le Danemark, la Roumanie, la Bulgarie et la Colombie).\n",
    "\n",
    "Le cluster 1 est assez semblable au cluster des pays au développement économique fort et polluant que l'on retrouvait à deux clusters. On y retrouve des pays qui correspondent bien à cette définition, comme la Chine, la Corée, la Turquie ou l'Autriche. \n",
    "\n",
    "Le cluster 2 regroupe des pays au développement plus incertain. La croissance économique est inférieure à la moyenne, et la seule évolution significativement au-dessus de la moyenne est celle de l'agriculture. Il s'agit en fait d'un cluster très dur à interpréter, qui est souvent divisé en deux ou trois lorsque le nombre de clusters augmente. On y retrouve des pays ausssi différent apparemment que la Nouvelle Zélande, l'Italie, l'Éthiopie et l'Uruguay. \n",
    "\n"
   ]
  },
  {
   "cell_type": "code",
   "execution_count": 577,
   "metadata": {},
   "outputs": [
    {
     "data": {
      "image/png": "[encoded data removed]",
      "text/plain": [
       "<Figure size 432x288 with 1 Axes>"
      ]
     },
     "metadata": {
      "needs_background": "light"
     },
     "output_type": "display_data"
    },
    {
     "name": "stdout",
     "output_type": "stream",
     "text": [
      "{'Cluster0': ['BGR', 'CHE', 'COL', 'DNK', 'GBR', 'ROU', 'SWE', 'black'], 'Cluster1': ['ARG', 'AUS', 'BOL', 'BRA', 'CRI', 'ECU', 'FIN', 'FRA', 'GAB', 'GTM', 'IDN', 'ITA', 'KEN', 'MEX', 'NGA', 'NLD', 'NOR', 'NPL', 'NZL', 'TGO', 'URY', 'VEN', 'red'], 'Cluster2': ['AUT', 'BGD', 'BWA', 'CHL', 'CHN', 'DOM', 'EGY', 'IND', 'KOR', 'LKA', 'MAR', 'MYS', 'PAK', 'PAN', 'SLV', 'THA', 'TUN', 'TUR', 'VNM', 'royalblue'], 'Cluster3': ['CIV', 'CMR', 'COG', 'CUB', 'ETH', 'GHA', 'HND', 'HTI', 'PHL', 'PRY', 'SDN', 'ZMB', 'forestgreen']}\n"
     ]
    },
    {
     "data": {
      "text/html": [
       "<div>\n",
       "<style scoped>\n",
       "    .dataframe tbody tr th:only-of-type {\n",
       "        vertical-align: middle;\n",
       "    }\n",
       "\n",
       "    .dataframe tbody tr th {\n",
       "        vertical-align: top;\n",
       "    }\n",
       "\n",
       "    .dataframe thead th {\n",
       "        text-align: right;\n",
       "    }\n",
       "</style>\n",
       "<table border=\"1\" class=\"dataframe\">\n",
       "  <thead>\n",
       "    <tr style=\"text-align: right;\">\n",
       "      <th></th>\n",
       "      <th>Average Growth Rate_GDP (current US$) par Tete</th>\n",
       "      <th>Average Growth Rate_Agriculture, forestry, and fishing, value added (% of GDP)</th>\n",
       "      <th>Average Growth Rate_Industry (including construction), value added (% of GDP)</th>\n",
       "      <th>Average Growth Rate_Émissions totales de GES (kt d’équivalent CO2) par Tete</th>\n",
       "      <th>Average Growth Rate_Alternative and nuclear energy (% of total energy use)</th>\n",
       "      <th>Average Growth Rate_Energy use (kg of oil equivalent per capita)</th>\n",
       "      <th>Coefficient de _GDP (current US$) par Tete sur _Émissions totales de GES (kt d’équivalent CO2) par Tete</th>\n",
       "      <th>R2 de _GDP (current US$) par Tete sur _Émissions totales de GES (kt d’équivalent CO2) par Tete</th>\n",
       "      <th>Coefficient de _GDP (current US$) par Tete sur _Energy use (kg of oil equivalent per capita)</th>\n",
       "      <th>R2 de _GDP (current US$) par Tete sur _Energy use (kg of oil equivalent per capita)</th>\n",
       "      <th>Cluster</th>\n",
       "    </tr>\n",
       "  </thead>\n",
       "  <tbody>\n",
       "    <tr>\n",
       "      <th>Centroid 0</th>\n",
       "      <td>0.062794</td>\n",
       "      <td>-0.903797</td>\n",
       "      <td>-0.846413</td>\n",
       "      <td>-0.784633</td>\n",
       "      <td>0.899305</td>\n",
       "      <td>-1.165323</td>\n",
       "      <td>-1.301798</td>\n",
       "      <td>0.357940</td>\n",
       "      <td>-1.506361</td>\n",
       "      <td>-1.664035</td>\n",
       "      <td>0.0</td>\n",
       "    </tr>\n",
       "    <tr>\n",
       "      <th>Centroid 1</th>\n",
       "      <td>-0.236748</td>\n",
       "      <td>0.580681</td>\n",
       "      <td>-0.479015</td>\n",
       "      <td>-0.130927</td>\n",
       "      <td>0.034939</td>\n",
       "      <td>-0.076948</td>\n",
       "      <td>-0.143884</td>\n",
       "      <td>-0.580153</td>\n",
       "      <td>0.705851</td>\n",
       "      <td>0.187523</td>\n",
       "      <td>1.0</td>\n",
       "    </tr>\n",
       "    <tr>\n",
       "      <th>Centroid 2</th>\n",
       "      <td>0.750428</td>\n",
       "      <td>-0.385027</td>\n",
       "      <td>0.080952</td>\n",
       "      <td>0.855817</td>\n",
       "      <td>-0.125163</td>\n",
       "      <td>0.968453</td>\n",
       "      <td>0.574118</td>\n",
       "      <td>1.023224</td>\n",
       "      <td>0.120401</td>\n",
       "      <td>0.835653</td>\n",
       "      <td>2.0</td>\n",
       "    </tr>\n",
       "    <tr>\n",
       "      <th>Centroid 3</th>\n",
       "      <td>-0.790770</td>\n",
       "      <td>0.072258</td>\n",
       "      <td>1.243762</td>\n",
       "      <td>-0.657308</td>\n",
       "      <td>-0.390474</td>\n",
       "      <td>-0.712542</td>\n",
       "      <td>0.114149</td>\n",
       "      <td>-0.765289</td>\n",
       "      <td>-0.605985</td>\n",
       "      <td>-0.696222</td>\n",
       "      <td>3.0</td>\n",
       "    </tr>\n",
       "  </tbody>\n",
       "</table>\n",
       "</div>"
      ],
      "text/plain": [
       "            Average Growth Rate_GDP (current US$) par Tete  \\\n",
       "Centroid 0                                        0.062794   \n",
       "Centroid 1                                       -0.236748   \n",
       "Centroid 2                                        0.750428   \n",
       "Centroid 3                                       -0.790770   \n",
       "\n",
       "            Average Growth Rate_Agriculture, forestry, and fishing, value added (% of GDP)  \\\n",
       "Centroid 0                                          -0.903797                                \n",
       "Centroid 1                                           0.580681                                \n",
       "Centroid 2                                          -0.385027                                \n",
       "Centroid 3                                           0.072258                                \n",
       "\n",
       "            Average Growth Rate_Industry (including construction), value added (% of GDP)  \\\n",
       "Centroid 0                                          -0.846413                               \n",
       "Centroid 1                                          -0.479015                               \n",
       "Centroid 2                                           0.080952                               \n",
       "Centroid 3                                           1.243762                               \n",
       "\n",
       "            Average Growth Rate_Émissions totales de GES (kt d’équivalent CO2) par Tete  \\\n",
       "Centroid 0                                          -0.784633                             \n",
       "Centroid 1                                          -0.130927                             \n",
       "Centroid 2                                           0.855817                             \n",
       "Centroid 3                                          -0.657308                             \n",
       "\n",
       "            Average Growth Rate_Alternative and nuclear energy (% of total energy use)  \\\n",
       "Centroid 0                                           0.899305                            \n",
       "Centroid 1                                           0.034939                            \n",
       "Centroid 2                                          -0.125163                            \n",
       "Centroid 3                                          -0.390474                            \n",
       "\n",
       "            Average Growth Rate_Energy use (kg of oil equivalent per capita)  \\\n",
       "Centroid 0                                          -1.165323                  \n",
       "Centroid 1                                          -0.076948                  \n",
       "Centroid 2                                           0.968453                  \n",
       "Centroid 3                                          -0.712542                  \n",
       "\n",
       "            Coefficient de _GDP (current US$) par Tete sur _Émissions totales de GES (kt d’équivalent CO2) par Tete  \\\n",
       "Centroid 0                                          -1.301798                                                         \n",
       "Centroid 1                                          -0.143884                                                         \n",
       "Centroid 2                                           0.574118                                                         \n",
       "Centroid 3                                           0.114149                                                         \n",
       "\n",
       "            R2 de _GDP (current US$) par Tete sur _Émissions totales de GES (kt d’équivalent CO2) par Tete  \\\n",
       "Centroid 0                                           0.357940                                                \n",
       "Centroid 1                                          -0.580153                                                \n",
       "Centroid 2                                           1.023224                                                \n",
       "Centroid 3                                          -0.765289                                                \n",
       "\n",
       "            Coefficient de _GDP (current US$) par Tete sur _Energy use (kg of oil equivalent per capita)  \\\n",
       "Centroid 0                                          -1.506361                                              \n",
       "Centroid 1                                           0.705851                                              \n",
       "Centroid 2                                           0.120401                                              \n",
       "Centroid 3                                          -0.605985                                              \n",
       "\n",
       "            R2 de _GDP (current US$) par Tete sur _Energy use (kg of oil equivalent per capita)  \\\n",
       "Centroid 0                                          -1.664035                                     \n",
       "Centroid 1                                           0.187523                                     \n",
       "Centroid 2                                           0.835653                                     \n",
       "Centroid 3                                          -0.696222                                     \n",
       "\n",
       "            Cluster  \n",
       "Centroid 0      0.0  \n",
       "Centroid 1      1.0  \n",
       "Centroid 2      2.0  \n",
       "Centroid 3      3.0  "
      ]
     },
     "execution_count": 577,
     "metadata": {},
     "output_type": "execute_result"
    }
   ],
   "source": [
    "A,dic,axis=get_cluster_ACP(4,data_set_4, seed = 2)\n",
    "print(dic)\n",
    "A.tail(4)"
   ]
  },
  {
   "cell_type": "markdown",
   "metadata": {},
   "source": [
    "A quatre clusters, le cluster hétérogène identifié ci-dessus est séparé en deux. d'un côté les pays qui ont une croissance significativement plus faible et ue part de l'industrie qui est vraiment plus dynamique, ainqi qu'une croissance qui dépen très peu de la consommation d'énergie. Il s'agit essentiellement des pays les moins développés de notre base de données. De l'autre côté les pays un peu plus développés, dont la part de l'agriculture est assez robuste dans le temps et dont l'évolution de l'industrie est plus faible. \n",
    "\n",
    "Ces derniers résultats n'apparaissent toutefois pas de manière automatique, sans doute en raison d'un problème de taille de notre base, qui est trop petite. \n",
    "\n",
    "C'est pourquoi nous allons essayer un autre modèle, avec une approche par le clustering hiérarchique, afin de voir s'il est possible de repérer de manière plus évidente des similitudes etre les modèles de développement des pays."
   ]
  }
 ],
 "metadata": {
  "kernelspec": {
   "display_name": "Python 3",
   "language": "python",
   "name": "python3"
  },
  "language_info": {
   "codemirror_mode": {
    "name": "ipython",
    "version": 3
   },
   "file_extension": ".py",
   "mimetype": "text/x-python",
   "name": "python",
   "nbconvert_exporter": "python",
   "pygments_lexer": "ipython3",
   "version": "3.7.4"
  }
 },
 "nbformat": 4,
 "nbformat_minor": 2
}
